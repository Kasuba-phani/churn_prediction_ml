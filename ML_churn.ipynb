{
 "cells": [
  {
   "cell_type": "code",
   "execution_count": null,
   "id": "ca63c667-7386-4681-acb6-e045baff3221",
   "metadata": {},
   "outputs": [],
   "source": [
    "'''This project aims to predict customer churn in a telecom company using machine learning models.The dataset contains various customer attributes \n",
    "such as demographics, service usage patterns, contract details, and billing information. By analyzing these factors, we build classification models to\n",
    "identify customers who are likely to leave the service. This helps the business take proactive steps to improve customer retention and reduce revenue \n",
    "loss."
   ]
  },
  {
   "cell_type": "code",
   "execution_count": 2,
   "id": "86726e2d",
   "metadata": {
    "ExecuteTime": {
     "end_time": "2023-04-30T11:29:08.884955Z",
     "start_time": "2023-04-30T11:29:08.593183Z"
    }
   },
   "outputs": [],
   "source": [
    "from IPython.core.interactiveshell import InteractiveShell\n",
    "InteractiveShell.ast_node_interactivity = 'all'\n",
    "\n",
    "import pandas as pd\n",
    "import numpy as np\n",
    "import re"
   ]
  },
  {
   "cell_type": "code",
   "execution_count": 4,
   "id": "a115668f",
   "metadata": {
    "ExecuteTime": {
     "end_time": "2023-04-30T11:29:09.985214Z",
     "start_time": "2023-04-30T11:29:09.949278Z"
    }
   },
   "outputs": [
    {
     "name": "stderr",
     "output_type": "stream",
     "text": [
      "<>:1: SyntaxWarning: invalid escape sequence '\\D'\n",
      "<>:1: SyntaxWarning: invalid escape sequence '\\D'\n",
      "C:\\Users\\kasub\\AppData\\Local\\Temp\\ipykernel_10060\\3011851226.py:1: SyntaxWarning: invalid escape sequence '\\D'\n",
      "  given_df = pd.read_csv('D:\\Data Science\\Machine Learning\\project_churn\\churn_Dataset.csv')\n"
     ]
    }
   ],
   "source": [
    "given_df = pd.read_csv('D:\\Data Science\\Machine Learning\\project_churn\\churn_Dataset.csv')"
   ]
  },
  {
   "cell_type": "code",
   "execution_count": 6,
   "id": "0ab88b7e",
   "metadata": {
    "ExecuteTime": {
     "end_time": "2023-04-30T11:29:11.385384Z",
     "start_time": "2023-04-30T11:29:11.343496Z"
    }
   },
   "outputs": [
    {
     "data": {
      "text/html": [
       "<div>\n",
       "<style scoped>\n",
       "    .dataframe tbody tr th:only-of-type {\n",
       "        vertical-align: middle;\n",
       "    }\n",
       "\n",
       "    .dataframe tbody tr th {\n",
       "        vertical-align: top;\n",
       "    }\n",
       "\n",
       "    .dataframe thead th {\n",
       "        text-align: right;\n",
       "    }\n",
       "</style>\n",
       "<table border=\"1\" class=\"dataframe\">\n",
       "  <thead>\n",
       "    <tr style=\"text-align: right;\">\n",
       "      <th></th>\n",
       "      <th>customerID</th>\n",
       "      <th>gender</th>\n",
       "      <th>SeniorCitizen</th>\n",
       "      <th>Partner</th>\n",
       "      <th>Dependents</th>\n",
       "      <th>tenure</th>\n",
       "      <th>PhoneService</th>\n",
       "      <th>MultipleLines</th>\n",
       "      <th>InternetService</th>\n",
       "      <th>OnlineSecurity</th>\n",
       "      <th>...</th>\n",
       "      <th>DeviceProtection</th>\n",
       "      <th>TechSupport</th>\n",
       "      <th>StreamingTV</th>\n",
       "      <th>StreamingMovies</th>\n",
       "      <th>Contract</th>\n",
       "      <th>PaperlessBilling</th>\n",
       "      <th>PaymentMethod</th>\n",
       "      <th>MonthlyCharges</th>\n",
       "      <th>TotalCharges</th>\n",
       "      <th>Churn</th>\n",
       "    </tr>\n",
       "  </thead>\n",
       "  <tbody>\n",
       "    <tr>\n",
       "      <th>0</th>\n",
       "      <td>7590-VHVEG</td>\n",
       "      <td>Female</td>\n",
       "      <td>0</td>\n",
       "      <td>Yes</td>\n",
       "      <td>No</td>\n",
       "      <td>1</td>\n",
       "      <td>No</td>\n",
       "      <td>No phone service</td>\n",
       "      <td>DSL</td>\n",
       "      <td>No</td>\n",
       "      <td>...</td>\n",
       "      <td>No</td>\n",
       "      <td>No</td>\n",
       "      <td>No</td>\n",
       "      <td>No</td>\n",
       "      <td>Month-to-month</td>\n",
       "      <td>Yes</td>\n",
       "      <td>Electronic check</td>\n",
       "      <td>29.85</td>\n",
       "      <td>29.85</td>\n",
       "      <td>No</td>\n",
       "    </tr>\n",
       "    <tr>\n",
       "      <th>1</th>\n",
       "      <td>5575-GNVDE</td>\n",
       "      <td>Male</td>\n",
       "      <td>0</td>\n",
       "      <td>No</td>\n",
       "      <td>No</td>\n",
       "      <td>34</td>\n",
       "      <td>Yes</td>\n",
       "      <td>No</td>\n",
       "      <td>DSL</td>\n",
       "      <td>Yes</td>\n",
       "      <td>...</td>\n",
       "      <td>Yes</td>\n",
       "      <td>No</td>\n",
       "      <td>No</td>\n",
       "      <td>No</td>\n",
       "      <td>One year</td>\n",
       "      <td>No</td>\n",
       "      <td>Mailed check</td>\n",
       "      <td>56.95</td>\n",
       "      <td>1889.5</td>\n",
       "      <td>No</td>\n",
       "    </tr>\n",
       "    <tr>\n",
       "      <th>2</th>\n",
       "      <td>3668-QPYBK</td>\n",
       "      <td>Male</td>\n",
       "      <td>0</td>\n",
       "      <td>No</td>\n",
       "      <td>No</td>\n",
       "      <td>2</td>\n",
       "      <td>Yes</td>\n",
       "      <td>No</td>\n",
       "      <td>DSL</td>\n",
       "      <td>Yes</td>\n",
       "      <td>...</td>\n",
       "      <td>No</td>\n",
       "      <td>No</td>\n",
       "      <td>No</td>\n",
       "      <td>No</td>\n",
       "      <td>Month-to-month</td>\n",
       "      <td>Yes</td>\n",
       "      <td>Mailed check</td>\n",
       "      <td>53.85</td>\n",
       "      <td>108.15</td>\n",
       "      <td>Yes</td>\n",
       "    </tr>\n",
       "    <tr>\n",
       "      <th>3</th>\n",
       "      <td>7795-CFOCW</td>\n",
       "      <td>Male</td>\n",
       "      <td>0</td>\n",
       "      <td>No</td>\n",
       "      <td>No</td>\n",
       "      <td>45</td>\n",
       "      <td>No</td>\n",
       "      <td>No phone service</td>\n",
       "      <td>DSL</td>\n",
       "      <td>Yes</td>\n",
       "      <td>...</td>\n",
       "      <td>Yes</td>\n",
       "      <td>Yes</td>\n",
       "      <td>No</td>\n",
       "      <td>No</td>\n",
       "      <td>One year</td>\n",
       "      <td>No</td>\n",
       "      <td>Bank transfer (automatic)</td>\n",
       "      <td>42.30</td>\n",
       "      <td>1840.75</td>\n",
       "      <td>No</td>\n",
       "    </tr>\n",
       "    <tr>\n",
       "      <th>4</th>\n",
       "      <td>9237-HQITU</td>\n",
       "      <td>Female</td>\n",
       "      <td>0</td>\n",
       "      <td>No</td>\n",
       "      <td>No</td>\n",
       "      <td>2</td>\n",
       "      <td>Yes</td>\n",
       "      <td>No</td>\n",
       "      <td>Fiber optic</td>\n",
       "      <td>No</td>\n",
       "      <td>...</td>\n",
       "      <td>No</td>\n",
       "      <td>No</td>\n",
       "      <td>No</td>\n",
       "      <td>No</td>\n",
       "      <td>Month-to-month</td>\n",
       "      <td>Yes</td>\n",
       "      <td>Electronic check</td>\n",
       "      <td>70.70</td>\n",
       "      <td>151.65</td>\n",
       "      <td>Yes</td>\n",
       "    </tr>\n",
       "    <tr>\n",
       "      <th>...</th>\n",
       "      <td>...</td>\n",
       "      <td>...</td>\n",
       "      <td>...</td>\n",
       "      <td>...</td>\n",
       "      <td>...</td>\n",
       "      <td>...</td>\n",
       "      <td>...</td>\n",
       "      <td>...</td>\n",
       "      <td>...</td>\n",
       "      <td>...</td>\n",
       "      <td>...</td>\n",
       "      <td>...</td>\n",
       "      <td>...</td>\n",
       "      <td>...</td>\n",
       "      <td>...</td>\n",
       "      <td>...</td>\n",
       "      <td>...</td>\n",
       "      <td>...</td>\n",
       "      <td>...</td>\n",
       "      <td>...</td>\n",
       "      <td>...</td>\n",
       "    </tr>\n",
       "    <tr>\n",
       "      <th>7038</th>\n",
       "      <td>6840-RESVB</td>\n",
       "      <td>Male</td>\n",
       "      <td>0</td>\n",
       "      <td>Yes</td>\n",
       "      <td>Yes</td>\n",
       "      <td>24</td>\n",
       "      <td>Yes</td>\n",
       "      <td>Yes</td>\n",
       "      <td>DSL</td>\n",
       "      <td>Yes</td>\n",
       "      <td>...</td>\n",
       "      <td>Yes</td>\n",
       "      <td>Yes</td>\n",
       "      <td>Yes</td>\n",
       "      <td>Yes</td>\n",
       "      <td>One year</td>\n",
       "      <td>Yes</td>\n",
       "      <td>Mailed check</td>\n",
       "      <td>84.80</td>\n",
       "      <td>1990.5</td>\n",
       "      <td>No</td>\n",
       "    </tr>\n",
       "    <tr>\n",
       "      <th>7039</th>\n",
       "      <td>2234-XADUH</td>\n",
       "      <td>Female</td>\n",
       "      <td>0</td>\n",
       "      <td>Yes</td>\n",
       "      <td>Yes</td>\n",
       "      <td>72</td>\n",
       "      <td>Yes</td>\n",
       "      <td>Yes</td>\n",
       "      <td>Fiber optic</td>\n",
       "      <td>No</td>\n",
       "      <td>...</td>\n",
       "      <td>Yes</td>\n",
       "      <td>No</td>\n",
       "      <td>Yes</td>\n",
       "      <td>Yes</td>\n",
       "      <td>One year</td>\n",
       "      <td>Yes</td>\n",
       "      <td>Credit card (automatic)</td>\n",
       "      <td>103.20</td>\n",
       "      <td>7362.9</td>\n",
       "      <td>No</td>\n",
       "    </tr>\n",
       "    <tr>\n",
       "      <th>7040</th>\n",
       "      <td>4801-JZAZL</td>\n",
       "      <td>Female</td>\n",
       "      <td>0</td>\n",
       "      <td>Yes</td>\n",
       "      <td>Yes</td>\n",
       "      <td>11</td>\n",
       "      <td>No</td>\n",
       "      <td>No phone service</td>\n",
       "      <td>DSL</td>\n",
       "      <td>Yes</td>\n",
       "      <td>...</td>\n",
       "      <td>No</td>\n",
       "      <td>No</td>\n",
       "      <td>No</td>\n",
       "      <td>No</td>\n",
       "      <td>Month-to-month</td>\n",
       "      <td>Yes</td>\n",
       "      <td>Electronic check</td>\n",
       "      <td>29.60</td>\n",
       "      <td>346.45</td>\n",
       "      <td>No</td>\n",
       "    </tr>\n",
       "    <tr>\n",
       "      <th>7041</th>\n",
       "      <td>8361-LTMKD</td>\n",
       "      <td>Male</td>\n",
       "      <td>1</td>\n",
       "      <td>Yes</td>\n",
       "      <td>No</td>\n",
       "      <td>4</td>\n",
       "      <td>Yes</td>\n",
       "      <td>Yes</td>\n",
       "      <td>Fiber optic</td>\n",
       "      <td>No</td>\n",
       "      <td>...</td>\n",
       "      <td>No</td>\n",
       "      <td>No</td>\n",
       "      <td>No</td>\n",
       "      <td>No</td>\n",
       "      <td>Month-to-month</td>\n",
       "      <td>Yes</td>\n",
       "      <td>Mailed check</td>\n",
       "      <td>74.40</td>\n",
       "      <td>306.6</td>\n",
       "      <td>Yes</td>\n",
       "    </tr>\n",
       "    <tr>\n",
       "      <th>7042</th>\n",
       "      <td>3186-AJIEK</td>\n",
       "      <td>Male</td>\n",
       "      <td>0</td>\n",
       "      <td>No</td>\n",
       "      <td>No</td>\n",
       "      <td>66</td>\n",
       "      <td>Yes</td>\n",
       "      <td>No</td>\n",
       "      <td>Fiber optic</td>\n",
       "      <td>Yes</td>\n",
       "      <td>...</td>\n",
       "      <td>Yes</td>\n",
       "      <td>Yes</td>\n",
       "      <td>Yes</td>\n",
       "      <td>Yes</td>\n",
       "      <td>Two year</td>\n",
       "      <td>Yes</td>\n",
       "      <td>Bank transfer (automatic)</td>\n",
       "      <td>105.65</td>\n",
       "      <td>6844.5</td>\n",
       "      <td>No</td>\n",
       "    </tr>\n",
       "  </tbody>\n",
       "</table>\n",
       "<p>7043 rows × 21 columns</p>\n",
       "</div>"
      ],
      "text/plain": [
       "      customerID  gender  SeniorCitizen Partner Dependents  tenure  \\\n",
       "0     7590-VHVEG  Female              0     Yes         No       1   \n",
       "1     5575-GNVDE    Male              0      No         No      34   \n",
       "2     3668-QPYBK    Male              0      No         No       2   \n",
       "3     7795-CFOCW    Male              0      No         No      45   \n",
       "4     9237-HQITU  Female              0      No         No       2   \n",
       "...          ...     ...            ...     ...        ...     ...   \n",
       "7038  6840-RESVB    Male              0     Yes        Yes      24   \n",
       "7039  2234-XADUH  Female              0     Yes        Yes      72   \n",
       "7040  4801-JZAZL  Female              0     Yes        Yes      11   \n",
       "7041  8361-LTMKD    Male              1     Yes         No       4   \n",
       "7042  3186-AJIEK    Male              0      No         No      66   \n",
       "\n",
       "     PhoneService     MultipleLines InternetService OnlineSecurity  ...  \\\n",
       "0              No  No phone service             DSL             No  ...   \n",
       "1             Yes                No             DSL            Yes  ...   \n",
       "2             Yes                No             DSL            Yes  ...   \n",
       "3              No  No phone service             DSL            Yes  ...   \n",
       "4             Yes                No     Fiber optic             No  ...   \n",
       "...           ...               ...             ...            ...  ...   \n",
       "7038          Yes               Yes             DSL            Yes  ...   \n",
       "7039          Yes               Yes     Fiber optic             No  ...   \n",
       "7040           No  No phone service             DSL            Yes  ...   \n",
       "7041          Yes               Yes     Fiber optic             No  ...   \n",
       "7042          Yes                No     Fiber optic            Yes  ...   \n",
       "\n",
       "     DeviceProtection TechSupport StreamingTV StreamingMovies        Contract  \\\n",
       "0                  No          No          No              No  Month-to-month   \n",
       "1                 Yes          No          No              No        One year   \n",
       "2                  No          No          No              No  Month-to-month   \n",
       "3                 Yes         Yes          No              No        One year   \n",
       "4                  No          No          No              No  Month-to-month   \n",
       "...               ...         ...         ...             ...             ...   \n",
       "7038              Yes         Yes         Yes             Yes        One year   \n",
       "7039              Yes          No         Yes             Yes        One year   \n",
       "7040               No          No          No              No  Month-to-month   \n",
       "7041               No          No          No              No  Month-to-month   \n",
       "7042              Yes         Yes         Yes             Yes        Two year   \n",
       "\n",
       "     PaperlessBilling              PaymentMethod MonthlyCharges  TotalCharges  \\\n",
       "0                 Yes           Electronic check          29.85         29.85   \n",
       "1                  No               Mailed check          56.95        1889.5   \n",
       "2                 Yes               Mailed check          53.85        108.15   \n",
       "3                  No  Bank transfer (automatic)          42.30       1840.75   \n",
       "4                 Yes           Electronic check          70.70        151.65   \n",
       "...               ...                        ...            ...           ...   \n",
       "7038              Yes               Mailed check          84.80        1990.5   \n",
       "7039              Yes    Credit card (automatic)         103.20        7362.9   \n",
       "7040              Yes           Electronic check          29.60        346.45   \n",
       "7041              Yes               Mailed check          74.40         306.6   \n",
       "7042              Yes  Bank transfer (automatic)         105.65        6844.5   \n",
       "\n",
       "     Churn  \n",
       "0       No  \n",
       "1       No  \n",
       "2      Yes  \n",
       "3       No  \n",
       "4      Yes  \n",
       "...    ...  \n",
       "7038    No  \n",
       "7039    No  \n",
       "7040    No  \n",
       "7041   Yes  \n",
       "7042    No  \n",
       "\n",
       "[7043 rows x 21 columns]"
      ]
     },
     "execution_count": 6,
     "metadata": {},
     "output_type": "execute_result"
    }
   ],
   "source": [
    "given_df                                                                       #Impoerting my Data-Frame from local disk."
   ]
  },
  {
   "cell_type": "code",
   "execution_count": 8,
   "id": "17260370",
   "metadata": {
    "ExecuteTime": {
     "end_time": "2023-04-30T11:29:12.202850Z",
     "start_time": "2023-04-30T11:29:12.189849Z"
    }
   },
   "outputs": [],
   "source": [
    "given_df.drop(['customerID'],axis=1,inplace=True)"
   ]
  },
  {
   "cell_type": "markdown",
   "id": "25dcfcf2",
   "metadata": {},
   "source": [
    "    -> Here giving customer-ID to train my model makes no sense as the customer ID will be unique for each and every person i.e Useless column. Hence droped the column."
   ]
  },
  {
   "cell_type": "code",
   "execution_count": 11,
   "id": "5adf1755",
   "metadata": {
    "ExecuteTime": {
     "end_time": "2023-04-30T11:29:15.169977Z",
     "start_time": "2023-04-30T11:29:15.142052Z"
    }
   },
   "outputs": [
    {
     "data": {
      "text/html": [
       "<div>\n",
       "<style scoped>\n",
       "    .dataframe tbody tr th:only-of-type {\n",
       "        vertical-align: middle;\n",
       "    }\n",
       "\n",
       "    .dataframe tbody tr th {\n",
       "        vertical-align: top;\n",
       "    }\n",
       "\n",
       "    .dataframe thead th {\n",
       "        text-align: right;\n",
       "    }\n",
       "</style>\n",
       "<table border=\"1\" class=\"dataframe\">\n",
       "  <thead>\n",
       "    <tr style=\"text-align: right;\">\n",
       "      <th></th>\n",
       "      <th>gender</th>\n",
       "      <th>SeniorCitizen</th>\n",
       "      <th>Partner</th>\n",
       "      <th>Dependents</th>\n",
       "      <th>tenure</th>\n",
       "      <th>PhoneService</th>\n",
       "      <th>MultipleLines</th>\n",
       "      <th>InternetService</th>\n",
       "      <th>OnlineSecurity</th>\n",
       "      <th>OnlineBackup</th>\n",
       "      <th>DeviceProtection</th>\n",
       "      <th>TechSupport</th>\n",
       "      <th>StreamingTV</th>\n",
       "      <th>StreamingMovies</th>\n",
       "      <th>Contract</th>\n",
       "      <th>PaperlessBilling</th>\n",
       "      <th>PaymentMethod</th>\n",
       "      <th>MonthlyCharges</th>\n",
       "      <th>TotalCharges</th>\n",
       "      <th>Churn</th>\n",
       "    </tr>\n",
       "  </thead>\n",
       "  <tbody>\n",
       "    <tr>\n",
       "      <th>0</th>\n",
       "      <td>Female</td>\n",
       "      <td>0</td>\n",
       "      <td>Yes</td>\n",
       "      <td>No</td>\n",
       "      <td>1</td>\n",
       "      <td>No</td>\n",
       "      <td>No phone service</td>\n",
       "      <td>DSL</td>\n",
       "      <td>No</td>\n",
       "      <td>Yes</td>\n",
       "      <td>No</td>\n",
       "      <td>No</td>\n",
       "      <td>No</td>\n",
       "      <td>No</td>\n",
       "      <td>Month-to-month</td>\n",
       "      <td>Yes</td>\n",
       "      <td>Electronic check</td>\n",
       "      <td>29.85</td>\n",
       "      <td>29.85</td>\n",
       "      <td>No</td>\n",
       "    </tr>\n",
       "    <tr>\n",
       "      <th>1</th>\n",
       "      <td>Male</td>\n",
       "      <td>0</td>\n",
       "      <td>No</td>\n",
       "      <td>No</td>\n",
       "      <td>34</td>\n",
       "      <td>Yes</td>\n",
       "      <td>No</td>\n",
       "      <td>DSL</td>\n",
       "      <td>Yes</td>\n",
       "      <td>No</td>\n",
       "      <td>Yes</td>\n",
       "      <td>No</td>\n",
       "      <td>No</td>\n",
       "      <td>No</td>\n",
       "      <td>One year</td>\n",
       "      <td>No</td>\n",
       "      <td>Mailed check</td>\n",
       "      <td>56.95</td>\n",
       "      <td>1889.5</td>\n",
       "      <td>No</td>\n",
       "    </tr>\n",
       "    <tr>\n",
       "      <th>2</th>\n",
       "      <td>Male</td>\n",
       "      <td>0</td>\n",
       "      <td>No</td>\n",
       "      <td>No</td>\n",
       "      <td>2</td>\n",
       "      <td>Yes</td>\n",
       "      <td>No</td>\n",
       "      <td>DSL</td>\n",
       "      <td>Yes</td>\n",
       "      <td>Yes</td>\n",
       "      <td>No</td>\n",
       "      <td>No</td>\n",
       "      <td>No</td>\n",
       "      <td>No</td>\n",
       "      <td>Month-to-month</td>\n",
       "      <td>Yes</td>\n",
       "      <td>Mailed check</td>\n",
       "      <td>53.85</td>\n",
       "      <td>108.15</td>\n",
       "      <td>Yes</td>\n",
       "    </tr>\n",
       "    <tr>\n",
       "      <th>3</th>\n",
       "      <td>Male</td>\n",
       "      <td>0</td>\n",
       "      <td>No</td>\n",
       "      <td>No</td>\n",
       "      <td>45</td>\n",
       "      <td>No</td>\n",
       "      <td>No phone service</td>\n",
       "      <td>DSL</td>\n",
       "      <td>Yes</td>\n",
       "      <td>No</td>\n",
       "      <td>Yes</td>\n",
       "      <td>Yes</td>\n",
       "      <td>No</td>\n",
       "      <td>No</td>\n",
       "      <td>One year</td>\n",
       "      <td>No</td>\n",
       "      <td>Bank transfer (automatic)</td>\n",
       "      <td>42.30</td>\n",
       "      <td>1840.75</td>\n",
       "      <td>No</td>\n",
       "    </tr>\n",
       "    <tr>\n",
       "      <th>4</th>\n",
       "      <td>Female</td>\n",
       "      <td>0</td>\n",
       "      <td>No</td>\n",
       "      <td>No</td>\n",
       "      <td>2</td>\n",
       "      <td>Yes</td>\n",
       "      <td>No</td>\n",
       "      <td>Fiber optic</td>\n",
       "      <td>No</td>\n",
       "      <td>No</td>\n",
       "      <td>No</td>\n",
       "      <td>No</td>\n",
       "      <td>No</td>\n",
       "      <td>No</td>\n",
       "      <td>Month-to-month</td>\n",
       "      <td>Yes</td>\n",
       "      <td>Electronic check</td>\n",
       "      <td>70.70</td>\n",
       "      <td>151.65</td>\n",
       "      <td>Yes</td>\n",
       "    </tr>\n",
       "    <tr>\n",
       "      <th>...</th>\n",
       "      <td>...</td>\n",
       "      <td>...</td>\n",
       "      <td>...</td>\n",
       "      <td>...</td>\n",
       "      <td>...</td>\n",
       "      <td>...</td>\n",
       "      <td>...</td>\n",
       "      <td>...</td>\n",
       "      <td>...</td>\n",
       "      <td>...</td>\n",
       "      <td>...</td>\n",
       "      <td>...</td>\n",
       "      <td>...</td>\n",
       "      <td>...</td>\n",
       "      <td>...</td>\n",
       "      <td>...</td>\n",
       "      <td>...</td>\n",
       "      <td>...</td>\n",
       "      <td>...</td>\n",
       "      <td>...</td>\n",
       "    </tr>\n",
       "    <tr>\n",
       "      <th>7038</th>\n",
       "      <td>Male</td>\n",
       "      <td>0</td>\n",
       "      <td>Yes</td>\n",
       "      <td>Yes</td>\n",
       "      <td>24</td>\n",
       "      <td>Yes</td>\n",
       "      <td>Yes</td>\n",
       "      <td>DSL</td>\n",
       "      <td>Yes</td>\n",
       "      <td>No</td>\n",
       "      <td>Yes</td>\n",
       "      <td>Yes</td>\n",
       "      <td>Yes</td>\n",
       "      <td>Yes</td>\n",
       "      <td>One year</td>\n",
       "      <td>Yes</td>\n",
       "      <td>Mailed check</td>\n",
       "      <td>84.80</td>\n",
       "      <td>1990.5</td>\n",
       "      <td>No</td>\n",
       "    </tr>\n",
       "    <tr>\n",
       "      <th>7039</th>\n",
       "      <td>Female</td>\n",
       "      <td>0</td>\n",
       "      <td>Yes</td>\n",
       "      <td>Yes</td>\n",
       "      <td>72</td>\n",
       "      <td>Yes</td>\n",
       "      <td>Yes</td>\n",
       "      <td>Fiber optic</td>\n",
       "      <td>No</td>\n",
       "      <td>Yes</td>\n",
       "      <td>Yes</td>\n",
       "      <td>No</td>\n",
       "      <td>Yes</td>\n",
       "      <td>Yes</td>\n",
       "      <td>One year</td>\n",
       "      <td>Yes</td>\n",
       "      <td>Credit card (automatic)</td>\n",
       "      <td>103.20</td>\n",
       "      <td>7362.9</td>\n",
       "      <td>No</td>\n",
       "    </tr>\n",
       "    <tr>\n",
       "      <th>7040</th>\n",
       "      <td>Female</td>\n",
       "      <td>0</td>\n",
       "      <td>Yes</td>\n",
       "      <td>Yes</td>\n",
       "      <td>11</td>\n",
       "      <td>No</td>\n",
       "      <td>No phone service</td>\n",
       "      <td>DSL</td>\n",
       "      <td>Yes</td>\n",
       "      <td>No</td>\n",
       "      <td>No</td>\n",
       "      <td>No</td>\n",
       "      <td>No</td>\n",
       "      <td>No</td>\n",
       "      <td>Month-to-month</td>\n",
       "      <td>Yes</td>\n",
       "      <td>Electronic check</td>\n",
       "      <td>29.60</td>\n",
       "      <td>346.45</td>\n",
       "      <td>No</td>\n",
       "    </tr>\n",
       "    <tr>\n",
       "      <th>7041</th>\n",
       "      <td>Male</td>\n",
       "      <td>1</td>\n",
       "      <td>Yes</td>\n",
       "      <td>No</td>\n",
       "      <td>4</td>\n",
       "      <td>Yes</td>\n",
       "      <td>Yes</td>\n",
       "      <td>Fiber optic</td>\n",
       "      <td>No</td>\n",
       "      <td>No</td>\n",
       "      <td>No</td>\n",
       "      <td>No</td>\n",
       "      <td>No</td>\n",
       "      <td>No</td>\n",
       "      <td>Month-to-month</td>\n",
       "      <td>Yes</td>\n",
       "      <td>Mailed check</td>\n",
       "      <td>74.40</td>\n",
       "      <td>306.6</td>\n",
       "      <td>Yes</td>\n",
       "    </tr>\n",
       "    <tr>\n",
       "      <th>7042</th>\n",
       "      <td>Male</td>\n",
       "      <td>0</td>\n",
       "      <td>No</td>\n",
       "      <td>No</td>\n",
       "      <td>66</td>\n",
       "      <td>Yes</td>\n",
       "      <td>No</td>\n",
       "      <td>Fiber optic</td>\n",
       "      <td>Yes</td>\n",
       "      <td>No</td>\n",
       "      <td>Yes</td>\n",
       "      <td>Yes</td>\n",
       "      <td>Yes</td>\n",
       "      <td>Yes</td>\n",
       "      <td>Two year</td>\n",
       "      <td>Yes</td>\n",
       "      <td>Bank transfer (automatic)</td>\n",
       "      <td>105.65</td>\n",
       "      <td>6844.5</td>\n",
       "      <td>No</td>\n",
       "    </tr>\n",
       "  </tbody>\n",
       "</table>\n",
       "<p>7043 rows × 20 columns</p>\n",
       "</div>"
      ],
      "text/plain": [
       "      gender  SeniorCitizen Partner Dependents  tenure PhoneService  \\\n",
       "0     Female              0     Yes         No       1           No   \n",
       "1       Male              0      No         No      34          Yes   \n",
       "2       Male              0      No         No       2          Yes   \n",
       "3       Male              0      No         No      45           No   \n",
       "4     Female              0      No         No       2          Yes   \n",
       "...      ...            ...     ...        ...     ...          ...   \n",
       "7038    Male              0     Yes        Yes      24          Yes   \n",
       "7039  Female              0     Yes        Yes      72          Yes   \n",
       "7040  Female              0     Yes        Yes      11           No   \n",
       "7041    Male              1     Yes         No       4          Yes   \n",
       "7042    Male              0      No         No      66          Yes   \n",
       "\n",
       "         MultipleLines InternetService OnlineSecurity OnlineBackup  \\\n",
       "0     No phone service             DSL             No          Yes   \n",
       "1                   No             DSL            Yes           No   \n",
       "2                   No             DSL            Yes          Yes   \n",
       "3     No phone service             DSL            Yes           No   \n",
       "4                   No     Fiber optic             No           No   \n",
       "...                ...             ...            ...          ...   \n",
       "7038               Yes             DSL            Yes           No   \n",
       "7039               Yes     Fiber optic             No          Yes   \n",
       "7040  No phone service             DSL            Yes           No   \n",
       "7041               Yes     Fiber optic             No           No   \n",
       "7042                No     Fiber optic            Yes           No   \n",
       "\n",
       "     DeviceProtection TechSupport StreamingTV StreamingMovies        Contract  \\\n",
       "0                  No          No          No              No  Month-to-month   \n",
       "1                 Yes          No          No              No        One year   \n",
       "2                  No          No          No              No  Month-to-month   \n",
       "3                 Yes         Yes          No              No        One year   \n",
       "4                  No          No          No              No  Month-to-month   \n",
       "...               ...         ...         ...             ...             ...   \n",
       "7038              Yes         Yes         Yes             Yes        One year   \n",
       "7039              Yes          No         Yes             Yes        One year   \n",
       "7040               No          No          No              No  Month-to-month   \n",
       "7041               No          No          No              No  Month-to-month   \n",
       "7042              Yes         Yes         Yes             Yes        Two year   \n",
       "\n",
       "     PaperlessBilling              PaymentMethod  MonthlyCharges TotalCharges  \\\n",
       "0                 Yes           Electronic check           29.85        29.85   \n",
       "1                  No               Mailed check           56.95       1889.5   \n",
       "2                 Yes               Mailed check           53.85       108.15   \n",
       "3                  No  Bank transfer (automatic)           42.30      1840.75   \n",
       "4                 Yes           Electronic check           70.70       151.65   \n",
       "...               ...                        ...             ...          ...   \n",
       "7038              Yes               Mailed check           84.80       1990.5   \n",
       "7039              Yes    Credit card (automatic)          103.20       7362.9   \n",
       "7040              Yes           Electronic check           29.60       346.45   \n",
       "7041              Yes               Mailed check           74.40        306.6   \n",
       "7042              Yes  Bank transfer (automatic)          105.65       6844.5   \n",
       "\n",
       "     Churn  \n",
       "0       No  \n",
       "1       No  \n",
       "2      Yes  \n",
       "3       No  \n",
       "4      Yes  \n",
       "...    ...  \n",
       "7038    No  \n",
       "7039    No  \n",
       "7040    No  \n",
       "7041   Yes  \n",
       "7042    No  \n",
       "\n",
       "[7043 rows x 20 columns]"
      ]
     },
     "execution_count": 11,
     "metadata": {},
     "output_type": "execute_result"
    }
   ],
   "source": [
    "given_df"
   ]
  },
  {
   "cell_type": "code",
   "execution_count": 13,
   "id": "f0f45857",
   "metadata": {
    "ExecuteTime": {
     "end_time": "2023-04-30T11:29:15.848130Z",
     "start_time": "2023-04-30T11:29:15.829182Z"
    }
   },
   "outputs": [
    {
     "data": {
      "text/plain": [
       "gender               object\n",
       "SeniorCitizen         int64\n",
       "Partner              object\n",
       "Dependents           object\n",
       "tenure                int64\n",
       "PhoneService         object\n",
       "MultipleLines        object\n",
       "InternetService      object\n",
       "OnlineSecurity       object\n",
       "OnlineBackup         object\n",
       "DeviceProtection     object\n",
       "TechSupport          object\n",
       "StreamingTV          object\n",
       "StreamingMovies      object\n",
       "Contract             object\n",
       "PaperlessBilling     object\n",
       "PaymentMethod        object\n",
       "MonthlyCharges      float64\n",
       "TotalCharges         object\n",
       "Churn                object\n",
       "dtype: object"
      ]
     },
     "execution_count": 13,
     "metadata": {},
     "output_type": "execute_result"
    }
   ],
   "source": [
    "given_df.dtypes       # Checking Data types of my columns."
   ]
  },
  {
   "cell_type": "markdown",
   "id": "0333522d",
   "metadata": {},
   "source": [
    "# Data Pre-Processing "
   ]
  },
  {
   "cell_type": "markdown",
   "id": "a4a6efe2",
   "metadata": {},
   "source": [
    "## Checking for missing Values"
   ]
  },
  {
   "cell_type": "code",
   "execution_count": 17,
   "id": "7c124c4c",
   "metadata": {
    "ExecuteTime": {
     "end_time": "2023-04-30T11:29:20.553272Z",
     "start_time": "2023-04-30T11:29:20.541304Z"
    }
   },
   "outputs": [
    {
     "data": {
      "text/plain": [
       "gender\n",
       "Male      3555\n",
       "Female    3488\n",
       "Name: count, dtype: int64"
      ]
     },
     "execution_count": 17,
     "metadata": {},
     "output_type": "execute_result"
    },
    {
     "data": {
      "text/plain": [
       "7043"
      ]
     },
     "execution_count": 17,
     "metadata": {},
     "output_type": "execute_result"
    }
   ],
   "source": [
    "given_df.gender.value_counts()            \n",
    "given_df.gender.value_counts().sum()"
   ]
  },
  {
   "cell_type": "code",
   "execution_count": 19,
   "id": "3f69dc2c",
   "metadata": {
    "ExecuteTime": {
     "end_time": "2023-04-30T11:29:21.175772Z",
     "start_time": "2023-04-30T11:29:21.166769Z"
    }
   },
   "outputs": [
    {
     "data": {
      "text/plain": [
       "SeniorCitizen\n",
       "0    5901\n",
       "1    1142\n",
       "Name: count, dtype: int64"
      ]
     },
     "execution_count": 19,
     "metadata": {},
     "output_type": "execute_result"
    },
    {
     "data": {
      "text/plain": [
       "7043"
      ]
     },
     "execution_count": 19,
     "metadata": {},
     "output_type": "execute_result"
    }
   ],
   "source": [
    "given_df.SeniorCitizen.value_counts()\n",
    "given_df.SeniorCitizen.value_counts().sum()"
   ]
  },
  {
   "cell_type": "code",
   "execution_count": 21,
   "id": "3c1c323d",
   "metadata": {
    "ExecuteTime": {
     "end_time": "2023-04-30T11:29:21.675995Z",
     "start_time": "2023-04-30T11:29:21.661035Z"
    }
   },
   "outputs": [
    {
     "data": {
      "text/plain": [
       "Partner\n",
       "No     3641\n",
       "Yes    3402\n",
       "Name: count, dtype: int64"
      ]
     },
     "execution_count": 21,
     "metadata": {},
     "output_type": "execute_result"
    },
    {
     "data": {
      "text/plain": [
       "7043"
      ]
     },
     "execution_count": 21,
     "metadata": {},
     "output_type": "execute_result"
    }
   ],
   "source": [
    "given_df.Partner.value_counts()\n",
    "given_df.Partner.value_counts().sum()"
   ]
  },
  {
   "cell_type": "code",
   "execution_count": 23,
   "id": "f6e70c70",
   "metadata": {
    "ExecuteTime": {
     "end_time": "2023-04-30T11:29:22.160975Z",
     "start_time": "2023-04-30T11:29:22.140033Z"
    }
   },
   "outputs": [
    {
     "data": {
      "text/plain": [
       "Dependents\n",
       "No     4933\n",
       "Yes    2110\n",
       "Name: count, dtype: int64"
      ]
     },
     "execution_count": 23,
     "metadata": {},
     "output_type": "execute_result"
    },
    {
     "data": {
      "text/plain": [
       "7043"
      ]
     },
     "execution_count": 23,
     "metadata": {},
     "output_type": "execute_result"
    }
   ],
   "source": [
    "given_df.Dependents.value_counts()\n",
    "given_df.Dependents.value_counts().sum()"
   ]
  },
  {
   "cell_type": "code",
   "execution_count": 25,
   "id": "ceb37aa6",
   "metadata": {
    "ExecuteTime": {
     "end_time": "2023-04-30T11:29:22.659987Z",
     "start_time": "2023-04-30T11:29:22.640040Z"
    }
   },
   "outputs": [
    {
     "data": {
      "text/plain": [
       "tenure\n",
       "1     613\n",
       "72    362\n",
       "2     238\n",
       "3     200\n",
       "4     176\n",
       "     ... \n",
       "28     57\n",
       "39     56\n",
       "44     51\n",
       "36     50\n",
       "0      11\n",
       "Name: count, Length: 73, dtype: int64"
      ]
     },
     "execution_count": 25,
     "metadata": {},
     "output_type": "execute_result"
    },
    {
     "data": {
      "text/plain": [
       "7043"
      ]
     },
     "execution_count": 25,
     "metadata": {},
     "output_type": "execute_result"
    }
   ],
   "source": [
    "given_df.tenure.value_counts()\n",
    "given_df.tenure.value_counts().sum()"
   ]
  },
  {
   "cell_type": "code",
   "execution_count": 27,
   "id": "54947f04",
   "metadata": {
    "ExecuteTime": {
     "end_time": "2023-04-30T11:29:23.097058Z",
     "start_time": "2023-04-30T11:29:23.086087Z"
    }
   },
   "outputs": [
    {
     "data": {
      "text/plain": [
       "PhoneService\n",
       "Yes    6361\n",
       "No      682\n",
       "Name: count, dtype: int64"
      ]
     },
     "execution_count": 27,
     "metadata": {},
     "output_type": "execute_result"
    },
    {
     "data": {
      "text/plain": [
       "7043"
      ]
     },
     "execution_count": 27,
     "metadata": {},
     "output_type": "execute_result"
    }
   ],
   "source": [
    "given_df.PhoneService.value_counts()\n",
    "given_df.PhoneService.value_counts().sum()"
   ]
  },
  {
   "cell_type": "code",
   "execution_count": 29,
   "id": "21424b28",
   "metadata": {
    "ExecuteTime": {
     "end_time": "2023-04-30T11:29:23.645080Z",
     "start_time": "2023-04-30T11:29:23.629157Z"
    }
   },
   "outputs": [
    {
     "data": {
      "text/plain": [
       "MultipleLines\n",
       "No                  3390\n",
       "Yes                 2971\n",
       "No phone service     682\n",
       "Name: count, dtype: int64"
      ]
     },
     "execution_count": 29,
     "metadata": {},
     "output_type": "execute_result"
    },
    {
     "data": {
      "text/plain": [
       "7043"
      ]
     },
     "execution_count": 29,
     "metadata": {},
     "output_type": "execute_result"
    }
   ],
   "source": [
    "given_df.MultipleLines.value_counts()\n",
    "given_df.MultipleLines.value_counts().sum()"
   ]
  },
  {
   "cell_type": "code",
   "execution_count": 31,
   "id": "45f4b0a6",
   "metadata": {
    "ExecuteTime": {
     "end_time": "2023-04-30T11:29:24.099183Z",
     "start_time": "2023-04-30T11:29:24.092201Z"
    }
   },
   "outputs": [],
   "source": [
    "given_df['MultipleLines'] = given_df['MultipleLines'].replace(['No phone service'],'No')  "
   ]
  },
  {
   "cell_type": "markdown",
   "id": "f2138a61",
   "metadata": {},
   "source": [
    "One Word Substitution of my variables Which mean same thing here acoording to my Column."
   ]
  },
  {
   "cell_type": "code",
   "execution_count": 34,
   "id": "d5511760",
   "metadata": {
    "ExecuteTime": {
     "end_time": "2023-04-30T11:29:26.092908Z",
     "start_time": "2023-04-30T11:29:26.084955Z"
    }
   },
   "outputs": [
    {
     "data": {
      "text/plain": [
       "MultipleLines\n",
       "No     4072\n",
       "Yes    2971\n",
       "Name: count, dtype: int64"
      ]
     },
     "execution_count": 34,
     "metadata": {},
     "output_type": "execute_result"
    },
    {
     "data": {
      "text/plain": [
       "7043"
      ]
     },
     "execution_count": 34,
     "metadata": {},
     "output_type": "execute_result"
    }
   ],
   "source": [
    "given_df.MultipleLines.value_counts()\n",
    "given_df.MultipleLines.value_counts().sum()"
   ]
  },
  {
   "cell_type": "code",
   "execution_count": 36,
   "id": "24811c01",
   "metadata": {
    "ExecuteTime": {
     "end_time": "2023-04-30T11:29:26.718488Z",
     "start_time": "2023-04-30T11:29:26.709508Z"
    }
   },
   "outputs": [
    {
     "data": {
      "text/plain": [
       "InternetService\n",
       "Fiber optic    3096\n",
       "DSL            2421\n",
       "No             1526\n",
       "Name: count, dtype: int64"
      ]
     },
     "execution_count": 36,
     "metadata": {},
     "output_type": "execute_result"
    },
    {
     "data": {
      "text/plain": [
       "7043"
      ]
     },
     "execution_count": 36,
     "metadata": {},
     "output_type": "execute_result"
    }
   ],
   "source": [
    "given_df.InternetService.value_counts()\n",
    "given_df.InternetService.value_counts().sum()"
   ]
  },
  {
   "cell_type": "code",
   "execution_count": 38,
   "id": "b15b551c",
   "metadata": {
    "ExecuteTime": {
     "end_time": "2023-04-30T11:29:27.300112Z",
     "start_time": "2023-04-30T11:29:27.285153Z"
    }
   },
   "outputs": [
    {
     "data": {
      "text/plain": [
       "OnlineSecurity\n",
       "No                     3498\n",
       "Yes                    2019\n",
       "No internet service    1526\n",
       "Name: count, dtype: int64"
      ]
     },
     "execution_count": 38,
     "metadata": {},
     "output_type": "execute_result"
    },
    {
     "data": {
      "text/plain": [
       "7043"
      ]
     },
     "execution_count": 38,
     "metadata": {},
     "output_type": "execute_result"
    }
   ],
   "source": [
    "given_df.OnlineSecurity.value_counts()\n",
    "given_df.OnlineSecurity.value_counts().sum()"
   ]
  },
  {
   "cell_type": "code",
   "execution_count": 40,
   "id": "13134051",
   "metadata": {
    "ExecuteTime": {
     "end_time": "2023-04-30T11:29:27.939807Z",
     "start_time": "2023-04-30T11:29:27.924848Z"
    }
   },
   "outputs": [],
   "source": [
    "given_df['OnlineSecurity'] = given_df['OnlineSecurity'].replace(['No internet service'],'No')"
   ]
  },
  {
   "cell_type": "markdown",
   "id": "736d0eb3",
   "metadata": {},
   "source": [
    "One Word Substitution of my variables Which mean same thing here acoording to my Column."
   ]
  },
  {
   "cell_type": "code",
   "execution_count": 43,
   "id": "4f065a5b",
   "metadata": {
    "ExecuteTime": {
     "end_time": "2023-04-30T11:29:29.100347Z",
     "start_time": "2023-04-30T11:29:29.092369Z"
    }
   },
   "outputs": [
    {
     "data": {
      "text/plain": [
       "OnlineSecurity\n",
       "No     5024\n",
       "Yes    2019\n",
       "Name: count, dtype: int64"
      ]
     },
     "execution_count": 43,
     "metadata": {},
     "output_type": "execute_result"
    },
    {
     "data": {
      "text/plain": [
       "7043"
      ]
     },
     "execution_count": 43,
     "metadata": {},
     "output_type": "execute_result"
    }
   ],
   "source": [
    "given_df.OnlineSecurity.value_counts()\n",
    "given_df.OnlineSecurity.value_counts().sum()"
   ]
  },
  {
   "cell_type": "code",
   "execution_count": 45,
   "id": "1a646bea",
   "metadata": {
    "ExecuteTime": {
     "end_time": "2023-04-30T11:29:29.614506Z",
     "start_time": "2023-04-30T11:29:29.606500Z"
    }
   },
   "outputs": [
    {
     "data": {
      "text/plain": [
       "OnlineBackup\n",
       "No                     3088\n",
       "Yes                    2429\n",
       "No internet service    1526\n",
       "Name: count, dtype: int64"
      ]
     },
     "execution_count": 45,
     "metadata": {},
     "output_type": "execute_result"
    },
    {
     "data": {
      "text/plain": [
       "7043"
      ]
     },
     "execution_count": 45,
     "metadata": {},
     "output_type": "execute_result"
    }
   ],
   "source": [
    "given_df.OnlineBackup.value_counts()\n",
    "given_df.OnlineBackup.value_counts().sum()"
   ]
  },
  {
   "cell_type": "code",
   "execution_count": 47,
   "id": "59fc1286",
   "metadata": {
    "ExecuteTime": {
     "end_time": "2023-04-30T11:29:30.098070Z",
     "start_time": "2023-04-30T11:29:30.086102Z"
    }
   },
   "outputs": [],
   "source": [
    "given_df['OnlineBackup'] = given_df['OnlineBackup'].replace(['No internet service'],'No')"
   ]
  },
  {
   "cell_type": "markdown",
   "id": "c52278e3",
   "metadata": {},
   "source": [
    "One Word Substitution of my variables Which mean same thing here acoording to my Column."
   ]
  },
  {
   "cell_type": "code",
   "execution_count": 50,
   "id": "beb2cabb",
   "metadata": {
    "ExecuteTime": {
     "end_time": "2023-04-30T11:29:31.036934Z",
     "start_time": "2023-04-30T11:29:31.021978Z"
    }
   },
   "outputs": [
    {
     "data": {
      "text/plain": [
       "OnlineBackup\n",
       "No     4614\n",
       "Yes    2429\n",
       "Name: count, dtype: int64"
      ]
     },
     "execution_count": 50,
     "metadata": {},
     "output_type": "execute_result"
    },
    {
     "data": {
      "text/plain": [
       "7043"
      ]
     },
     "execution_count": 50,
     "metadata": {},
     "output_type": "execute_result"
    }
   ],
   "source": [
    "given_df.OnlineBackup.value_counts()\n",
    "given_df.OnlineBackup.value_counts().sum()"
   ]
  },
  {
   "cell_type": "code",
   "execution_count": 52,
   "id": "476ff1f4",
   "metadata": {
    "ExecuteTime": {
     "end_time": "2023-04-30T11:29:31.491040Z",
     "start_time": "2023-04-30T11:29:31.470096Z"
    }
   },
   "outputs": [
    {
     "data": {
      "text/plain": [
       "DeviceProtection\n",
       "No                     3095\n",
       "Yes                    2422\n",
       "No internet service    1526\n",
       "Name: count, dtype: int64"
      ]
     },
     "execution_count": 52,
     "metadata": {},
     "output_type": "execute_result"
    },
    {
     "data": {
      "text/plain": [
       "7043"
      ]
     },
     "execution_count": 52,
     "metadata": {},
     "output_type": "execute_result"
    }
   ],
   "source": [
    "given_df.DeviceProtection.value_counts()\n",
    "given_df.DeviceProtection.value_counts().sum()"
   ]
  },
  {
   "cell_type": "markdown",
   "id": "dfd8e870",
   "metadata": {},
   "source": [
    "One Word Substitution of my variables Which mean same thing here acoording to my Column."
   ]
  },
  {
   "cell_type": "code",
   "execution_count": 55,
   "id": "05300e7c",
   "metadata": {
    "ExecuteTime": {
     "end_time": "2023-04-30T11:29:32.320297Z",
     "start_time": "2023-04-30T11:29:32.300343Z"
    }
   },
   "outputs": [],
   "source": [
    "given_df['DeviceProtection'] = given_df['DeviceProtection'].replace(['No internet service'],'No')"
   ]
  },
  {
   "cell_type": "code",
   "execution_count": 57,
   "id": "aef4b46c",
   "metadata": {
    "ExecuteTime": {
     "end_time": "2023-04-30T11:29:32.660966Z",
     "start_time": "2023-04-30T11:29:32.653985Z"
    }
   },
   "outputs": [
    {
     "data": {
      "text/plain": [
       "DeviceProtection\n",
       "No     4621\n",
       "Yes    2422\n",
       "Name: count, dtype: int64"
      ]
     },
     "execution_count": 57,
     "metadata": {},
     "output_type": "execute_result"
    },
    {
     "data": {
      "text/plain": [
       "7043"
      ]
     },
     "execution_count": 57,
     "metadata": {},
     "output_type": "execute_result"
    }
   ],
   "source": [
    "given_df.DeviceProtection.value_counts()\n",
    "given_df.DeviceProtection.value_counts().sum()"
   ]
  },
  {
   "cell_type": "code",
   "execution_count": 59,
   "id": "24341b0b",
   "metadata": {
    "ExecuteTime": {
     "end_time": "2023-04-30T11:29:33.036830Z",
     "start_time": "2023-04-30T11:29:33.021870Z"
    }
   },
   "outputs": [
    {
     "data": {
      "text/plain": [
       "TechSupport\n",
       "No                     3473\n",
       "Yes                    2044\n",
       "No internet service    1526\n",
       "Name: count, dtype: int64"
      ]
     },
     "execution_count": 59,
     "metadata": {},
     "output_type": "execute_result"
    },
    {
     "data": {
      "text/plain": [
       "7043"
      ]
     },
     "execution_count": 59,
     "metadata": {},
     "output_type": "execute_result"
    }
   ],
   "source": [
    "given_df.TechSupport.value_counts()\n",
    "given_df.TechSupport.value_counts().sum()"
   ]
  },
  {
   "cell_type": "markdown",
   "id": "e57e9d69",
   "metadata": {},
   "source": [
    "One Word Substitution of my variables Which mean same thing here acoording to my Column."
   ]
  },
  {
   "cell_type": "code",
   "execution_count": 62,
   "id": "d1b75635",
   "metadata": {
    "ExecuteTime": {
     "end_time": "2023-04-30T11:29:33.806012Z",
     "start_time": "2023-04-30T11:29:33.789058Z"
    }
   },
   "outputs": [],
   "source": [
    "given_df['TechSupport'] = given_df['TechSupport'].replace(['No internet service'],'No')"
   ]
  },
  {
   "cell_type": "code",
   "execution_count": 64,
   "id": "ae1448e0",
   "metadata": {
    "ExecuteTime": {
     "end_time": "2023-04-30T11:29:34.165224Z",
     "start_time": "2023-04-30T11:29:34.144247Z"
    }
   },
   "outputs": [
    {
     "data": {
      "text/plain": [
       "TechSupport\n",
       "No     4999\n",
       "Yes    2044\n",
       "Name: count, dtype: int64"
      ]
     },
     "execution_count": 64,
     "metadata": {},
     "output_type": "execute_result"
    },
    {
     "data": {
      "text/plain": [
       "7043"
      ]
     },
     "execution_count": 64,
     "metadata": {},
     "output_type": "execute_result"
    }
   ],
   "source": [
    "given_df.TechSupport.value_counts()\n",
    "given_df.TechSupport.value_counts().sum()"
   ]
  },
  {
   "cell_type": "code",
   "execution_count": 66,
   "id": "a9c76c68",
   "metadata": {
    "ExecuteTime": {
     "end_time": "2023-04-30T11:29:34.544702Z",
     "start_time": "2023-04-30T11:29:34.527748Z"
    }
   },
   "outputs": [
    {
     "data": {
      "text/plain": [
       "StreamingTV\n",
       "No                     2810\n",
       "Yes                    2707\n",
       "No internet service    1526\n",
       "Name: count, dtype: int64"
      ]
     },
     "execution_count": 66,
     "metadata": {},
     "output_type": "execute_result"
    },
    {
     "data": {
      "text/plain": [
       "7043"
      ]
     },
     "execution_count": 66,
     "metadata": {},
     "output_type": "execute_result"
    }
   ],
   "source": [
    "given_df.StreamingTV.value_counts()\n",
    "given_df.StreamingTV.value_counts().sum()"
   ]
  },
  {
   "cell_type": "markdown",
   "id": "5f209ebb",
   "metadata": {
    "ExecuteTime": {
     "end_time": "2023-04-28T04:32:10.892648Z",
     "start_time": "2023-04-28T04:32:10.868601Z"
    }
   },
   "source": [
    "One Word Substitution of my variables Which mean same thing here acoording to my Column."
   ]
  },
  {
   "cell_type": "code",
   "execution_count": 69,
   "id": "62ac81d3",
   "metadata": {
    "ExecuteTime": {
     "end_time": "2023-04-30T11:29:35.646195Z",
     "start_time": "2023-04-30T11:29:35.629239Z"
    }
   },
   "outputs": [],
   "source": [
    "given_df['StreamingTV'] = given_df['StreamingTV'].replace(['No internet service'],'No')"
   ]
  },
  {
   "cell_type": "code",
   "execution_count": 71,
   "id": "eea07f13",
   "metadata": {
    "ExecuteTime": {
     "end_time": "2023-04-30T11:29:35.957576Z",
     "start_time": "2023-04-30T11:29:35.948601Z"
    }
   },
   "outputs": [
    {
     "data": {
      "text/plain": [
       "StreamingTV\n",
       "No     4336\n",
       "Yes    2707\n",
       "Name: count, dtype: int64"
      ]
     },
     "execution_count": 71,
     "metadata": {},
     "output_type": "execute_result"
    },
    {
     "data": {
      "text/plain": [
       "7043"
      ]
     },
     "execution_count": 71,
     "metadata": {},
     "output_type": "execute_result"
    }
   ],
   "source": [
    "given_df.StreamingTV.value_counts()\n",
    "given_df.StreamingTV.value_counts().sum()"
   ]
  },
  {
   "cell_type": "code",
   "execution_count": 73,
   "id": "86b2540c",
   "metadata": {
    "ExecuteTime": {
     "end_time": "2023-04-30T11:29:36.396073Z",
     "start_time": "2023-04-30T11:29:36.389092Z"
    }
   },
   "outputs": [
    {
     "data": {
      "text/plain": [
       "StreamingMovies\n",
       "No                     2785\n",
       "Yes                    2732\n",
       "No internet service    1526\n",
       "Name: count, dtype: int64"
      ]
     },
     "execution_count": 73,
     "metadata": {},
     "output_type": "execute_result"
    },
    {
     "data": {
      "text/plain": [
       "7043"
      ]
     },
     "execution_count": 73,
     "metadata": {},
     "output_type": "execute_result"
    }
   ],
   "source": [
    "given_df.StreamingMovies.value_counts()\n",
    "given_df.StreamingMovies.value_counts().sum()"
   ]
  },
  {
   "cell_type": "markdown",
   "id": "26f372aa",
   "metadata": {},
   "source": [
    "One Word Substitution of my variables Which mean same thing here acoording to my Column."
   ]
  },
  {
   "cell_type": "code",
   "execution_count": 76,
   "id": "cc6e3bd9",
   "metadata": {
    "ExecuteTime": {
     "end_time": "2023-04-30T11:29:37.365029Z",
     "start_time": "2023-04-30T11:29:37.350073Z"
    }
   },
   "outputs": [],
   "source": [
    "given_df['StreamingMovies'] = given_df['StreamingMovies'].replace(['No internet service'],'No')"
   ]
  },
  {
   "cell_type": "code",
   "execution_count": 78,
   "id": "13a38da0",
   "metadata": {
    "ExecuteTime": {
     "end_time": "2023-04-30T11:29:37.614895Z",
     "start_time": "2023-04-30T11:29:37.605921Z"
    }
   },
   "outputs": [
    {
     "data": {
      "text/plain": [
       "StreamingMovies\n",
       "No     4311\n",
       "Yes    2732\n",
       "Name: count, dtype: int64"
      ]
     },
     "execution_count": 78,
     "metadata": {},
     "output_type": "execute_result"
    },
    {
     "data": {
      "text/plain": [
       "7043"
      ]
     },
     "execution_count": 78,
     "metadata": {},
     "output_type": "execute_result"
    }
   ],
   "source": [
    "given_df.StreamingMovies.value_counts()\n",
    "given_df.StreamingMovies.value_counts().sum()"
   ]
  },
  {
   "cell_type": "code",
   "execution_count": 80,
   "id": "0b0dae72",
   "metadata": {
    "ExecuteTime": {
     "end_time": "2023-04-30T11:29:37.851407Z",
     "start_time": "2023-04-30T11:29:37.830462Z"
    }
   },
   "outputs": [
    {
     "data": {
      "text/plain": [
       "Contract\n",
       "Month-to-month    3875\n",
       "Two year          1695\n",
       "One year          1473\n",
       "Name: count, dtype: int64"
      ]
     },
     "execution_count": 80,
     "metadata": {},
     "output_type": "execute_result"
    },
    {
     "data": {
      "text/plain": [
       "7043"
      ]
     },
     "execution_count": 80,
     "metadata": {},
     "output_type": "execute_result"
    }
   ],
   "source": [
    "given_df.Contract.value_counts()\n",
    "given_df.Contract.value_counts().sum()"
   ]
  },
  {
   "cell_type": "code",
   "execution_count": 82,
   "id": "d44dec62",
   "metadata": {
    "ExecuteTime": {
     "end_time": "2023-04-30T11:29:38.337288Z",
     "start_time": "2023-04-30T11:29:38.328299Z"
    }
   },
   "outputs": [
    {
     "data": {
      "text/plain": [
       "PaperlessBilling\n",
       "Yes    4171\n",
       "No     2872\n",
       "Name: count, dtype: int64"
      ]
     },
     "execution_count": 82,
     "metadata": {},
     "output_type": "execute_result"
    },
    {
     "data": {
      "text/plain": [
       "7043"
      ]
     },
     "execution_count": 82,
     "metadata": {},
     "output_type": "execute_result"
    }
   ],
   "source": [
    "given_df.PaperlessBilling.value_counts()\n",
    "given_df.PaperlessBilling.value_counts().sum()"
   ]
  },
  {
   "cell_type": "code",
   "execution_count": 84,
   "id": "355f9cba",
   "metadata": {
    "ExecuteTime": {
     "end_time": "2023-04-30T11:29:38.975719Z",
     "start_time": "2023-04-30T11:29:38.966743Z"
    }
   },
   "outputs": [
    {
     "data": {
      "text/plain": [
       "PaymentMethod\n",
       "Electronic check             2365\n",
       "Mailed check                 1612\n",
       "Bank transfer (automatic)    1544\n",
       "Credit card (automatic)      1522\n",
       "Name: count, dtype: int64"
      ]
     },
     "execution_count": 84,
     "metadata": {},
     "output_type": "execute_result"
    },
    {
     "data": {
      "text/plain": [
       "7043"
      ]
     },
     "execution_count": 84,
     "metadata": {},
     "output_type": "execute_result"
    }
   ],
   "source": [
    "given_df.PaymentMethod.value_counts()\n",
    "given_df.PaymentMethod.value_counts().sum()"
   ]
  },
  {
   "cell_type": "code",
   "execution_count": 86,
   "id": "2216a006",
   "metadata": {
    "ExecuteTime": {
     "end_time": "2023-04-30T11:29:39.551447Z",
     "start_time": "2023-04-30T11:29:39.542471Z"
    }
   },
   "outputs": [
    {
     "data": {
      "text/plain": [
       "MonthlyCharges\n",
       "20.05     61\n",
       "19.85     45\n",
       "19.95     44\n",
       "19.90     44\n",
       "20.00     43\n",
       "          ..\n",
       "23.65      1\n",
       "114.70     1\n",
       "43.65      1\n",
       "87.80      1\n",
       "78.70      1\n",
       "Name: count, Length: 1585, dtype: int64"
      ]
     },
     "execution_count": 86,
     "metadata": {},
     "output_type": "execute_result"
    },
    {
     "data": {
      "text/plain": [
       "7043"
      ]
     },
     "execution_count": 86,
     "metadata": {},
     "output_type": "execute_result"
    }
   ],
   "source": [
    "given_df.MonthlyCharges.value_counts()\n",
    "given_df.MonthlyCharges.value_counts().sum()"
   ]
  },
  {
   "cell_type": "code",
   "execution_count": 88,
   "id": "62bb9fa7",
   "metadata": {
    "ExecuteTime": {
     "end_time": "2023-04-30T11:29:39.942270Z",
     "start_time": "2023-04-30T11:29:39.912512Z"
    }
   },
   "outputs": [
    {
     "data": {
      "text/plain": [
       "TotalCharges\n",
       "          11\n",
       "20.2      11\n",
       "19.75      9\n",
       "20.05      8\n",
       "19.9       8\n",
       "          ..\n",
       "6849.4     1\n",
       "692.35     1\n",
       "130.15     1\n",
       "3211.9     1\n",
       "6844.5     1\n",
       "Name: count, Length: 6531, dtype: int64"
      ]
     },
     "execution_count": 88,
     "metadata": {},
     "output_type": "execute_result"
    },
    {
     "data": {
      "text/plain": [
       "7043"
      ]
     },
     "execution_count": 88,
     "metadata": {},
     "output_type": "execute_result"
    }
   ],
   "source": [
    "given_df.TotalCharges.value_counts(dropna=False)                               # Identified Null\\blank\\Voids\n",
    "given_df.TotalCharges.value_counts().sum()"
   ]
  },
  {
   "cell_type": "code",
   "execution_count": 90,
   "id": "da260e96",
   "metadata": {
    "ExecuteTime": {
     "end_time": "2023-04-30T11:29:40.691747Z",
     "start_time": "2023-04-30T11:29:40.678808Z"
    }
   },
   "outputs": [
    {
     "data": {
      "text/plain": [
       "Churn\n",
       "No     5174\n",
       "Yes    1869\n",
       "Name: count, dtype: int64"
      ]
     },
     "execution_count": 90,
     "metadata": {},
     "output_type": "execute_result"
    },
    {
     "data": {
      "text/plain": [
       "7043"
      ]
     },
     "execution_count": 90,
     "metadata": {},
     "output_type": "execute_result"
    }
   ],
   "source": [
    "given_df.Churn.value_counts()\n",
    "given_df.Churn.value_counts().sum()"
   ]
  },
  {
   "cell_type": "markdown",
   "id": "2d9cc743",
   "metadata": {},
   "source": [
    "## Replacing Null \\ Blanks \\ Voids with NaN\n"
   ]
  },
  {
   "cell_type": "code",
   "execution_count": 93,
   "id": "c25f8c6a",
   "metadata": {
    "ExecuteTime": {
     "end_time": "2023-04-30T11:29:42.969937Z",
     "start_time": "2023-04-30T11:29:42.956935Z"
    }
   },
   "outputs": [],
   "source": [
    "voidspace_index = []\n",
    "for i in given_df[given_df['TotalCharges'] == ' '].index:\n",
    "    voidspace_index.append(int(i))"
   ]
  },
  {
   "cell_type": "code",
   "execution_count": 95,
   "id": "0d6a8d56",
   "metadata": {
    "ExecuteTime": {
     "end_time": "2023-04-30T11:29:43.660405Z",
     "start_time": "2023-04-30T11:29:43.646449Z"
    }
   },
   "outputs": [
    {
     "data": {
      "text/plain": [
       "[488, 753, 936, 1082, 1340, 3331, 3826, 4380, 5218, 6670, 6754]"
      ]
     },
     "execution_count": 95,
     "metadata": {},
     "output_type": "execute_result"
    }
   ],
   "source": [
    "voidspace_index"
   ]
  },
  {
   "cell_type": "code",
   "execution_count": 97,
   "id": "dc84b809",
   "metadata": {
    "ExecuteTime": {
     "end_time": "2023-04-30T11:29:44.474265Z",
     "start_time": "2023-04-30T11:29:44.462311Z"
    }
   },
   "outputs": [],
   "source": [
    "#given_df = given_df.drop(voidspace_index)                                      (As dropping is not always possible)"
   ]
  },
  {
   "cell_type": "code",
   "execution_count": 99,
   "id": "a745b9f6",
   "metadata": {
    "ExecuteTime": {
     "end_time": "2023-04-30T11:29:45.188926Z",
     "start_time": "2023-04-30T11:29:45.165988Z"
    }
   },
   "outputs": [
    {
     "data": {
      "text/plain": [
       "TotalCharges\n",
       "          11\n",
       "20.2      11\n",
       "19.75      9\n",
       "20.05      8\n",
       "19.9       8\n",
       "          ..\n",
       "6849.4     1\n",
       "692.35     1\n",
       "130.15     1\n",
       "3211.9     1\n",
       "6844.5     1\n",
       "Name: count, Length: 6531, dtype: int64"
      ]
     },
     "execution_count": 99,
     "metadata": {},
     "output_type": "execute_result"
    },
    {
     "data": {
      "text/plain": [
       "7043"
      ]
     },
     "execution_count": 99,
     "metadata": {},
     "output_type": "execute_result"
    }
   ],
   "source": [
    "given_df.TotalCharges.value_counts()\n",
    "given_df.TotalCharges.value_counts().sum()"
   ]
  },
  {
   "cell_type": "code",
   "execution_count": 101,
   "id": "850724eb",
   "metadata": {
    "ExecuteTime": {
     "end_time": "2023-04-30T11:29:56.926903Z",
     "start_time": "2023-04-30T11:29:56.908978Z"
    }
   },
   "outputs": [
    {
     "data": {
      "text/html": [
       "<div>\n",
       "<style scoped>\n",
       "    .dataframe tbody tr th:only-of-type {\n",
       "        vertical-align: middle;\n",
       "    }\n",
       "\n",
       "    .dataframe tbody tr th {\n",
       "        vertical-align: top;\n",
       "    }\n",
       "\n",
       "    .dataframe thead th {\n",
       "        text-align: right;\n",
       "    }\n",
       "</style>\n",
       "<table border=\"1\" class=\"dataframe\">\n",
       "  <thead>\n",
       "    <tr style=\"text-align: right;\">\n",
       "      <th></th>\n",
       "      <th>TotalCharges</th>\n",
       "    </tr>\n",
       "  </thead>\n",
       "  <tbody>\n",
       "    <tr>\n",
       "      <th>0</th>\n",
       "      <td>29.85</td>\n",
       "    </tr>\n",
       "    <tr>\n",
       "      <th>1</th>\n",
       "      <td>1889.5</td>\n",
       "    </tr>\n",
       "    <tr>\n",
       "      <th>2</th>\n",
       "      <td>108.15</td>\n",
       "    </tr>\n",
       "    <tr>\n",
       "      <th>3</th>\n",
       "      <td>1840.75</td>\n",
       "    </tr>\n",
       "    <tr>\n",
       "      <th>4</th>\n",
       "      <td>151.65</td>\n",
       "    </tr>\n",
       "    <tr>\n",
       "      <th>...</th>\n",
       "      <td>...</td>\n",
       "    </tr>\n",
       "    <tr>\n",
       "      <th>7038</th>\n",
       "      <td>1990.5</td>\n",
       "    </tr>\n",
       "    <tr>\n",
       "      <th>7039</th>\n",
       "      <td>7362.9</td>\n",
       "    </tr>\n",
       "    <tr>\n",
       "      <th>7040</th>\n",
       "      <td>346.45</td>\n",
       "    </tr>\n",
       "    <tr>\n",
       "      <th>7041</th>\n",
       "      <td>306.6</td>\n",
       "    </tr>\n",
       "    <tr>\n",
       "      <th>7042</th>\n",
       "      <td>6844.5</td>\n",
       "    </tr>\n",
       "  </tbody>\n",
       "</table>\n",
       "<p>7043 rows × 1 columns</p>\n",
       "</div>"
      ],
      "text/plain": [
       "     TotalCharges\n",
       "0           29.85\n",
       "1          1889.5\n",
       "2          108.15\n",
       "3         1840.75\n",
       "4          151.65\n",
       "...           ...\n",
       "7038       1990.5\n",
       "7039       7362.9\n",
       "7040       346.45\n",
       "7041        306.6\n",
       "7042       6844.5\n",
       "\n",
       "[7043 rows x 1 columns]"
      ]
     },
     "execution_count": 101,
     "metadata": {},
     "output_type": "execute_result"
    }
   ],
   "source": [
    "final_TC = pd.DataFrame(given_df['TotalCharges'].replace(' ',np.nan))           #Replacing Null\\voids\\blanks with NaN\n",
    "final_TC"
   ]
  },
  {
   "cell_type": "code",
   "execution_count": 103,
   "id": "584f839b",
   "metadata": {
    "ExecuteTime": {
     "end_time": "2023-04-30T11:29:58.812668Z",
     "start_time": "2023-04-30T11:29:58.788736Z"
    }
   },
   "outputs": [
    {
     "data": {
      "text/plain": [
       "TotalCharges\n",
       "NaN             11\n",
       "20.2            11\n",
       "19.75            9\n",
       "20.05            8\n",
       "19.9             8\n",
       "                ..\n",
       "2602.9           1\n",
       "260.8            1\n",
       "260.7            1\n",
       "2599.95          1\n",
       "381.2            1\n",
       "Name: count, Length: 6531, dtype: int64"
      ]
     },
     "execution_count": 103,
     "metadata": {},
     "output_type": "execute_result"
    }
   ],
   "source": [
    "final_TC.value_counts(dropna=False)                                            #Checking for NaN values "
   ]
  },
  {
   "cell_type": "markdown",
   "id": "c61d79ee",
   "metadata": {},
   "source": [
    "## One Hot Encoding"
   ]
  },
  {
   "cell_type": "code",
   "execution_count": 115,
   "id": "6f6e3d92-b163-4411-8545-8b246fd4a962",
   "metadata": {},
   "outputs": [
    {
     "name": "stdout",
     "output_type": "stream",
     "text": [
      "Requirement already satisfied: scikit-learn in c:\\users\\kasub\\anaconda3\\lib\\site-packages (1.4.2)\n",
      "Collecting scikit-learn\n",
      "  Downloading scikit_learn-1.6.1-cp312-cp312-win_amd64.whl.metadata (15 kB)\n",
      "Requirement already satisfied: numpy>=1.19.5 in c:\\users\\kasub\\anaconda3\\lib\\site-packages (from scikit-learn) (1.26.4)\n",
      "Requirement already satisfied: scipy>=1.6.0 in c:\\users\\kasub\\anaconda3\\lib\\site-packages (from scikit-learn) (1.13.1)\n",
      "Requirement already satisfied: joblib>=1.2.0 in c:\\users\\kasub\\anaconda3\\lib\\site-packages (from scikit-learn) (1.4.2)\n",
      "Collecting threadpoolctl>=3.1.0 (from scikit-learn)\n",
      "  Downloading threadpoolctl-3.6.0-py3-none-any.whl.metadata (13 kB)\n",
      "Downloading scikit_learn-1.6.1-cp312-cp312-win_amd64.whl (11.1 MB)\n",
      "   ---------------------------------------- 0.0/11.1 MB ? eta -:--:--\n",
      "   ---------------------------------------- 0.0/11.1 MB 1.3 MB/s eta 0:00:09\n",
      "   ---------------------------------------- 0.1/11.1 MB 1.3 MB/s eta 0:00:09\n",
      "    --------------------------------------- 0.2/11.1 MB 2.1 MB/s eta 0:00:06\n",
      "   - -------------------------------------- 0.5/11.1 MB 3.1 MB/s eta 0:00:04\n",
      "   -- ------------------------------------- 0.7/11.1 MB 3.2 MB/s eta 0:00:04\n",
      "   ---- ----------------------------------- 1.1/11.1 MB 4.4 MB/s eta 0:00:03\n",
      "   ------- -------------------------------- 2.1/11.1 MB 7.1 MB/s eta 0:00:02\n",
      "   ----------- ---------------------------- 3.2/11.1 MB 9.0 MB/s eta 0:00:01\n",
      "   --------------- ------------------------ 4.2/11.1 MB 11.2 MB/s eta 0:00:01\n",
      "   ----------------- ---------------------- 5.0/11.1 MB 10.9 MB/s eta 0:00:01\n",
      "   ---------------------- ----------------- 6.3/11.1 MB 13.0 MB/s eta 0:00:01\n",
      "   ------------------------ --------------- 6.9/11.1 MB 12.9 MB/s eta 0:00:01\n",
      "   ----------------------------- ---------- 8.2/11.1 MB 14.2 MB/s eta 0:00:01\n",
      "   ------------------------------- -------- 8.8/11.1 MB 14.0 MB/s eta 0:00:01\n",
      "   ----------------------------------- ---- 9.9/11.1 MB 14.8 MB/s eta 0:00:01\n",
      "   ------------------------------------- -- 10.5/11.1 MB 18.2 MB/s eta 0:00:01\n",
      "   ---------------------------------------- 11.1/11.1 MB 18.7 MB/s eta 0:00:00\n",
      "Downloading threadpoolctl-3.6.0-py3-none-any.whl (18 kB)\n",
      "Installing collected packages: threadpoolctl, scikit-learn\n",
      "  Attempting uninstall: threadpoolctl\n",
      "    Found existing installation: threadpoolctl 2.2.0\n",
      "    Uninstalling threadpoolctl-2.2.0:\n",
      "      Successfully uninstalled threadpoolctl-2.2.0\n",
      "  Attempting uninstall: scikit-learn\n",
      "    Found existing installation: scikit-learn 1.4.2\n",
      "    Uninstalling scikit-learn-1.4.2:\n",
      "      Successfully uninstalled scikit-learn-1.4.2\n",
      "Successfully installed scikit-learn-1.6.1 threadpoolctl-3.6.0\n",
      "Note: you may need to restart the kernel to use updated packages.\n"
     ]
    },
    {
     "name": "stderr",
     "output_type": "stream",
     "text": [
      "  WARNING: Failed to remove contents in a temporary directory 'C:\\Users\\kasub\\anaconda3\\Lib\\site-packages\\~klearn'.\n",
      "  You can safely remove it manually.\n"
     ]
    }
   ],
   "source": [
    "pip install --upgrade scikit-learn"
   ]
  },
  {
   "cell_type": "code",
   "execution_count": 117,
   "id": "33ce21e8",
   "metadata": {
    "ExecuteTime": {
     "end_time": "2023-04-30T11:30:02.169038Z",
     "start_time": "2023-04-30T11:30:01.765723Z"
    }
   },
   "outputs": [
    {
     "ename": "TypeError",
     "evalue": "OneHotEncoder.__init__() got an unexpected keyword argument 'sparse'",
     "output_type": "error",
     "traceback": [
      "\u001b[1;31m---------------------------------------------------------------------------\u001b[0m",
      "\u001b[1;31mTypeError\u001b[0m                                 Traceback (most recent call last)",
      "Cell \u001b[1;32mIn[117], line 2\u001b[0m\n\u001b[0;32m      1\u001b[0m \u001b[38;5;28;01mfrom\u001b[39;00m \u001b[38;5;21;01msklearn\u001b[39;00m\u001b[38;5;21;01m.\u001b[39;00m\u001b[38;5;21;01mpreprocessing\u001b[39;00m \u001b[38;5;28;01mimport\u001b[39;00m OneHotEncoder                               \n\u001b[1;32m----> 2\u001b[0m oe \u001b[38;5;241m=\u001b[39m OneHotEncoder(drop\u001b[38;5;241m=\u001b[39m\u001b[38;5;124m'\u001b[39m\u001b[38;5;124mfirst\u001b[39m\u001b[38;5;124m'\u001b[39m, sparse\u001b[38;5;241m=\u001b[39m\u001b[38;5;28;01mFalse\u001b[39;00m)\n",
      "\u001b[1;31mTypeError\u001b[0m: OneHotEncoder.__init__() got an unexpected keyword argument 'sparse'"
     ]
    }
   ],
   "source": [
    "from sklearn.preprocessing import OneHotEncoder                               \n",
    "oe = OneHotEncoder(drop='first', sparse=False)"
   ]
  },
  {
   "cell_type": "code",
   "execution_count": null,
   "id": "335a0b8b",
   "metadata": {
    "ExecuteTime": {
     "end_time": "2023-04-30T11:30:04.040664Z",
     "start_time": "2023-04-30T11:30:03.989558Z"
    }
   },
   "outputs": [],
   "source": [
    "#Dividing my Data Frame to  perform One Hot Encoding to Catogorical Columns.        \n",
    "given_df_obj = given_df[['gender', 'Partner', 'Dependents','tenure',          # Data Frame with only Catagorical Values for One Hot Encoding\n",
    "       'PhoneService', 'MultipleLines', 'InternetService', 'OnlineSecurity',\n",
    "       'OnlineBackup', 'DeviceProtection', 'TechSupport', 'StreamingTV',\n",
    "       'StreamingMovies', 'Contract', 'PaperlessBilling', 'PaymentMethod','Churn']] \n",
    "\n",
    "given_df_obj_oe = pd.DataFrame(oe.fit_transform(given_df_obj), index=given_df_obj.index,\\\n",
    "            columns=oe.get_feature_names(given_df_obj.columns))               #Performing One Hot Encoding \n",
    "\n",
    "given_df_obj_nu = given_df[['SeniorCitizen','MonthlyCharges']]                #Data Frame with only numerical columns.\n",
    "\n",
    "#Combining  my data frames after One Hot Encoding.\n",
    "final_g_df = given_df_obj_oe.merge(final_TC,left_index=True, right_index=True).merge(given_df_obj_nu,left_index=True, right_index=True)"
   ]
  },
  {
   "cell_type": "code",
   "execution_count": null,
   "id": "33355a4c",
   "metadata": {
    "ExecuteTime": {
     "end_time": "2023-04-30T11:30:05.487499Z",
     "start_time": "2023-04-30T11:30:05.454552Z"
    }
   },
   "outputs": [],
   "source": [
    "final_g_df                                                                     #Data Frame converted to all numeric."
   ]
  },
  {
   "cell_type": "markdown",
   "id": "ab3e4ea6",
   "metadata": {},
   "source": [
    "## Handeling missing values using KNN Imputer "
   ]
  },
  {
   "cell_type": "code",
   "execution_count": 111,
   "id": "8e892343",
   "metadata": {
    "ExecuteTime": {
     "end_time": "2023-04-30T11:30:09.697483Z",
     "start_time": "2023-04-30T11:30:09.429201Z"
    }
   },
   "outputs": [
    {
     "ename": "NameError",
     "evalue": "name 'final_g_df' is not defined",
     "output_type": "error",
     "traceback": [
      "\u001b[1;31m---------------------------------------------------------------------------\u001b[0m",
      "\u001b[1;31mNameError\u001b[0m                                 Traceback (most recent call last)",
      "Cell \u001b[1;32mIn[111], line 4\u001b[0m\n\u001b[0;32m      2\u001b[0m \u001b[38;5;28;01mfrom\u001b[39;00m \u001b[38;5;21;01msklearn\u001b[39;00m\u001b[38;5;21;01m.\u001b[39;00m\u001b[38;5;21;01mimpute\u001b[39;00m \u001b[38;5;28;01mimport\u001b[39;00m KNNImputer\n\u001b[0;32m      3\u001b[0m imputer \u001b[38;5;241m=\u001b[39m KNNImputer(n_neighbors\u001b[38;5;241m=\u001b[39m\u001b[38;5;241m3\u001b[39m)\n\u001b[1;32m----> 4\u001b[0m my_df \u001b[38;5;241m=\u001b[39m pd\u001b[38;5;241m.\u001b[39mDataFrame(imputer\u001b[38;5;241m.\u001b[39mfit_transform(final_g_df),columns\u001b[38;5;241m=\u001b[39mfinal_g_df\u001b[38;5;241m.\u001b[39mcolumns)\n\u001b[0;32m      5\u001b[0m my_df\n",
      "\u001b[1;31mNameError\u001b[0m: name 'final_g_df' is not defined"
     ]
    }
   ],
   "source": [
    "import numpy as np                                                            \n",
    "from sklearn.impute import KNNImputer\n",
    "imputer = KNNImputer(n_neighbors=3)\n",
    "my_df = pd.DataFrame(imputer.fit_transform(final_g_df),columns=final_g_df.columns)\n",
    "my_df                           #Complete Data Frame ready to train our model."
   ]
  },
  {
   "cell_type": "code",
   "execution_count": 51,
   "id": "d51c11f0",
   "metadata": {
    "ExecuteTime": {
     "end_time": "2023-04-30T11:30:11.523643Z",
     "start_time": "2023-04-30T11:30:11.500703Z"
    }
   },
   "outputs": [
    {
     "data": {
      "text/plain": [
       "20.20      11\n",
       "19.75       9\n",
       "19.90       8\n",
       "20.05       8\n",
       "19.65       8\n",
       "           ..\n",
       "692.35      1\n",
       "130.15      1\n",
       "3211.90     1\n",
       "7843.55     1\n",
       "6844.50     1\n",
       "Name: TotalCharges, Length: 6541, dtype: int64"
      ]
     },
     "execution_count": 51,
     "metadata": {},
     "output_type": "execute_result"
    },
    {
     "data": {
      "text/plain": [
       "7043"
      ]
     },
     "execution_count": 51,
     "metadata": {},
     "output_type": "execute_result"
    }
   ],
   "source": [
    "my_df.TotalCharges.value_counts(dropna=False)                                 #Checking for NaN values in Total Charges.\n",
    "my_df.TotalCharges.value_counts(dropna=False).sum()"
   ]
  },
  {
   "cell_type": "code",
   "execution_count": 52,
   "id": "2ba864d8",
   "metadata": {
    "ExecuteTime": {
     "end_time": "2023-04-30T11:30:12.605177Z",
     "start_time": "2023-04-30T11:30:12.590217Z"
    }
   },
   "outputs": [
    {
     "data": {
      "text/plain": [
       "gender_Male                   0\n",
       "Partner_Yes                   0\n",
       "Dependents_Yes                0\n",
       "tenure_1                      0\n",
       "tenure_2                      0\n",
       "                             ..\n",
       "PaymentMethod_Mailed check    0\n",
       "Churn_Yes                     0\n",
       "TotalCharges                  0\n",
       "SeniorCitizen                 0\n",
       "MonthlyCharges                0\n",
       "Length: 95, dtype: int64"
      ]
     },
     "execution_count": 52,
     "metadata": {},
     "output_type": "execute_result"
    }
   ],
   "source": [
    "my_df.isna().sum()                                                             #Checking for Null values in my DataFrame."
   ]
  },
  {
   "cell_type": "code",
   "execution_count": 53,
   "id": "c0db2a5f",
   "metadata": {
    "ExecuteTime": {
     "end_time": "2023-04-30T11:30:13.792904Z",
     "start_time": "2023-04-30T11:30:13.773974Z"
    }
   },
   "outputs": [
    {
     "data": {
      "text/plain": [
       "488     2114.600000\n",
       "753      664.533333\n",
       "936     3629.600000\n",
       "1082    1262.533333\n",
       "1340    3764.400000\n",
       "3331    1292.366667\n",
       "3826    1216.833333\n",
       "4380     953.183333\n",
       "5218     651.650000\n",
       "6670    4337.683333\n",
       "6754    1694.683333\n",
       "Name: TotalCharges, dtype: float64"
      ]
     },
     "execution_count": 53,
     "metadata": {},
     "output_type": "execute_result"
    }
   ],
   "source": [
    "my_df['TotalCharges'].iloc[voidspace_index]                                   #Checking what values replaced our NaN with."
   ]
  },
  {
   "cell_type": "code",
   "execution_count": 54,
   "id": "1220a4e1",
   "metadata": {
    "ExecuteTime": {
     "end_time": "2023-04-30T11:30:19.689083Z",
     "start_time": "2023-04-30T11:30:19.670134Z"
    }
   },
   "outputs": [
    {
     "data": {
      "text/plain": [
       "gender_Male                   float64\n",
       "Partner_Yes                   float64\n",
       "Dependents_Yes                float64\n",
       "tenure_1                      float64\n",
       "tenure_2                      float64\n",
       "                               ...   \n",
       "PaymentMethod_Mailed check    float64\n",
       "Churn_Yes                     float64\n",
       "TotalCharges                  float64\n",
       "SeniorCitizen                 float64\n",
       "MonthlyCharges                float64\n",
       "Length: 95, dtype: object"
      ]
     },
     "execution_count": 54,
     "metadata": {},
     "output_type": "execute_result"
    }
   ],
   "source": [
    "my_df.dtypes                                                                   # Checking Dtypes for final Data Frame."
   ]
  },
  {
   "cell_type": "code",
   "execution_count": 55,
   "id": "d2e0ac28",
   "metadata": {
    "ExecuteTime": {
     "end_time": "2023-04-30T11:30:20.772883Z",
     "start_time": "2023-04-30T11:30:20.758952Z"
    }
   },
   "outputs": [
    {
     "data": {
      "text/plain": [
       "(7043, 95)"
      ]
     },
     "execution_count": 55,
     "metadata": {},
     "output_type": "execute_result"
    }
   ],
   "source": [
    "my_df.shape                                                                     #Checking shape of our final Data Frame"
   ]
  },
  {
   "cell_type": "markdown",
   "id": "7b1edc66",
   "metadata": {},
   "source": [
    "## Handeling missing values using missForest"
   ]
  },
  {
   "cell_type": "code",
   "execution_count": 56,
   "id": "efcda78a",
   "metadata": {
    "ExecuteTime": {
     "end_time": "2023-04-30T11:30:22.965762Z",
     "start_time": "2023-04-30T11:30:22.957751Z"
    }
   },
   "outputs": [],
   "source": [
    "#!pip install missingpy\n",
    "#!pip install miceforest"
   ]
  },
  {
   "cell_type": "code",
   "execution_count": 60,
   "id": "06da51a9",
   "metadata": {
    "ExecuteTime": {
     "end_time": "2023-04-30T11:30:59.672723Z",
     "start_time": "2023-04-30T11:30:57.427050Z"
    }
   },
   "outputs": [
    {
     "name": "stdout",
     "output_type": "stream",
     "text": [
      "Iteration: 0\n",
      "Iteration: 1\n",
      "Iteration: 2\n"
     ]
    },
    {
     "data": {
      "text/html": [
       "<div>\n",
       "<style scoped>\n",
       "    .dataframe tbody tr th:only-of-type {\n",
       "        vertical-align: middle;\n",
       "    }\n",
       "\n",
       "    .dataframe tbody tr th {\n",
       "        vertical-align: top;\n",
       "    }\n",
       "\n",
       "    .dataframe thead th {\n",
       "        text-align: right;\n",
       "    }\n",
       "</style>\n",
       "<table border=\"1\" class=\"dataframe\">\n",
       "  <thead>\n",
       "    <tr style=\"text-align: right;\">\n",
       "      <th></th>\n",
       "      <th>gender_Male</th>\n",
       "      <th>Partner_Yes</th>\n",
       "      <th>Dependents_Yes</th>\n",
       "      <th>tenure_1</th>\n",
       "      <th>tenure_2</th>\n",
       "      <th>tenure_3</th>\n",
       "      <th>tenure_4</th>\n",
       "      <th>tenure_5</th>\n",
       "      <th>tenure_6</th>\n",
       "      <th>tenure_7</th>\n",
       "      <th>...</th>\n",
       "      <th>Contract_One year</th>\n",
       "      <th>Contract_Two year</th>\n",
       "      <th>PaperlessBilling_Yes</th>\n",
       "      <th>PaymentMethod_Credit card (automatic)</th>\n",
       "      <th>PaymentMethod_Electronic check</th>\n",
       "      <th>PaymentMethod_Mailed check</th>\n",
       "      <th>Churn_Yes</th>\n",
       "      <th>TotalCharges</th>\n",
       "      <th>SeniorCitizen</th>\n",
       "      <th>MonthlyCharges</th>\n",
       "    </tr>\n",
       "  </thead>\n",
       "  <tbody>\n",
       "    <tr>\n",
       "      <th>0</th>\n",
       "      <td>0.0</td>\n",
       "      <td>1.0</td>\n",
       "      <td>0.0</td>\n",
       "      <td>1.0</td>\n",
       "      <td>0.0</td>\n",
       "      <td>0.0</td>\n",
       "      <td>0.0</td>\n",
       "      <td>0.0</td>\n",
       "      <td>0.0</td>\n",
       "      <td>0.0</td>\n",
       "      <td>...</td>\n",
       "      <td>0.0</td>\n",
       "      <td>0.0</td>\n",
       "      <td>1.0</td>\n",
       "      <td>0.0</td>\n",
       "      <td>1.0</td>\n",
       "      <td>0.0</td>\n",
       "      <td>0.0</td>\n",
       "      <td>29.85</td>\n",
       "      <td>0.0</td>\n",
       "      <td>29.85</td>\n",
       "    </tr>\n",
       "    <tr>\n",
       "      <th>1</th>\n",
       "      <td>1.0</td>\n",
       "      <td>0.0</td>\n",
       "      <td>0.0</td>\n",
       "      <td>0.0</td>\n",
       "      <td>0.0</td>\n",
       "      <td>0.0</td>\n",
       "      <td>0.0</td>\n",
       "      <td>0.0</td>\n",
       "      <td>0.0</td>\n",
       "      <td>0.0</td>\n",
       "      <td>...</td>\n",
       "      <td>1.0</td>\n",
       "      <td>0.0</td>\n",
       "      <td>0.0</td>\n",
       "      <td>0.0</td>\n",
       "      <td>0.0</td>\n",
       "      <td>1.0</td>\n",
       "      <td>0.0</td>\n",
       "      <td>1889.50</td>\n",
       "      <td>0.0</td>\n",
       "      <td>56.95</td>\n",
       "    </tr>\n",
       "    <tr>\n",
       "      <th>2</th>\n",
       "      <td>1.0</td>\n",
       "      <td>0.0</td>\n",
       "      <td>0.0</td>\n",
       "      <td>0.0</td>\n",
       "      <td>1.0</td>\n",
       "      <td>0.0</td>\n",
       "      <td>0.0</td>\n",
       "      <td>0.0</td>\n",
       "      <td>0.0</td>\n",
       "      <td>0.0</td>\n",
       "      <td>...</td>\n",
       "      <td>0.0</td>\n",
       "      <td>0.0</td>\n",
       "      <td>1.0</td>\n",
       "      <td>0.0</td>\n",
       "      <td>0.0</td>\n",
       "      <td>1.0</td>\n",
       "      <td>1.0</td>\n",
       "      <td>108.15</td>\n",
       "      <td>0.0</td>\n",
       "      <td>53.85</td>\n",
       "    </tr>\n",
       "    <tr>\n",
       "      <th>3</th>\n",
       "      <td>1.0</td>\n",
       "      <td>0.0</td>\n",
       "      <td>0.0</td>\n",
       "      <td>0.0</td>\n",
       "      <td>0.0</td>\n",
       "      <td>0.0</td>\n",
       "      <td>0.0</td>\n",
       "      <td>0.0</td>\n",
       "      <td>0.0</td>\n",
       "      <td>0.0</td>\n",
       "      <td>...</td>\n",
       "      <td>1.0</td>\n",
       "      <td>0.0</td>\n",
       "      <td>0.0</td>\n",
       "      <td>0.0</td>\n",
       "      <td>0.0</td>\n",
       "      <td>0.0</td>\n",
       "      <td>0.0</td>\n",
       "      <td>1840.75</td>\n",
       "      <td>0.0</td>\n",
       "      <td>42.30</td>\n",
       "    </tr>\n",
       "    <tr>\n",
       "      <th>4</th>\n",
       "      <td>0.0</td>\n",
       "      <td>0.0</td>\n",
       "      <td>0.0</td>\n",
       "      <td>0.0</td>\n",
       "      <td>1.0</td>\n",
       "      <td>0.0</td>\n",
       "      <td>0.0</td>\n",
       "      <td>0.0</td>\n",
       "      <td>0.0</td>\n",
       "      <td>0.0</td>\n",
       "      <td>...</td>\n",
       "      <td>0.0</td>\n",
       "      <td>0.0</td>\n",
       "      <td>1.0</td>\n",
       "      <td>0.0</td>\n",
       "      <td>1.0</td>\n",
       "      <td>0.0</td>\n",
       "      <td>1.0</td>\n",
       "      <td>151.65</td>\n",
       "      <td>0.0</td>\n",
       "      <td>70.70</td>\n",
       "    </tr>\n",
       "    <tr>\n",
       "      <th>...</th>\n",
       "      <td>...</td>\n",
       "      <td>...</td>\n",
       "      <td>...</td>\n",
       "      <td>...</td>\n",
       "      <td>...</td>\n",
       "      <td>...</td>\n",
       "      <td>...</td>\n",
       "      <td>...</td>\n",
       "      <td>...</td>\n",
       "      <td>...</td>\n",
       "      <td>...</td>\n",
       "      <td>...</td>\n",
       "      <td>...</td>\n",
       "      <td>...</td>\n",
       "      <td>...</td>\n",
       "      <td>...</td>\n",
       "      <td>...</td>\n",
       "      <td>...</td>\n",
       "      <td>...</td>\n",
       "      <td>...</td>\n",
       "      <td>...</td>\n",
       "    </tr>\n",
       "    <tr>\n",
       "      <th>7038</th>\n",
       "      <td>1.0</td>\n",
       "      <td>1.0</td>\n",
       "      <td>1.0</td>\n",
       "      <td>0.0</td>\n",
       "      <td>0.0</td>\n",
       "      <td>0.0</td>\n",
       "      <td>0.0</td>\n",
       "      <td>0.0</td>\n",
       "      <td>0.0</td>\n",
       "      <td>0.0</td>\n",
       "      <td>...</td>\n",
       "      <td>1.0</td>\n",
       "      <td>0.0</td>\n",
       "      <td>1.0</td>\n",
       "      <td>0.0</td>\n",
       "      <td>0.0</td>\n",
       "      <td>1.0</td>\n",
       "      <td>0.0</td>\n",
       "      <td>1990.50</td>\n",
       "      <td>0.0</td>\n",
       "      <td>84.80</td>\n",
       "    </tr>\n",
       "    <tr>\n",
       "      <th>7039</th>\n",
       "      <td>0.0</td>\n",
       "      <td>1.0</td>\n",
       "      <td>1.0</td>\n",
       "      <td>0.0</td>\n",
       "      <td>0.0</td>\n",
       "      <td>0.0</td>\n",
       "      <td>0.0</td>\n",
       "      <td>0.0</td>\n",
       "      <td>0.0</td>\n",
       "      <td>0.0</td>\n",
       "      <td>...</td>\n",
       "      <td>1.0</td>\n",
       "      <td>0.0</td>\n",
       "      <td>1.0</td>\n",
       "      <td>1.0</td>\n",
       "      <td>0.0</td>\n",
       "      <td>0.0</td>\n",
       "      <td>0.0</td>\n",
       "      <td>7362.90</td>\n",
       "      <td>0.0</td>\n",
       "      <td>103.20</td>\n",
       "    </tr>\n",
       "    <tr>\n",
       "      <th>7040</th>\n",
       "      <td>0.0</td>\n",
       "      <td>1.0</td>\n",
       "      <td>1.0</td>\n",
       "      <td>0.0</td>\n",
       "      <td>0.0</td>\n",
       "      <td>0.0</td>\n",
       "      <td>0.0</td>\n",
       "      <td>0.0</td>\n",
       "      <td>0.0</td>\n",
       "      <td>0.0</td>\n",
       "      <td>...</td>\n",
       "      <td>0.0</td>\n",
       "      <td>0.0</td>\n",
       "      <td>1.0</td>\n",
       "      <td>0.0</td>\n",
       "      <td>1.0</td>\n",
       "      <td>0.0</td>\n",
       "      <td>0.0</td>\n",
       "      <td>346.45</td>\n",
       "      <td>0.0</td>\n",
       "      <td>29.60</td>\n",
       "    </tr>\n",
       "    <tr>\n",
       "      <th>7041</th>\n",
       "      <td>1.0</td>\n",
       "      <td>1.0</td>\n",
       "      <td>0.0</td>\n",
       "      <td>0.0</td>\n",
       "      <td>0.0</td>\n",
       "      <td>0.0</td>\n",
       "      <td>1.0</td>\n",
       "      <td>0.0</td>\n",
       "      <td>0.0</td>\n",
       "      <td>0.0</td>\n",
       "      <td>...</td>\n",
       "      <td>0.0</td>\n",
       "      <td>0.0</td>\n",
       "      <td>1.0</td>\n",
       "      <td>0.0</td>\n",
       "      <td>0.0</td>\n",
       "      <td>1.0</td>\n",
       "      <td>1.0</td>\n",
       "      <td>306.60</td>\n",
       "      <td>1.0</td>\n",
       "      <td>74.40</td>\n",
       "    </tr>\n",
       "    <tr>\n",
       "      <th>7042</th>\n",
       "      <td>1.0</td>\n",
       "      <td>0.0</td>\n",
       "      <td>0.0</td>\n",
       "      <td>0.0</td>\n",
       "      <td>0.0</td>\n",
       "      <td>0.0</td>\n",
       "      <td>0.0</td>\n",
       "      <td>0.0</td>\n",
       "      <td>0.0</td>\n",
       "      <td>0.0</td>\n",
       "      <td>...</td>\n",
       "      <td>0.0</td>\n",
       "      <td>1.0</td>\n",
       "      <td>1.0</td>\n",
       "      <td>0.0</td>\n",
       "      <td>0.0</td>\n",
       "      <td>0.0</td>\n",
       "      <td>0.0</td>\n",
       "      <td>6844.50</td>\n",
       "      <td>0.0</td>\n",
       "      <td>105.65</td>\n",
       "    </tr>\n",
       "  </tbody>\n",
       "</table>\n",
       "<p>7043 rows × 95 columns</p>\n",
       "</div>"
      ],
      "text/plain": [
       "      gender_Male  Partner_Yes  Dependents_Yes  tenure_1  tenure_2  tenure_3  \\\n",
       "0             0.0          1.0             0.0       1.0       0.0       0.0   \n",
       "1             1.0          0.0             0.0       0.0       0.0       0.0   \n",
       "2             1.0          0.0             0.0       0.0       1.0       0.0   \n",
       "3             1.0          0.0             0.0       0.0       0.0       0.0   \n",
       "4             0.0          0.0             0.0       0.0       1.0       0.0   \n",
       "...           ...          ...             ...       ...       ...       ...   \n",
       "7038          1.0          1.0             1.0       0.0       0.0       0.0   \n",
       "7039          0.0          1.0             1.0       0.0       0.0       0.0   \n",
       "7040          0.0          1.0             1.0       0.0       0.0       0.0   \n",
       "7041          1.0          1.0             0.0       0.0       0.0       0.0   \n",
       "7042          1.0          0.0             0.0       0.0       0.0       0.0   \n",
       "\n",
       "      tenure_4  tenure_5  tenure_6  tenure_7  ...  Contract_One year  \\\n",
       "0          0.0       0.0       0.0       0.0  ...                0.0   \n",
       "1          0.0       0.0       0.0       0.0  ...                1.0   \n",
       "2          0.0       0.0       0.0       0.0  ...                0.0   \n",
       "3          0.0       0.0       0.0       0.0  ...                1.0   \n",
       "4          0.0       0.0       0.0       0.0  ...                0.0   \n",
       "...        ...       ...       ...       ...  ...                ...   \n",
       "7038       0.0       0.0       0.0       0.0  ...                1.0   \n",
       "7039       0.0       0.0       0.0       0.0  ...                1.0   \n",
       "7040       0.0       0.0       0.0       0.0  ...                0.0   \n",
       "7041       1.0       0.0       0.0       0.0  ...                0.0   \n",
       "7042       0.0       0.0       0.0       0.0  ...                0.0   \n",
       "\n",
       "      Contract_Two year  PaperlessBilling_Yes  \\\n",
       "0                   0.0                   1.0   \n",
       "1                   0.0                   0.0   \n",
       "2                   0.0                   1.0   \n",
       "3                   0.0                   0.0   \n",
       "4                   0.0                   1.0   \n",
       "...                 ...                   ...   \n",
       "7038                0.0                   1.0   \n",
       "7039                0.0                   1.0   \n",
       "7040                0.0                   1.0   \n",
       "7041                0.0                   1.0   \n",
       "7042                1.0                   1.0   \n",
       "\n",
       "      PaymentMethod_Credit card (automatic)  PaymentMethod_Electronic check  \\\n",
       "0                                       0.0                             1.0   \n",
       "1                                       0.0                             0.0   \n",
       "2                                       0.0                             0.0   \n",
       "3                                       0.0                             0.0   \n",
       "4                                       0.0                             1.0   \n",
       "...                                     ...                             ...   \n",
       "7038                                    0.0                             0.0   \n",
       "7039                                    1.0                             0.0   \n",
       "7040                                    0.0                             1.0   \n",
       "7041                                    0.0                             0.0   \n",
       "7042                                    0.0                             0.0   \n",
       "\n",
       "      PaymentMethod_Mailed check  Churn_Yes  TotalCharges  SeniorCitizen  \\\n",
       "0                            0.0        0.0         29.85            0.0   \n",
       "1                            1.0        0.0       1889.50            0.0   \n",
       "2                            1.0        1.0        108.15            0.0   \n",
       "3                            0.0        0.0       1840.75            0.0   \n",
       "4                            0.0        1.0        151.65            0.0   \n",
       "...                          ...        ...           ...            ...   \n",
       "7038                         1.0        0.0       1990.50            0.0   \n",
       "7039                         0.0        0.0       7362.90            0.0   \n",
       "7040                         0.0        0.0        346.45            0.0   \n",
       "7041                         1.0        1.0        306.60            1.0   \n",
       "7042                         0.0        0.0       6844.50            0.0   \n",
       "\n",
       "      MonthlyCharges  \n",
       "0              29.85  \n",
       "1              56.95  \n",
       "2              53.85  \n",
       "3              42.30  \n",
       "4              70.70  \n",
       "...              ...  \n",
       "7038           84.80  \n",
       "7039          103.20  \n",
       "7040           29.60  \n",
       "7041           74.40  \n",
       "7042          105.65  \n",
       "\n",
       "[7043 rows x 95 columns]"
      ]
     },
     "execution_count": 60,
     "metadata": {},
     "output_type": "execute_result"
    }
   ],
   "source": [
    "import sklearn.neighbors._base \n",
    "import sys\n",
    "sys.modules['sklearn.neighbors.base'] = sklearn.neighbors._base\n",
    "from missingpy import MissForest\n",
    "imputer = MissForest()\n",
    "X_imputed = imputer.fit_transform(final_g_df)\n",
    "my_df_mf = pd.DataFrame(X_imputed, columns = final_g_df.columns)\n",
    "my_df_mf"
   ]
  },
  {
   "cell_type": "code",
   "execution_count": 58,
   "id": "e9a50fa2",
   "metadata": {
    "ExecuteTime": {
     "end_time": "2023-04-30T11:30:28.063833Z",
     "start_time": "2023-04-30T11:30:28.053860Z"
    }
   },
   "outputs": [],
   "source": [
    "#given_df['TotalCharges'] = final_TC['TotalCharges']\n",
    "#given_df['TotalCharges'].value_counts(dropna=False)"
   ]
  },
  {
   "cell_type": "code",
   "execution_count": 59,
   "id": "393babc1",
   "metadata": {
    "ExecuteTime": {
     "end_time": "2023-04-30T11:30:29.190482Z",
     "start_time": "2023-04-30T11:30:29.173528Z"
    }
   },
   "outputs": [],
   "source": [
    "#imputer = MissForest() #miss forest\n",
    "#my_df_mf0 = imputer.fit_transform(given_df)\n",
    "#my_df_mf0 = pd.DataFrame(my_df_mf, columns = given_df.columns)\n",
    "#my_df_mf0"
   ]
  },
  {
   "cell_type": "code",
   "execution_count": 61,
   "id": "af1f72d4",
   "metadata": {
    "ExecuteTime": {
     "end_time": "2023-04-30T11:31:10.947010Z",
     "start_time": "2023-04-30T11:31:10.933047Z"
    }
   },
   "outputs": [
    {
     "data": {
      "text/plain": [
       "20.20      11\n",
       "19.75       9\n",
       "19.90       8\n",
       "20.05       8\n",
       "19.65       8\n",
       "           ..\n",
       "692.35      1\n",
       "130.15      1\n",
       "3211.90     1\n",
       "7843.55     1\n",
       "6844.50     1\n",
       "Name: TotalCharges, Length: 6541, dtype: int64"
      ]
     },
     "execution_count": 61,
     "metadata": {},
     "output_type": "execute_result"
    },
    {
     "data": {
      "text/plain": [
       "7043"
      ]
     },
     "execution_count": 61,
     "metadata": {},
     "output_type": "execute_result"
    }
   ],
   "source": [
    "my_df_mf.TotalCharges.value_counts(dropna=False)                                 #Checking for NaN values in Total Charges.\n",
    "my_df_mf.TotalCharges.value_counts(dropna=False).sum()"
   ]
  },
  {
   "cell_type": "code",
   "execution_count": 62,
   "id": "bd0a753a",
   "metadata": {
    "ExecuteTime": {
     "end_time": "2023-04-30T11:31:11.854097Z",
     "start_time": "2023-04-30T11:31:11.836108Z"
    }
   },
   "outputs": [
    {
     "data": {
      "text/plain": [
       "gender_Male                   0\n",
       "Partner_Yes                   0\n",
       "Dependents_Yes                0\n",
       "tenure_1                      0\n",
       "tenure_2                      0\n",
       "                             ..\n",
       "PaymentMethod_Mailed check    0\n",
       "Churn_Yes                     0\n",
       "TotalCharges                  0\n",
       "SeniorCitizen                 0\n",
       "MonthlyCharges                0\n",
       "Length: 95, dtype: int64"
      ]
     },
     "execution_count": 62,
     "metadata": {},
     "output_type": "execute_result"
    }
   ],
   "source": [
    "my_df_mf.isna().sum()                                                             #Checking for Null values in my DataFrame."
   ]
  },
  {
   "cell_type": "code",
   "execution_count": 63,
   "id": "f46eefa5",
   "metadata": {
    "ExecuteTime": {
     "end_time": "2023-04-30T11:31:11.901964Z",
     "start_time": "2023-04-30T11:31:11.891959Z"
    }
   },
   "outputs": [
    {
     "data": {
      "text/plain": [
       "gender_Male                   float64\n",
       "Partner_Yes                   float64\n",
       "Dependents_Yes                float64\n",
       "tenure_1                      float64\n",
       "tenure_2                      float64\n",
       "                               ...   \n",
       "PaymentMethod_Mailed check    float64\n",
       "Churn_Yes                     float64\n",
       "TotalCharges                  float64\n",
       "SeniorCitizen                 float64\n",
       "MonthlyCharges                float64\n",
       "Length: 95, dtype: object"
      ]
     },
     "execution_count": 63,
     "metadata": {},
     "output_type": "execute_result"
    }
   ],
   "source": [
    "my_df_mf.dtypes                                                                   # Checking Dtypes for final Data Frame."
   ]
  },
  {
   "cell_type": "code",
   "execution_count": 64,
   "id": "f2938e94",
   "metadata": {
    "ExecuteTime": {
     "end_time": "2023-04-30T11:31:14.497155Z",
     "start_time": "2023-04-30T11:31:14.477182Z"
    }
   },
   "outputs": [
    {
     "data": {
      "text/plain": [
       "488     3145.0010\n",
       "753      831.3695\n",
       "936     4758.6565\n",
       "1082    1257.3630\n",
       "1340    3658.8020\n",
       "3331     939.5715\n",
       "3826    1277.4360\n",
       "4380     860.2970\n",
       "5218     333.9800\n",
       "6670    4449.1030\n",
       "6754    3401.0210\n",
       "Name: TotalCharges, dtype: float64"
      ]
     },
     "execution_count": 64,
     "metadata": {},
     "output_type": "execute_result"
    }
   ],
   "source": [
    "my_df_mf['TotalCharges'].iloc[voidspace_index]  \n",
    "#my_df_knn['TotalCharges'].iloc[voidspace_index]"
   ]
  },
  {
   "cell_type": "code",
   "execution_count": 66,
   "id": "7a5fe1df",
   "metadata": {
    "ExecuteTime": {
     "end_time": "2023-04-30T11:31:30.185807Z",
     "start_time": "2023-04-30T11:31:30.173840Z"
    }
   },
   "outputs": [
    {
     "data": {
      "text/plain": [
       "488     3145.0010\n",
       "753      831.3695\n",
       "936     4758.6565\n",
       "1082    1257.3630\n",
       "1340    3658.8020\n",
       "3331     939.5715\n",
       "3826    1277.4360\n",
       "4380     860.2970\n",
       "5218     333.9800\n",
       "6670    4449.1030\n",
       "6754    3401.0210\n",
       "Name: TotalCharges, dtype: float64"
      ]
     },
     "execution_count": 66,
     "metadata": {},
     "output_type": "execute_result"
    },
    {
     "data": {
      "text/plain": [
       "488     2114.600000\n",
       "753      664.533333\n",
       "936     3629.600000\n",
       "1082    1262.533333\n",
       "1340    3764.400000\n",
       "3331    1292.366667\n",
       "3826    1216.833333\n",
       "4380     953.183333\n",
       "5218     651.650000\n",
       "6670    4337.683333\n",
       "6754    1694.683333\n",
       "Name: TotalCharges, dtype: float64"
      ]
     },
     "execution_count": 66,
     "metadata": {},
     "output_type": "execute_result"
    }
   ],
   "source": [
    "my_df_mf['TotalCharges'].iloc[voidspace_index]  \n",
    "my_df['TotalCharges'].iloc[voidspace_index]"
   ]
  },
  {
   "cell_type": "markdown",
   "id": "2fb8e497",
   "metadata": {},
   "source": [
    "## Handeling missing values with Mice-Forest"
   ]
  },
  {
   "cell_type": "code",
   "execution_count": 62,
   "id": "3fdb7d1b",
   "metadata": {
    "ExecuteTime": {
     "end_time": "2023-04-30T09:33:47.322316Z",
     "start_time": "2023-04-30T09:33:47.306876Z"
    }
   },
   "outputs": [],
   "source": [
    "#import miceforest as mf"
   ]
  },
  {
   "cell_type": "code",
   "execution_count": 65,
   "id": "24cc88e9",
   "metadata": {
    "ExecuteTime": {
     "end_time": "2023-04-30T09:38:05.228768Z",
     "start_time": "2023-04-30T09:38:05.211216Z"
    }
   },
   "outputs": [],
   "source": [
    "#kernel = mf.ImputationKernel(\n",
    "  #data=final_g_df,\n",
    "  #save_all_iterations=True,\n",
    "  #random_state=1343)\n",
    "\n",
    "#kernel.mice(3,verbose=True)\n",
    "#my_df_micef = kernel.my_df_micef(dataset=0, inplace=False)"
   ]
  },
  {
   "cell_type": "markdown",
   "id": "f6d1b2ed",
   "metadata": {},
   "source": [
    "# EDA"
   ]
  },
  {
   "cell_type": "code",
   "execution_count": 67,
   "id": "e7649a73",
   "metadata": {
    "ExecuteTime": {
     "end_time": "2023-04-30T11:31:52.047816Z",
     "start_time": "2023-04-30T11:31:51.693373Z"
    }
   },
   "outputs": [],
   "source": [
    "import seaborn as sns\n",
    "import matplotlib.pyplot as plt"
   ]
  },
  {
   "cell_type": "code",
   "execution_count": 68,
   "id": "e2bdca92",
   "metadata": {
    "ExecuteTime": {
     "end_time": "2023-04-30T11:31:53.058662Z",
     "start_time": "2023-04-30T11:31:52.925532Z"
    }
   },
   "outputs": [
    {
     "data": {
      "text/plain": [
       "<AxesSubplot:xlabel='Churn', ylabel='count'>"
      ]
     },
     "execution_count": 68,
     "metadata": {},
     "output_type": "execute_result"
    },
    {
     "data": {
      "image/png": "[encoded data removed]",
      "text/plain": [
       "<Figure size 432x288 with 1 Axes>"
      ]
     },
     "metadata": {
      "needs_background": "light"
     },
     "output_type": "display_data"
    }
   ],
   "source": [
    "sns.countplot(x=given_df['Churn'])"
   ]
  },
  {
   "cell_type": "markdown",
   "id": "553d8db4",
   "metadata": {},
   "source": [
    "From this data we can easily say that customers churn ratio is around 1:3 ie, from every 3 potential customers we are losing a customer. This can be increased if ignored. "
   ]
  },
  {
   "cell_type": "code",
   "execution_count": 69,
   "id": "3cc21141",
   "metadata": {
    "ExecuteTime": {
     "end_time": "2023-04-30T11:31:54.769802Z",
     "start_time": "2023-04-30T11:31:54.613078Z"
    }
   },
   "outputs": [
    {
     "data": {
      "text/plain": [
       "<AxesSubplot:xlabel='TotalCharges'>"
      ]
     },
     "execution_count": 69,
     "metadata": {},
     "output_type": "execute_result"
    },
    {
     "data": {
      "image/png": "[encoded data removed]",
      "text/plain": [
       "<Figure size 432x288 with 1 Axes>"
      ]
     },
     "metadata": {
      "needs_background": "light"
     },
     "output_type": "display_data"
    }
   ],
   "source": [
    "sns.violinplot(x=my_df['TotalCharges'],data=my_df)"
   ]
  },
  {
   "cell_type": "markdown",
   "id": "8718f339",
   "metadata": {},
   "source": [
    "From this data we can say that most of the customers take plans whose cost is ranging from 0 to 2000."
   ]
  },
  {
   "cell_type": "code",
   "execution_count": 70,
   "id": "d145282d",
   "metadata": {
    "ExecuteTime": {
     "end_time": "2023-04-30T11:31:56.262933Z",
     "start_time": "2023-04-30T11:31:56.132215Z"
    }
   },
   "outputs": [
    {
     "data": {
      "text/plain": [
       "<AxesSubplot:xlabel='Churn', ylabel='Count'>"
      ]
     },
     "execution_count": 70,
     "metadata": {},
     "output_type": "execute_result"
    },
    {
     "data": {
      "image/png": "[encoded data removed]",
      "text/plain": [
       "<Figure size 432x288 with 1 Axes>"
      ]
     },
     "metadata": {
      "needs_background": "light"
     },
     "output_type": "display_data"
    }
   ],
   "source": [
    "sns.histplot(binwidth=0.5, x=given_df['Churn'], hue=given_df['gender'], data=given_df, stat=\"count\", multiple=\"stack\")"
   ]
  },
  {
   "cell_type": "markdown",
   "id": "b5612318",
   "metadata": {},
   "source": [
    "From this data we can say that compared to male significant amount of females are using our services. May be we can attract new customers or stop the existing customers to churn by providing offers/discounts concerntrating on females.\n"
   ]
  },
  {
   "cell_type": "code",
   "execution_count": 71,
   "id": "bb358c96",
   "metadata": {
    "ExecuteTime": {
     "end_time": "2023-04-30T11:31:57.643043Z",
     "start_time": "2023-04-30T11:31:57.557076Z"
    }
   },
   "outputs": [
    {
     "data": {
      "image/png": "[encoded data removed]",
      "text/plain": [
       "<Figure size 300x300 with 1 Axes>"
      ]
     },
     "metadata": {
      "needs_background": "light"
     },
     "output_type": "display_data"
    }
   ],
   "source": [
    "plt.figure(figsize=(3,3),dpi=100)\n",
    "sns.countplot(data=given_df,y='InternetService')\n",
    "plt.show();"
   ]
  },
  {
   "cell_type": "markdown",
   "id": "4ad854d2",
   "metadata": {},
   "source": [
    "Though there are less users of our internet service when compared to mobile service. we can see most of the customers use fiber optic."
   ]
  },
  {
   "cell_type": "code",
   "execution_count": 72,
   "id": "d0e55cb3",
   "metadata": {
    "ExecuteTime": {
     "end_time": "2023-04-30T11:31:58.913408Z",
     "start_time": "2023-04-30T11:31:58.821029Z"
    }
   },
   "outputs": [
    {
     "data": {
      "image/png": "[encoded data removed]",
      "text/plain": [
       "<Figure size 300x300 with 1 Axes>"
      ]
     },
     "metadata": {
      "needs_background": "light"
     },
     "output_type": "display_data"
    }
   ],
   "source": [
    "plt.figure(figsize=(3,3),dpi=100)\n",
    "sns.countplot(data=given_df,y='Contract')\n",
    "plt.show();"
   ]
  },
  {
   "cell_type": "markdown",
   "id": "275c8902",
   "metadata": {},
   "source": [
    "This data shows that cutomers took month to month subsription more when compared to one and two years.\n"
   ]
  },
  {
   "cell_type": "code",
   "execution_count": 73,
   "id": "b04d2e78",
   "metadata": {
    "ExecuteTime": {
     "end_time": "2023-04-30T11:31:59.963865Z",
     "start_time": "2023-04-30T11:31:59.948871Z"
    }
   },
   "outputs": [],
   "source": [
    "#plt.figure(figsize=(3,3),dpi=100)\n",
    "#sns.countplot(data=given_df,y='PaymentMethod')\n",
    "#plt.show()"
   ]
  },
  {
   "cell_type": "code",
   "execution_count": 74,
   "id": "22a20ce7",
   "metadata": {
    "ExecuteTime": {
     "end_time": "2023-04-30T11:32:01.125107Z",
     "start_time": "2023-04-30T11:32:01.116131Z"
    }
   },
   "outputs": [],
   "source": [
    "#plt.figure(figsize=(3,3),dpi=100)\n",
    "#plt.pie(PMC,labels=PML)\n",
    "#plt.show();"
   ]
  },
  {
   "cell_type": "code",
   "execution_count": 75,
   "id": "e855dda6",
   "metadata": {
    "ExecuteTime": {
     "end_time": "2023-04-30T11:32:02.069103Z",
     "start_time": "2023-04-30T11:32:01.917296Z"
    }
   },
   "outputs": [
    {
     "data": {
      "image/png": "[encoded data removed]",
      "text/plain": [
       "<Figure size 720x504 with 1 Axes>"
      ]
     },
     "metadata": {},
     "output_type": "display_data"
    }
   ],
   "source": [
    "PMC = list(given_df.PaymentMethod.value_counts())\n",
    "PML = list(given_df.PaymentMethod.unique())\n",
    "colors = ( \"orange\", \"cyan\", \"brown\",\n",
    "          \"grey\", \"indigo\", \"beige\")\n",
    "wp = { 'linewidth' : 1, 'edgecolor' : \"green\" }\n",
    "def func(pct, allvalues):\n",
    "    absolute = int(pct / 100.*np.sum(allvalues))\n",
    "    return \"{:.1f}%\\n({:d} g)\".format(pct, absolute)\n",
    "fig, ax = plt.subplots(figsize =(10, 7))\n",
    "wedges, texts, autotexts = ax.pie(PMC,\n",
    "                                  autopct = lambda pct: func(pct, PMC),\n",
    "                                  labels = PML,\n",
    "                                  shadow = True,\n",
    "                                  colors = colors,\n",
    "                                  startangle = 90,\n",
    "                                  wedgeprops = wp,\n",
    "                                  textprops = dict(color =\"magenta\"))\n",
    "ax.legend(wedges, PML,\n",
    "          title =\"Payment Methods\",\n",
    "          loc =\"center left\",\n",
    "          bbox_to_anchor =(1, 0, 0.5, 1))\n",
    "plt.setp(autotexts, size = 8, weight =\"bold\")\n",
    "ax.set_title(\"Distribution of Payment Methods\")\n",
    "plt.show();"
   ]
  },
  {
   "cell_type": "markdown",
   "id": "bf57baa7",
   "metadata": {},
   "source": [
    "From the above Pie-Chart we can say that Most of the customers prefer paying in Electronic check when compared to other methods. "
   ]
  },
  {
   "cell_type": "code",
   "execution_count": 76,
   "id": "5cc0ba13",
   "metadata": {
    "ExecuteTime": {
     "end_time": "2023-04-30T11:32:03.623752Z",
     "start_time": "2023-04-30T11:32:03.500925Z"
    }
   },
   "outputs": [
    {
     "data": {
      "image/png": "[encoded data removed]",
      "text/plain": [
       "<Figure size 432x288 with 1 Axes>"
      ]
     },
     "metadata": {
      "needs_background": "light"
     },
     "output_type": "display_data"
    }
   ],
   "source": [
    "sns.boxplot(data=given_df,x ='MonthlyCharges')                                 # Checking for Outliers\n",
    "plt.show();"
   ]
  },
  {
   "cell_type": "code",
   "execution_count": 77,
   "id": "66c51919",
   "metadata": {
    "ExecuteTime": {
     "end_time": "2023-04-30T11:32:04.169709Z",
     "start_time": "2023-04-30T11:32:04.093879Z"
    }
   },
   "outputs": [
    {
     "data": {
      "image/png": "[encoded data removed]",
      "text/plain": [
       "<Figure size 432x288 with 1 Axes>"
      ]
     },
     "metadata": {
      "needs_background": "light"
     },
     "output_type": "display_data"
    }
   ],
   "source": [
    "sns.boxplot(data=my_df,x ='TotalCharges')                                      # Checking for Outliers\n",
    "plt.show();"
   ]
  },
  {
   "cell_type": "markdown",
   "id": "d0443ed0",
   "metadata": {},
   "source": [
    "# Data pre-processing before training our model.\n"
   ]
  },
  {
   "cell_type": "markdown",
   "id": "247241a7",
   "metadata": {},
   "source": [
    "## Training Our model with KNN Imputed Data"
   ]
  },
  {
   "cell_type": "code",
   "execution_count": 78,
   "id": "918d1e47",
   "metadata": {
    "ExecuteTime": {
     "end_time": "2023-04-30T11:32:44.899515Z",
     "start_time": "2023-04-30T11:32:44.892496Z"
    }
   },
   "outputs": [],
   "source": [
    "from sklearn.model_selection import train_test_split"
   ]
  },
  {
   "cell_type": "code",
   "execution_count": 106,
   "id": "94de7192",
   "metadata": {
    "ExecuteTime": {
     "end_time": "2023-04-30T11:40:02.349547Z",
     "start_time": "2023-04-30T11:40:02.326608Z"
    }
   },
   "outputs": [],
   "source": [
    "#Spliting my Data in 75:25 ratio.\n",
    "#Using Churn_yes as my output column.\n",
    "X_train,X_test,Y_train,Y_test = train_test_split(my_df.drop('Churn_Yes', axis=1),given_df['Churn'],test_size=0.25,random_state=98)"
   ]
  },
  {
   "cell_type": "code",
   "execution_count": 80,
   "id": "e2589978",
   "metadata": {
    "ExecuteTime": {
     "end_time": "2023-04-30T11:32:47.432676Z",
     "start_time": "2023-04-30T11:32:47.412765Z"
    }
   },
   "outputs": [
    {
     "name": "stdout",
     "output_type": "stream",
     "text": [
      "(5282, 94) (1761, 94) (5282,) (1761,)\n"
     ]
    }
   ],
   "source": [
    "print(X_train.shape, X_test.shape, Y_train.shape, Y_test.shape)                #Checking shapes of my splitted Data Frame "
   ]
  },
  {
   "cell_type": "code",
   "execution_count": 81,
   "id": "36953aa8",
   "metadata": {
    "ExecuteTime": {
     "end_time": "2023-04-30T11:32:48.264201Z",
     "start_time": "2023-04-30T11:32:48.230264Z"
    }
   },
   "outputs": [
    {
     "data": {
      "text/html": [
       "<div>\n",
       "<style scoped>\n",
       "    .dataframe tbody tr th:only-of-type {\n",
       "        vertical-align: middle;\n",
       "    }\n",
       "\n",
       "    .dataframe tbody tr th {\n",
       "        vertical-align: top;\n",
       "    }\n",
       "\n",
       "    .dataframe thead th {\n",
       "        text-align: right;\n",
       "    }\n",
       "</style>\n",
       "<table border=\"1\" class=\"dataframe\">\n",
       "  <thead>\n",
       "    <tr style=\"text-align: right;\">\n",
       "      <th></th>\n",
       "      <th>gender_Male</th>\n",
       "      <th>Partner_Yes</th>\n",
       "      <th>Dependents_Yes</th>\n",
       "      <th>tenure_1</th>\n",
       "      <th>tenure_2</th>\n",
       "      <th>tenure_3</th>\n",
       "      <th>tenure_4</th>\n",
       "      <th>tenure_5</th>\n",
       "      <th>tenure_6</th>\n",
       "      <th>tenure_7</th>\n",
       "      <th>...</th>\n",
       "      <th>StreamingMovies_Yes</th>\n",
       "      <th>Contract_One year</th>\n",
       "      <th>Contract_Two year</th>\n",
       "      <th>PaperlessBilling_Yes</th>\n",
       "      <th>PaymentMethod_Credit card (automatic)</th>\n",
       "      <th>PaymentMethod_Electronic check</th>\n",
       "      <th>PaymentMethod_Mailed check</th>\n",
       "      <th>TotalCharges</th>\n",
       "      <th>SeniorCitizen</th>\n",
       "      <th>MonthlyCharges</th>\n",
       "    </tr>\n",
       "  </thead>\n",
       "  <tbody>\n",
       "    <tr>\n",
       "      <th>6188</th>\n",
       "      <td>1.0</td>\n",
       "      <td>0.0</td>\n",
       "      <td>0.0</td>\n",
       "      <td>0.0</td>\n",
       "      <td>0.0</td>\n",
       "      <td>0.0</td>\n",
       "      <td>0.0</td>\n",
       "      <td>0.0</td>\n",
       "      <td>0.0</td>\n",
       "      <td>0.0</td>\n",
       "      <td>...</td>\n",
       "      <td>0.0</td>\n",
       "      <td>0.0</td>\n",
       "      <td>0.0</td>\n",
       "      <td>0.0</td>\n",
       "      <td>0.0</td>\n",
       "      <td>0.0</td>\n",
       "      <td>1.0</td>\n",
       "      <td>358.50</td>\n",
       "      <td>0.0</td>\n",
       "      <td>20.05</td>\n",
       "    </tr>\n",
       "    <tr>\n",
       "      <th>2164</th>\n",
       "      <td>1.0</td>\n",
       "      <td>1.0</td>\n",
       "      <td>1.0</td>\n",
       "      <td>0.0</td>\n",
       "      <td>0.0</td>\n",
       "      <td>0.0</td>\n",
       "      <td>0.0</td>\n",
       "      <td>0.0</td>\n",
       "      <td>0.0</td>\n",
       "      <td>0.0</td>\n",
       "      <td>...</td>\n",
       "      <td>0.0</td>\n",
       "      <td>0.0</td>\n",
       "      <td>1.0</td>\n",
       "      <td>1.0</td>\n",
       "      <td>1.0</td>\n",
       "      <td>0.0</td>\n",
       "      <td>0.0</td>\n",
       "      <td>6994.80</td>\n",
       "      <td>0.0</td>\n",
       "      <td>101.10</td>\n",
       "    </tr>\n",
       "    <tr>\n",
       "      <th>216</th>\n",
       "      <td>1.0</td>\n",
       "      <td>1.0</td>\n",
       "      <td>1.0</td>\n",
       "      <td>0.0</td>\n",
       "      <td>0.0</td>\n",
       "      <td>0.0</td>\n",
       "      <td>0.0</td>\n",
       "      <td>0.0</td>\n",
       "      <td>0.0</td>\n",
       "      <td>0.0</td>\n",
       "      <td>...</td>\n",
       "      <td>0.0</td>\n",
       "      <td>0.0</td>\n",
       "      <td>1.0</td>\n",
       "      <td>0.0</td>\n",
       "      <td>1.0</td>\n",
       "      <td>0.0</td>\n",
       "      <td>0.0</td>\n",
       "      <td>3139.80</td>\n",
       "      <td>0.0</td>\n",
       "      <td>45.25</td>\n",
       "    </tr>\n",
       "    <tr>\n",
       "      <th>2275</th>\n",
       "      <td>1.0</td>\n",
       "      <td>1.0</td>\n",
       "      <td>1.0</td>\n",
       "      <td>1.0</td>\n",
       "      <td>0.0</td>\n",
       "      <td>0.0</td>\n",
       "      <td>0.0</td>\n",
       "      <td>0.0</td>\n",
       "      <td>0.0</td>\n",
       "      <td>0.0</td>\n",
       "      <td>...</td>\n",
       "      <td>0.0</td>\n",
       "      <td>0.0</td>\n",
       "      <td>0.0</td>\n",
       "      <td>1.0</td>\n",
       "      <td>0.0</td>\n",
       "      <td>1.0</td>\n",
       "      <td>0.0</td>\n",
       "      <td>74.50</td>\n",
       "      <td>0.0</td>\n",
       "      <td>74.50</td>\n",
       "    </tr>\n",
       "    <tr>\n",
       "      <th>6839</th>\n",
       "      <td>0.0</td>\n",
       "      <td>0.0</td>\n",
       "      <td>0.0</td>\n",
       "      <td>0.0</td>\n",
       "      <td>0.0</td>\n",
       "      <td>0.0</td>\n",
       "      <td>0.0</td>\n",
       "      <td>0.0</td>\n",
       "      <td>0.0</td>\n",
       "      <td>0.0</td>\n",
       "      <td>...</td>\n",
       "      <td>1.0</td>\n",
       "      <td>0.0</td>\n",
       "      <td>0.0</td>\n",
       "      <td>1.0</td>\n",
       "      <td>0.0</td>\n",
       "      <td>1.0</td>\n",
       "      <td>0.0</td>\n",
       "      <td>1129.75</td>\n",
       "      <td>0.0</td>\n",
       "      <td>100.75</td>\n",
       "    </tr>\n",
       "  </tbody>\n",
       "</table>\n",
       "<p>5 rows × 94 columns</p>\n",
       "</div>"
      ],
      "text/plain": [
       "      gender_Male  Partner_Yes  Dependents_Yes  tenure_1  tenure_2  tenure_3  \\\n",
       "6188          1.0          0.0             0.0       0.0       0.0       0.0   \n",
       "2164          1.0          1.0             1.0       0.0       0.0       0.0   \n",
       "216           1.0          1.0             1.0       0.0       0.0       0.0   \n",
       "2275          1.0          1.0             1.0       1.0       0.0       0.0   \n",
       "6839          0.0          0.0             0.0       0.0       0.0       0.0   \n",
       "\n",
       "      tenure_4  tenure_5  tenure_6  tenure_7  ...  StreamingMovies_Yes  \\\n",
       "6188       0.0       0.0       0.0       0.0  ...                  0.0   \n",
       "2164       0.0       0.0       0.0       0.0  ...                  0.0   \n",
       "216        0.0       0.0       0.0       0.0  ...                  0.0   \n",
       "2275       0.0       0.0       0.0       0.0  ...                  0.0   \n",
       "6839       0.0       0.0       0.0       0.0  ...                  1.0   \n",
       "\n",
       "      Contract_One year  Contract_Two year  PaperlessBilling_Yes  \\\n",
       "6188                0.0                0.0                   0.0   \n",
       "2164                0.0                1.0                   1.0   \n",
       "216                 0.0                1.0                   0.0   \n",
       "2275                0.0                0.0                   1.0   \n",
       "6839                0.0                0.0                   1.0   \n",
       "\n",
       "      PaymentMethod_Credit card (automatic)  PaymentMethod_Electronic check  \\\n",
       "6188                                    0.0                             0.0   \n",
       "2164                                    1.0                             0.0   \n",
       "216                                     1.0                             0.0   \n",
       "2275                                    0.0                             1.0   \n",
       "6839                                    0.0                             1.0   \n",
       "\n",
       "      PaymentMethod_Mailed check  TotalCharges  SeniorCitizen  MonthlyCharges  \n",
       "6188                         1.0        358.50            0.0           20.05  \n",
       "2164                         0.0       6994.80            0.0          101.10  \n",
       "216                          0.0       3139.80            0.0           45.25  \n",
       "2275                         0.0         74.50            0.0           74.50  \n",
       "6839                         0.0       1129.75            0.0          100.75  \n",
       "\n",
       "[5 rows x 94 columns]"
      ]
     },
     "execution_count": 81,
     "metadata": {},
     "output_type": "execute_result"
    }
   ],
   "source": [
    "X_train.head()                                                                  #Checking my X_train DF"
   ]
  },
  {
   "cell_type": "code",
   "execution_count": 82,
   "id": "550ab717",
   "metadata": {
    "ExecuteTime": {
     "end_time": "2023-04-30T11:32:48.824554Z",
     "start_time": "2023-04-30T11:32:48.804642Z"
    }
   },
   "outputs": [
    {
     "data": {
      "text/html": [
       "<div>\n",
       "<style scoped>\n",
       "    .dataframe tbody tr th:only-of-type {\n",
       "        vertical-align: middle;\n",
       "    }\n",
       "\n",
       "    .dataframe tbody tr th {\n",
       "        vertical-align: top;\n",
       "    }\n",
       "\n",
       "    .dataframe thead th {\n",
       "        text-align: right;\n",
       "    }\n",
       "</style>\n",
       "<table border=\"1\" class=\"dataframe\">\n",
       "  <thead>\n",
       "    <tr style=\"text-align: right;\">\n",
       "      <th></th>\n",
       "      <th>gender_Male</th>\n",
       "      <th>Partner_Yes</th>\n",
       "      <th>Dependents_Yes</th>\n",
       "      <th>tenure_1</th>\n",
       "      <th>tenure_2</th>\n",
       "      <th>tenure_3</th>\n",
       "      <th>tenure_4</th>\n",
       "      <th>tenure_5</th>\n",
       "      <th>tenure_6</th>\n",
       "      <th>tenure_7</th>\n",
       "      <th>...</th>\n",
       "      <th>StreamingMovies_Yes</th>\n",
       "      <th>Contract_One year</th>\n",
       "      <th>Contract_Two year</th>\n",
       "      <th>PaperlessBilling_Yes</th>\n",
       "      <th>PaymentMethod_Credit card (automatic)</th>\n",
       "      <th>PaymentMethod_Electronic check</th>\n",
       "      <th>PaymentMethod_Mailed check</th>\n",
       "      <th>TotalCharges</th>\n",
       "      <th>SeniorCitizen</th>\n",
       "      <th>MonthlyCharges</th>\n",
       "    </tr>\n",
       "  </thead>\n",
       "  <tbody>\n",
       "    <tr>\n",
       "      <th>2507</th>\n",
       "      <td>1.0</td>\n",
       "      <td>1.0</td>\n",
       "      <td>0.0</td>\n",
       "      <td>0.0</td>\n",
       "      <td>0.0</td>\n",
       "      <td>0.0</td>\n",
       "      <td>0.0</td>\n",
       "      <td>0.0</td>\n",
       "      <td>0.0</td>\n",
       "      <td>0.0</td>\n",
       "      <td>...</td>\n",
       "      <td>0.0</td>\n",
       "      <td>0.0</td>\n",
       "      <td>1.0</td>\n",
       "      <td>1.0</td>\n",
       "      <td>0.0</td>\n",
       "      <td>1.0</td>\n",
       "      <td>0.0</td>\n",
       "      <td>1816.20</td>\n",
       "      <td>0.0</td>\n",
       "      <td>24.50</td>\n",
       "    </tr>\n",
       "    <tr>\n",
       "      <th>1872</th>\n",
       "      <td>0.0</td>\n",
       "      <td>1.0</td>\n",
       "      <td>1.0</td>\n",
       "      <td>0.0</td>\n",
       "      <td>0.0</td>\n",
       "      <td>0.0</td>\n",
       "      <td>0.0</td>\n",
       "      <td>0.0</td>\n",
       "      <td>0.0</td>\n",
       "      <td>0.0</td>\n",
       "      <td>...</td>\n",
       "      <td>0.0</td>\n",
       "      <td>0.0</td>\n",
       "      <td>1.0</td>\n",
       "      <td>0.0</td>\n",
       "      <td>0.0</td>\n",
       "      <td>0.0</td>\n",
       "      <td>0.0</td>\n",
       "      <td>804.25</td>\n",
       "      <td>0.0</td>\n",
       "      <td>19.70</td>\n",
       "    </tr>\n",
       "    <tr>\n",
       "      <th>681</th>\n",
       "      <td>0.0</td>\n",
       "      <td>1.0</td>\n",
       "      <td>1.0</td>\n",
       "      <td>0.0</td>\n",
       "      <td>0.0</td>\n",
       "      <td>0.0</td>\n",
       "      <td>0.0</td>\n",
       "      <td>0.0</td>\n",
       "      <td>0.0</td>\n",
       "      <td>0.0</td>\n",
       "      <td>...</td>\n",
       "      <td>1.0</td>\n",
       "      <td>0.0</td>\n",
       "      <td>1.0</td>\n",
       "      <td>1.0</td>\n",
       "      <td>0.0</td>\n",
       "      <td>0.0</td>\n",
       "      <td>0.0</td>\n",
       "      <td>4616.05</td>\n",
       "      <td>0.0</td>\n",
       "      <td>73.80</td>\n",
       "    </tr>\n",
       "    <tr>\n",
       "      <th>5888</th>\n",
       "      <td>0.0</td>\n",
       "      <td>1.0</td>\n",
       "      <td>1.0</td>\n",
       "      <td>0.0</td>\n",
       "      <td>0.0</td>\n",
       "      <td>0.0</td>\n",
       "      <td>0.0</td>\n",
       "      <td>0.0</td>\n",
       "      <td>0.0</td>\n",
       "      <td>0.0</td>\n",
       "      <td>...</td>\n",
       "      <td>1.0</td>\n",
       "      <td>0.0</td>\n",
       "      <td>0.0</td>\n",
       "      <td>1.0</td>\n",
       "      <td>0.0</td>\n",
       "      <td>1.0</td>\n",
       "      <td>0.0</td>\n",
       "      <td>4783.50</td>\n",
       "      <td>0.0</td>\n",
       "      <td>95.60</td>\n",
       "    </tr>\n",
       "    <tr>\n",
       "      <th>3667</th>\n",
       "      <td>0.0</td>\n",
       "      <td>1.0</td>\n",
       "      <td>1.0</td>\n",
       "      <td>0.0</td>\n",
       "      <td>0.0</td>\n",
       "      <td>0.0</td>\n",
       "      <td>0.0</td>\n",
       "      <td>0.0</td>\n",
       "      <td>0.0</td>\n",
       "      <td>0.0</td>\n",
       "      <td>...</td>\n",
       "      <td>1.0</td>\n",
       "      <td>0.0</td>\n",
       "      <td>1.0</td>\n",
       "      <td>1.0</td>\n",
       "      <td>0.0</td>\n",
       "      <td>1.0</td>\n",
       "      <td>0.0</td>\n",
       "      <td>2263.45</td>\n",
       "      <td>1.0</td>\n",
       "      <td>96.55</td>\n",
       "    </tr>\n",
       "  </tbody>\n",
       "</table>\n",
       "<p>5 rows × 94 columns</p>\n",
       "</div>"
      ],
      "text/plain": [
       "      gender_Male  Partner_Yes  Dependents_Yes  tenure_1  tenure_2  tenure_3  \\\n",
       "2507          1.0          1.0             0.0       0.0       0.0       0.0   \n",
       "1872          0.0          1.0             1.0       0.0       0.0       0.0   \n",
       "681           0.0          1.0             1.0       0.0       0.0       0.0   \n",
       "5888          0.0          1.0             1.0       0.0       0.0       0.0   \n",
       "3667          0.0          1.0             1.0       0.0       0.0       0.0   \n",
       "\n",
       "      tenure_4  tenure_5  tenure_6  tenure_7  ...  StreamingMovies_Yes  \\\n",
       "2507       0.0       0.0       0.0       0.0  ...                  0.0   \n",
       "1872       0.0       0.0       0.0       0.0  ...                  0.0   \n",
       "681        0.0       0.0       0.0       0.0  ...                  1.0   \n",
       "5888       0.0       0.0       0.0       0.0  ...                  1.0   \n",
       "3667       0.0       0.0       0.0       0.0  ...                  1.0   \n",
       "\n",
       "      Contract_One year  Contract_Two year  PaperlessBilling_Yes  \\\n",
       "2507                0.0                1.0                   1.0   \n",
       "1872                0.0                1.0                   0.0   \n",
       "681                 0.0                1.0                   1.0   \n",
       "5888                0.0                0.0                   1.0   \n",
       "3667                0.0                1.0                   1.0   \n",
       "\n",
       "      PaymentMethod_Credit card (automatic)  PaymentMethod_Electronic check  \\\n",
       "2507                                    0.0                             1.0   \n",
       "1872                                    0.0                             0.0   \n",
       "681                                     0.0                             0.0   \n",
       "5888                                    0.0                             1.0   \n",
       "3667                                    0.0                             1.0   \n",
       "\n",
       "      PaymentMethod_Mailed check  TotalCharges  SeniorCitizen  MonthlyCharges  \n",
       "2507                         0.0       1816.20            0.0           24.50  \n",
       "1872                         0.0        804.25            0.0           19.70  \n",
       "681                          0.0       4616.05            0.0           73.80  \n",
       "5888                         0.0       4783.50            0.0           95.60  \n",
       "3667                         0.0       2263.45            1.0           96.55  \n",
       "\n",
       "[5 rows x 94 columns]"
      ]
     },
     "execution_count": 82,
     "metadata": {},
     "output_type": "execute_result"
    }
   ],
   "source": [
    "X_test.head()                                                                   #Checking my X_test DF"
   ]
  },
  {
   "cell_type": "code",
   "execution_count": 83,
   "id": "f6a9170d",
   "metadata": {
    "ExecuteTime": {
     "end_time": "2023-04-30T11:32:49.653651Z",
     "start_time": "2023-04-30T11:32:49.637701Z"
    }
   },
   "outputs": [
    {
     "data": {
      "text/plain": [
       "6188     No\n",
       "2164     No\n",
       "216      No\n",
       "2275    Yes\n",
       "6839    Yes\n",
       "Name: Churn, dtype: object"
      ]
     },
     "execution_count": 83,
     "metadata": {},
     "output_type": "execute_result"
    }
   ],
   "source": [
    "Y_train.head()                                                                  #Checking my Y_train DF"
   ]
  },
  {
   "cell_type": "code",
   "execution_count": 84,
   "id": "922cde34",
   "metadata": {
    "ExecuteTime": {
     "end_time": "2023-04-30T11:32:50.232677Z",
     "start_time": "2023-04-30T11:32:50.212730Z"
    }
   },
   "outputs": [
    {
     "data": {
      "text/plain": [
       "2507     No\n",
       "1872     No\n",
       "681      No\n",
       "5888    Yes\n",
       "3667     No\n",
       "Name: Churn, dtype: object"
      ]
     },
     "execution_count": 84,
     "metadata": {},
     "output_type": "execute_result"
    }
   ],
   "source": [
    "Y_test.head()                                                                   #Checking my Y_test DF"
   ]
  },
  {
   "cell_type": "markdown",
   "id": "6e0d9d9c",
   "metadata": {},
   "source": [
    "### Standardizing my Numerical Columns in training Data."
   ]
  },
  {
   "cell_type": "code",
   "execution_count": 85,
   "id": "6547af73",
   "metadata": {
    "ExecuteTime": {
     "end_time": "2023-04-30T11:32:55.775315Z",
     "start_time": "2023-04-30T11:32:55.740370Z"
    }
   },
   "outputs": [
    {
     "data": {
      "text/html": [
       "<div>\n",
       "<style scoped>\n",
       "    .dataframe tbody tr th:only-of-type {\n",
       "        vertical-align: middle;\n",
       "    }\n",
       "\n",
       "    .dataframe tbody tr th {\n",
       "        vertical-align: top;\n",
       "    }\n",
       "\n",
       "    .dataframe thead th {\n",
       "        text-align: right;\n",
       "    }\n",
       "</style>\n",
       "<table border=\"1\" class=\"dataframe\">\n",
       "  <thead>\n",
       "    <tr style=\"text-align: right;\">\n",
       "      <th></th>\n",
       "      <th>gender_Male</th>\n",
       "      <th>Partner_Yes</th>\n",
       "      <th>Dependents_Yes</th>\n",
       "      <th>tenure_1</th>\n",
       "      <th>tenure_2</th>\n",
       "      <th>tenure_3</th>\n",
       "      <th>tenure_4</th>\n",
       "      <th>tenure_5</th>\n",
       "      <th>tenure_6</th>\n",
       "      <th>tenure_7</th>\n",
       "      <th>...</th>\n",
       "      <th>TechSupport_Yes</th>\n",
       "      <th>StreamingTV_Yes</th>\n",
       "      <th>StreamingMovies_Yes</th>\n",
       "      <th>Contract_One year</th>\n",
       "      <th>Contract_Two year</th>\n",
       "      <th>PaperlessBilling_Yes</th>\n",
       "      <th>PaymentMethod_Credit card (automatic)</th>\n",
       "      <th>PaymentMethod_Electronic check</th>\n",
       "      <th>PaymentMethod_Mailed check</th>\n",
       "      <th>SeniorCitizen</th>\n",
       "    </tr>\n",
       "  </thead>\n",
       "  <tbody>\n",
       "    <tr>\n",
       "      <th>6188</th>\n",
       "      <td>1.0</td>\n",
       "      <td>0.0</td>\n",
       "      <td>0.0</td>\n",
       "      <td>0.0</td>\n",
       "      <td>0.0</td>\n",
       "      <td>0.0</td>\n",
       "      <td>0.0</td>\n",
       "      <td>0.0</td>\n",
       "      <td>0.0</td>\n",
       "      <td>0.0</td>\n",
       "      <td>...</td>\n",
       "      <td>0.0</td>\n",
       "      <td>0.0</td>\n",
       "      <td>0.0</td>\n",
       "      <td>0.0</td>\n",
       "      <td>0.0</td>\n",
       "      <td>0.0</td>\n",
       "      <td>0.0</td>\n",
       "      <td>0.0</td>\n",
       "      <td>1.0</td>\n",
       "      <td>0.0</td>\n",
       "    </tr>\n",
       "    <tr>\n",
       "      <th>2164</th>\n",
       "      <td>1.0</td>\n",
       "      <td>1.0</td>\n",
       "      <td>1.0</td>\n",
       "      <td>0.0</td>\n",
       "      <td>0.0</td>\n",
       "      <td>0.0</td>\n",
       "      <td>0.0</td>\n",
       "      <td>0.0</td>\n",
       "      <td>0.0</td>\n",
       "      <td>0.0</td>\n",
       "      <td>...</td>\n",
       "      <td>1.0</td>\n",
       "      <td>1.0</td>\n",
       "      <td>0.0</td>\n",
       "      <td>0.0</td>\n",
       "      <td>1.0</td>\n",
       "      <td>1.0</td>\n",
       "      <td>1.0</td>\n",
       "      <td>0.0</td>\n",
       "      <td>0.0</td>\n",
       "      <td>0.0</td>\n",
       "    </tr>\n",
       "    <tr>\n",
       "      <th>216</th>\n",
       "      <td>1.0</td>\n",
       "      <td>1.0</td>\n",
       "      <td>1.0</td>\n",
       "      <td>0.0</td>\n",
       "      <td>0.0</td>\n",
       "      <td>0.0</td>\n",
       "      <td>0.0</td>\n",
       "      <td>0.0</td>\n",
       "      <td>0.0</td>\n",
       "      <td>0.0</td>\n",
       "      <td>...</td>\n",
       "      <td>1.0</td>\n",
       "      <td>0.0</td>\n",
       "      <td>0.0</td>\n",
       "      <td>0.0</td>\n",
       "      <td>1.0</td>\n",
       "      <td>0.0</td>\n",
       "      <td>1.0</td>\n",
       "      <td>0.0</td>\n",
       "      <td>0.0</td>\n",
       "      <td>0.0</td>\n",
       "    </tr>\n",
       "    <tr>\n",
       "      <th>2275</th>\n",
       "      <td>1.0</td>\n",
       "      <td>1.0</td>\n",
       "      <td>1.0</td>\n",
       "      <td>1.0</td>\n",
       "      <td>0.0</td>\n",
       "      <td>0.0</td>\n",
       "      <td>0.0</td>\n",
       "      <td>0.0</td>\n",
       "      <td>0.0</td>\n",
       "      <td>0.0</td>\n",
       "      <td>...</td>\n",
       "      <td>0.0</td>\n",
       "      <td>0.0</td>\n",
       "      <td>0.0</td>\n",
       "      <td>0.0</td>\n",
       "      <td>0.0</td>\n",
       "      <td>1.0</td>\n",
       "      <td>0.0</td>\n",
       "      <td>1.0</td>\n",
       "      <td>0.0</td>\n",
       "      <td>0.0</td>\n",
       "    </tr>\n",
       "    <tr>\n",
       "      <th>6839</th>\n",
       "      <td>0.0</td>\n",
       "      <td>0.0</td>\n",
       "      <td>0.0</td>\n",
       "      <td>0.0</td>\n",
       "      <td>0.0</td>\n",
       "      <td>0.0</td>\n",
       "      <td>0.0</td>\n",
       "      <td>0.0</td>\n",
       "      <td>0.0</td>\n",
       "      <td>0.0</td>\n",
       "      <td>...</td>\n",
       "      <td>0.0</td>\n",
       "      <td>1.0</td>\n",
       "      <td>1.0</td>\n",
       "      <td>0.0</td>\n",
       "      <td>0.0</td>\n",
       "      <td>1.0</td>\n",
       "      <td>0.0</td>\n",
       "      <td>1.0</td>\n",
       "      <td>0.0</td>\n",
       "      <td>0.0</td>\n",
       "    </tr>\n",
       "    <tr>\n",
       "      <th>...</th>\n",
       "      <td>...</td>\n",
       "      <td>...</td>\n",
       "      <td>...</td>\n",
       "      <td>...</td>\n",
       "      <td>...</td>\n",
       "      <td>...</td>\n",
       "      <td>...</td>\n",
       "      <td>...</td>\n",
       "      <td>...</td>\n",
       "      <td>...</td>\n",
       "      <td>...</td>\n",
       "      <td>...</td>\n",
       "      <td>...</td>\n",
       "      <td>...</td>\n",
       "      <td>...</td>\n",
       "      <td>...</td>\n",
       "      <td>...</td>\n",
       "      <td>...</td>\n",
       "      <td>...</td>\n",
       "      <td>...</td>\n",
       "      <td>...</td>\n",
       "    </tr>\n",
       "    <tr>\n",
       "      <th>6105</th>\n",
       "      <td>0.0</td>\n",
       "      <td>0.0</td>\n",
       "      <td>0.0</td>\n",
       "      <td>0.0</td>\n",
       "      <td>0.0</td>\n",
       "      <td>0.0</td>\n",
       "      <td>0.0</td>\n",
       "      <td>0.0</td>\n",
       "      <td>0.0</td>\n",
       "      <td>0.0</td>\n",
       "      <td>...</td>\n",
       "      <td>1.0</td>\n",
       "      <td>1.0</td>\n",
       "      <td>1.0</td>\n",
       "      <td>1.0</td>\n",
       "      <td>0.0</td>\n",
       "      <td>1.0</td>\n",
       "      <td>1.0</td>\n",
       "      <td>0.0</td>\n",
       "      <td>0.0</td>\n",
       "      <td>0.0</td>\n",
       "    </tr>\n",
       "    <tr>\n",
       "      <th>603</th>\n",
       "      <td>1.0</td>\n",
       "      <td>0.0</td>\n",
       "      <td>0.0</td>\n",
       "      <td>0.0</td>\n",
       "      <td>0.0</td>\n",
       "      <td>0.0</td>\n",
       "      <td>0.0</td>\n",
       "      <td>0.0</td>\n",
       "      <td>0.0</td>\n",
       "      <td>0.0</td>\n",
       "      <td>...</td>\n",
       "      <td>1.0</td>\n",
       "      <td>1.0</td>\n",
       "      <td>1.0</td>\n",
       "      <td>0.0</td>\n",
       "      <td>1.0</td>\n",
       "      <td>0.0</td>\n",
       "      <td>0.0</td>\n",
       "      <td>1.0</td>\n",
       "      <td>0.0</td>\n",
       "      <td>0.0</td>\n",
       "    </tr>\n",
       "    <tr>\n",
       "      <th>3519</th>\n",
       "      <td>1.0</td>\n",
       "      <td>0.0</td>\n",
       "      <td>0.0</td>\n",
       "      <td>0.0</td>\n",
       "      <td>0.0</td>\n",
       "      <td>0.0</td>\n",
       "      <td>0.0</td>\n",
       "      <td>0.0</td>\n",
       "      <td>0.0</td>\n",
       "      <td>0.0</td>\n",
       "      <td>...</td>\n",
       "      <td>0.0</td>\n",
       "      <td>1.0</td>\n",
       "      <td>0.0</td>\n",
       "      <td>0.0</td>\n",
       "      <td>0.0</td>\n",
       "      <td>1.0</td>\n",
       "      <td>0.0</td>\n",
       "      <td>1.0</td>\n",
       "      <td>0.0</td>\n",
       "      <td>1.0</td>\n",
       "    </tr>\n",
       "    <tr>\n",
       "      <th>3252</th>\n",
       "      <td>1.0</td>\n",
       "      <td>1.0</td>\n",
       "      <td>1.0</td>\n",
       "      <td>0.0</td>\n",
       "      <td>0.0</td>\n",
       "      <td>0.0</td>\n",
       "      <td>0.0</td>\n",
       "      <td>0.0</td>\n",
       "      <td>0.0</td>\n",
       "      <td>0.0</td>\n",
       "      <td>...</td>\n",
       "      <td>1.0</td>\n",
       "      <td>0.0</td>\n",
       "      <td>0.0</td>\n",
       "      <td>1.0</td>\n",
       "      <td>0.0</td>\n",
       "      <td>1.0</td>\n",
       "      <td>0.0</td>\n",
       "      <td>0.0</td>\n",
       "      <td>1.0</td>\n",
       "      <td>0.0</td>\n",
       "    </tr>\n",
       "    <tr>\n",
       "      <th>554</th>\n",
       "      <td>1.0</td>\n",
       "      <td>0.0</td>\n",
       "      <td>0.0</td>\n",
       "      <td>0.0</td>\n",
       "      <td>0.0</td>\n",
       "      <td>0.0</td>\n",
       "      <td>0.0</td>\n",
       "      <td>0.0</td>\n",
       "      <td>0.0</td>\n",
       "      <td>0.0</td>\n",
       "      <td>...</td>\n",
       "      <td>0.0</td>\n",
       "      <td>0.0</td>\n",
       "      <td>0.0</td>\n",
       "      <td>0.0</td>\n",
       "      <td>0.0</td>\n",
       "      <td>1.0</td>\n",
       "      <td>0.0</td>\n",
       "      <td>0.0</td>\n",
       "      <td>0.0</td>\n",
       "      <td>0.0</td>\n",
       "    </tr>\n",
       "  </tbody>\n",
       "</table>\n",
       "<p>5282 rows × 92 columns</p>\n",
       "</div>"
      ],
      "text/plain": [
       "      gender_Male  Partner_Yes  Dependents_Yes  tenure_1  tenure_2  tenure_3  \\\n",
       "6188          1.0          0.0             0.0       0.0       0.0       0.0   \n",
       "2164          1.0          1.0             1.0       0.0       0.0       0.0   \n",
       "216           1.0          1.0             1.0       0.0       0.0       0.0   \n",
       "2275          1.0          1.0             1.0       1.0       0.0       0.0   \n",
       "6839          0.0          0.0             0.0       0.0       0.0       0.0   \n",
       "...           ...          ...             ...       ...       ...       ...   \n",
       "6105          0.0          0.0             0.0       0.0       0.0       0.0   \n",
       "603           1.0          0.0             0.0       0.0       0.0       0.0   \n",
       "3519          1.0          0.0             0.0       0.0       0.0       0.0   \n",
       "3252          1.0          1.0             1.0       0.0       0.0       0.0   \n",
       "554           1.0          0.0             0.0       0.0       0.0       0.0   \n",
       "\n",
       "      tenure_4  tenure_5  tenure_6  tenure_7  ...  TechSupport_Yes  \\\n",
       "6188       0.0       0.0       0.0       0.0  ...              0.0   \n",
       "2164       0.0       0.0       0.0       0.0  ...              1.0   \n",
       "216        0.0       0.0       0.0       0.0  ...              1.0   \n",
       "2275       0.0       0.0       0.0       0.0  ...              0.0   \n",
       "6839       0.0       0.0       0.0       0.0  ...              0.0   \n",
       "...        ...       ...       ...       ...  ...              ...   \n",
       "6105       0.0       0.0       0.0       0.0  ...              1.0   \n",
       "603        0.0       0.0       0.0       0.0  ...              1.0   \n",
       "3519       0.0       0.0       0.0       0.0  ...              0.0   \n",
       "3252       0.0       0.0       0.0       0.0  ...              1.0   \n",
       "554        0.0       0.0       0.0       0.0  ...              0.0   \n",
       "\n",
       "      StreamingTV_Yes  StreamingMovies_Yes  Contract_One year  \\\n",
       "6188              0.0                  0.0                0.0   \n",
       "2164              1.0                  0.0                0.0   \n",
       "216               0.0                  0.0                0.0   \n",
       "2275              0.0                  0.0                0.0   \n",
       "6839              1.0                  1.0                0.0   \n",
       "...               ...                  ...                ...   \n",
       "6105              1.0                  1.0                1.0   \n",
       "603               1.0                  1.0                0.0   \n",
       "3519              1.0                  0.0                0.0   \n",
       "3252              0.0                  0.0                1.0   \n",
       "554               0.0                  0.0                0.0   \n",
       "\n",
       "      Contract_Two year  PaperlessBilling_Yes  \\\n",
       "6188                0.0                   0.0   \n",
       "2164                1.0                   1.0   \n",
       "216                 1.0                   0.0   \n",
       "2275                0.0                   1.0   \n",
       "6839                0.0                   1.0   \n",
       "...                 ...                   ...   \n",
       "6105                0.0                   1.0   \n",
       "603                 1.0                   0.0   \n",
       "3519                0.0                   1.0   \n",
       "3252                0.0                   1.0   \n",
       "554                 0.0                   1.0   \n",
       "\n",
       "      PaymentMethod_Credit card (automatic)  PaymentMethod_Electronic check  \\\n",
       "6188                                    0.0                             0.0   \n",
       "2164                                    1.0                             0.0   \n",
       "216                                     1.0                             0.0   \n",
       "2275                                    0.0                             1.0   \n",
       "6839                                    0.0                             1.0   \n",
       "...                                     ...                             ...   \n",
       "6105                                    1.0                             0.0   \n",
       "603                                     0.0                             1.0   \n",
       "3519                                    0.0                             1.0   \n",
       "3252                                    0.0                             0.0   \n",
       "554                                     0.0                             0.0   \n",
       "\n",
       "      PaymentMethod_Mailed check  SeniorCitizen  \n",
       "6188                         1.0            0.0  \n",
       "2164                         0.0            0.0  \n",
       "216                          0.0            0.0  \n",
       "2275                         0.0            0.0  \n",
       "6839                         0.0            0.0  \n",
       "...                          ...            ...  \n",
       "6105                         0.0            0.0  \n",
       "603                          0.0            0.0  \n",
       "3519                         0.0            1.0  \n",
       "3252                         1.0            0.0  \n",
       "554                          0.0            0.0  \n",
       "\n",
       "[5282 rows x 92 columns]"
      ]
     },
     "execution_count": 85,
     "metadata": {},
     "output_type": "execute_result"
    }
   ],
   "source": [
    "X_train_obj = pd.DataFrame(X_train.drop(['MonthlyCharges','TotalCharges'], axis=1))\n",
    "X_train_obj"
   ]
  },
  {
   "cell_type": "code",
   "execution_count": 86,
   "id": "28896c3a",
   "metadata": {
    "ExecuteTime": {
     "end_time": "2023-04-30T11:32:56.859132Z",
     "start_time": "2023-04-30T11:32:56.846172Z"
    }
   },
   "outputs": [],
   "source": [
    "from sklearn.preprocessing import StandardScaler "
   ]
  },
  {
   "cell_type": "code",
   "execution_count": 87,
   "id": "fba18cd6",
   "metadata": {
    "ExecuteTime": {
     "end_time": "2023-04-30T11:32:58.553792Z",
     "start_time": "2023-04-30T11:32:58.542825Z"
    }
   },
   "outputs": [],
   "source": [
    "sc = StandardScaler()"
   ]
  },
  {
   "cell_type": "code",
   "execution_count": 88,
   "id": "a2c6af7e",
   "metadata": {
    "ExecuteTime": {
     "end_time": "2023-04-30T11:32:59.211693Z",
     "start_time": "2023-04-30T11:32:59.188750Z"
    }
   },
   "outputs": [
    {
     "data": {
      "text/html": [
       "<div>\n",
       "<style scoped>\n",
       "    .dataframe tbody tr th:only-of-type {\n",
       "        vertical-align: middle;\n",
       "    }\n",
       "\n",
       "    .dataframe tbody tr th {\n",
       "        vertical-align: top;\n",
       "    }\n",
       "\n",
       "    .dataframe thead th {\n",
       "        text-align: right;\n",
       "    }\n",
       "</style>\n",
       "<table border=\"1\" class=\"dataframe\">\n",
       "  <thead>\n",
       "    <tr style=\"text-align: right;\">\n",
       "      <th></th>\n",
       "      <th>MonthlyCharges</th>\n",
       "      <th>TotalCharges</th>\n",
       "    </tr>\n",
       "  </thead>\n",
       "  <tbody>\n",
       "    <tr>\n",
       "      <th>6188</th>\n",
       "      <td>20.05</td>\n",
       "      <td>358.50</td>\n",
       "    </tr>\n",
       "    <tr>\n",
       "      <th>2164</th>\n",
       "      <td>101.10</td>\n",
       "      <td>6994.80</td>\n",
       "    </tr>\n",
       "    <tr>\n",
       "      <th>216</th>\n",
       "      <td>45.25</td>\n",
       "      <td>3139.80</td>\n",
       "    </tr>\n",
       "    <tr>\n",
       "      <th>2275</th>\n",
       "      <td>74.50</td>\n",
       "      <td>74.50</td>\n",
       "    </tr>\n",
       "    <tr>\n",
       "      <th>6839</th>\n",
       "      <td>100.75</td>\n",
       "      <td>1129.75</td>\n",
       "    </tr>\n",
       "    <tr>\n",
       "      <th>...</th>\n",
       "      <td>...</td>\n",
       "      <td>...</td>\n",
       "    </tr>\n",
       "    <tr>\n",
       "      <th>6105</th>\n",
       "      <td>111.25</td>\n",
       "      <td>5916.45</td>\n",
       "    </tr>\n",
       "    <tr>\n",
       "      <th>603</th>\n",
       "      <td>108.65</td>\n",
       "      <td>4903.20</td>\n",
       "    </tr>\n",
       "    <tr>\n",
       "      <th>3519</th>\n",
       "      <td>84.85</td>\n",
       "      <td>3645.60</td>\n",
       "    </tr>\n",
       "    <tr>\n",
       "      <th>3252</th>\n",
       "      <td>62.10</td>\n",
       "      <td>1096.65</td>\n",
       "    </tr>\n",
       "    <tr>\n",
       "      <th>554</th>\n",
       "      <td>80.35</td>\n",
       "      <td>2596.15</td>\n",
       "    </tr>\n",
       "  </tbody>\n",
       "</table>\n",
       "<p>5282 rows × 2 columns</p>\n",
       "</div>"
      ],
      "text/plain": [
       "      MonthlyCharges  TotalCharges\n",
       "6188           20.05        358.50\n",
       "2164          101.10       6994.80\n",
       "216            45.25       3139.80\n",
       "2275           74.50         74.50\n",
       "6839          100.75       1129.75\n",
       "...              ...           ...\n",
       "6105          111.25       5916.45\n",
       "603           108.65       4903.20\n",
       "3519           84.85       3645.60\n",
       "3252           62.10       1096.65\n",
       "554            80.35       2596.15\n",
       "\n",
       "[5282 rows x 2 columns]"
      ]
     },
     "execution_count": 88,
     "metadata": {},
     "output_type": "execute_result"
    }
   ],
   "source": [
    "X_train_num = X_train[['MonthlyCharges','TotalCharges']]                       #Numerical Data Set to Standardization.\n",
    "X_train_num"
   ]
  },
  {
   "cell_type": "code",
   "execution_count": 89,
   "id": "0a31cab6",
   "metadata": {
    "ExecuteTime": {
     "end_time": "2023-04-30T11:32:59.856692Z",
     "start_time": "2023-04-30T11:32:59.845732Z"
    }
   },
   "outputs": [],
   "source": [
    "X_train_num_df = pd.DataFrame(sc.fit_transform(X_train_num), index=X_train_num.index,\\\n",
    "             columns=X_train_num.columns)                                      # Performing Standardization to my Num_DF."
   ]
  },
  {
   "cell_type": "code",
   "execution_count": 90,
   "id": "73ccc175",
   "metadata": {
    "ExecuteTime": {
     "end_time": "2023-04-30T11:33:01.045564Z",
     "start_time": "2023-04-30T11:33:01.028610Z"
    }
   },
   "outputs": [
    {
     "data": {
      "text/html": [
       "<div>\n",
       "<style scoped>\n",
       "    .dataframe tbody tr th:only-of-type {\n",
       "        vertical-align: middle;\n",
       "    }\n",
       "\n",
       "    .dataframe tbody tr th {\n",
       "        vertical-align: top;\n",
       "    }\n",
       "\n",
       "    .dataframe thead th {\n",
       "        text-align: right;\n",
       "    }\n",
       "</style>\n",
       "<table border=\"1\" class=\"dataframe\">\n",
       "  <thead>\n",
       "    <tr style=\"text-align: right;\">\n",
       "      <th></th>\n",
       "      <th>MonthlyCharges</th>\n",
       "      <th>TotalCharges</th>\n",
       "    </tr>\n",
       "  </thead>\n",
       "  <tbody>\n",
       "    <tr>\n",
       "      <th>6188</th>\n",
       "      <td>-1.497616</td>\n",
       "      <td>-0.853751</td>\n",
       "    </tr>\n",
       "    <tr>\n",
       "      <th>2164</th>\n",
       "      <td>1.197416</td>\n",
       "      <td>2.074816</td>\n",
       "    </tr>\n",
       "    <tr>\n",
       "      <th>216</th>\n",
       "      <td>-0.659679</td>\n",
       "      <td>0.373623</td>\n",
       "    </tr>\n",
       "    <tr>\n",
       "      <th>2275</th>\n",
       "      <td>0.312927</td>\n",
       "      <td>-0.979079</td>\n",
       "    </tr>\n",
       "    <tr>\n",
       "      <th>6839</th>\n",
       "      <td>1.185778</td>\n",
       "      <td>-0.513402</td>\n",
       "    </tr>\n",
       "    <tr>\n",
       "      <th>...</th>\n",
       "      <td>...</td>\n",
       "      <td>...</td>\n",
       "    </tr>\n",
       "    <tr>\n",
       "      <th>6105</th>\n",
       "      <td>1.534919</td>\n",
       "      <td>1.598946</td>\n",
       "    </tr>\n",
       "    <tr>\n",
       "      <th>603</th>\n",
       "      <td>1.448465</td>\n",
       "      <td>1.151803</td>\n",
       "    </tr>\n",
       "    <tr>\n",
       "      <th>3519</th>\n",
       "      <td>0.657080</td>\n",
       "      <td>0.596830</td>\n",
       "    </tr>\n",
       "    <tr>\n",
       "      <th>3252</th>\n",
       "      <td>-0.099391</td>\n",
       "      <td>-0.528009</td>\n",
       "    </tr>\n",
       "    <tr>\n",
       "      <th>554</th>\n",
       "      <td>0.507448</td>\n",
       "      <td>0.133713</td>\n",
       "    </tr>\n",
       "  </tbody>\n",
       "</table>\n",
       "<p>5282 rows × 2 columns</p>\n",
       "</div>"
      ],
      "text/plain": [
       "      MonthlyCharges  TotalCharges\n",
       "6188       -1.497616     -0.853751\n",
       "2164        1.197416      2.074816\n",
       "216        -0.659679      0.373623\n",
       "2275        0.312927     -0.979079\n",
       "6839        1.185778     -0.513402\n",
       "...              ...           ...\n",
       "6105        1.534919      1.598946\n",
       "603         1.448465      1.151803\n",
       "3519        0.657080      0.596830\n",
       "3252       -0.099391     -0.528009\n",
       "554         0.507448      0.133713\n",
       "\n",
       "[5282 rows x 2 columns]"
      ]
     },
     "execution_count": 90,
     "metadata": {},
     "output_type": "execute_result"
    }
   ],
   "source": [
    "X_train_num_df"
   ]
  },
  {
   "cell_type": "code",
   "execution_count": 91,
   "id": "fd49d5e6",
   "metadata": {
    "ExecuteTime": {
     "end_time": "2023-04-30T11:33:02.050317Z",
     "start_time": "2023-04-30T11:33:02.038349Z"
    }
   },
   "outputs": [],
   "source": [
    "# Combinig my catogorical and Numerical DataFrame to Train my Model.\n",
    "\n",
    "X_train_processed = X_train_num_df.merge(X_train_obj, left_index=True, right_index=True)"
   ]
  },
  {
   "cell_type": "code",
   "execution_count": 92,
   "id": "863f5fa3",
   "metadata": {
    "ExecuteTime": {
     "end_time": "2023-04-30T11:33:02.687593Z",
     "start_time": "2023-04-30T11:33:02.661664Z"
    }
   },
   "outputs": [
    {
     "data": {
      "text/html": [
       "<div>\n",
       "<style scoped>\n",
       "    .dataframe tbody tr th:only-of-type {\n",
       "        vertical-align: middle;\n",
       "    }\n",
       "\n",
       "    .dataframe tbody tr th {\n",
       "        vertical-align: top;\n",
       "    }\n",
       "\n",
       "    .dataframe thead th {\n",
       "        text-align: right;\n",
       "    }\n",
       "</style>\n",
       "<table border=\"1\" class=\"dataframe\">\n",
       "  <thead>\n",
       "    <tr style=\"text-align: right;\">\n",
       "      <th></th>\n",
       "      <th>MonthlyCharges</th>\n",
       "      <th>TotalCharges</th>\n",
       "      <th>gender_Male</th>\n",
       "      <th>Partner_Yes</th>\n",
       "      <th>Dependents_Yes</th>\n",
       "      <th>tenure_1</th>\n",
       "      <th>tenure_2</th>\n",
       "      <th>tenure_3</th>\n",
       "      <th>tenure_4</th>\n",
       "      <th>tenure_5</th>\n",
       "      <th>...</th>\n",
       "      <th>TechSupport_Yes</th>\n",
       "      <th>StreamingTV_Yes</th>\n",
       "      <th>StreamingMovies_Yes</th>\n",
       "      <th>Contract_One year</th>\n",
       "      <th>Contract_Two year</th>\n",
       "      <th>PaperlessBilling_Yes</th>\n",
       "      <th>PaymentMethod_Credit card (automatic)</th>\n",
       "      <th>PaymentMethod_Electronic check</th>\n",
       "      <th>PaymentMethod_Mailed check</th>\n",
       "      <th>SeniorCitizen</th>\n",
       "    </tr>\n",
       "  </thead>\n",
       "  <tbody>\n",
       "    <tr>\n",
       "      <th>6188</th>\n",
       "      <td>-1.497616</td>\n",
       "      <td>-0.853751</td>\n",
       "      <td>1.0</td>\n",
       "      <td>0.0</td>\n",
       "      <td>0.0</td>\n",
       "      <td>0.0</td>\n",
       "      <td>0.0</td>\n",
       "      <td>0.0</td>\n",
       "      <td>0.0</td>\n",
       "      <td>0.0</td>\n",
       "      <td>...</td>\n",
       "      <td>0.0</td>\n",
       "      <td>0.0</td>\n",
       "      <td>0.0</td>\n",
       "      <td>0.0</td>\n",
       "      <td>0.0</td>\n",
       "      <td>0.0</td>\n",
       "      <td>0.0</td>\n",
       "      <td>0.0</td>\n",
       "      <td>1.0</td>\n",
       "      <td>0.0</td>\n",
       "    </tr>\n",
       "    <tr>\n",
       "      <th>2164</th>\n",
       "      <td>1.197416</td>\n",
       "      <td>2.074816</td>\n",
       "      <td>1.0</td>\n",
       "      <td>1.0</td>\n",
       "      <td>1.0</td>\n",
       "      <td>0.0</td>\n",
       "      <td>0.0</td>\n",
       "      <td>0.0</td>\n",
       "      <td>0.0</td>\n",
       "      <td>0.0</td>\n",
       "      <td>...</td>\n",
       "      <td>1.0</td>\n",
       "      <td>1.0</td>\n",
       "      <td>0.0</td>\n",
       "      <td>0.0</td>\n",
       "      <td>1.0</td>\n",
       "      <td>1.0</td>\n",
       "      <td>1.0</td>\n",
       "      <td>0.0</td>\n",
       "      <td>0.0</td>\n",
       "      <td>0.0</td>\n",
       "    </tr>\n",
       "    <tr>\n",
       "      <th>216</th>\n",
       "      <td>-0.659679</td>\n",
       "      <td>0.373623</td>\n",
       "      <td>1.0</td>\n",
       "      <td>1.0</td>\n",
       "      <td>1.0</td>\n",
       "      <td>0.0</td>\n",
       "      <td>0.0</td>\n",
       "      <td>0.0</td>\n",
       "      <td>0.0</td>\n",
       "      <td>0.0</td>\n",
       "      <td>...</td>\n",
       "      <td>1.0</td>\n",
       "      <td>0.0</td>\n",
       "      <td>0.0</td>\n",
       "      <td>0.0</td>\n",
       "      <td>1.0</td>\n",
       "      <td>0.0</td>\n",
       "      <td>1.0</td>\n",
       "      <td>0.0</td>\n",
       "      <td>0.0</td>\n",
       "      <td>0.0</td>\n",
       "    </tr>\n",
       "    <tr>\n",
       "      <th>2275</th>\n",
       "      <td>0.312927</td>\n",
       "      <td>-0.979079</td>\n",
       "      <td>1.0</td>\n",
       "      <td>1.0</td>\n",
       "      <td>1.0</td>\n",
       "      <td>1.0</td>\n",
       "      <td>0.0</td>\n",
       "      <td>0.0</td>\n",
       "      <td>0.0</td>\n",
       "      <td>0.0</td>\n",
       "      <td>...</td>\n",
       "      <td>0.0</td>\n",
       "      <td>0.0</td>\n",
       "      <td>0.0</td>\n",
       "      <td>0.0</td>\n",
       "      <td>0.0</td>\n",
       "      <td>1.0</td>\n",
       "      <td>0.0</td>\n",
       "      <td>1.0</td>\n",
       "      <td>0.0</td>\n",
       "      <td>0.0</td>\n",
       "    </tr>\n",
       "    <tr>\n",
       "      <th>6839</th>\n",
       "      <td>1.185778</td>\n",
       "      <td>-0.513402</td>\n",
       "      <td>0.0</td>\n",
       "      <td>0.0</td>\n",
       "      <td>0.0</td>\n",
       "      <td>0.0</td>\n",
       "      <td>0.0</td>\n",
       "      <td>0.0</td>\n",
       "      <td>0.0</td>\n",
       "      <td>0.0</td>\n",
       "      <td>...</td>\n",
       "      <td>0.0</td>\n",
       "      <td>1.0</td>\n",
       "      <td>1.0</td>\n",
       "      <td>0.0</td>\n",
       "      <td>0.0</td>\n",
       "      <td>1.0</td>\n",
       "      <td>0.0</td>\n",
       "      <td>1.0</td>\n",
       "      <td>0.0</td>\n",
       "      <td>0.0</td>\n",
       "    </tr>\n",
       "    <tr>\n",
       "      <th>...</th>\n",
       "      <td>...</td>\n",
       "      <td>...</td>\n",
       "      <td>...</td>\n",
       "      <td>...</td>\n",
       "      <td>...</td>\n",
       "      <td>...</td>\n",
       "      <td>...</td>\n",
       "      <td>...</td>\n",
       "      <td>...</td>\n",
       "      <td>...</td>\n",
       "      <td>...</td>\n",
       "      <td>...</td>\n",
       "      <td>...</td>\n",
       "      <td>...</td>\n",
       "      <td>...</td>\n",
       "      <td>...</td>\n",
       "      <td>...</td>\n",
       "      <td>...</td>\n",
       "      <td>...</td>\n",
       "      <td>...</td>\n",
       "      <td>...</td>\n",
       "    </tr>\n",
       "    <tr>\n",
       "      <th>6105</th>\n",
       "      <td>1.534919</td>\n",
       "      <td>1.598946</td>\n",
       "      <td>0.0</td>\n",
       "      <td>0.0</td>\n",
       "      <td>0.0</td>\n",
       "      <td>0.0</td>\n",
       "      <td>0.0</td>\n",
       "      <td>0.0</td>\n",
       "      <td>0.0</td>\n",
       "      <td>0.0</td>\n",
       "      <td>...</td>\n",
       "      <td>1.0</td>\n",
       "      <td>1.0</td>\n",
       "      <td>1.0</td>\n",
       "      <td>1.0</td>\n",
       "      <td>0.0</td>\n",
       "      <td>1.0</td>\n",
       "      <td>1.0</td>\n",
       "      <td>0.0</td>\n",
       "      <td>0.0</td>\n",
       "      <td>0.0</td>\n",
       "    </tr>\n",
       "    <tr>\n",
       "      <th>603</th>\n",
       "      <td>1.448465</td>\n",
       "      <td>1.151803</td>\n",
       "      <td>1.0</td>\n",
       "      <td>0.0</td>\n",
       "      <td>0.0</td>\n",
       "      <td>0.0</td>\n",
       "      <td>0.0</td>\n",
       "      <td>0.0</td>\n",
       "      <td>0.0</td>\n",
       "      <td>0.0</td>\n",
       "      <td>...</td>\n",
       "      <td>1.0</td>\n",
       "      <td>1.0</td>\n",
       "      <td>1.0</td>\n",
       "      <td>0.0</td>\n",
       "      <td>1.0</td>\n",
       "      <td>0.0</td>\n",
       "      <td>0.0</td>\n",
       "      <td>1.0</td>\n",
       "      <td>0.0</td>\n",
       "      <td>0.0</td>\n",
       "    </tr>\n",
       "    <tr>\n",
       "      <th>3519</th>\n",
       "      <td>0.657080</td>\n",
       "      <td>0.596830</td>\n",
       "      <td>1.0</td>\n",
       "      <td>0.0</td>\n",
       "      <td>0.0</td>\n",
       "      <td>0.0</td>\n",
       "      <td>0.0</td>\n",
       "      <td>0.0</td>\n",
       "      <td>0.0</td>\n",
       "      <td>0.0</td>\n",
       "      <td>...</td>\n",
       "      <td>0.0</td>\n",
       "      <td>1.0</td>\n",
       "      <td>0.0</td>\n",
       "      <td>0.0</td>\n",
       "      <td>0.0</td>\n",
       "      <td>1.0</td>\n",
       "      <td>0.0</td>\n",
       "      <td>1.0</td>\n",
       "      <td>0.0</td>\n",
       "      <td>1.0</td>\n",
       "    </tr>\n",
       "    <tr>\n",
       "      <th>3252</th>\n",
       "      <td>-0.099391</td>\n",
       "      <td>-0.528009</td>\n",
       "      <td>1.0</td>\n",
       "      <td>1.0</td>\n",
       "      <td>1.0</td>\n",
       "      <td>0.0</td>\n",
       "      <td>0.0</td>\n",
       "      <td>0.0</td>\n",
       "      <td>0.0</td>\n",
       "      <td>0.0</td>\n",
       "      <td>...</td>\n",
       "      <td>1.0</td>\n",
       "      <td>0.0</td>\n",
       "      <td>0.0</td>\n",
       "      <td>1.0</td>\n",
       "      <td>0.0</td>\n",
       "      <td>1.0</td>\n",
       "      <td>0.0</td>\n",
       "      <td>0.0</td>\n",
       "      <td>1.0</td>\n",
       "      <td>0.0</td>\n",
       "    </tr>\n",
       "    <tr>\n",
       "      <th>554</th>\n",
       "      <td>0.507448</td>\n",
       "      <td>0.133713</td>\n",
       "      <td>1.0</td>\n",
       "      <td>0.0</td>\n",
       "      <td>0.0</td>\n",
       "      <td>0.0</td>\n",
       "      <td>0.0</td>\n",
       "      <td>0.0</td>\n",
       "      <td>0.0</td>\n",
       "      <td>0.0</td>\n",
       "      <td>...</td>\n",
       "      <td>0.0</td>\n",
       "      <td>0.0</td>\n",
       "      <td>0.0</td>\n",
       "      <td>0.0</td>\n",
       "      <td>0.0</td>\n",
       "      <td>1.0</td>\n",
       "      <td>0.0</td>\n",
       "      <td>0.0</td>\n",
       "      <td>0.0</td>\n",
       "      <td>0.0</td>\n",
       "    </tr>\n",
       "  </tbody>\n",
       "</table>\n",
       "<p>5282 rows × 94 columns</p>\n",
       "</div>"
      ],
      "text/plain": [
       "      MonthlyCharges  TotalCharges  gender_Male  Partner_Yes  Dependents_Yes  \\\n",
       "6188       -1.497616     -0.853751          1.0          0.0             0.0   \n",
       "2164        1.197416      2.074816          1.0          1.0             1.0   \n",
       "216        -0.659679      0.373623          1.0          1.0             1.0   \n",
       "2275        0.312927     -0.979079          1.0          1.0             1.0   \n",
       "6839        1.185778     -0.513402          0.0          0.0             0.0   \n",
       "...              ...           ...          ...          ...             ...   \n",
       "6105        1.534919      1.598946          0.0          0.0             0.0   \n",
       "603         1.448465      1.151803          1.0          0.0             0.0   \n",
       "3519        0.657080      0.596830          1.0          0.0             0.0   \n",
       "3252       -0.099391     -0.528009          1.0          1.0             1.0   \n",
       "554         0.507448      0.133713          1.0          0.0             0.0   \n",
       "\n",
       "      tenure_1  tenure_2  tenure_3  tenure_4  tenure_5  ...  TechSupport_Yes  \\\n",
       "6188       0.0       0.0       0.0       0.0       0.0  ...              0.0   \n",
       "2164       0.0       0.0       0.0       0.0       0.0  ...              1.0   \n",
       "216        0.0       0.0       0.0       0.0       0.0  ...              1.0   \n",
       "2275       1.0       0.0       0.0       0.0       0.0  ...              0.0   \n",
       "6839       0.0       0.0       0.0       0.0       0.0  ...              0.0   \n",
       "...        ...       ...       ...       ...       ...  ...              ...   \n",
       "6105       0.0       0.0       0.0       0.0       0.0  ...              1.0   \n",
       "603        0.0       0.0       0.0       0.0       0.0  ...              1.0   \n",
       "3519       0.0       0.0       0.0       0.0       0.0  ...              0.0   \n",
       "3252       0.0       0.0       0.0       0.0       0.0  ...              1.0   \n",
       "554        0.0       0.0       0.0       0.0       0.0  ...              0.0   \n",
       "\n",
       "      StreamingTV_Yes  StreamingMovies_Yes  Contract_One year  \\\n",
       "6188              0.0                  0.0                0.0   \n",
       "2164              1.0                  0.0                0.0   \n",
       "216               0.0                  0.0                0.0   \n",
       "2275              0.0                  0.0                0.0   \n",
       "6839              1.0                  1.0                0.0   \n",
       "...               ...                  ...                ...   \n",
       "6105              1.0                  1.0                1.0   \n",
       "603               1.0                  1.0                0.0   \n",
       "3519              1.0                  0.0                0.0   \n",
       "3252              0.0                  0.0                1.0   \n",
       "554               0.0                  0.0                0.0   \n",
       "\n",
       "      Contract_Two year  PaperlessBilling_Yes  \\\n",
       "6188                0.0                   0.0   \n",
       "2164                1.0                   1.0   \n",
       "216                 1.0                   0.0   \n",
       "2275                0.0                   1.0   \n",
       "6839                0.0                   1.0   \n",
       "...                 ...                   ...   \n",
       "6105                0.0                   1.0   \n",
       "603                 1.0                   0.0   \n",
       "3519                0.0                   1.0   \n",
       "3252                0.0                   1.0   \n",
       "554                 0.0                   1.0   \n",
       "\n",
       "      PaymentMethod_Credit card (automatic)  PaymentMethod_Electronic check  \\\n",
       "6188                                    0.0                             0.0   \n",
       "2164                                    1.0                             0.0   \n",
       "216                                     1.0                             0.0   \n",
       "2275                                    0.0                             1.0   \n",
       "6839                                    0.0                             1.0   \n",
       "...                                     ...                             ...   \n",
       "6105                                    1.0                             0.0   \n",
       "603                                     0.0                             1.0   \n",
       "3519                                    0.0                             1.0   \n",
       "3252                                    0.0                             0.0   \n",
       "554                                     0.0                             0.0   \n",
       "\n",
       "      PaymentMethod_Mailed check  SeniorCitizen  \n",
       "6188                         1.0            0.0  \n",
       "2164                         0.0            0.0  \n",
       "216                          0.0            0.0  \n",
       "2275                         0.0            0.0  \n",
       "6839                         0.0            0.0  \n",
       "...                          ...            ...  \n",
       "6105                         0.0            0.0  \n",
       "603                          0.0            0.0  \n",
       "3519                         0.0            1.0  \n",
       "3252                         1.0            0.0  \n",
       "554                          0.0            0.0  \n",
       "\n",
       "[5282 rows x 94 columns]"
      ]
     },
     "execution_count": 92,
     "metadata": {},
     "output_type": "execute_result"
    }
   ],
   "source": [
    "X_train_processed"
   ]
  },
  {
   "cell_type": "code",
   "execution_count": 93,
   "id": "4b3647c5",
   "metadata": {
    "ExecuteTime": {
     "end_time": "2023-04-30T11:33:03.356325Z",
     "start_time": "2023-04-30T11:33:03.349339Z"
    }
   },
   "outputs": [
    {
     "data": {
      "text/plain": [
       "(5282, 94)"
      ]
     },
     "execution_count": 93,
     "metadata": {},
     "output_type": "execute_result"
    }
   ],
   "source": [
    "X_train_processed.shape                                                        # Checking the shape of our traning DF."
   ]
  },
  {
   "cell_type": "markdown",
   "id": "eeca031a",
   "metadata": {},
   "source": [
    "###  Standardization my numerical columns in Test Data\n"
   ]
  },
  {
   "cell_type": "code",
   "execution_count": 94,
   "id": "0d903d69",
   "metadata": {
    "ExecuteTime": {
     "end_time": "2023-04-30T11:33:15.589878Z",
     "start_time": "2023-04-30T11:33:15.549016Z"
    }
   },
   "outputs": [
    {
     "data": {
      "text/html": [
       "<div>\n",
       "<style scoped>\n",
       "    .dataframe tbody tr th:only-of-type {\n",
       "        vertical-align: middle;\n",
       "    }\n",
       "\n",
       "    .dataframe tbody tr th {\n",
       "        vertical-align: top;\n",
       "    }\n",
       "\n",
       "    .dataframe thead th {\n",
       "        text-align: right;\n",
       "    }\n",
       "</style>\n",
       "<table border=\"1\" class=\"dataframe\">\n",
       "  <thead>\n",
       "    <tr style=\"text-align: right;\">\n",
       "      <th></th>\n",
       "      <th>gender_Male</th>\n",
       "      <th>Partner_Yes</th>\n",
       "      <th>Dependents_Yes</th>\n",
       "      <th>tenure_1</th>\n",
       "      <th>tenure_2</th>\n",
       "      <th>tenure_3</th>\n",
       "      <th>tenure_4</th>\n",
       "      <th>tenure_5</th>\n",
       "      <th>tenure_6</th>\n",
       "      <th>tenure_7</th>\n",
       "      <th>...</th>\n",
       "      <th>TechSupport_Yes</th>\n",
       "      <th>StreamingTV_Yes</th>\n",
       "      <th>StreamingMovies_Yes</th>\n",
       "      <th>Contract_One year</th>\n",
       "      <th>Contract_Two year</th>\n",
       "      <th>PaperlessBilling_Yes</th>\n",
       "      <th>PaymentMethod_Credit card (automatic)</th>\n",
       "      <th>PaymentMethod_Electronic check</th>\n",
       "      <th>PaymentMethod_Mailed check</th>\n",
       "      <th>SeniorCitizen</th>\n",
       "    </tr>\n",
       "  </thead>\n",
       "  <tbody>\n",
       "    <tr>\n",
       "      <th>2507</th>\n",
       "      <td>1.0</td>\n",
       "      <td>1.0</td>\n",
       "      <td>0.0</td>\n",
       "      <td>0.0</td>\n",
       "      <td>0.0</td>\n",
       "      <td>0.0</td>\n",
       "      <td>0.0</td>\n",
       "      <td>0.0</td>\n",
       "      <td>0.0</td>\n",
       "      <td>0.0</td>\n",
       "      <td>...</td>\n",
       "      <td>0.0</td>\n",
       "      <td>0.0</td>\n",
       "      <td>0.0</td>\n",
       "      <td>0.0</td>\n",
       "      <td>1.0</td>\n",
       "      <td>1.0</td>\n",
       "      <td>0.0</td>\n",
       "      <td>1.0</td>\n",
       "      <td>0.0</td>\n",
       "      <td>0.0</td>\n",
       "    </tr>\n",
       "    <tr>\n",
       "      <th>1872</th>\n",
       "      <td>0.0</td>\n",
       "      <td>1.0</td>\n",
       "      <td>1.0</td>\n",
       "      <td>0.0</td>\n",
       "      <td>0.0</td>\n",
       "      <td>0.0</td>\n",
       "      <td>0.0</td>\n",
       "      <td>0.0</td>\n",
       "      <td>0.0</td>\n",
       "      <td>0.0</td>\n",
       "      <td>...</td>\n",
       "      <td>0.0</td>\n",
       "      <td>0.0</td>\n",
       "      <td>0.0</td>\n",
       "      <td>0.0</td>\n",
       "      <td>1.0</td>\n",
       "      <td>0.0</td>\n",
       "      <td>0.0</td>\n",
       "      <td>0.0</td>\n",
       "      <td>0.0</td>\n",
       "      <td>0.0</td>\n",
       "    </tr>\n",
       "    <tr>\n",
       "      <th>681</th>\n",
       "      <td>0.0</td>\n",
       "      <td>1.0</td>\n",
       "      <td>1.0</td>\n",
       "      <td>0.0</td>\n",
       "      <td>0.0</td>\n",
       "      <td>0.0</td>\n",
       "      <td>0.0</td>\n",
       "      <td>0.0</td>\n",
       "      <td>0.0</td>\n",
       "      <td>0.0</td>\n",
       "      <td>...</td>\n",
       "      <td>1.0</td>\n",
       "      <td>1.0</td>\n",
       "      <td>1.0</td>\n",
       "      <td>0.0</td>\n",
       "      <td>1.0</td>\n",
       "      <td>1.0</td>\n",
       "      <td>0.0</td>\n",
       "      <td>0.0</td>\n",
       "      <td>0.0</td>\n",
       "      <td>0.0</td>\n",
       "    </tr>\n",
       "    <tr>\n",
       "      <th>5888</th>\n",
       "      <td>0.0</td>\n",
       "      <td>1.0</td>\n",
       "      <td>1.0</td>\n",
       "      <td>0.0</td>\n",
       "      <td>0.0</td>\n",
       "      <td>0.0</td>\n",
       "      <td>0.0</td>\n",
       "      <td>0.0</td>\n",
       "      <td>0.0</td>\n",
       "      <td>0.0</td>\n",
       "      <td>...</td>\n",
       "      <td>0.0</td>\n",
       "      <td>1.0</td>\n",
       "      <td>1.0</td>\n",
       "      <td>0.0</td>\n",
       "      <td>0.0</td>\n",
       "      <td>1.0</td>\n",
       "      <td>0.0</td>\n",
       "      <td>1.0</td>\n",
       "      <td>0.0</td>\n",
       "      <td>0.0</td>\n",
       "    </tr>\n",
       "    <tr>\n",
       "      <th>3667</th>\n",
       "      <td>0.0</td>\n",
       "      <td>1.0</td>\n",
       "      <td>1.0</td>\n",
       "      <td>0.0</td>\n",
       "      <td>0.0</td>\n",
       "      <td>0.0</td>\n",
       "      <td>0.0</td>\n",
       "      <td>0.0</td>\n",
       "      <td>0.0</td>\n",
       "      <td>0.0</td>\n",
       "      <td>...</td>\n",
       "      <td>0.0</td>\n",
       "      <td>1.0</td>\n",
       "      <td>1.0</td>\n",
       "      <td>0.0</td>\n",
       "      <td>1.0</td>\n",
       "      <td>1.0</td>\n",
       "      <td>0.0</td>\n",
       "      <td>1.0</td>\n",
       "      <td>0.0</td>\n",
       "      <td>1.0</td>\n",
       "    </tr>\n",
       "    <tr>\n",
       "      <th>...</th>\n",
       "      <td>...</td>\n",
       "      <td>...</td>\n",
       "      <td>...</td>\n",
       "      <td>...</td>\n",
       "      <td>...</td>\n",
       "      <td>...</td>\n",
       "      <td>...</td>\n",
       "      <td>...</td>\n",
       "      <td>...</td>\n",
       "      <td>...</td>\n",
       "      <td>...</td>\n",
       "      <td>...</td>\n",
       "      <td>...</td>\n",
       "      <td>...</td>\n",
       "      <td>...</td>\n",
       "      <td>...</td>\n",
       "      <td>...</td>\n",
       "      <td>...</td>\n",
       "      <td>...</td>\n",
       "      <td>...</td>\n",
       "      <td>...</td>\n",
       "    </tr>\n",
       "    <tr>\n",
       "      <th>3706</th>\n",
       "      <td>1.0</td>\n",
       "      <td>0.0</td>\n",
       "      <td>0.0</td>\n",
       "      <td>0.0</td>\n",
       "      <td>0.0</td>\n",
       "      <td>0.0</td>\n",
       "      <td>0.0</td>\n",
       "      <td>0.0</td>\n",
       "      <td>0.0</td>\n",
       "      <td>0.0</td>\n",
       "      <td>...</td>\n",
       "      <td>1.0</td>\n",
       "      <td>0.0</td>\n",
       "      <td>0.0</td>\n",
       "      <td>0.0</td>\n",
       "      <td>0.0</td>\n",
       "      <td>1.0</td>\n",
       "      <td>0.0</td>\n",
       "      <td>0.0</td>\n",
       "      <td>1.0</td>\n",
       "      <td>0.0</td>\n",
       "    </tr>\n",
       "    <tr>\n",
       "      <th>657</th>\n",
       "      <td>1.0</td>\n",
       "      <td>1.0</td>\n",
       "      <td>0.0</td>\n",
       "      <td>0.0</td>\n",
       "      <td>0.0</td>\n",
       "      <td>0.0</td>\n",
       "      <td>0.0</td>\n",
       "      <td>0.0</td>\n",
       "      <td>0.0</td>\n",
       "      <td>0.0</td>\n",
       "      <td>...</td>\n",
       "      <td>0.0</td>\n",
       "      <td>1.0</td>\n",
       "      <td>1.0</td>\n",
       "      <td>1.0</td>\n",
       "      <td>0.0</td>\n",
       "      <td>0.0</td>\n",
       "      <td>0.0</td>\n",
       "      <td>0.0</td>\n",
       "      <td>0.0</td>\n",
       "      <td>0.0</td>\n",
       "    </tr>\n",
       "    <tr>\n",
       "      <th>6847</th>\n",
       "      <td>0.0</td>\n",
       "      <td>1.0</td>\n",
       "      <td>1.0</td>\n",
       "      <td>0.0</td>\n",
       "      <td>0.0</td>\n",
       "      <td>0.0</td>\n",
       "      <td>0.0</td>\n",
       "      <td>0.0</td>\n",
       "      <td>0.0</td>\n",
       "      <td>0.0</td>\n",
       "      <td>...</td>\n",
       "      <td>0.0</td>\n",
       "      <td>1.0</td>\n",
       "      <td>0.0</td>\n",
       "      <td>0.0</td>\n",
       "      <td>0.0</td>\n",
       "      <td>0.0</td>\n",
       "      <td>0.0</td>\n",
       "      <td>0.0</td>\n",
       "      <td>1.0</td>\n",
       "      <td>0.0</td>\n",
       "    </tr>\n",
       "    <tr>\n",
       "      <th>2416</th>\n",
       "      <td>1.0</td>\n",
       "      <td>0.0</td>\n",
       "      <td>0.0</td>\n",
       "      <td>0.0</td>\n",
       "      <td>0.0</td>\n",
       "      <td>0.0</td>\n",
       "      <td>0.0</td>\n",
       "      <td>0.0</td>\n",
       "      <td>0.0</td>\n",
       "      <td>0.0</td>\n",
       "      <td>...</td>\n",
       "      <td>0.0</td>\n",
       "      <td>1.0</td>\n",
       "      <td>1.0</td>\n",
       "      <td>1.0</td>\n",
       "      <td>0.0</td>\n",
       "      <td>1.0</td>\n",
       "      <td>0.0</td>\n",
       "      <td>0.0</td>\n",
       "      <td>0.0</td>\n",
       "      <td>0.0</td>\n",
       "    </tr>\n",
       "    <tr>\n",
       "      <th>6918</th>\n",
       "      <td>0.0</td>\n",
       "      <td>1.0</td>\n",
       "      <td>0.0</td>\n",
       "      <td>0.0</td>\n",
       "      <td>0.0</td>\n",
       "      <td>0.0</td>\n",
       "      <td>0.0</td>\n",
       "      <td>0.0</td>\n",
       "      <td>0.0</td>\n",
       "      <td>0.0</td>\n",
       "      <td>...</td>\n",
       "      <td>1.0</td>\n",
       "      <td>1.0</td>\n",
       "      <td>1.0</td>\n",
       "      <td>1.0</td>\n",
       "      <td>0.0</td>\n",
       "      <td>1.0</td>\n",
       "      <td>0.0</td>\n",
       "      <td>1.0</td>\n",
       "      <td>0.0</td>\n",
       "      <td>0.0</td>\n",
       "    </tr>\n",
       "  </tbody>\n",
       "</table>\n",
       "<p>1761 rows × 92 columns</p>\n",
       "</div>"
      ],
      "text/plain": [
       "      gender_Male  Partner_Yes  Dependents_Yes  tenure_1  tenure_2  tenure_3  \\\n",
       "2507          1.0          1.0             0.0       0.0       0.0       0.0   \n",
       "1872          0.0          1.0             1.0       0.0       0.0       0.0   \n",
       "681           0.0          1.0             1.0       0.0       0.0       0.0   \n",
       "5888          0.0          1.0             1.0       0.0       0.0       0.0   \n",
       "3667          0.0          1.0             1.0       0.0       0.0       0.0   \n",
       "...           ...          ...             ...       ...       ...       ...   \n",
       "3706          1.0          0.0             0.0       0.0       0.0       0.0   \n",
       "657           1.0          1.0             0.0       0.0       0.0       0.0   \n",
       "6847          0.0          1.0             1.0       0.0       0.0       0.0   \n",
       "2416          1.0          0.0             0.0       0.0       0.0       0.0   \n",
       "6918          0.0          1.0             0.0       0.0       0.0       0.0   \n",
       "\n",
       "      tenure_4  tenure_5  tenure_6  tenure_7  ...  TechSupport_Yes  \\\n",
       "2507       0.0       0.0       0.0       0.0  ...              0.0   \n",
       "1872       0.0       0.0       0.0       0.0  ...              0.0   \n",
       "681        0.0       0.0       0.0       0.0  ...              1.0   \n",
       "5888       0.0       0.0       0.0       0.0  ...              0.0   \n",
       "3667       0.0       0.0       0.0       0.0  ...              0.0   \n",
       "...        ...       ...       ...       ...  ...              ...   \n",
       "3706       0.0       0.0       0.0       0.0  ...              1.0   \n",
       "657        0.0       0.0       0.0       0.0  ...              0.0   \n",
       "6847       0.0       0.0       0.0       0.0  ...              0.0   \n",
       "2416       0.0       0.0       0.0       0.0  ...              0.0   \n",
       "6918       0.0       0.0       0.0       0.0  ...              1.0   \n",
       "\n",
       "      StreamingTV_Yes  StreamingMovies_Yes  Contract_One year  \\\n",
       "2507              0.0                  0.0                0.0   \n",
       "1872              0.0                  0.0                0.0   \n",
       "681               1.0                  1.0                0.0   \n",
       "5888              1.0                  1.0                0.0   \n",
       "3667              1.0                  1.0                0.0   \n",
       "...               ...                  ...                ...   \n",
       "3706              0.0                  0.0                0.0   \n",
       "657               1.0                  1.0                1.0   \n",
       "6847              1.0                  0.0                0.0   \n",
       "2416              1.0                  1.0                1.0   \n",
       "6918              1.0                  1.0                1.0   \n",
       "\n",
       "      Contract_Two year  PaperlessBilling_Yes  \\\n",
       "2507                1.0                   1.0   \n",
       "1872                1.0                   0.0   \n",
       "681                 1.0                   1.0   \n",
       "5888                0.0                   1.0   \n",
       "3667                1.0                   1.0   \n",
       "...                 ...                   ...   \n",
       "3706                0.0                   1.0   \n",
       "657                 0.0                   0.0   \n",
       "6847                0.0                   0.0   \n",
       "2416                0.0                   1.0   \n",
       "6918                0.0                   1.0   \n",
       "\n",
       "      PaymentMethod_Credit card (automatic)  PaymentMethod_Electronic check  \\\n",
       "2507                                    0.0                             1.0   \n",
       "1872                                    0.0                             0.0   \n",
       "681                                     0.0                             0.0   \n",
       "5888                                    0.0                             1.0   \n",
       "3667                                    0.0                             1.0   \n",
       "...                                     ...                             ...   \n",
       "3706                                    0.0                             0.0   \n",
       "657                                     0.0                             0.0   \n",
       "6847                                    0.0                             0.0   \n",
       "2416                                    0.0                             0.0   \n",
       "6918                                    0.0                             1.0   \n",
       "\n",
       "      PaymentMethod_Mailed check  SeniorCitizen  \n",
       "2507                         0.0            0.0  \n",
       "1872                         0.0            0.0  \n",
       "681                          0.0            0.0  \n",
       "5888                         0.0            0.0  \n",
       "3667                         0.0            1.0  \n",
       "...                          ...            ...  \n",
       "3706                         1.0            0.0  \n",
       "657                          0.0            0.0  \n",
       "6847                         1.0            0.0  \n",
       "2416                         0.0            0.0  \n",
       "6918                         0.0            0.0  \n",
       "\n",
       "[1761 rows x 92 columns]"
      ]
     },
     "execution_count": 94,
     "metadata": {},
     "output_type": "execute_result"
    }
   ],
   "source": [
    "X_test_obj = pd.DataFrame(X_test.drop(['MonthlyCharges','TotalCharges'], axis=1))\n",
    "X_test_obj"
   ]
  },
  {
   "cell_type": "code",
   "execution_count": 95,
   "id": "2829d766",
   "metadata": {
    "ExecuteTime": {
     "end_time": "2023-04-30T11:33:19.678216Z",
     "start_time": "2023-04-30T11:33:19.669242Z"
    }
   },
   "outputs": [
    {
     "data": {
      "text/plain": [
       "(1761, 92)"
      ]
     },
     "execution_count": 95,
     "metadata": {},
     "output_type": "execute_result"
    }
   ],
   "source": [
    "X_test_obj.shape                                                               # Checking my shape of X_test_obj"
   ]
  },
  {
   "cell_type": "code",
   "execution_count": 96,
   "id": "6e25502d",
   "metadata": {
    "ExecuteTime": {
     "end_time": "2023-04-30T11:33:22.676415Z",
     "start_time": "2023-04-30T11:33:22.662451Z"
    }
   },
   "outputs": [
    {
     "data": {
      "text/html": [
       "<div>\n",
       "<style scoped>\n",
       "    .dataframe tbody tr th:only-of-type {\n",
       "        vertical-align: middle;\n",
       "    }\n",
       "\n",
       "    .dataframe tbody tr th {\n",
       "        vertical-align: top;\n",
       "    }\n",
       "\n",
       "    .dataframe thead th {\n",
       "        text-align: right;\n",
       "    }\n",
       "</style>\n",
       "<table border=\"1\" class=\"dataframe\">\n",
       "  <thead>\n",
       "    <tr style=\"text-align: right;\">\n",
       "      <th></th>\n",
       "      <th>MonthlyCharges</th>\n",
       "      <th>TotalCharges</th>\n",
       "    </tr>\n",
       "  </thead>\n",
       "  <tbody>\n",
       "    <tr>\n",
       "      <th>2507</th>\n",
       "      <td>24.50</td>\n",
       "      <td>1816.20</td>\n",
       "    </tr>\n",
       "    <tr>\n",
       "      <th>1872</th>\n",
       "      <td>19.70</td>\n",
       "      <td>804.25</td>\n",
       "    </tr>\n",
       "    <tr>\n",
       "      <th>681</th>\n",
       "      <td>73.80</td>\n",
       "      <td>4616.05</td>\n",
       "    </tr>\n",
       "    <tr>\n",
       "      <th>5888</th>\n",
       "      <td>95.60</td>\n",
       "      <td>4783.50</td>\n",
       "    </tr>\n",
       "    <tr>\n",
       "      <th>3667</th>\n",
       "      <td>96.55</td>\n",
       "      <td>2263.45</td>\n",
       "    </tr>\n",
       "    <tr>\n",
       "      <th>...</th>\n",
       "      <td>...</td>\n",
       "      <td>...</td>\n",
       "    </tr>\n",
       "    <tr>\n",
       "      <th>3706</th>\n",
       "      <td>84.30</td>\n",
       "      <td>2281.60</td>\n",
       "    </tr>\n",
       "    <tr>\n",
       "      <th>657</th>\n",
       "      <td>78.80</td>\n",
       "      <td>3597.50</td>\n",
       "    </tr>\n",
       "    <tr>\n",
       "      <th>6847</th>\n",
       "      <td>55.95</td>\n",
       "      <td>1082.80</td>\n",
       "    </tr>\n",
       "    <tr>\n",
       "      <th>2416</th>\n",
       "      <td>100.50</td>\n",
       "      <td>2673.45</td>\n",
       "    </tr>\n",
       "    <tr>\n",
       "      <th>6918</th>\n",
       "      <td>103.75</td>\n",
       "      <td>3361.05</td>\n",
       "    </tr>\n",
       "  </tbody>\n",
       "</table>\n",
       "<p>1761 rows × 2 columns</p>\n",
       "</div>"
      ],
      "text/plain": [
       "      MonthlyCharges  TotalCharges\n",
       "2507           24.50       1816.20\n",
       "1872           19.70        804.25\n",
       "681            73.80       4616.05\n",
       "5888           95.60       4783.50\n",
       "3667           96.55       2263.45\n",
       "...              ...           ...\n",
       "3706           84.30       2281.60\n",
       "657            78.80       3597.50\n",
       "6847           55.95       1082.80\n",
       "2416          100.50       2673.45\n",
       "6918          103.75       3361.05\n",
       "\n",
       "[1761 rows x 2 columns]"
      ]
     },
     "execution_count": 96,
     "metadata": {},
     "output_type": "execute_result"
    }
   ],
   "source": [
    "#Splitting my Numerical Data Frame from X_test to perform Standardization.\n",
    "\n",
    "X_test_num = X_test[['MonthlyCharges','TotalCharges']]\n",
    "X_test_num"
   ]
  },
  {
   "cell_type": "code",
   "execution_count": 97,
   "id": "c6331636",
   "metadata": {
    "ExecuteTime": {
     "end_time": "2023-04-30T11:33:23.621390Z",
     "start_time": "2023-04-30T11:33:23.590436Z"
    }
   },
   "outputs": [
    {
     "data": {
      "text/html": [
       "<div>\n",
       "<style scoped>\n",
       "    .dataframe tbody tr th:only-of-type {\n",
       "        vertical-align: middle;\n",
       "    }\n",
       "\n",
       "    .dataframe tbody tr th {\n",
       "        vertical-align: top;\n",
       "    }\n",
       "\n",
       "    .dataframe thead th {\n",
       "        text-align: right;\n",
       "    }\n",
       "</style>\n",
       "<table border=\"1\" class=\"dataframe\">\n",
       "  <thead>\n",
       "    <tr style=\"text-align: right;\">\n",
       "      <th></th>\n",
       "      <th>gender_Male</th>\n",
       "      <th>Partner_Yes</th>\n",
       "      <th>Dependents_Yes</th>\n",
       "      <th>tenure_1</th>\n",
       "      <th>tenure_2</th>\n",
       "      <th>tenure_3</th>\n",
       "      <th>tenure_4</th>\n",
       "      <th>tenure_5</th>\n",
       "      <th>tenure_6</th>\n",
       "      <th>tenure_7</th>\n",
       "      <th>...</th>\n",
       "      <th>TechSupport_Yes</th>\n",
       "      <th>StreamingTV_Yes</th>\n",
       "      <th>StreamingMovies_Yes</th>\n",
       "      <th>Contract_One year</th>\n",
       "      <th>Contract_Two year</th>\n",
       "      <th>PaperlessBilling_Yes</th>\n",
       "      <th>PaymentMethod_Credit card (automatic)</th>\n",
       "      <th>PaymentMethod_Electronic check</th>\n",
       "      <th>PaymentMethod_Mailed check</th>\n",
       "      <th>SeniorCitizen</th>\n",
       "    </tr>\n",
       "  </thead>\n",
       "  <tbody>\n",
       "    <tr>\n",
       "      <th>2507</th>\n",
       "      <td>1.0</td>\n",
       "      <td>1.0</td>\n",
       "      <td>0.0</td>\n",
       "      <td>0.0</td>\n",
       "      <td>0.0</td>\n",
       "      <td>0.0</td>\n",
       "      <td>0.0</td>\n",
       "      <td>0.0</td>\n",
       "      <td>0.0</td>\n",
       "      <td>0.0</td>\n",
       "      <td>...</td>\n",
       "      <td>0.0</td>\n",
       "      <td>0.0</td>\n",
       "      <td>0.0</td>\n",
       "      <td>0.0</td>\n",
       "      <td>1.0</td>\n",
       "      <td>1.0</td>\n",
       "      <td>0.0</td>\n",
       "      <td>1.0</td>\n",
       "      <td>0.0</td>\n",
       "      <td>0.0</td>\n",
       "    </tr>\n",
       "    <tr>\n",
       "      <th>1872</th>\n",
       "      <td>0.0</td>\n",
       "      <td>1.0</td>\n",
       "      <td>1.0</td>\n",
       "      <td>0.0</td>\n",
       "      <td>0.0</td>\n",
       "      <td>0.0</td>\n",
       "      <td>0.0</td>\n",
       "      <td>0.0</td>\n",
       "      <td>0.0</td>\n",
       "      <td>0.0</td>\n",
       "      <td>...</td>\n",
       "      <td>0.0</td>\n",
       "      <td>0.0</td>\n",
       "      <td>0.0</td>\n",
       "      <td>0.0</td>\n",
       "      <td>1.0</td>\n",
       "      <td>0.0</td>\n",
       "      <td>0.0</td>\n",
       "      <td>0.0</td>\n",
       "      <td>0.0</td>\n",
       "      <td>0.0</td>\n",
       "    </tr>\n",
       "    <tr>\n",
       "      <th>681</th>\n",
       "      <td>0.0</td>\n",
       "      <td>1.0</td>\n",
       "      <td>1.0</td>\n",
       "      <td>0.0</td>\n",
       "      <td>0.0</td>\n",
       "      <td>0.0</td>\n",
       "      <td>0.0</td>\n",
       "      <td>0.0</td>\n",
       "      <td>0.0</td>\n",
       "      <td>0.0</td>\n",
       "      <td>...</td>\n",
       "      <td>1.0</td>\n",
       "      <td>1.0</td>\n",
       "      <td>1.0</td>\n",
       "      <td>0.0</td>\n",
       "      <td>1.0</td>\n",
       "      <td>1.0</td>\n",
       "      <td>0.0</td>\n",
       "      <td>0.0</td>\n",
       "      <td>0.0</td>\n",
       "      <td>0.0</td>\n",
       "    </tr>\n",
       "    <tr>\n",
       "      <th>5888</th>\n",
       "      <td>0.0</td>\n",
       "      <td>1.0</td>\n",
       "      <td>1.0</td>\n",
       "      <td>0.0</td>\n",
       "      <td>0.0</td>\n",
       "      <td>0.0</td>\n",
       "      <td>0.0</td>\n",
       "      <td>0.0</td>\n",
       "      <td>0.0</td>\n",
       "      <td>0.0</td>\n",
       "      <td>...</td>\n",
       "      <td>0.0</td>\n",
       "      <td>1.0</td>\n",
       "      <td>1.0</td>\n",
       "      <td>0.0</td>\n",
       "      <td>0.0</td>\n",
       "      <td>1.0</td>\n",
       "      <td>0.0</td>\n",
       "      <td>1.0</td>\n",
       "      <td>0.0</td>\n",
       "      <td>0.0</td>\n",
       "    </tr>\n",
       "    <tr>\n",
       "      <th>3667</th>\n",
       "      <td>0.0</td>\n",
       "      <td>1.0</td>\n",
       "      <td>1.0</td>\n",
       "      <td>0.0</td>\n",
       "      <td>0.0</td>\n",
       "      <td>0.0</td>\n",
       "      <td>0.0</td>\n",
       "      <td>0.0</td>\n",
       "      <td>0.0</td>\n",
       "      <td>0.0</td>\n",
       "      <td>...</td>\n",
       "      <td>0.0</td>\n",
       "      <td>1.0</td>\n",
       "      <td>1.0</td>\n",
       "      <td>0.0</td>\n",
       "      <td>1.0</td>\n",
       "      <td>1.0</td>\n",
       "      <td>0.0</td>\n",
       "      <td>1.0</td>\n",
       "      <td>0.0</td>\n",
       "      <td>1.0</td>\n",
       "    </tr>\n",
       "  </tbody>\n",
       "</table>\n",
       "<p>5 rows × 92 columns</p>\n",
       "</div>"
      ],
      "text/plain": [
       "      gender_Male  Partner_Yes  Dependents_Yes  tenure_1  tenure_2  tenure_3  \\\n",
       "2507          1.0          1.0             0.0       0.0       0.0       0.0   \n",
       "1872          0.0          1.0             1.0       0.0       0.0       0.0   \n",
       "681           0.0          1.0             1.0       0.0       0.0       0.0   \n",
       "5888          0.0          1.0             1.0       0.0       0.0       0.0   \n",
       "3667          0.0          1.0             1.0       0.0       0.0       0.0   \n",
       "\n",
       "      tenure_4  tenure_5  tenure_6  tenure_7  ...  TechSupport_Yes  \\\n",
       "2507       0.0       0.0       0.0       0.0  ...              0.0   \n",
       "1872       0.0       0.0       0.0       0.0  ...              0.0   \n",
       "681        0.0       0.0       0.0       0.0  ...              1.0   \n",
       "5888       0.0       0.0       0.0       0.0  ...              0.0   \n",
       "3667       0.0       0.0       0.0       0.0  ...              0.0   \n",
       "\n",
       "      StreamingTV_Yes  StreamingMovies_Yes  Contract_One year  \\\n",
       "2507              0.0                  0.0                0.0   \n",
       "1872              0.0                  0.0                0.0   \n",
       "681               1.0                  1.0                0.0   \n",
       "5888              1.0                  1.0                0.0   \n",
       "3667              1.0                  1.0                0.0   \n",
       "\n",
       "      Contract_Two year  PaperlessBilling_Yes  \\\n",
       "2507                1.0                   1.0   \n",
       "1872                1.0                   0.0   \n",
       "681                 1.0                   1.0   \n",
       "5888                0.0                   1.0   \n",
       "3667                1.0                   1.0   \n",
       "\n",
       "      PaymentMethod_Credit card (automatic)  PaymentMethod_Electronic check  \\\n",
       "2507                                    0.0                             1.0   \n",
       "1872                                    0.0                             0.0   \n",
       "681                                     0.0                             0.0   \n",
       "5888                                    0.0                             1.0   \n",
       "3667                                    0.0                             1.0   \n",
       "\n",
       "      PaymentMethod_Mailed check  SeniorCitizen  \n",
       "2507                         0.0            0.0  \n",
       "1872                         0.0            0.0  \n",
       "681                          0.0            0.0  \n",
       "5888                         0.0            0.0  \n",
       "3667                         0.0            1.0  \n",
       "\n",
       "[5 rows x 92 columns]"
      ]
     },
     "execution_count": 97,
     "metadata": {},
     "output_type": "execute_result"
    }
   ],
   "source": [
    "X_test_obj.head()                                                              #Checking X_test_obj."
   ]
  },
  {
   "cell_type": "code",
   "execution_count": 98,
   "id": "3d9eaeba",
   "metadata": {
    "ExecuteTime": {
     "end_time": "2023-04-30T11:33:24.701461Z",
     "start_time": "2023-04-30T11:33:24.685504Z"
    }
   },
   "outputs": [
    {
     "data": {
      "text/html": [
       "<div>\n",
       "<style scoped>\n",
       "    .dataframe tbody tr th:only-of-type {\n",
       "        vertical-align: middle;\n",
       "    }\n",
       "\n",
       "    .dataframe tbody tr th {\n",
       "        vertical-align: top;\n",
       "    }\n",
       "\n",
       "    .dataframe thead th {\n",
       "        text-align: right;\n",
       "    }\n",
       "</style>\n",
       "<table border=\"1\" class=\"dataframe\">\n",
       "  <thead>\n",
       "    <tr style=\"text-align: right;\">\n",
       "      <th></th>\n",
       "      <th>MonthlyCharges</th>\n",
       "      <th>TotalCharges</th>\n",
       "    </tr>\n",
       "  </thead>\n",
       "  <tbody>\n",
       "    <tr>\n",
       "      <th>2507</th>\n",
       "      <td>24.50</td>\n",
       "      <td>1816.20</td>\n",
       "    </tr>\n",
       "    <tr>\n",
       "      <th>1872</th>\n",
       "      <td>19.70</td>\n",
       "      <td>804.25</td>\n",
       "    </tr>\n",
       "    <tr>\n",
       "      <th>681</th>\n",
       "      <td>73.80</td>\n",
       "      <td>4616.05</td>\n",
       "    </tr>\n",
       "    <tr>\n",
       "      <th>5888</th>\n",
       "      <td>95.60</td>\n",
       "      <td>4783.50</td>\n",
       "    </tr>\n",
       "    <tr>\n",
       "      <th>3667</th>\n",
       "      <td>96.55</td>\n",
       "      <td>2263.45</td>\n",
       "    </tr>\n",
       "  </tbody>\n",
       "</table>\n",
       "</div>"
      ],
      "text/plain": [
       "      MonthlyCharges  TotalCharges\n",
       "2507           24.50       1816.20\n",
       "1872           19.70        804.25\n",
       "681            73.80       4616.05\n",
       "5888           95.60       4783.50\n",
       "3667           96.55       2263.45"
      ]
     },
     "execution_count": 98,
     "metadata": {},
     "output_type": "execute_result"
    }
   ],
   "source": [
    "X_test_num.head()                                                              #Checking X_test_num."
   ]
  },
  {
   "cell_type": "code",
   "execution_count": 99,
   "id": "2be95131",
   "metadata": {
    "ExecuteTime": {
     "end_time": "2023-04-30T11:33:33.774210Z",
     "start_time": "2023-04-30T11:33:33.765234Z"
    }
   },
   "outputs": [],
   "source": [
    "#X_test_obj_oe = pd.DataFrame(oe.transform(X_test_obj), index=X_test_obj.index,\\\n",
    "            #columns=oe.get_feature_names(X_test_obj.columns))"
   ]
  },
  {
   "cell_type": "code",
   "execution_count": 100,
   "id": "50de7aa9",
   "metadata": {
    "ExecuteTime": {
     "end_time": "2023-04-30T11:33:35.813931Z",
     "start_time": "2023-04-30T11:33:35.798972Z"
    }
   },
   "outputs": [
    {
     "data": {
      "text/html": [
       "<div>\n",
       "<style scoped>\n",
       "    .dataframe tbody tr th:only-of-type {\n",
       "        vertical-align: middle;\n",
       "    }\n",
       "\n",
       "    .dataframe tbody tr th {\n",
       "        vertical-align: top;\n",
       "    }\n",
       "\n",
       "    .dataframe thead th {\n",
       "        text-align: right;\n",
       "    }\n",
       "</style>\n",
       "<table border=\"1\" class=\"dataframe\">\n",
       "  <thead>\n",
       "    <tr style=\"text-align: right;\">\n",
       "      <th></th>\n",
       "      <th>MonthlyCharges</th>\n",
       "      <th>TotalCharges</th>\n",
       "    </tr>\n",
       "  </thead>\n",
       "  <tbody>\n",
       "    <tr>\n",
       "      <th>2507</th>\n",
       "      <td>-1.349647</td>\n",
       "      <td>-0.210475</td>\n",
       "    </tr>\n",
       "    <tr>\n",
       "      <th>1872</th>\n",
       "      <td>-1.509254</td>\n",
       "      <td>-0.657044</td>\n",
       "    </tr>\n",
       "    <tr>\n",
       "      <th>681</th>\n",
       "      <td>0.289651</td>\n",
       "      <td>1.025085</td>\n",
       "    </tr>\n",
       "    <tr>\n",
       "      <th>5888</th>\n",
       "      <td>1.014533</td>\n",
       "      <td>1.098980</td>\n",
       "    </tr>\n",
       "    <tr>\n",
       "      <th>3667</th>\n",
       "      <td>1.046122</td>\n",
       "      <td>-0.013106</td>\n",
       "    </tr>\n",
       "    <tr>\n",
       "      <th>...</th>\n",
       "      <td>...</td>\n",
       "      <td>...</td>\n",
       "    </tr>\n",
       "    <tr>\n",
       "      <th>3706</th>\n",
       "      <td>0.638792</td>\n",
       "      <td>-0.005097</td>\n",
       "    </tr>\n",
       "    <tr>\n",
       "      <th>657</th>\n",
       "      <td>0.455908</td>\n",
       "      <td>0.575604</td>\n",
       "    </tr>\n",
       "    <tr>\n",
       "      <th>6847</th>\n",
       "      <td>-0.303888</td>\n",
       "      <td>-0.534121</td>\n",
       "    </tr>\n",
       "    <tr>\n",
       "      <th>2416</th>\n",
       "      <td>1.177466</td>\n",
       "      <td>0.167825</td>\n",
       "    </tr>\n",
       "    <tr>\n",
       "      <th>6918</th>\n",
       "      <td>1.285533</td>\n",
       "      <td>0.471260</td>\n",
       "    </tr>\n",
       "  </tbody>\n",
       "</table>\n",
       "<p>1761 rows × 2 columns</p>\n",
       "</div>"
      ],
      "text/plain": [
       "      MonthlyCharges  TotalCharges\n",
       "2507       -1.349647     -0.210475\n",
       "1872       -1.509254     -0.657044\n",
       "681         0.289651      1.025085\n",
       "5888        1.014533      1.098980\n",
       "3667        1.046122     -0.013106\n",
       "...              ...           ...\n",
       "3706        0.638792     -0.005097\n",
       "657         0.455908      0.575604\n",
       "6847       -0.303888     -0.534121\n",
       "2416        1.177466      0.167825\n",
       "6918        1.285533      0.471260\n",
       "\n",
       "[1761 rows x 2 columns]"
      ]
     },
     "execution_count": 100,
     "metadata": {},
     "output_type": "execute_result"
    }
   ],
   "source": [
    "#Performing Standarization on my Numerical Columns.\n",
    "\n",
    "X_test_num_sc = pd.DataFrame(sc.transform(X_test_num), index=X_test_num.index,columns= X_test_num.columns)\n",
    "X_test_num_sc"
   ]
  },
  {
   "cell_type": "code",
   "execution_count": 101,
   "id": "38cbaa44",
   "metadata": {
    "ExecuteTime": {
     "end_time": "2023-04-30T11:33:37.427596Z",
     "start_time": "2023-04-30T11:33:37.412636Z"
    }
   },
   "outputs": [],
   "source": [
    "# Combinig my catogorical and Numerical DataFrame to Train my Model.\n",
    "\n",
    "X_test_processed = X_test_num_sc.merge(X_test_obj, left_index=True, right_index=True)"
   ]
  },
  {
   "cell_type": "code",
   "execution_count": 102,
   "id": "270f3d09",
   "metadata": {
    "ExecuteTime": {
     "end_time": "2023-04-30T11:33:39.408677Z",
     "start_time": "2023-04-30T11:33:39.373746Z"
    }
   },
   "outputs": [
    {
     "data": {
      "text/html": [
       "<div>\n",
       "<style scoped>\n",
       "    .dataframe tbody tr th:only-of-type {\n",
       "        vertical-align: middle;\n",
       "    }\n",
       "\n",
       "    .dataframe tbody tr th {\n",
       "        vertical-align: top;\n",
       "    }\n",
       "\n",
       "    .dataframe thead th {\n",
       "        text-align: right;\n",
       "    }\n",
       "</style>\n",
       "<table border=\"1\" class=\"dataframe\">\n",
       "  <thead>\n",
       "    <tr style=\"text-align: right;\">\n",
       "      <th></th>\n",
       "      <th>MonthlyCharges</th>\n",
       "      <th>TotalCharges</th>\n",
       "      <th>gender_Male</th>\n",
       "      <th>Partner_Yes</th>\n",
       "      <th>Dependents_Yes</th>\n",
       "      <th>tenure_1</th>\n",
       "      <th>tenure_2</th>\n",
       "      <th>tenure_3</th>\n",
       "      <th>tenure_4</th>\n",
       "      <th>tenure_5</th>\n",
       "      <th>...</th>\n",
       "      <th>TechSupport_Yes</th>\n",
       "      <th>StreamingTV_Yes</th>\n",
       "      <th>StreamingMovies_Yes</th>\n",
       "      <th>Contract_One year</th>\n",
       "      <th>Contract_Two year</th>\n",
       "      <th>PaperlessBilling_Yes</th>\n",
       "      <th>PaymentMethod_Credit card (automatic)</th>\n",
       "      <th>PaymentMethod_Electronic check</th>\n",
       "      <th>PaymentMethod_Mailed check</th>\n",
       "      <th>SeniorCitizen</th>\n",
       "    </tr>\n",
       "  </thead>\n",
       "  <tbody>\n",
       "    <tr>\n",
       "      <th>2507</th>\n",
       "      <td>-1.349647</td>\n",
       "      <td>-0.210475</td>\n",
       "      <td>1.0</td>\n",
       "      <td>1.0</td>\n",
       "      <td>0.0</td>\n",
       "      <td>0.0</td>\n",
       "      <td>0.0</td>\n",
       "      <td>0.0</td>\n",
       "      <td>0.0</td>\n",
       "      <td>0.0</td>\n",
       "      <td>...</td>\n",
       "      <td>0.0</td>\n",
       "      <td>0.0</td>\n",
       "      <td>0.0</td>\n",
       "      <td>0.0</td>\n",
       "      <td>1.0</td>\n",
       "      <td>1.0</td>\n",
       "      <td>0.0</td>\n",
       "      <td>1.0</td>\n",
       "      <td>0.0</td>\n",
       "      <td>0.0</td>\n",
       "    </tr>\n",
       "    <tr>\n",
       "      <th>1872</th>\n",
       "      <td>-1.509254</td>\n",
       "      <td>-0.657044</td>\n",
       "      <td>0.0</td>\n",
       "      <td>1.0</td>\n",
       "      <td>1.0</td>\n",
       "      <td>0.0</td>\n",
       "      <td>0.0</td>\n",
       "      <td>0.0</td>\n",
       "      <td>0.0</td>\n",
       "      <td>0.0</td>\n",
       "      <td>...</td>\n",
       "      <td>0.0</td>\n",
       "      <td>0.0</td>\n",
       "      <td>0.0</td>\n",
       "      <td>0.0</td>\n",
       "      <td>1.0</td>\n",
       "      <td>0.0</td>\n",
       "      <td>0.0</td>\n",
       "      <td>0.0</td>\n",
       "      <td>0.0</td>\n",
       "      <td>0.0</td>\n",
       "    </tr>\n",
       "    <tr>\n",
       "      <th>681</th>\n",
       "      <td>0.289651</td>\n",
       "      <td>1.025085</td>\n",
       "      <td>0.0</td>\n",
       "      <td>1.0</td>\n",
       "      <td>1.0</td>\n",
       "      <td>0.0</td>\n",
       "      <td>0.0</td>\n",
       "      <td>0.0</td>\n",
       "      <td>0.0</td>\n",
       "      <td>0.0</td>\n",
       "      <td>...</td>\n",
       "      <td>1.0</td>\n",
       "      <td>1.0</td>\n",
       "      <td>1.0</td>\n",
       "      <td>0.0</td>\n",
       "      <td>1.0</td>\n",
       "      <td>1.0</td>\n",
       "      <td>0.0</td>\n",
       "      <td>0.0</td>\n",
       "      <td>0.0</td>\n",
       "      <td>0.0</td>\n",
       "    </tr>\n",
       "    <tr>\n",
       "      <th>5888</th>\n",
       "      <td>1.014533</td>\n",
       "      <td>1.098980</td>\n",
       "      <td>0.0</td>\n",
       "      <td>1.0</td>\n",
       "      <td>1.0</td>\n",
       "      <td>0.0</td>\n",
       "      <td>0.0</td>\n",
       "      <td>0.0</td>\n",
       "      <td>0.0</td>\n",
       "      <td>0.0</td>\n",
       "      <td>...</td>\n",
       "      <td>0.0</td>\n",
       "      <td>1.0</td>\n",
       "      <td>1.0</td>\n",
       "      <td>0.0</td>\n",
       "      <td>0.0</td>\n",
       "      <td>1.0</td>\n",
       "      <td>0.0</td>\n",
       "      <td>1.0</td>\n",
       "      <td>0.0</td>\n",
       "      <td>0.0</td>\n",
       "    </tr>\n",
       "    <tr>\n",
       "      <th>3667</th>\n",
       "      <td>1.046122</td>\n",
       "      <td>-0.013106</td>\n",
       "      <td>0.0</td>\n",
       "      <td>1.0</td>\n",
       "      <td>1.0</td>\n",
       "      <td>0.0</td>\n",
       "      <td>0.0</td>\n",
       "      <td>0.0</td>\n",
       "      <td>0.0</td>\n",
       "      <td>0.0</td>\n",
       "      <td>...</td>\n",
       "      <td>0.0</td>\n",
       "      <td>1.0</td>\n",
       "      <td>1.0</td>\n",
       "      <td>0.0</td>\n",
       "      <td>1.0</td>\n",
       "      <td>1.0</td>\n",
       "      <td>0.0</td>\n",
       "      <td>1.0</td>\n",
       "      <td>0.0</td>\n",
       "      <td>1.0</td>\n",
       "    </tr>\n",
       "    <tr>\n",
       "      <th>...</th>\n",
       "      <td>...</td>\n",
       "      <td>...</td>\n",
       "      <td>...</td>\n",
       "      <td>...</td>\n",
       "      <td>...</td>\n",
       "      <td>...</td>\n",
       "      <td>...</td>\n",
       "      <td>...</td>\n",
       "      <td>...</td>\n",
       "      <td>...</td>\n",
       "      <td>...</td>\n",
       "      <td>...</td>\n",
       "      <td>...</td>\n",
       "      <td>...</td>\n",
       "      <td>...</td>\n",
       "      <td>...</td>\n",
       "      <td>...</td>\n",
       "      <td>...</td>\n",
       "      <td>...</td>\n",
       "      <td>...</td>\n",
       "      <td>...</td>\n",
       "    </tr>\n",
       "    <tr>\n",
       "      <th>3706</th>\n",
       "      <td>0.638792</td>\n",
       "      <td>-0.005097</td>\n",
       "      <td>1.0</td>\n",
       "      <td>0.0</td>\n",
       "      <td>0.0</td>\n",
       "      <td>0.0</td>\n",
       "      <td>0.0</td>\n",
       "      <td>0.0</td>\n",
       "      <td>0.0</td>\n",
       "      <td>0.0</td>\n",
       "      <td>...</td>\n",
       "      <td>1.0</td>\n",
       "      <td>0.0</td>\n",
       "      <td>0.0</td>\n",
       "      <td>0.0</td>\n",
       "      <td>0.0</td>\n",
       "      <td>1.0</td>\n",
       "      <td>0.0</td>\n",
       "      <td>0.0</td>\n",
       "      <td>1.0</td>\n",
       "      <td>0.0</td>\n",
       "    </tr>\n",
       "    <tr>\n",
       "      <th>657</th>\n",
       "      <td>0.455908</td>\n",
       "      <td>0.575604</td>\n",
       "      <td>1.0</td>\n",
       "      <td>1.0</td>\n",
       "      <td>0.0</td>\n",
       "      <td>0.0</td>\n",
       "      <td>0.0</td>\n",
       "      <td>0.0</td>\n",
       "      <td>0.0</td>\n",
       "      <td>0.0</td>\n",
       "      <td>...</td>\n",
       "      <td>0.0</td>\n",
       "      <td>1.0</td>\n",
       "      <td>1.0</td>\n",
       "      <td>1.0</td>\n",
       "      <td>0.0</td>\n",
       "      <td>0.0</td>\n",
       "      <td>0.0</td>\n",
       "      <td>0.0</td>\n",
       "      <td>0.0</td>\n",
       "      <td>0.0</td>\n",
       "    </tr>\n",
       "    <tr>\n",
       "      <th>6847</th>\n",
       "      <td>-0.303888</td>\n",
       "      <td>-0.534121</td>\n",
       "      <td>0.0</td>\n",
       "      <td>1.0</td>\n",
       "      <td>1.0</td>\n",
       "      <td>0.0</td>\n",
       "      <td>0.0</td>\n",
       "      <td>0.0</td>\n",
       "      <td>0.0</td>\n",
       "      <td>0.0</td>\n",
       "      <td>...</td>\n",
       "      <td>0.0</td>\n",
       "      <td>1.0</td>\n",
       "      <td>0.0</td>\n",
       "      <td>0.0</td>\n",
       "      <td>0.0</td>\n",
       "      <td>0.0</td>\n",
       "      <td>0.0</td>\n",
       "      <td>0.0</td>\n",
       "      <td>1.0</td>\n",
       "      <td>0.0</td>\n",
       "    </tr>\n",
       "    <tr>\n",
       "      <th>2416</th>\n",
       "      <td>1.177466</td>\n",
       "      <td>0.167825</td>\n",
       "      <td>1.0</td>\n",
       "      <td>0.0</td>\n",
       "      <td>0.0</td>\n",
       "      <td>0.0</td>\n",
       "      <td>0.0</td>\n",
       "      <td>0.0</td>\n",
       "      <td>0.0</td>\n",
       "      <td>0.0</td>\n",
       "      <td>...</td>\n",
       "      <td>0.0</td>\n",
       "      <td>1.0</td>\n",
       "      <td>1.0</td>\n",
       "      <td>1.0</td>\n",
       "      <td>0.0</td>\n",
       "      <td>1.0</td>\n",
       "      <td>0.0</td>\n",
       "      <td>0.0</td>\n",
       "      <td>0.0</td>\n",
       "      <td>0.0</td>\n",
       "    </tr>\n",
       "    <tr>\n",
       "      <th>6918</th>\n",
       "      <td>1.285533</td>\n",
       "      <td>0.471260</td>\n",
       "      <td>0.0</td>\n",
       "      <td>1.0</td>\n",
       "      <td>0.0</td>\n",
       "      <td>0.0</td>\n",
       "      <td>0.0</td>\n",
       "      <td>0.0</td>\n",
       "      <td>0.0</td>\n",
       "      <td>0.0</td>\n",
       "      <td>...</td>\n",
       "      <td>1.0</td>\n",
       "      <td>1.0</td>\n",
       "      <td>1.0</td>\n",
       "      <td>1.0</td>\n",
       "      <td>0.0</td>\n",
       "      <td>1.0</td>\n",
       "      <td>0.0</td>\n",
       "      <td>1.0</td>\n",
       "      <td>0.0</td>\n",
       "      <td>0.0</td>\n",
       "    </tr>\n",
       "  </tbody>\n",
       "</table>\n",
       "<p>1761 rows × 94 columns</p>\n",
       "</div>"
      ],
      "text/plain": [
       "      MonthlyCharges  TotalCharges  gender_Male  Partner_Yes  Dependents_Yes  \\\n",
       "2507       -1.349647     -0.210475          1.0          1.0             0.0   \n",
       "1872       -1.509254     -0.657044          0.0          1.0             1.0   \n",
       "681         0.289651      1.025085          0.0          1.0             1.0   \n",
       "5888        1.014533      1.098980          0.0          1.0             1.0   \n",
       "3667        1.046122     -0.013106          0.0          1.0             1.0   \n",
       "...              ...           ...          ...          ...             ...   \n",
       "3706        0.638792     -0.005097          1.0          0.0             0.0   \n",
       "657         0.455908      0.575604          1.0          1.0             0.0   \n",
       "6847       -0.303888     -0.534121          0.0          1.0             1.0   \n",
       "2416        1.177466      0.167825          1.0          0.0             0.0   \n",
       "6918        1.285533      0.471260          0.0          1.0             0.0   \n",
       "\n",
       "      tenure_1  tenure_2  tenure_3  tenure_4  tenure_5  ...  TechSupport_Yes  \\\n",
       "2507       0.0       0.0       0.0       0.0       0.0  ...              0.0   \n",
       "1872       0.0       0.0       0.0       0.0       0.0  ...              0.0   \n",
       "681        0.0       0.0       0.0       0.0       0.0  ...              1.0   \n",
       "5888       0.0       0.0       0.0       0.0       0.0  ...              0.0   \n",
       "3667       0.0       0.0       0.0       0.0       0.0  ...              0.0   \n",
       "...        ...       ...       ...       ...       ...  ...              ...   \n",
       "3706       0.0       0.0       0.0       0.0       0.0  ...              1.0   \n",
       "657        0.0       0.0       0.0       0.0       0.0  ...              0.0   \n",
       "6847       0.0       0.0       0.0       0.0       0.0  ...              0.0   \n",
       "2416       0.0       0.0       0.0       0.0       0.0  ...              0.0   \n",
       "6918       0.0       0.0       0.0       0.0       0.0  ...              1.0   \n",
       "\n",
       "      StreamingTV_Yes  StreamingMovies_Yes  Contract_One year  \\\n",
       "2507              0.0                  0.0                0.0   \n",
       "1872              0.0                  0.0                0.0   \n",
       "681               1.0                  1.0                0.0   \n",
       "5888              1.0                  1.0                0.0   \n",
       "3667              1.0                  1.0                0.0   \n",
       "...               ...                  ...                ...   \n",
       "3706              0.0                  0.0                0.0   \n",
       "657               1.0                  1.0                1.0   \n",
       "6847              1.0                  0.0                0.0   \n",
       "2416              1.0                  1.0                1.0   \n",
       "6918              1.0                  1.0                1.0   \n",
       "\n",
       "      Contract_Two year  PaperlessBilling_Yes  \\\n",
       "2507                1.0                   1.0   \n",
       "1872                1.0                   0.0   \n",
       "681                 1.0                   1.0   \n",
       "5888                0.0                   1.0   \n",
       "3667                1.0                   1.0   \n",
       "...                 ...                   ...   \n",
       "3706                0.0                   1.0   \n",
       "657                 0.0                   0.0   \n",
       "6847                0.0                   0.0   \n",
       "2416                0.0                   1.0   \n",
       "6918                0.0                   1.0   \n",
       "\n",
       "      PaymentMethod_Credit card (automatic)  PaymentMethod_Electronic check  \\\n",
       "2507                                    0.0                             1.0   \n",
       "1872                                    0.0                             0.0   \n",
       "681                                     0.0                             0.0   \n",
       "5888                                    0.0                             1.0   \n",
       "3667                                    0.0                             1.0   \n",
       "...                                     ...                             ...   \n",
       "3706                                    0.0                             0.0   \n",
       "657                                     0.0                             0.0   \n",
       "6847                                    0.0                             0.0   \n",
       "2416                                    0.0                             0.0   \n",
       "6918                                    0.0                             1.0   \n",
       "\n",
       "      PaymentMethod_Mailed check  SeniorCitizen  \n",
       "2507                         0.0            0.0  \n",
       "1872                         0.0            0.0  \n",
       "681                          0.0            0.0  \n",
       "5888                         0.0            0.0  \n",
       "3667                         0.0            1.0  \n",
       "...                          ...            ...  \n",
       "3706                         1.0            0.0  \n",
       "657                          0.0            0.0  \n",
       "6847                         1.0            0.0  \n",
       "2416                         0.0            0.0  \n",
       "6918                         0.0            0.0  \n",
       "\n",
       "[1761 rows x 94 columns]"
      ]
     },
     "execution_count": 102,
     "metadata": {},
     "output_type": "execute_result"
    }
   ],
   "source": [
    "X_test_processed"
   ]
  },
  {
   "cell_type": "code",
   "execution_count": 103,
   "id": "93aa7c3d",
   "metadata": {
    "ExecuteTime": {
     "end_time": "2023-04-30T11:33:41.045850Z",
     "start_time": "2023-04-30T11:33:41.036874Z"
    }
   },
   "outputs": [
    {
     "data": {
      "text/plain": [
       "(1761, 94)"
      ]
     },
     "execution_count": 103,
     "metadata": {},
     "output_type": "execute_result"
    }
   ],
   "source": [
    "X_test_processed.shape                                                        # Checking the shape of our testing DF."
   ]
  },
  {
   "cell_type": "markdown",
   "id": "81c8d566",
   "metadata": {},
   "source": [
    "**If your train dataframe columns numbers are matching with test dataframe you have done good so far. Now let's train our model**"
   ]
  },
  {
   "cell_type": "markdown",
   "id": "2ad7947f",
   "metadata": {},
   "source": [
    "## Training our model with MissForest imputed data"
   ]
  },
  {
   "cell_type": "code",
   "execution_count": 149,
   "id": "8c685c1c",
   "metadata": {
    "ExecuteTime": {
     "end_time": "2023-04-30T12:01:58.134243Z",
     "start_time": "2023-04-30T12:01:58.115294Z"
    }
   },
   "outputs": [],
   "source": [
    "#Spliting my Data in 75:25 ratio.\n",
    "#Using Churn_yes as my output column.\n",
    "X_trainf,X_testf,Y_trainf,Y_testf = train_test_split(my_df_mf.drop('Churn_Yes', axis=1),given_df['Churn'],test_size=0.25,random_state=98)"
   ]
  },
  {
   "cell_type": "code",
   "execution_count": 150,
   "id": "0911d719",
   "metadata": {
    "ExecuteTime": {
     "end_time": "2023-04-30T12:02:05.344514Z",
     "start_time": "2023-04-30T12:02:05.339532Z"
    }
   },
   "outputs": [
    {
     "name": "stdout",
     "output_type": "stream",
     "text": [
      "(5282, 94) (1761, 94) (5282,) (1761,)\n"
     ]
    }
   ],
   "source": [
    "print(X_trainf.shape, X_testf.shape, Y_trainf.shape, Y_testf.shape)                #Checking shapes of my splitted Data Frame "
   ]
  },
  {
   "cell_type": "code",
   "execution_count": 151,
   "id": "a140c603",
   "metadata": {
    "ExecuteTime": {
     "end_time": "2023-04-30T12:02:07.028208Z",
     "start_time": "2023-04-30T12:02:06.997290Z"
    }
   },
   "outputs": [
    {
     "data": {
      "text/html": [
       "<div>\n",
       "<style scoped>\n",
       "    .dataframe tbody tr th:only-of-type {\n",
       "        vertical-align: middle;\n",
       "    }\n",
       "\n",
       "    .dataframe tbody tr th {\n",
       "        vertical-align: top;\n",
       "    }\n",
       "\n",
       "    .dataframe thead th {\n",
       "        text-align: right;\n",
       "    }\n",
       "</style>\n",
       "<table border=\"1\" class=\"dataframe\">\n",
       "  <thead>\n",
       "    <tr style=\"text-align: right;\">\n",
       "      <th></th>\n",
       "      <th>gender_Male</th>\n",
       "      <th>Partner_Yes</th>\n",
       "      <th>Dependents_Yes</th>\n",
       "      <th>tenure_1</th>\n",
       "      <th>tenure_2</th>\n",
       "      <th>tenure_3</th>\n",
       "      <th>tenure_4</th>\n",
       "      <th>tenure_5</th>\n",
       "      <th>tenure_6</th>\n",
       "      <th>tenure_7</th>\n",
       "      <th>...</th>\n",
       "      <th>StreamingMovies_Yes</th>\n",
       "      <th>Contract_One year</th>\n",
       "      <th>Contract_Two year</th>\n",
       "      <th>PaperlessBilling_Yes</th>\n",
       "      <th>PaymentMethod_Credit card (automatic)</th>\n",
       "      <th>PaymentMethod_Electronic check</th>\n",
       "      <th>PaymentMethod_Mailed check</th>\n",
       "      <th>TotalCharges</th>\n",
       "      <th>SeniorCitizen</th>\n",
       "      <th>MonthlyCharges</th>\n",
       "    </tr>\n",
       "  </thead>\n",
       "  <tbody>\n",
       "    <tr>\n",
       "      <th>6188</th>\n",
       "      <td>1.0</td>\n",
       "      <td>0.0</td>\n",
       "      <td>0.0</td>\n",
       "      <td>0.0</td>\n",
       "      <td>0.0</td>\n",
       "      <td>0.0</td>\n",
       "      <td>0.0</td>\n",
       "      <td>0.0</td>\n",
       "      <td>0.0</td>\n",
       "      <td>0.0</td>\n",
       "      <td>...</td>\n",
       "      <td>0.0</td>\n",
       "      <td>0.0</td>\n",
       "      <td>0.0</td>\n",
       "      <td>0.0</td>\n",
       "      <td>0.0</td>\n",
       "      <td>0.0</td>\n",
       "      <td>1.0</td>\n",
       "      <td>358.50</td>\n",
       "      <td>0.0</td>\n",
       "      <td>20.05</td>\n",
       "    </tr>\n",
       "    <tr>\n",
       "      <th>2164</th>\n",
       "      <td>1.0</td>\n",
       "      <td>1.0</td>\n",
       "      <td>1.0</td>\n",
       "      <td>0.0</td>\n",
       "      <td>0.0</td>\n",
       "      <td>0.0</td>\n",
       "      <td>0.0</td>\n",
       "      <td>0.0</td>\n",
       "      <td>0.0</td>\n",
       "      <td>0.0</td>\n",
       "      <td>...</td>\n",
       "      <td>0.0</td>\n",
       "      <td>0.0</td>\n",
       "      <td>1.0</td>\n",
       "      <td>1.0</td>\n",
       "      <td>1.0</td>\n",
       "      <td>0.0</td>\n",
       "      <td>0.0</td>\n",
       "      <td>6994.80</td>\n",
       "      <td>0.0</td>\n",
       "      <td>101.10</td>\n",
       "    </tr>\n",
       "    <tr>\n",
       "      <th>216</th>\n",
       "      <td>1.0</td>\n",
       "      <td>1.0</td>\n",
       "      <td>1.0</td>\n",
       "      <td>0.0</td>\n",
       "      <td>0.0</td>\n",
       "      <td>0.0</td>\n",
       "      <td>0.0</td>\n",
       "      <td>0.0</td>\n",
       "      <td>0.0</td>\n",
       "      <td>0.0</td>\n",
       "      <td>...</td>\n",
       "      <td>0.0</td>\n",
       "      <td>0.0</td>\n",
       "      <td>1.0</td>\n",
       "      <td>0.0</td>\n",
       "      <td>1.0</td>\n",
       "      <td>0.0</td>\n",
       "      <td>0.0</td>\n",
       "      <td>3139.80</td>\n",
       "      <td>0.0</td>\n",
       "      <td>45.25</td>\n",
       "    </tr>\n",
       "    <tr>\n",
       "      <th>2275</th>\n",
       "      <td>1.0</td>\n",
       "      <td>1.0</td>\n",
       "      <td>1.0</td>\n",
       "      <td>1.0</td>\n",
       "      <td>0.0</td>\n",
       "      <td>0.0</td>\n",
       "      <td>0.0</td>\n",
       "      <td>0.0</td>\n",
       "      <td>0.0</td>\n",
       "      <td>0.0</td>\n",
       "      <td>...</td>\n",
       "      <td>0.0</td>\n",
       "      <td>0.0</td>\n",
       "      <td>0.0</td>\n",
       "      <td>1.0</td>\n",
       "      <td>0.0</td>\n",
       "      <td>1.0</td>\n",
       "      <td>0.0</td>\n",
       "      <td>74.50</td>\n",
       "      <td>0.0</td>\n",
       "      <td>74.50</td>\n",
       "    </tr>\n",
       "    <tr>\n",
       "      <th>6839</th>\n",
       "      <td>0.0</td>\n",
       "      <td>0.0</td>\n",
       "      <td>0.0</td>\n",
       "      <td>0.0</td>\n",
       "      <td>0.0</td>\n",
       "      <td>0.0</td>\n",
       "      <td>0.0</td>\n",
       "      <td>0.0</td>\n",
       "      <td>0.0</td>\n",
       "      <td>0.0</td>\n",
       "      <td>...</td>\n",
       "      <td>1.0</td>\n",
       "      <td>0.0</td>\n",
       "      <td>0.0</td>\n",
       "      <td>1.0</td>\n",
       "      <td>0.0</td>\n",
       "      <td>1.0</td>\n",
       "      <td>0.0</td>\n",
       "      <td>1129.75</td>\n",
       "      <td>0.0</td>\n",
       "      <td>100.75</td>\n",
       "    </tr>\n",
       "  </tbody>\n",
       "</table>\n",
       "<p>5 rows × 94 columns</p>\n",
       "</div>"
      ],
      "text/plain": [
       "      gender_Male  Partner_Yes  Dependents_Yes  tenure_1  tenure_2  tenure_3  \\\n",
       "6188          1.0          0.0             0.0       0.0       0.0       0.0   \n",
       "2164          1.0          1.0             1.0       0.0       0.0       0.0   \n",
       "216           1.0          1.0             1.0       0.0       0.0       0.0   \n",
       "2275          1.0          1.0             1.0       1.0       0.0       0.0   \n",
       "6839          0.0          0.0             0.0       0.0       0.0       0.0   \n",
       "\n",
       "      tenure_4  tenure_5  tenure_6  tenure_7  ...  StreamingMovies_Yes  \\\n",
       "6188       0.0       0.0       0.0       0.0  ...                  0.0   \n",
       "2164       0.0       0.0       0.0       0.0  ...                  0.0   \n",
       "216        0.0       0.0       0.0       0.0  ...                  0.0   \n",
       "2275       0.0       0.0       0.0       0.0  ...                  0.0   \n",
       "6839       0.0       0.0       0.0       0.0  ...                  1.0   \n",
       "\n",
       "      Contract_One year  Contract_Two year  PaperlessBilling_Yes  \\\n",
       "6188                0.0                0.0                   0.0   \n",
       "2164                0.0                1.0                   1.0   \n",
       "216                 0.0                1.0                   0.0   \n",
       "2275                0.0                0.0                   1.0   \n",
       "6839                0.0                0.0                   1.0   \n",
       "\n",
       "      PaymentMethod_Credit card (automatic)  PaymentMethod_Electronic check  \\\n",
       "6188                                    0.0                             0.0   \n",
       "2164                                    1.0                             0.0   \n",
       "216                                     1.0                             0.0   \n",
       "2275                                    0.0                             1.0   \n",
       "6839                                    0.0                             1.0   \n",
       "\n",
       "      PaymentMethod_Mailed check  TotalCharges  SeniorCitizen  MonthlyCharges  \n",
       "6188                         1.0        358.50            0.0           20.05  \n",
       "2164                         0.0       6994.80            0.0          101.10  \n",
       "216                          0.0       3139.80            0.0           45.25  \n",
       "2275                         0.0         74.50            0.0           74.50  \n",
       "6839                         0.0       1129.75            0.0          100.75  \n",
       "\n",
       "[5 rows x 94 columns]"
      ]
     },
     "execution_count": 151,
     "metadata": {},
     "output_type": "execute_result"
    }
   ],
   "source": [
    "X_trainf.head()                                                                  #Checking my X_train DF"
   ]
  },
  {
   "cell_type": "code",
   "execution_count": 152,
   "id": "b19b9bf7",
   "metadata": {
    "ExecuteTime": {
     "end_time": "2023-04-30T12:02:11.293845Z",
     "start_time": "2023-04-30T12:02:11.268912Z"
    }
   },
   "outputs": [
    {
     "data": {
      "text/html": [
       "<div>\n",
       "<style scoped>\n",
       "    .dataframe tbody tr th:only-of-type {\n",
       "        vertical-align: middle;\n",
       "    }\n",
       "\n",
       "    .dataframe tbody tr th {\n",
       "        vertical-align: top;\n",
       "    }\n",
       "\n",
       "    .dataframe thead th {\n",
       "        text-align: right;\n",
       "    }\n",
       "</style>\n",
       "<table border=\"1\" class=\"dataframe\">\n",
       "  <thead>\n",
       "    <tr style=\"text-align: right;\">\n",
       "      <th></th>\n",
       "      <th>gender_Male</th>\n",
       "      <th>Partner_Yes</th>\n",
       "      <th>Dependents_Yes</th>\n",
       "      <th>tenure_1</th>\n",
       "      <th>tenure_2</th>\n",
       "      <th>tenure_3</th>\n",
       "      <th>tenure_4</th>\n",
       "      <th>tenure_5</th>\n",
       "      <th>tenure_6</th>\n",
       "      <th>tenure_7</th>\n",
       "      <th>...</th>\n",
       "      <th>StreamingMovies_Yes</th>\n",
       "      <th>Contract_One year</th>\n",
       "      <th>Contract_Two year</th>\n",
       "      <th>PaperlessBilling_Yes</th>\n",
       "      <th>PaymentMethod_Credit card (automatic)</th>\n",
       "      <th>PaymentMethod_Electronic check</th>\n",
       "      <th>PaymentMethod_Mailed check</th>\n",
       "      <th>TotalCharges</th>\n",
       "      <th>SeniorCitizen</th>\n",
       "      <th>MonthlyCharges</th>\n",
       "    </tr>\n",
       "  </thead>\n",
       "  <tbody>\n",
       "    <tr>\n",
       "      <th>2507</th>\n",
       "      <td>1.0</td>\n",
       "      <td>1.0</td>\n",
       "      <td>0.0</td>\n",
       "      <td>0.0</td>\n",
       "      <td>0.0</td>\n",
       "      <td>0.0</td>\n",
       "      <td>0.0</td>\n",
       "      <td>0.0</td>\n",
       "      <td>0.0</td>\n",
       "      <td>0.0</td>\n",
       "      <td>...</td>\n",
       "      <td>0.0</td>\n",
       "      <td>0.0</td>\n",
       "      <td>1.0</td>\n",
       "      <td>1.0</td>\n",
       "      <td>0.0</td>\n",
       "      <td>1.0</td>\n",
       "      <td>0.0</td>\n",
       "      <td>1816.20</td>\n",
       "      <td>0.0</td>\n",
       "      <td>24.50</td>\n",
       "    </tr>\n",
       "    <tr>\n",
       "      <th>1872</th>\n",
       "      <td>0.0</td>\n",
       "      <td>1.0</td>\n",
       "      <td>1.0</td>\n",
       "      <td>0.0</td>\n",
       "      <td>0.0</td>\n",
       "      <td>0.0</td>\n",
       "      <td>0.0</td>\n",
       "      <td>0.0</td>\n",
       "      <td>0.0</td>\n",
       "      <td>0.0</td>\n",
       "      <td>...</td>\n",
       "      <td>0.0</td>\n",
       "      <td>0.0</td>\n",
       "      <td>1.0</td>\n",
       "      <td>0.0</td>\n",
       "      <td>0.0</td>\n",
       "      <td>0.0</td>\n",
       "      <td>0.0</td>\n",
       "      <td>804.25</td>\n",
       "      <td>0.0</td>\n",
       "      <td>19.70</td>\n",
       "    </tr>\n",
       "    <tr>\n",
       "      <th>681</th>\n",
       "      <td>0.0</td>\n",
       "      <td>1.0</td>\n",
       "      <td>1.0</td>\n",
       "      <td>0.0</td>\n",
       "      <td>0.0</td>\n",
       "      <td>0.0</td>\n",
       "      <td>0.0</td>\n",
       "      <td>0.0</td>\n",
       "      <td>0.0</td>\n",
       "      <td>0.0</td>\n",
       "      <td>...</td>\n",
       "      <td>1.0</td>\n",
       "      <td>0.0</td>\n",
       "      <td>1.0</td>\n",
       "      <td>1.0</td>\n",
       "      <td>0.0</td>\n",
       "      <td>0.0</td>\n",
       "      <td>0.0</td>\n",
       "      <td>4616.05</td>\n",
       "      <td>0.0</td>\n",
       "      <td>73.80</td>\n",
       "    </tr>\n",
       "    <tr>\n",
       "      <th>5888</th>\n",
       "      <td>0.0</td>\n",
       "      <td>1.0</td>\n",
       "      <td>1.0</td>\n",
       "      <td>0.0</td>\n",
       "      <td>0.0</td>\n",
       "      <td>0.0</td>\n",
       "      <td>0.0</td>\n",
       "      <td>0.0</td>\n",
       "      <td>0.0</td>\n",
       "      <td>0.0</td>\n",
       "      <td>...</td>\n",
       "      <td>1.0</td>\n",
       "      <td>0.0</td>\n",
       "      <td>0.0</td>\n",
       "      <td>1.0</td>\n",
       "      <td>0.0</td>\n",
       "      <td>1.0</td>\n",
       "      <td>0.0</td>\n",
       "      <td>4783.50</td>\n",
       "      <td>0.0</td>\n",
       "      <td>95.60</td>\n",
       "    </tr>\n",
       "    <tr>\n",
       "      <th>3667</th>\n",
       "      <td>0.0</td>\n",
       "      <td>1.0</td>\n",
       "      <td>1.0</td>\n",
       "      <td>0.0</td>\n",
       "      <td>0.0</td>\n",
       "      <td>0.0</td>\n",
       "      <td>0.0</td>\n",
       "      <td>0.0</td>\n",
       "      <td>0.0</td>\n",
       "      <td>0.0</td>\n",
       "      <td>...</td>\n",
       "      <td>1.0</td>\n",
       "      <td>0.0</td>\n",
       "      <td>1.0</td>\n",
       "      <td>1.0</td>\n",
       "      <td>0.0</td>\n",
       "      <td>1.0</td>\n",
       "      <td>0.0</td>\n",
       "      <td>2263.45</td>\n",
       "      <td>1.0</td>\n",
       "      <td>96.55</td>\n",
       "    </tr>\n",
       "  </tbody>\n",
       "</table>\n",
       "<p>5 rows × 94 columns</p>\n",
       "</div>"
      ],
      "text/plain": [
       "      gender_Male  Partner_Yes  Dependents_Yes  tenure_1  tenure_2  tenure_3  \\\n",
       "2507          1.0          1.0             0.0       0.0       0.0       0.0   \n",
       "1872          0.0          1.0             1.0       0.0       0.0       0.0   \n",
       "681           0.0          1.0             1.0       0.0       0.0       0.0   \n",
       "5888          0.0          1.0             1.0       0.0       0.0       0.0   \n",
       "3667          0.0          1.0             1.0       0.0       0.0       0.0   \n",
       "\n",
       "      tenure_4  tenure_5  tenure_6  tenure_7  ...  StreamingMovies_Yes  \\\n",
       "2507       0.0       0.0       0.0       0.0  ...                  0.0   \n",
       "1872       0.0       0.0       0.0       0.0  ...                  0.0   \n",
       "681        0.0       0.0       0.0       0.0  ...                  1.0   \n",
       "5888       0.0       0.0       0.0       0.0  ...                  1.0   \n",
       "3667       0.0       0.0       0.0       0.0  ...                  1.0   \n",
       "\n",
       "      Contract_One year  Contract_Two year  PaperlessBilling_Yes  \\\n",
       "2507                0.0                1.0                   1.0   \n",
       "1872                0.0                1.0                   0.0   \n",
       "681                 0.0                1.0                   1.0   \n",
       "5888                0.0                0.0                   1.0   \n",
       "3667                0.0                1.0                   1.0   \n",
       "\n",
       "      PaymentMethod_Credit card (automatic)  PaymentMethod_Electronic check  \\\n",
       "2507                                    0.0                             1.0   \n",
       "1872                                    0.0                             0.0   \n",
       "681                                     0.0                             0.0   \n",
       "5888                                    0.0                             1.0   \n",
       "3667                                    0.0                             1.0   \n",
       "\n",
       "      PaymentMethod_Mailed check  TotalCharges  SeniorCitizen  MonthlyCharges  \n",
       "2507                         0.0       1816.20            0.0           24.50  \n",
       "1872                         0.0        804.25            0.0           19.70  \n",
       "681                          0.0       4616.05            0.0           73.80  \n",
       "5888                         0.0       4783.50            0.0           95.60  \n",
       "3667                         0.0       2263.45            1.0           96.55  \n",
       "\n",
       "[5 rows x 94 columns]"
      ]
     },
     "execution_count": 152,
     "metadata": {},
     "output_type": "execute_result"
    }
   ],
   "source": [
    "X_testf.head()                                                                   #Checking my X_test DF"
   ]
  },
  {
   "cell_type": "code",
   "execution_count": 153,
   "id": "3811ec8c",
   "metadata": {
    "ExecuteTime": {
     "end_time": "2023-04-30T12:02:20.153068Z",
     "start_time": "2023-04-30T12:02:20.133086Z"
    }
   },
   "outputs": [
    {
     "data": {
      "text/plain": [
       "6188     No\n",
       "2164     No\n",
       "216      No\n",
       "2275    Yes\n",
       "6839    Yes\n",
       "Name: Churn, dtype: object"
      ]
     },
     "execution_count": 153,
     "metadata": {},
     "output_type": "execute_result"
    }
   ],
   "source": [
    "Y_trainf.head()                                                                  #Checking my Y_train DF"
   ]
  },
  {
   "cell_type": "code",
   "execution_count": 154,
   "id": "c86db101",
   "metadata": {
    "ExecuteTime": {
     "end_time": "2023-04-30T12:02:21.724755Z",
     "start_time": "2023-04-30T12:02:21.716745Z"
    }
   },
   "outputs": [
    {
     "data": {
      "text/plain": [
       "2507     No\n",
       "1872     No\n",
       "681      No\n",
       "5888    Yes\n",
       "3667     No\n",
       "Name: Churn, dtype: object"
      ]
     },
     "execution_count": 154,
     "metadata": {},
     "output_type": "execute_result"
    }
   ],
   "source": [
    "Y_testf.head()                                                                   #Checking my Y_test DF"
   ]
  },
  {
   "cell_type": "markdown",
   "id": "111714a3",
   "metadata": {},
   "source": [
    "### Standardizing my Numerical Columns in training Data."
   ]
  },
  {
   "cell_type": "code",
   "execution_count": 155,
   "id": "bd7806f6",
   "metadata": {
    "ExecuteTime": {
     "end_time": "2023-04-30T12:02:39.068864Z",
     "start_time": "2023-04-30T12:02:39.034921Z"
    }
   },
   "outputs": [
    {
     "data": {
      "text/html": [
       "<div>\n",
       "<style scoped>\n",
       "    .dataframe tbody tr th:only-of-type {\n",
       "        vertical-align: middle;\n",
       "    }\n",
       "\n",
       "    .dataframe tbody tr th {\n",
       "        vertical-align: top;\n",
       "    }\n",
       "\n",
       "    .dataframe thead th {\n",
       "        text-align: right;\n",
       "    }\n",
       "</style>\n",
       "<table border=\"1\" class=\"dataframe\">\n",
       "  <thead>\n",
       "    <tr style=\"text-align: right;\">\n",
       "      <th></th>\n",
       "      <th>gender_Male</th>\n",
       "      <th>Partner_Yes</th>\n",
       "      <th>Dependents_Yes</th>\n",
       "      <th>tenure_1</th>\n",
       "      <th>tenure_2</th>\n",
       "      <th>tenure_3</th>\n",
       "      <th>tenure_4</th>\n",
       "      <th>tenure_5</th>\n",
       "      <th>tenure_6</th>\n",
       "      <th>tenure_7</th>\n",
       "      <th>...</th>\n",
       "      <th>TechSupport_Yes</th>\n",
       "      <th>StreamingTV_Yes</th>\n",
       "      <th>StreamingMovies_Yes</th>\n",
       "      <th>Contract_One year</th>\n",
       "      <th>Contract_Two year</th>\n",
       "      <th>PaperlessBilling_Yes</th>\n",
       "      <th>PaymentMethod_Credit card (automatic)</th>\n",
       "      <th>PaymentMethod_Electronic check</th>\n",
       "      <th>PaymentMethod_Mailed check</th>\n",
       "      <th>SeniorCitizen</th>\n",
       "    </tr>\n",
       "  </thead>\n",
       "  <tbody>\n",
       "    <tr>\n",
       "      <th>6188</th>\n",
       "      <td>1.0</td>\n",
       "      <td>0.0</td>\n",
       "      <td>0.0</td>\n",
       "      <td>0.0</td>\n",
       "      <td>0.0</td>\n",
       "      <td>0.0</td>\n",
       "      <td>0.0</td>\n",
       "      <td>0.0</td>\n",
       "      <td>0.0</td>\n",
       "      <td>0.0</td>\n",
       "      <td>...</td>\n",
       "      <td>0.0</td>\n",
       "      <td>0.0</td>\n",
       "      <td>0.0</td>\n",
       "      <td>0.0</td>\n",
       "      <td>0.0</td>\n",
       "      <td>0.0</td>\n",
       "      <td>0.0</td>\n",
       "      <td>0.0</td>\n",
       "      <td>1.0</td>\n",
       "      <td>0.0</td>\n",
       "    </tr>\n",
       "    <tr>\n",
       "      <th>2164</th>\n",
       "      <td>1.0</td>\n",
       "      <td>1.0</td>\n",
       "      <td>1.0</td>\n",
       "      <td>0.0</td>\n",
       "      <td>0.0</td>\n",
       "      <td>0.0</td>\n",
       "      <td>0.0</td>\n",
       "      <td>0.0</td>\n",
       "      <td>0.0</td>\n",
       "      <td>0.0</td>\n",
       "      <td>...</td>\n",
       "      <td>1.0</td>\n",
       "      <td>1.0</td>\n",
       "      <td>0.0</td>\n",
       "      <td>0.0</td>\n",
       "      <td>1.0</td>\n",
       "      <td>1.0</td>\n",
       "      <td>1.0</td>\n",
       "      <td>0.0</td>\n",
       "      <td>0.0</td>\n",
       "      <td>0.0</td>\n",
       "    </tr>\n",
       "    <tr>\n",
       "      <th>216</th>\n",
       "      <td>1.0</td>\n",
       "      <td>1.0</td>\n",
       "      <td>1.0</td>\n",
       "      <td>0.0</td>\n",
       "      <td>0.0</td>\n",
       "      <td>0.0</td>\n",
       "      <td>0.0</td>\n",
       "      <td>0.0</td>\n",
       "      <td>0.0</td>\n",
       "      <td>0.0</td>\n",
       "      <td>...</td>\n",
       "      <td>1.0</td>\n",
       "      <td>0.0</td>\n",
       "      <td>0.0</td>\n",
       "      <td>0.0</td>\n",
       "      <td>1.0</td>\n",
       "      <td>0.0</td>\n",
       "      <td>1.0</td>\n",
       "      <td>0.0</td>\n",
       "      <td>0.0</td>\n",
       "      <td>0.0</td>\n",
       "    </tr>\n",
       "    <tr>\n",
       "      <th>2275</th>\n",
       "      <td>1.0</td>\n",
       "      <td>1.0</td>\n",
       "      <td>1.0</td>\n",
       "      <td>1.0</td>\n",
       "      <td>0.0</td>\n",
       "      <td>0.0</td>\n",
       "      <td>0.0</td>\n",
       "      <td>0.0</td>\n",
       "      <td>0.0</td>\n",
       "      <td>0.0</td>\n",
       "      <td>...</td>\n",
       "      <td>0.0</td>\n",
       "      <td>0.0</td>\n",
       "      <td>0.0</td>\n",
       "      <td>0.0</td>\n",
       "      <td>0.0</td>\n",
       "      <td>1.0</td>\n",
       "      <td>0.0</td>\n",
       "      <td>1.0</td>\n",
       "      <td>0.0</td>\n",
       "      <td>0.0</td>\n",
       "    </tr>\n",
       "    <tr>\n",
       "      <th>6839</th>\n",
       "      <td>0.0</td>\n",
       "      <td>0.0</td>\n",
       "      <td>0.0</td>\n",
       "      <td>0.0</td>\n",
       "      <td>0.0</td>\n",
       "      <td>0.0</td>\n",
       "      <td>0.0</td>\n",
       "      <td>0.0</td>\n",
       "      <td>0.0</td>\n",
       "      <td>0.0</td>\n",
       "      <td>...</td>\n",
       "      <td>0.0</td>\n",
       "      <td>1.0</td>\n",
       "      <td>1.0</td>\n",
       "      <td>0.0</td>\n",
       "      <td>0.0</td>\n",
       "      <td>1.0</td>\n",
       "      <td>0.0</td>\n",
       "      <td>1.0</td>\n",
       "      <td>0.0</td>\n",
       "      <td>0.0</td>\n",
       "    </tr>\n",
       "    <tr>\n",
       "      <th>...</th>\n",
       "      <td>...</td>\n",
       "      <td>...</td>\n",
       "      <td>...</td>\n",
       "      <td>...</td>\n",
       "      <td>...</td>\n",
       "      <td>...</td>\n",
       "      <td>...</td>\n",
       "      <td>...</td>\n",
       "      <td>...</td>\n",
       "      <td>...</td>\n",
       "      <td>...</td>\n",
       "      <td>...</td>\n",
       "      <td>...</td>\n",
       "      <td>...</td>\n",
       "      <td>...</td>\n",
       "      <td>...</td>\n",
       "      <td>...</td>\n",
       "      <td>...</td>\n",
       "      <td>...</td>\n",
       "      <td>...</td>\n",
       "      <td>...</td>\n",
       "    </tr>\n",
       "    <tr>\n",
       "      <th>6105</th>\n",
       "      <td>0.0</td>\n",
       "      <td>0.0</td>\n",
       "      <td>0.0</td>\n",
       "      <td>0.0</td>\n",
       "      <td>0.0</td>\n",
       "      <td>0.0</td>\n",
       "      <td>0.0</td>\n",
       "      <td>0.0</td>\n",
       "      <td>0.0</td>\n",
       "      <td>0.0</td>\n",
       "      <td>...</td>\n",
       "      <td>1.0</td>\n",
       "      <td>1.0</td>\n",
       "      <td>1.0</td>\n",
       "      <td>1.0</td>\n",
       "      <td>0.0</td>\n",
       "      <td>1.0</td>\n",
       "      <td>1.0</td>\n",
       "      <td>0.0</td>\n",
       "      <td>0.0</td>\n",
       "      <td>0.0</td>\n",
       "    </tr>\n",
       "    <tr>\n",
       "      <th>603</th>\n",
       "      <td>1.0</td>\n",
       "      <td>0.0</td>\n",
       "      <td>0.0</td>\n",
       "      <td>0.0</td>\n",
       "      <td>0.0</td>\n",
       "      <td>0.0</td>\n",
       "      <td>0.0</td>\n",
       "      <td>0.0</td>\n",
       "      <td>0.0</td>\n",
       "      <td>0.0</td>\n",
       "      <td>...</td>\n",
       "      <td>1.0</td>\n",
       "      <td>1.0</td>\n",
       "      <td>1.0</td>\n",
       "      <td>0.0</td>\n",
       "      <td>1.0</td>\n",
       "      <td>0.0</td>\n",
       "      <td>0.0</td>\n",
       "      <td>1.0</td>\n",
       "      <td>0.0</td>\n",
       "      <td>0.0</td>\n",
       "    </tr>\n",
       "    <tr>\n",
       "      <th>3519</th>\n",
       "      <td>1.0</td>\n",
       "      <td>0.0</td>\n",
       "      <td>0.0</td>\n",
       "      <td>0.0</td>\n",
       "      <td>0.0</td>\n",
       "      <td>0.0</td>\n",
       "      <td>0.0</td>\n",
       "      <td>0.0</td>\n",
       "      <td>0.0</td>\n",
       "      <td>0.0</td>\n",
       "      <td>...</td>\n",
       "      <td>0.0</td>\n",
       "      <td>1.0</td>\n",
       "      <td>0.0</td>\n",
       "      <td>0.0</td>\n",
       "      <td>0.0</td>\n",
       "      <td>1.0</td>\n",
       "      <td>0.0</td>\n",
       "      <td>1.0</td>\n",
       "      <td>0.0</td>\n",
       "      <td>1.0</td>\n",
       "    </tr>\n",
       "    <tr>\n",
       "      <th>3252</th>\n",
       "      <td>1.0</td>\n",
       "      <td>1.0</td>\n",
       "      <td>1.0</td>\n",
       "      <td>0.0</td>\n",
       "      <td>0.0</td>\n",
       "      <td>0.0</td>\n",
       "      <td>0.0</td>\n",
       "      <td>0.0</td>\n",
       "      <td>0.0</td>\n",
       "      <td>0.0</td>\n",
       "      <td>...</td>\n",
       "      <td>1.0</td>\n",
       "      <td>0.0</td>\n",
       "      <td>0.0</td>\n",
       "      <td>1.0</td>\n",
       "      <td>0.0</td>\n",
       "      <td>1.0</td>\n",
       "      <td>0.0</td>\n",
       "      <td>0.0</td>\n",
       "      <td>1.0</td>\n",
       "      <td>0.0</td>\n",
       "    </tr>\n",
       "    <tr>\n",
       "      <th>554</th>\n",
       "      <td>1.0</td>\n",
       "      <td>0.0</td>\n",
       "      <td>0.0</td>\n",
       "      <td>0.0</td>\n",
       "      <td>0.0</td>\n",
       "      <td>0.0</td>\n",
       "      <td>0.0</td>\n",
       "      <td>0.0</td>\n",
       "      <td>0.0</td>\n",
       "      <td>0.0</td>\n",
       "      <td>...</td>\n",
       "      <td>0.0</td>\n",
       "      <td>0.0</td>\n",
       "      <td>0.0</td>\n",
       "      <td>0.0</td>\n",
       "      <td>0.0</td>\n",
       "      <td>1.0</td>\n",
       "      <td>0.0</td>\n",
       "      <td>0.0</td>\n",
       "      <td>0.0</td>\n",
       "      <td>0.0</td>\n",
       "    </tr>\n",
       "  </tbody>\n",
       "</table>\n",
       "<p>5282 rows × 92 columns</p>\n",
       "</div>"
      ],
      "text/plain": [
       "      gender_Male  Partner_Yes  Dependents_Yes  tenure_1  tenure_2  tenure_3  \\\n",
       "6188          1.0          0.0             0.0       0.0       0.0       0.0   \n",
       "2164          1.0          1.0             1.0       0.0       0.0       0.0   \n",
       "216           1.0          1.0             1.0       0.0       0.0       0.0   \n",
       "2275          1.0          1.0             1.0       1.0       0.0       0.0   \n",
       "6839          0.0          0.0             0.0       0.0       0.0       0.0   \n",
       "...           ...          ...             ...       ...       ...       ...   \n",
       "6105          0.0          0.0             0.0       0.0       0.0       0.0   \n",
       "603           1.0          0.0             0.0       0.0       0.0       0.0   \n",
       "3519          1.0          0.0             0.0       0.0       0.0       0.0   \n",
       "3252          1.0          1.0             1.0       0.0       0.0       0.0   \n",
       "554           1.0          0.0             0.0       0.0       0.0       0.0   \n",
       "\n",
       "      tenure_4  tenure_5  tenure_6  tenure_7  ...  TechSupport_Yes  \\\n",
       "6188       0.0       0.0       0.0       0.0  ...              0.0   \n",
       "2164       0.0       0.0       0.0       0.0  ...              1.0   \n",
       "216        0.0       0.0       0.0       0.0  ...              1.0   \n",
       "2275       0.0       0.0       0.0       0.0  ...              0.0   \n",
       "6839       0.0       0.0       0.0       0.0  ...              0.0   \n",
       "...        ...       ...       ...       ...  ...              ...   \n",
       "6105       0.0       0.0       0.0       0.0  ...              1.0   \n",
       "603        0.0       0.0       0.0       0.0  ...              1.0   \n",
       "3519       0.0       0.0       0.0       0.0  ...              0.0   \n",
       "3252       0.0       0.0       0.0       0.0  ...              1.0   \n",
       "554        0.0       0.0       0.0       0.0  ...              0.0   \n",
       "\n",
       "      StreamingTV_Yes  StreamingMovies_Yes  Contract_One year  \\\n",
       "6188              0.0                  0.0                0.0   \n",
       "2164              1.0                  0.0                0.0   \n",
       "216               0.0                  0.0                0.0   \n",
       "2275              0.0                  0.0                0.0   \n",
       "6839              1.0                  1.0                0.0   \n",
       "...               ...                  ...                ...   \n",
       "6105              1.0                  1.0                1.0   \n",
       "603               1.0                  1.0                0.0   \n",
       "3519              1.0                  0.0                0.0   \n",
       "3252              0.0                  0.0                1.0   \n",
       "554               0.0                  0.0                0.0   \n",
       "\n",
       "      Contract_Two year  PaperlessBilling_Yes  \\\n",
       "6188                0.0                   0.0   \n",
       "2164                1.0                   1.0   \n",
       "216                 1.0                   0.0   \n",
       "2275                0.0                   1.0   \n",
       "6839                0.0                   1.0   \n",
       "...                 ...                   ...   \n",
       "6105                0.0                   1.0   \n",
       "603                 1.0                   0.0   \n",
       "3519                0.0                   1.0   \n",
       "3252                0.0                   1.0   \n",
       "554                 0.0                   1.0   \n",
       "\n",
       "      PaymentMethod_Credit card (automatic)  PaymentMethod_Electronic check  \\\n",
       "6188                                    0.0                             0.0   \n",
       "2164                                    1.0                             0.0   \n",
       "216                                     1.0                             0.0   \n",
       "2275                                    0.0                             1.0   \n",
       "6839                                    0.0                             1.0   \n",
       "...                                     ...                             ...   \n",
       "6105                                    1.0                             0.0   \n",
       "603                                     0.0                             1.0   \n",
       "3519                                    0.0                             1.0   \n",
       "3252                                    0.0                             0.0   \n",
       "554                                     0.0                             0.0   \n",
       "\n",
       "      PaymentMethod_Mailed check  SeniorCitizen  \n",
       "6188                         1.0            0.0  \n",
       "2164                         0.0            0.0  \n",
       "216                          0.0            0.0  \n",
       "2275                         0.0            0.0  \n",
       "6839                         0.0            0.0  \n",
       "...                          ...            ...  \n",
       "6105                         0.0            0.0  \n",
       "603                          0.0            0.0  \n",
       "3519                         0.0            1.0  \n",
       "3252                         1.0            0.0  \n",
       "554                          0.0            0.0  \n",
       "\n",
       "[5282 rows x 92 columns]"
      ]
     },
     "execution_count": 155,
     "metadata": {},
     "output_type": "execute_result"
    }
   ],
   "source": [
    "X_trainf_obj = pd.DataFrame(X_trainf.drop(['MonthlyCharges','TotalCharges'], axis=1))\n",
    "X_trainf_obj"
   ]
  },
  {
   "cell_type": "code",
   "execution_count": 156,
   "id": "0f7420bc",
   "metadata": {
    "ExecuteTime": {
     "end_time": "2023-04-30T12:02:40.375910Z",
     "start_time": "2023-04-30T12:02:40.365937Z"
    }
   },
   "outputs": [],
   "source": [
    "from sklearn.preprocessing import StandardScaler "
   ]
  },
  {
   "cell_type": "code",
   "execution_count": 157,
   "id": "6177ecea",
   "metadata": {
    "ExecuteTime": {
     "end_time": "2023-04-30T12:02:42.637870Z",
     "start_time": "2023-04-30T12:02:42.620916Z"
    }
   },
   "outputs": [],
   "source": [
    "sc = StandardScaler()"
   ]
  },
  {
   "cell_type": "code",
   "execution_count": 158,
   "id": "0fc6c4b3",
   "metadata": {
    "ExecuteTime": {
     "end_time": "2023-04-30T12:02:51.265888Z",
     "start_time": "2023-04-30T12:02:51.253922Z"
    }
   },
   "outputs": [
    {
     "data": {
      "text/html": [
       "<div>\n",
       "<style scoped>\n",
       "    .dataframe tbody tr th:only-of-type {\n",
       "        vertical-align: middle;\n",
       "    }\n",
       "\n",
       "    .dataframe tbody tr th {\n",
       "        vertical-align: top;\n",
       "    }\n",
       "\n",
       "    .dataframe thead th {\n",
       "        text-align: right;\n",
       "    }\n",
       "</style>\n",
       "<table border=\"1\" class=\"dataframe\">\n",
       "  <thead>\n",
       "    <tr style=\"text-align: right;\">\n",
       "      <th></th>\n",
       "      <th>MonthlyCharges</th>\n",
       "      <th>TotalCharges</th>\n",
       "    </tr>\n",
       "  </thead>\n",
       "  <tbody>\n",
       "    <tr>\n",
       "      <th>6188</th>\n",
       "      <td>20.05</td>\n",
       "      <td>358.50</td>\n",
       "    </tr>\n",
       "    <tr>\n",
       "      <th>2164</th>\n",
       "      <td>101.10</td>\n",
       "      <td>6994.80</td>\n",
       "    </tr>\n",
       "    <tr>\n",
       "      <th>216</th>\n",
       "      <td>45.25</td>\n",
       "      <td>3139.80</td>\n",
       "    </tr>\n",
       "    <tr>\n",
       "      <th>2275</th>\n",
       "      <td>74.50</td>\n",
       "      <td>74.50</td>\n",
       "    </tr>\n",
       "    <tr>\n",
       "      <th>6839</th>\n",
       "      <td>100.75</td>\n",
       "      <td>1129.75</td>\n",
       "    </tr>\n",
       "    <tr>\n",
       "      <th>...</th>\n",
       "      <td>...</td>\n",
       "      <td>...</td>\n",
       "    </tr>\n",
       "    <tr>\n",
       "      <th>6105</th>\n",
       "      <td>111.25</td>\n",
       "      <td>5916.45</td>\n",
       "    </tr>\n",
       "    <tr>\n",
       "      <th>603</th>\n",
       "      <td>108.65</td>\n",
       "      <td>4903.20</td>\n",
       "    </tr>\n",
       "    <tr>\n",
       "      <th>3519</th>\n",
       "      <td>84.85</td>\n",
       "      <td>3645.60</td>\n",
       "    </tr>\n",
       "    <tr>\n",
       "      <th>3252</th>\n",
       "      <td>62.10</td>\n",
       "      <td>1096.65</td>\n",
       "    </tr>\n",
       "    <tr>\n",
       "      <th>554</th>\n",
       "      <td>80.35</td>\n",
       "      <td>2596.15</td>\n",
       "    </tr>\n",
       "  </tbody>\n",
       "</table>\n",
       "<p>5282 rows × 2 columns</p>\n",
       "</div>"
      ],
      "text/plain": [
       "      MonthlyCharges  TotalCharges\n",
       "6188           20.05        358.50\n",
       "2164          101.10       6994.80\n",
       "216            45.25       3139.80\n",
       "2275           74.50         74.50\n",
       "6839          100.75       1129.75\n",
       "...              ...           ...\n",
       "6105          111.25       5916.45\n",
       "603           108.65       4903.20\n",
       "3519           84.85       3645.60\n",
       "3252           62.10       1096.65\n",
       "554            80.35       2596.15\n",
       "\n",
       "[5282 rows x 2 columns]"
      ]
     },
     "execution_count": 158,
     "metadata": {},
     "output_type": "execute_result"
    }
   ],
   "source": [
    "X_trainf_num = X_trainf[['MonthlyCharges','TotalCharges']]                       #Numerical Data Set to Standardization.\n",
    "X_trainf_num"
   ]
  },
  {
   "cell_type": "code",
   "execution_count": 159,
   "id": "2e49c0ed",
   "metadata": {
    "ExecuteTime": {
     "end_time": "2023-04-30T12:03:28.534307Z",
     "start_time": "2023-04-30T12:03:28.525331Z"
    }
   },
   "outputs": [],
   "source": [
    "X_trainf_num_df = pd.DataFrame(sc.fit_transform(X_trainf_num), index=X_trainf_num.index,\\\n",
    "             columns=X_trainf_num.columns)                                      # Performing Standardization to my Num_DF."
   ]
  },
  {
   "cell_type": "code",
   "execution_count": 160,
   "id": "a75aae29",
   "metadata": {
    "ExecuteTime": {
     "end_time": "2023-04-30T12:03:34.280928Z",
     "start_time": "2023-04-30T12:03:34.260945Z"
    }
   },
   "outputs": [
    {
     "data": {
      "text/html": [
       "<div>\n",
       "<style scoped>\n",
       "    .dataframe tbody tr th:only-of-type {\n",
       "        vertical-align: middle;\n",
       "    }\n",
       "\n",
       "    .dataframe tbody tr th {\n",
       "        vertical-align: top;\n",
       "    }\n",
       "\n",
       "    .dataframe thead th {\n",
       "        text-align: right;\n",
       "    }\n",
       "</style>\n",
       "<table border=\"1\" class=\"dataframe\">\n",
       "  <thead>\n",
       "    <tr style=\"text-align: right;\">\n",
       "      <th></th>\n",
       "      <th>MonthlyCharges</th>\n",
       "      <th>TotalCharges</th>\n",
       "    </tr>\n",
       "  </thead>\n",
       "  <tbody>\n",
       "    <tr>\n",
       "      <th>6188</th>\n",
       "      <td>-1.497616</td>\n",
       "      <td>-0.853859</td>\n",
       "    </tr>\n",
       "    <tr>\n",
       "      <th>2164</th>\n",
       "      <td>1.197416</td>\n",
       "      <td>2.074526</td>\n",
       "    </tr>\n",
       "    <tr>\n",
       "      <th>216</th>\n",
       "      <td>-0.659679</td>\n",
       "      <td>0.373439</td>\n",
       "    </tr>\n",
       "    <tr>\n",
       "      <th>2275</th>\n",
       "      <td>0.312927</td>\n",
       "      <td>-0.979179</td>\n",
       "    </tr>\n",
       "    <tr>\n",
       "      <th>6839</th>\n",
       "      <td>1.185778</td>\n",
       "      <td>-0.513531</td>\n",
       "    </tr>\n",
       "    <tr>\n",
       "      <th>...</th>\n",
       "      <td>...</td>\n",
       "      <td>...</td>\n",
       "    </tr>\n",
       "    <tr>\n",
       "      <th>6105</th>\n",
       "      <td>1.534919</td>\n",
       "      <td>1.598685</td>\n",
       "    </tr>\n",
       "    <tr>\n",
       "      <th>603</th>\n",
       "      <td>1.448465</td>\n",
       "      <td>1.151571</td>\n",
       "    </tr>\n",
       "    <tr>\n",
       "      <th>3519</th>\n",
       "      <td>0.657080</td>\n",
       "      <td>0.596632</td>\n",
       "    </tr>\n",
       "    <tr>\n",
       "      <th>3252</th>\n",
       "      <td>-0.099391</td>\n",
       "      <td>-0.528137</td>\n",
       "    </tr>\n",
       "    <tr>\n",
       "      <th>554</th>\n",
       "      <td>0.507448</td>\n",
       "      <td>0.133544</td>\n",
       "    </tr>\n",
       "  </tbody>\n",
       "</table>\n",
       "<p>5282 rows × 2 columns</p>\n",
       "</div>"
      ],
      "text/plain": [
       "      MonthlyCharges  TotalCharges\n",
       "6188       -1.497616     -0.853859\n",
       "2164        1.197416      2.074526\n",
       "216        -0.659679      0.373439\n",
       "2275        0.312927     -0.979179\n",
       "6839        1.185778     -0.513531\n",
       "...              ...           ...\n",
       "6105        1.534919      1.598685\n",
       "603         1.448465      1.151571\n",
       "3519        0.657080      0.596632\n",
       "3252       -0.099391     -0.528137\n",
       "554         0.507448      0.133544\n",
       "\n",
       "[5282 rows x 2 columns]"
      ]
     },
     "execution_count": 160,
     "metadata": {},
     "output_type": "execute_result"
    }
   ],
   "source": [
    "X_trainf_num_df"
   ]
  },
  {
   "cell_type": "code",
   "execution_count": 161,
   "id": "2ab2e56f",
   "metadata": {
    "ExecuteTime": {
     "end_time": "2023-04-30T12:03:41.396679Z",
     "start_time": "2023-04-30T12:03:41.388700Z"
    }
   },
   "outputs": [],
   "source": [
    "# Combinig my catogorical and Numerical DataFrame to Train my Model.\n",
    "\n",
    "X_trainf_processed = X_trainf_num_df.merge(X_trainf_obj, left_index=True, right_index=True)"
   ]
  },
  {
   "cell_type": "code",
   "execution_count": 162,
   "id": "80240592",
   "metadata": {
    "ExecuteTime": {
     "end_time": "2023-04-30T12:03:42.948322Z",
     "start_time": "2023-04-30T12:03:42.908396Z"
    }
   },
   "outputs": [
    {
     "data": {
      "text/html": [
       "<div>\n",
       "<style scoped>\n",
       "    .dataframe tbody tr th:only-of-type {\n",
       "        vertical-align: middle;\n",
       "    }\n",
       "\n",
       "    .dataframe tbody tr th {\n",
       "        vertical-align: top;\n",
       "    }\n",
       "\n",
       "    .dataframe thead th {\n",
       "        text-align: right;\n",
       "    }\n",
       "</style>\n",
       "<table border=\"1\" class=\"dataframe\">\n",
       "  <thead>\n",
       "    <tr style=\"text-align: right;\">\n",
       "      <th></th>\n",
       "      <th>MonthlyCharges</th>\n",
       "      <th>TotalCharges</th>\n",
       "      <th>gender_Male</th>\n",
       "      <th>Partner_Yes</th>\n",
       "      <th>Dependents_Yes</th>\n",
       "      <th>tenure_1</th>\n",
       "      <th>tenure_2</th>\n",
       "      <th>tenure_3</th>\n",
       "      <th>tenure_4</th>\n",
       "      <th>tenure_5</th>\n",
       "      <th>...</th>\n",
       "      <th>TechSupport_Yes</th>\n",
       "      <th>StreamingTV_Yes</th>\n",
       "      <th>StreamingMovies_Yes</th>\n",
       "      <th>Contract_One year</th>\n",
       "      <th>Contract_Two year</th>\n",
       "      <th>PaperlessBilling_Yes</th>\n",
       "      <th>PaymentMethod_Credit card (automatic)</th>\n",
       "      <th>PaymentMethod_Electronic check</th>\n",
       "      <th>PaymentMethod_Mailed check</th>\n",
       "      <th>SeniorCitizen</th>\n",
       "    </tr>\n",
       "  </thead>\n",
       "  <tbody>\n",
       "    <tr>\n",
       "      <th>6188</th>\n",
       "      <td>-1.497616</td>\n",
       "      <td>-0.853859</td>\n",
       "      <td>1.0</td>\n",
       "      <td>0.0</td>\n",
       "      <td>0.0</td>\n",
       "      <td>0.0</td>\n",
       "      <td>0.0</td>\n",
       "      <td>0.0</td>\n",
       "      <td>0.0</td>\n",
       "      <td>0.0</td>\n",
       "      <td>...</td>\n",
       "      <td>0.0</td>\n",
       "      <td>0.0</td>\n",
       "      <td>0.0</td>\n",
       "      <td>0.0</td>\n",
       "      <td>0.0</td>\n",
       "      <td>0.0</td>\n",
       "      <td>0.0</td>\n",
       "      <td>0.0</td>\n",
       "      <td>1.0</td>\n",
       "      <td>0.0</td>\n",
       "    </tr>\n",
       "    <tr>\n",
       "      <th>2164</th>\n",
       "      <td>1.197416</td>\n",
       "      <td>2.074526</td>\n",
       "      <td>1.0</td>\n",
       "      <td>1.0</td>\n",
       "      <td>1.0</td>\n",
       "      <td>0.0</td>\n",
       "      <td>0.0</td>\n",
       "      <td>0.0</td>\n",
       "      <td>0.0</td>\n",
       "      <td>0.0</td>\n",
       "      <td>...</td>\n",
       "      <td>1.0</td>\n",
       "      <td>1.0</td>\n",
       "      <td>0.0</td>\n",
       "      <td>0.0</td>\n",
       "      <td>1.0</td>\n",
       "      <td>1.0</td>\n",
       "      <td>1.0</td>\n",
       "      <td>0.0</td>\n",
       "      <td>0.0</td>\n",
       "      <td>0.0</td>\n",
       "    </tr>\n",
       "    <tr>\n",
       "      <th>216</th>\n",
       "      <td>-0.659679</td>\n",
       "      <td>0.373439</td>\n",
       "      <td>1.0</td>\n",
       "      <td>1.0</td>\n",
       "      <td>1.0</td>\n",
       "      <td>0.0</td>\n",
       "      <td>0.0</td>\n",
       "      <td>0.0</td>\n",
       "      <td>0.0</td>\n",
       "      <td>0.0</td>\n",
       "      <td>...</td>\n",
       "      <td>1.0</td>\n",
       "      <td>0.0</td>\n",
       "      <td>0.0</td>\n",
       "      <td>0.0</td>\n",
       "      <td>1.0</td>\n",
       "      <td>0.0</td>\n",
       "      <td>1.0</td>\n",
       "      <td>0.0</td>\n",
       "      <td>0.0</td>\n",
       "      <td>0.0</td>\n",
       "    </tr>\n",
       "    <tr>\n",
       "      <th>2275</th>\n",
       "      <td>0.312927</td>\n",
       "      <td>-0.979179</td>\n",
       "      <td>1.0</td>\n",
       "      <td>1.0</td>\n",
       "      <td>1.0</td>\n",
       "      <td>1.0</td>\n",
       "      <td>0.0</td>\n",
       "      <td>0.0</td>\n",
       "      <td>0.0</td>\n",
       "      <td>0.0</td>\n",
       "      <td>...</td>\n",
       "      <td>0.0</td>\n",
       "      <td>0.0</td>\n",
       "      <td>0.0</td>\n",
       "      <td>0.0</td>\n",
       "      <td>0.0</td>\n",
       "      <td>1.0</td>\n",
       "      <td>0.0</td>\n",
       "      <td>1.0</td>\n",
       "      <td>0.0</td>\n",
       "      <td>0.0</td>\n",
       "    </tr>\n",
       "    <tr>\n",
       "      <th>6839</th>\n",
       "      <td>1.185778</td>\n",
       "      <td>-0.513531</td>\n",
       "      <td>0.0</td>\n",
       "      <td>0.0</td>\n",
       "      <td>0.0</td>\n",
       "      <td>0.0</td>\n",
       "      <td>0.0</td>\n",
       "      <td>0.0</td>\n",
       "      <td>0.0</td>\n",
       "      <td>0.0</td>\n",
       "      <td>...</td>\n",
       "      <td>0.0</td>\n",
       "      <td>1.0</td>\n",
       "      <td>1.0</td>\n",
       "      <td>0.0</td>\n",
       "      <td>0.0</td>\n",
       "      <td>1.0</td>\n",
       "      <td>0.0</td>\n",
       "      <td>1.0</td>\n",
       "      <td>0.0</td>\n",
       "      <td>0.0</td>\n",
       "    </tr>\n",
       "    <tr>\n",
       "      <th>...</th>\n",
       "      <td>...</td>\n",
       "      <td>...</td>\n",
       "      <td>...</td>\n",
       "      <td>...</td>\n",
       "      <td>...</td>\n",
       "      <td>...</td>\n",
       "      <td>...</td>\n",
       "      <td>...</td>\n",
       "      <td>...</td>\n",
       "      <td>...</td>\n",
       "      <td>...</td>\n",
       "      <td>...</td>\n",
       "      <td>...</td>\n",
       "      <td>...</td>\n",
       "      <td>...</td>\n",
       "      <td>...</td>\n",
       "      <td>...</td>\n",
       "      <td>...</td>\n",
       "      <td>...</td>\n",
       "      <td>...</td>\n",
       "      <td>...</td>\n",
       "    </tr>\n",
       "    <tr>\n",
       "      <th>6105</th>\n",
       "      <td>1.534919</td>\n",
       "      <td>1.598685</td>\n",
       "      <td>0.0</td>\n",
       "      <td>0.0</td>\n",
       "      <td>0.0</td>\n",
       "      <td>0.0</td>\n",
       "      <td>0.0</td>\n",
       "      <td>0.0</td>\n",
       "      <td>0.0</td>\n",
       "      <td>0.0</td>\n",
       "      <td>...</td>\n",
       "      <td>1.0</td>\n",
       "      <td>1.0</td>\n",
       "      <td>1.0</td>\n",
       "      <td>1.0</td>\n",
       "      <td>0.0</td>\n",
       "      <td>1.0</td>\n",
       "      <td>1.0</td>\n",
       "      <td>0.0</td>\n",
       "      <td>0.0</td>\n",
       "      <td>0.0</td>\n",
       "    </tr>\n",
       "    <tr>\n",
       "      <th>603</th>\n",
       "      <td>1.448465</td>\n",
       "      <td>1.151571</td>\n",
       "      <td>1.0</td>\n",
       "      <td>0.0</td>\n",
       "      <td>0.0</td>\n",
       "      <td>0.0</td>\n",
       "      <td>0.0</td>\n",
       "      <td>0.0</td>\n",
       "      <td>0.0</td>\n",
       "      <td>0.0</td>\n",
       "      <td>...</td>\n",
       "      <td>1.0</td>\n",
       "      <td>1.0</td>\n",
       "      <td>1.0</td>\n",
       "      <td>0.0</td>\n",
       "      <td>1.0</td>\n",
       "      <td>0.0</td>\n",
       "      <td>0.0</td>\n",
       "      <td>1.0</td>\n",
       "      <td>0.0</td>\n",
       "      <td>0.0</td>\n",
       "    </tr>\n",
       "    <tr>\n",
       "      <th>3519</th>\n",
       "      <td>0.657080</td>\n",
       "      <td>0.596632</td>\n",
       "      <td>1.0</td>\n",
       "      <td>0.0</td>\n",
       "      <td>0.0</td>\n",
       "      <td>0.0</td>\n",
       "      <td>0.0</td>\n",
       "      <td>0.0</td>\n",
       "      <td>0.0</td>\n",
       "      <td>0.0</td>\n",
       "      <td>...</td>\n",
       "      <td>0.0</td>\n",
       "      <td>1.0</td>\n",
       "      <td>0.0</td>\n",
       "      <td>0.0</td>\n",
       "      <td>0.0</td>\n",
       "      <td>1.0</td>\n",
       "      <td>0.0</td>\n",
       "      <td>1.0</td>\n",
       "      <td>0.0</td>\n",
       "      <td>1.0</td>\n",
       "    </tr>\n",
       "    <tr>\n",
       "      <th>3252</th>\n",
       "      <td>-0.099391</td>\n",
       "      <td>-0.528137</td>\n",
       "      <td>1.0</td>\n",
       "      <td>1.0</td>\n",
       "      <td>1.0</td>\n",
       "      <td>0.0</td>\n",
       "      <td>0.0</td>\n",
       "      <td>0.0</td>\n",
       "      <td>0.0</td>\n",
       "      <td>0.0</td>\n",
       "      <td>...</td>\n",
       "      <td>1.0</td>\n",
       "      <td>0.0</td>\n",
       "      <td>0.0</td>\n",
       "      <td>1.0</td>\n",
       "      <td>0.0</td>\n",
       "      <td>1.0</td>\n",
       "      <td>0.0</td>\n",
       "      <td>0.0</td>\n",
       "      <td>1.0</td>\n",
       "      <td>0.0</td>\n",
       "    </tr>\n",
       "    <tr>\n",
       "      <th>554</th>\n",
       "      <td>0.507448</td>\n",
       "      <td>0.133544</td>\n",
       "      <td>1.0</td>\n",
       "      <td>0.0</td>\n",
       "      <td>0.0</td>\n",
       "      <td>0.0</td>\n",
       "      <td>0.0</td>\n",
       "      <td>0.0</td>\n",
       "      <td>0.0</td>\n",
       "      <td>0.0</td>\n",
       "      <td>...</td>\n",
       "      <td>0.0</td>\n",
       "      <td>0.0</td>\n",
       "      <td>0.0</td>\n",
       "      <td>0.0</td>\n",
       "      <td>0.0</td>\n",
       "      <td>1.0</td>\n",
       "      <td>0.0</td>\n",
       "      <td>0.0</td>\n",
       "      <td>0.0</td>\n",
       "      <td>0.0</td>\n",
       "    </tr>\n",
       "  </tbody>\n",
       "</table>\n",
       "<p>5282 rows × 94 columns</p>\n",
       "</div>"
      ],
      "text/plain": [
       "      MonthlyCharges  TotalCharges  gender_Male  Partner_Yes  Dependents_Yes  \\\n",
       "6188       -1.497616     -0.853859          1.0          0.0             0.0   \n",
       "2164        1.197416      2.074526          1.0          1.0             1.0   \n",
       "216        -0.659679      0.373439          1.0          1.0             1.0   \n",
       "2275        0.312927     -0.979179          1.0          1.0             1.0   \n",
       "6839        1.185778     -0.513531          0.0          0.0             0.0   \n",
       "...              ...           ...          ...          ...             ...   \n",
       "6105        1.534919      1.598685          0.0          0.0             0.0   \n",
       "603         1.448465      1.151571          1.0          0.0             0.0   \n",
       "3519        0.657080      0.596632          1.0          0.0             0.0   \n",
       "3252       -0.099391     -0.528137          1.0          1.0             1.0   \n",
       "554         0.507448      0.133544          1.0          0.0             0.0   \n",
       "\n",
       "      tenure_1  tenure_2  tenure_3  tenure_4  tenure_5  ...  TechSupport_Yes  \\\n",
       "6188       0.0       0.0       0.0       0.0       0.0  ...              0.0   \n",
       "2164       0.0       0.0       0.0       0.0       0.0  ...              1.0   \n",
       "216        0.0       0.0       0.0       0.0       0.0  ...              1.0   \n",
       "2275       1.0       0.0       0.0       0.0       0.0  ...              0.0   \n",
       "6839       0.0       0.0       0.0       0.0       0.0  ...              0.0   \n",
       "...        ...       ...       ...       ...       ...  ...              ...   \n",
       "6105       0.0       0.0       0.0       0.0       0.0  ...              1.0   \n",
       "603        0.0       0.0       0.0       0.0       0.0  ...              1.0   \n",
       "3519       0.0       0.0       0.0       0.0       0.0  ...              0.0   \n",
       "3252       0.0       0.0       0.0       0.0       0.0  ...              1.0   \n",
       "554        0.0       0.0       0.0       0.0       0.0  ...              0.0   \n",
       "\n",
       "      StreamingTV_Yes  StreamingMovies_Yes  Contract_One year  \\\n",
       "6188              0.0                  0.0                0.0   \n",
       "2164              1.0                  0.0                0.0   \n",
       "216               0.0                  0.0                0.0   \n",
       "2275              0.0                  0.0                0.0   \n",
       "6839              1.0                  1.0                0.0   \n",
       "...               ...                  ...                ...   \n",
       "6105              1.0                  1.0                1.0   \n",
       "603               1.0                  1.0                0.0   \n",
       "3519              1.0                  0.0                0.0   \n",
       "3252              0.0                  0.0                1.0   \n",
       "554               0.0                  0.0                0.0   \n",
       "\n",
       "      Contract_Two year  PaperlessBilling_Yes  \\\n",
       "6188                0.0                   0.0   \n",
       "2164                1.0                   1.0   \n",
       "216                 1.0                   0.0   \n",
       "2275                0.0                   1.0   \n",
       "6839                0.0                   1.0   \n",
       "...                 ...                   ...   \n",
       "6105                0.0                   1.0   \n",
       "603                 1.0                   0.0   \n",
       "3519                0.0                   1.0   \n",
       "3252                0.0                   1.0   \n",
       "554                 0.0                   1.0   \n",
       "\n",
       "      PaymentMethod_Credit card (automatic)  PaymentMethod_Electronic check  \\\n",
       "6188                                    0.0                             0.0   \n",
       "2164                                    1.0                             0.0   \n",
       "216                                     1.0                             0.0   \n",
       "2275                                    0.0                             1.0   \n",
       "6839                                    0.0                             1.0   \n",
       "...                                     ...                             ...   \n",
       "6105                                    1.0                             0.0   \n",
       "603                                     0.0                             1.0   \n",
       "3519                                    0.0                             1.0   \n",
       "3252                                    0.0                             0.0   \n",
       "554                                     0.0                             0.0   \n",
       "\n",
       "      PaymentMethod_Mailed check  SeniorCitizen  \n",
       "6188                         1.0            0.0  \n",
       "2164                         0.0            0.0  \n",
       "216                          0.0            0.0  \n",
       "2275                         0.0            0.0  \n",
       "6839                         0.0            0.0  \n",
       "...                          ...            ...  \n",
       "6105                         0.0            0.0  \n",
       "603                          0.0            0.0  \n",
       "3519                         0.0            1.0  \n",
       "3252                         1.0            0.0  \n",
       "554                          0.0            0.0  \n",
       "\n",
       "[5282 rows x 94 columns]"
      ]
     },
     "execution_count": 162,
     "metadata": {},
     "output_type": "execute_result"
    }
   ],
   "source": [
    "X_trainf_processed"
   ]
  },
  {
   "cell_type": "code",
   "execution_count": 163,
   "id": "bd483c9c",
   "metadata": {
    "ExecuteTime": {
     "end_time": "2023-04-30T12:03:47.504097Z",
     "start_time": "2023-04-30T12:03:47.492130Z"
    }
   },
   "outputs": [
    {
     "data": {
      "text/plain": [
       "(5282, 94)"
      ]
     },
     "execution_count": 163,
     "metadata": {},
     "output_type": "execute_result"
    }
   ],
   "source": [
    "X_trainf_processed.shape                                                        # Checking the shape of our traning DF."
   ]
  },
  {
   "cell_type": "markdown",
   "id": "0195ff67",
   "metadata": {},
   "source": [
    "###  Standardization my numerical columns in Test Data\n"
   ]
  },
  {
   "cell_type": "code",
   "execution_count": 164,
   "id": "82fa91e9",
   "metadata": {
    "ExecuteTime": {
     "end_time": "2023-04-30T12:03:58.091520Z",
     "start_time": "2023-04-30T12:03:58.052591Z"
    }
   },
   "outputs": [
    {
     "data": {
      "text/html": [
       "<div>\n",
       "<style scoped>\n",
       "    .dataframe tbody tr th:only-of-type {\n",
       "        vertical-align: middle;\n",
       "    }\n",
       "\n",
       "    .dataframe tbody tr th {\n",
       "        vertical-align: top;\n",
       "    }\n",
       "\n",
       "    .dataframe thead th {\n",
       "        text-align: right;\n",
       "    }\n",
       "</style>\n",
       "<table border=\"1\" class=\"dataframe\">\n",
       "  <thead>\n",
       "    <tr style=\"text-align: right;\">\n",
       "      <th></th>\n",
       "      <th>gender_Male</th>\n",
       "      <th>Partner_Yes</th>\n",
       "      <th>Dependents_Yes</th>\n",
       "      <th>tenure_1</th>\n",
       "      <th>tenure_2</th>\n",
       "      <th>tenure_3</th>\n",
       "      <th>tenure_4</th>\n",
       "      <th>tenure_5</th>\n",
       "      <th>tenure_6</th>\n",
       "      <th>tenure_7</th>\n",
       "      <th>...</th>\n",
       "      <th>TechSupport_Yes</th>\n",
       "      <th>StreamingTV_Yes</th>\n",
       "      <th>StreamingMovies_Yes</th>\n",
       "      <th>Contract_One year</th>\n",
       "      <th>Contract_Two year</th>\n",
       "      <th>PaperlessBilling_Yes</th>\n",
       "      <th>PaymentMethod_Credit card (automatic)</th>\n",
       "      <th>PaymentMethod_Electronic check</th>\n",
       "      <th>PaymentMethod_Mailed check</th>\n",
       "      <th>SeniorCitizen</th>\n",
       "    </tr>\n",
       "  </thead>\n",
       "  <tbody>\n",
       "    <tr>\n",
       "      <th>2507</th>\n",
       "      <td>1.0</td>\n",
       "      <td>1.0</td>\n",
       "      <td>0.0</td>\n",
       "      <td>0.0</td>\n",
       "      <td>0.0</td>\n",
       "      <td>0.0</td>\n",
       "      <td>0.0</td>\n",
       "      <td>0.0</td>\n",
       "      <td>0.0</td>\n",
       "      <td>0.0</td>\n",
       "      <td>...</td>\n",
       "      <td>0.0</td>\n",
       "      <td>0.0</td>\n",
       "      <td>0.0</td>\n",
       "      <td>0.0</td>\n",
       "      <td>1.0</td>\n",
       "      <td>1.0</td>\n",
       "      <td>0.0</td>\n",
       "      <td>1.0</td>\n",
       "      <td>0.0</td>\n",
       "      <td>0.0</td>\n",
       "    </tr>\n",
       "    <tr>\n",
       "      <th>1872</th>\n",
       "      <td>0.0</td>\n",
       "      <td>1.0</td>\n",
       "      <td>1.0</td>\n",
       "      <td>0.0</td>\n",
       "      <td>0.0</td>\n",
       "      <td>0.0</td>\n",
       "      <td>0.0</td>\n",
       "      <td>0.0</td>\n",
       "      <td>0.0</td>\n",
       "      <td>0.0</td>\n",
       "      <td>...</td>\n",
       "      <td>0.0</td>\n",
       "      <td>0.0</td>\n",
       "      <td>0.0</td>\n",
       "      <td>0.0</td>\n",
       "      <td>1.0</td>\n",
       "      <td>0.0</td>\n",
       "      <td>0.0</td>\n",
       "      <td>0.0</td>\n",
       "      <td>0.0</td>\n",
       "      <td>0.0</td>\n",
       "    </tr>\n",
       "    <tr>\n",
       "      <th>681</th>\n",
       "      <td>0.0</td>\n",
       "      <td>1.0</td>\n",
       "      <td>1.0</td>\n",
       "      <td>0.0</td>\n",
       "      <td>0.0</td>\n",
       "      <td>0.0</td>\n",
       "      <td>0.0</td>\n",
       "      <td>0.0</td>\n",
       "      <td>0.0</td>\n",
       "      <td>0.0</td>\n",
       "      <td>...</td>\n",
       "      <td>1.0</td>\n",
       "      <td>1.0</td>\n",
       "      <td>1.0</td>\n",
       "      <td>0.0</td>\n",
       "      <td>1.0</td>\n",
       "      <td>1.0</td>\n",
       "      <td>0.0</td>\n",
       "      <td>0.0</td>\n",
       "      <td>0.0</td>\n",
       "      <td>0.0</td>\n",
       "    </tr>\n",
       "    <tr>\n",
       "      <th>5888</th>\n",
       "      <td>0.0</td>\n",
       "      <td>1.0</td>\n",
       "      <td>1.0</td>\n",
       "      <td>0.0</td>\n",
       "      <td>0.0</td>\n",
       "      <td>0.0</td>\n",
       "      <td>0.0</td>\n",
       "      <td>0.0</td>\n",
       "      <td>0.0</td>\n",
       "      <td>0.0</td>\n",
       "      <td>...</td>\n",
       "      <td>0.0</td>\n",
       "      <td>1.0</td>\n",
       "      <td>1.0</td>\n",
       "      <td>0.0</td>\n",
       "      <td>0.0</td>\n",
       "      <td>1.0</td>\n",
       "      <td>0.0</td>\n",
       "      <td>1.0</td>\n",
       "      <td>0.0</td>\n",
       "      <td>0.0</td>\n",
       "    </tr>\n",
       "    <tr>\n",
       "      <th>3667</th>\n",
       "      <td>0.0</td>\n",
       "      <td>1.0</td>\n",
       "      <td>1.0</td>\n",
       "      <td>0.0</td>\n",
       "      <td>0.0</td>\n",
       "      <td>0.0</td>\n",
       "      <td>0.0</td>\n",
       "      <td>0.0</td>\n",
       "      <td>0.0</td>\n",
       "      <td>0.0</td>\n",
       "      <td>...</td>\n",
       "      <td>0.0</td>\n",
       "      <td>1.0</td>\n",
       "      <td>1.0</td>\n",
       "      <td>0.0</td>\n",
       "      <td>1.0</td>\n",
       "      <td>1.0</td>\n",
       "      <td>0.0</td>\n",
       "      <td>1.0</td>\n",
       "      <td>0.0</td>\n",
       "      <td>1.0</td>\n",
       "    </tr>\n",
       "    <tr>\n",
       "      <th>...</th>\n",
       "      <td>...</td>\n",
       "      <td>...</td>\n",
       "      <td>...</td>\n",
       "      <td>...</td>\n",
       "      <td>...</td>\n",
       "      <td>...</td>\n",
       "      <td>...</td>\n",
       "      <td>...</td>\n",
       "      <td>...</td>\n",
       "      <td>...</td>\n",
       "      <td>...</td>\n",
       "      <td>...</td>\n",
       "      <td>...</td>\n",
       "      <td>...</td>\n",
       "      <td>...</td>\n",
       "      <td>...</td>\n",
       "      <td>...</td>\n",
       "      <td>...</td>\n",
       "      <td>...</td>\n",
       "      <td>...</td>\n",
       "      <td>...</td>\n",
       "    </tr>\n",
       "    <tr>\n",
       "      <th>3706</th>\n",
       "      <td>1.0</td>\n",
       "      <td>0.0</td>\n",
       "      <td>0.0</td>\n",
       "      <td>0.0</td>\n",
       "      <td>0.0</td>\n",
       "      <td>0.0</td>\n",
       "      <td>0.0</td>\n",
       "      <td>0.0</td>\n",
       "      <td>0.0</td>\n",
       "      <td>0.0</td>\n",
       "      <td>...</td>\n",
       "      <td>1.0</td>\n",
       "      <td>0.0</td>\n",
       "      <td>0.0</td>\n",
       "      <td>0.0</td>\n",
       "      <td>0.0</td>\n",
       "      <td>1.0</td>\n",
       "      <td>0.0</td>\n",
       "      <td>0.0</td>\n",
       "      <td>1.0</td>\n",
       "      <td>0.0</td>\n",
       "    </tr>\n",
       "    <tr>\n",
       "      <th>657</th>\n",
       "      <td>1.0</td>\n",
       "      <td>1.0</td>\n",
       "      <td>0.0</td>\n",
       "      <td>0.0</td>\n",
       "      <td>0.0</td>\n",
       "      <td>0.0</td>\n",
       "      <td>0.0</td>\n",
       "      <td>0.0</td>\n",
       "      <td>0.0</td>\n",
       "      <td>0.0</td>\n",
       "      <td>...</td>\n",
       "      <td>0.0</td>\n",
       "      <td>1.0</td>\n",
       "      <td>1.0</td>\n",
       "      <td>1.0</td>\n",
       "      <td>0.0</td>\n",
       "      <td>0.0</td>\n",
       "      <td>0.0</td>\n",
       "      <td>0.0</td>\n",
       "      <td>0.0</td>\n",
       "      <td>0.0</td>\n",
       "    </tr>\n",
       "    <tr>\n",
       "      <th>6847</th>\n",
       "      <td>0.0</td>\n",
       "      <td>1.0</td>\n",
       "      <td>1.0</td>\n",
       "      <td>0.0</td>\n",
       "      <td>0.0</td>\n",
       "      <td>0.0</td>\n",
       "      <td>0.0</td>\n",
       "      <td>0.0</td>\n",
       "      <td>0.0</td>\n",
       "      <td>0.0</td>\n",
       "      <td>...</td>\n",
       "      <td>0.0</td>\n",
       "      <td>1.0</td>\n",
       "      <td>0.0</td>\n",
       "      <td>0.0</td>\n",
       "      <td>0.0</td>\n",
       "      <td>0.0</td>\n",
       "      <td>0.0</td>\n",
       "      <td>0.0</td>\n",
       "      <td>1.0</td>\n",
       "      <td>0.0</td>\n",
       "    </tr>\n",
       "    <tr>\n",
       "      <th>2416</th>\n",
       "      <td>1.0</td>\n",
       "      <td>0.0</td>\n",
       "      <td>0.0</td>\n",
       "      <td>0.0</td>\n",
       "      <td>0.0</td>\n",
       "      <td>0.0</td>\n",
       "      <td>0.0</td>\n",
       "      <td>0.0</td>\n",
       "      <td>0.0</td>\n",
       "      <td>0.0</td>\n",
       "      <td>...</td>\n",
       "      <td>0.0</td>\n",
       "      <td>1.0</td>\n",
       "      <td>1.0</td>\n",
       "      <td>1.0</td>\n",
       "      <td>0.0</td>\n",
       "      <td>1.0</td>\n",
       "      <td>0.0</td>\n",
       "      <td>0.0</td>\n",
       "      <td>0.0</td>\n",
       "      <td>0.0</td>\n",
       "    </tr>\n",
       "    <tr>\n",
       "      <th>6918</th>\n",
       "      <td>0.0</td>\n",
       "      <td>1.0</td>\n",
       "      <td>0.0</td>\n",
       "      <td>0.0</td>\n",
       "      <td>0.0</td>\n",
       "      <td>0.0</td>\n",
       "      <td>0.0</td>\n",
       "      <td>0.0</td>\n",
       "      <td>0.0</td>\n",
       "      <td>0.0</td>\n",
       "      <td>...</td>\n",
       "      <td>1.0</td>\n",
       "      <td>1.0</td>\n",
       "      <td>1.0</td>\n",
       "      <td>1.0</td>\n",
       "      <td>0.0</td>\n",
       "      <td>1.0</td>\n",
       "      <td>0.0</td>\n",
       "      <td>1.0</td>\n",
       "      <td>0.0</td>\n",
       "      <td>0.0</td>\n",
       "    </tr>\n",
       "  </tbody>\n",
       "</table>\n",
       "<p>1761 rows × 92 columns</p>\n",
       "</div>"
      ],
      "text/plain": [
       "      gender_Male  Partner_Yes  Dependents_Yes  tenure_1  tenure_2  tenure_3  \\\n",
       "2507          1.0          1.0             0.0       0.0       0.0       0.0   \n",
       "1872          0.0          1.0             1.0       0.0       0.0       0.0   \n",
       "681           0.0          1.0             1.0       0.0       0.0       0.0   \n",
       "5888          0.0          1.0             1.0       0.0       0.0       0.0   \n",
       "3667          0.0          1.0             1.0       0.0       0.0       0.0   \n",
       "...           ...          ...             ...       ...       ...       ...   \n",
       "3706          1.0          0.0             0.0       0.0       0.0       0.0   \n",
       "657           1.0          1.0             0.0       0.0       0.0       0.0   \n",
       "6847          0.0          1.0             1.0       0.0       0.0       0.0   \n",
       "2416          1.0          0.0             0.0       0.0       0.0       0.0   \n",
       "6918          0.0          1.0             0.0       0.0       0.0       0.0   \n",
       "\n",
       "      tenure_4  tenure_5  tenure_6  tenure_7  ...  TechSupport_Yes  \\\n",
       "2507       0.0       0.0       0.0       0.0  ...              0.0   \n",
       "1872       0.0       0.0       0.0       0.0  ...              0.0   \n",
       "681        0.0       0.0       0.0       0.0  ...              1.0   \n",
       "5888       0.0       0.0       0.0       0.0  ...              0.0   \n",
       "3667       0.0       0.0       0.0       0.0  ...              0.0   \n",
       "...        ...       ...       ...       ...  ...              ...   \n",
       "3706       0.0       0.0       0.0       0.0  ...              1.0   \n",
       "657        0.0       0.0       0.0       0.0  ...              0.0   \n",
       "6847       0.0       0.0       0.0       0.0  ...              0.0   \n",
       "2416       0.0       0.0       0.0       0.0  ...              0.0   \n",
       "6918       0.0       0.0       0.0       0.0  ...              1.0   \n",
       "\n",
       "      StreamingTV_Yes  StreamingMovies_Yes  Contract_One year  \\\n",
       "2507              0.0                  0.0                0.0   \n",
       "1872              0.0                  0.0                0.0   \n",
       "681               1.0                  1.0                0.0   \n",
       "5888              1.0                  1.0                0.0   \n",
       "3667              1.0                  1.0                0.0   \n",
       "...               ...                  ...                ...   \n",
       "3706              0.0                  0.0                0.0   \n",
       "657               1.0                  1.0                1.0   \n",
       "6847              1.0                  0.0                0.0   \n",
       "2416              1.0                  1.0                1.0   \n",
       "6918              1.0                  1.0                1.0   \n",
       "\n",
       "      Contract_Two year  PaperlessBilling_Yes  \\\n",
       "2507                1.0                   1.0   \n",
       "1872                1.0                   0.0   \n",
       "681                 1.0                   1.0   \n",
       "5888                0.0                   1.0   \n",
       "3667                1.0                   1.0   \n",
       "...                 ...                   ...   \n",
       "3706                0.0                   1.0   \n",
       "657                 0.0                   0.0   \n",
       "6847                0.0                   0.0   \n",
       "2416                0.0                   1.0   \n",
       "6918                0.0                   1.0   \n",
       "\n",
       "      PaymentMethod_Credit card (automatic)  PaymentMethod_Electronic check  \\\n",
       "2507                                    0.0                             1.0   \n",
       "1872                                    0.0                             0.0   \n",
       "681                                     0.0                             0.0   \n",
       "5888                                    0.0                             1.0   \n",
       "3667                                    0.0                             1.0   \n",
       "...                                     ...                             ...   \n",
       "3706                                    0.0                             0.0   \n",
       "657                                     0.0                             0.0   \n",
       "6847                                    0.0                             0.0   \n",
       "2416                                    0.0                             0.0   \n",
       "6918                                    0.0                             1.0   \n",
       "\n",
       "      PaymentMethod_Mailed check  SeniorCitizen  \n",
       "2507                         0.0            0.0  \n",
       "1872                         0.0            0.0  \n",
       "681                          0.0            0.0  \n",
       "5888                         0.0            0.0  \n",
       "3667                         0.0            1.0  \n",
       "...                          ...            ...  \n",
       "3706                         1.0            0.0  \n",
       "657                          0.0            0.0  \n",
       "6847                         1.0            0.0  \n",
       "2416                         0.0            0.0  \n",
       "6918                         0.0            0.0  \n",
       "\n",
       "[1761 rows x 92 columns]"
      ]
     },
     "execution_count": 164,
     "metadata": {},
     "output_type": "execute_result"
    }
   ],
   "source": [
    "X_testf_obj = pd.DataFrame(X_testf.drop(['MonthlyCharges','TotalCharges'], axis=1))\n",
    "X_testf_obj"
   ]
  },
  {
   "cell_type": "code",
   "execution_count": 165,
   "id": "25dd779d",
   "metadata": {
    "ExecuteTime": {
     "end_time": "2023-04-30T12:03:58.764780Z",
     "start_time": "2023-04-30T12:03:58.751237Z"
    }
   },
   "outputs": [
    {
     "data": {
      "text/plain": [
       "(1761, 92)"
      ]
     },
     "execution_count": 165,
     "metadata": {},
     "output_type": "execute_result"
    }
   ],
   "source": [
    "X_testf_obj.shape                                                               # Checking my shape of X_test_obj"
   ]
  },
  {
   "cell_type": "code",
   "execution_count": 166,
   "id": "ac172652",
   "metadata": {
    "ExecuteTime": {
     "end_time": "2023-04-30T12:04:03.523301Z",
     "start_time": "2023-04-30T12:04:03.516297Z"
    }
   },
   "outputs": [
    {
     "data": {
      "text/html": [
       "<div>\n",
       "<style scoped>\n",
       "    .dataframe tbody tr th:only-of-type {\n",
       "        vertical-align: middle;\n",
       "    }\n",
       "\n",
       "    .dataframe tbody tr th {\n",
       "        vertical-align: top;\n",
       "    }\n",
       "\n",
       "    .dataframe thead th {\n",
       "        text-align: right;\n",
       "    }\n",
       "</style>\n",
       "<table border=\"1\" class=\"dataframe\">\n",
       "  <thead>\n",
       "    <tr style=\"text-align: right;\">\n",
       "      <th></th>\n",
       "      <th>MonthlyCharges</th>\n",
       "      <th>TotalCharges</th>\n",
       "    </tr>\n",
       "  </thead>\n",
       "  <tbody>\n",
       "    <tr>\n",
       "      <th>2507</th>\n",
       "      <td>24.50</td>\n",
       "      <td>1816.20</td>\n",
       "    </tr>\n",
       "    <tr>\n",
       "      <th>1872</th>\n",
       "      <td>19.70</td>\n",
       "      <td>804.25</td>\n",
       "    </tr>\n",
       "    <tr>\n",
       "      <th>681</th>\n",
       "      <td>73.80</td>\n",
       "      <td>4616.05</td>\n",
       "    </tr>\n",
       "    <tr>\n",
       "      <th>5888</th>\n",
       "      <td>95.60</td>\n",
       "      <td>4783.50</td>\n",
       "    </tr>\n",
       "    <tr>\n",
       "      <th>3667</th>\n",
       "      <td>96.55</td>\n",
       "      <td>2263.45</td>\n",
       "    </tr>\n",
       "    <tr>\n",
       "      <th>...</th>\n",
       "      <td>...</td>\n",
       "      <td>...</td>\n",
       "    </tr>\n",
       "    <tr>\n",
       "      <th>3706</th>\n",
       "      <td>84.30</td>\n",
       "      <td>2281.60</td>\n",
       "    </tr>\n",
       "    <tr>\n",
       "      <th>657</th>\n",
       "      <td>78.80</td>\n",
       "      <td>3597.50</td>\n",
       "    </tr>\n",
       "    <tr>\n",
       "      <th>6847</th>\n",
       "      <td>55.95</td>\n",
       "      <td>1082.80</td>\n",
       "    </tr>\n",
       "    <tr>\n",
       "      <th>2416</th>\n",
       "      <td>100.50</td>\n",
       "      <td>2673.45</td>\n",
       "    </tr>\n",
       "    <tr>\n",
       "      <th>6918</th>\n",
       "      <td>103.75</td>\n",
       "      <td>3361.05</td>\n",
       "    </tr>\n",
       "  </tbody>\n",
       "</table>\n",
       "<p>1761 rows × 2 columns</p>\n",
       "</div>"
      ],
      "text/plain": [
       "      MonthlyCharges  TotalCharges\n",
       "2507           24.50       1816.20\n",
       "1872           19.70        804.25\n",
       "681            73.80       4616.05\n",
       "5888           95.60       4783.50\n",
       "3667           96.55       2263.45\n",
       "...              ...           ...\n",
       "3706           84.30       2281.60\n",
       "657            78.80       3597.50\n",
       "6847           55.95       1082.80\n",
       "2416          100.50       2673.45\n",
       "6918          103.75       3361.05\n",
       "\n",
       "[1761 rows x 2 columns]"
      ]
     },
     "execution_count": 166,
     "metadata": {},
     "output_type": "execute_result"
    }
   ],
   "source": [
    "#Splitting my Numerical Data Frame from X_test to perform Standardization.\n",
    "\n",
    "X_testf_num = X_testf[['MonthlyCharges','TotalCharges']]\n",
    "X_testf_num"
   ]
  },
  {
   "cell_type": "code",
   "execution_count": 167,
   "id": "fa1b28e4",
   "metadata": {
    "ExecuteTime": {
     "end_time": "2023-04-30T12:04:05.187016Z",
     "start_time": "2023-04-30T12:04:05.158094Z"
    }
   },
   "outputs": [
    {
     "data": {
      "text/html": [
       "<div>\n",
       "<style scoped>\n",
       "    .dataframe tbody tr th:only-of-type {\n",
       "        vertical-align: middle;\n",
       "    }\n",
       "\n",
       "    .dataframe tbody tr th {\n",
       "        vertical-align: top;\n",
       "    }\n",
       "\n",
       "    .dataframe thead th {\n",
       "        text-align: right;\n",
       "    }\n",
       "</style>\n",
       "<table border=\"1\" class=\"dataframe\">\n",
       "  <thead>\n",
       "    <tr style=\"text-align: right;\">\n",
       "      <th></th>\n",
       "      <th>gender_Male</th>\n",
       "      <th>Partner_Yes</th>\n",
       "      <th>Dependents_Yes</th>\n",
       "      <th>tenure_1</th>\n",
       "      <th>tenure_2</th>\n",
       "      <th>tenure_3</th>\n",
       "      <th>tenure_4</th>\n",
       "      <th>tenure_5</th>\n",
       "      <th>tenure_6</th>\n",
       "      <th>tenure_7</th>\n",
       "      <th>...</th>\n",
       "      <th>TechSupport_Yes</th>\n",
       "      <th>StreamingTV_Yes</th>\n",
       "      <th>StreamingMovies_Yes</th>\n",
       "      <th>Contract_One year</th>\n",
       "      <th>Contract_Two year</th>\n",
       "      <th>PaperlessBilling_Yes</th>\n",
       "      <th>PaymentMethod_Credit card (automatic)</th>\n",
       "      <th>PaymentMethod_Electronic check</th>\n",
       "      <th>PaymentMethod_Mailed check</th>\n",
       "      <th>SeniorCitizen</th>\n",
       "    </tr>\n",
       "  </thead>\n",
       "  <tbody>\n",
       "    <tr>\n",
       "      <th>2507</th>\n",
       "      <td>1.0</td>\n",
       "      <td>1.0</td>\n",
       "      <td>0.0</td>\n",
       "      <td>0.0</td>\n",
       "      <td>0.0</td>\n",
       "      <td>0.0</td>\n",
       "      <td>0.0</td>\n",
       "      <td>0.0</td>\n",
       "      <td>0.0</td>\n",
       "      <td>0.0</td>\n",
       "      <td>...</td>\n",
       "      <td>0.0</td>\n",
       "      <td>0.0</td>\n",
       "      <td>0.0</td>\n",
       "      <td>0.0</td>\n",
       "      <td>1.0</td>\n",
       "      <td>1.0</td>\n",
       "      <td>0.0</td>\n",
       "      <td>1.0</td>\n",
       "      <td>0.0</td>\n",
       "      <td>0.0</td>\n",
       "    </tr>\n",
       "    <tr>\n",
       "      <th>1872</th>\n",
       "      <td>0.0</td>\n",
       "      <td>1.0</td>\n",
       "      <td>1.0</td>\n",
       "      <td>0.0</td>\n",
       "      <td>0.0</td>\n",
       "      <td>0.0</td>\n",
       "      <td>0.0</td>\n",
       "      <td>0.0</td>\n",
       "      <td>0.0</td>\n",
       "      <td>0.0</td>\n",
       "      <td>...</td>\n",
       "      <td>0.0</td>\n",
       "      <td>0.0</td>\n",
       "      <td>0.0</td>\n",
       "      <td>0.0</td>\n",
       "      <td>1.0</td>\n",
       "      <td>0.0</td>\n",
       "      <td>0.0</td>\n",
       "      <td>0.0</td>\n",
       "      <td>0.0</td>\n",
       "      <td>0.0</td>\n",
       "    </tr>\n",
       "    <tr>\n",
       "      <th>681</th>\n",
       "      <td>0.0</td>\n",
       "      <td>1.0</td>\n",
       "      <td>1.0</td>\n",
       "      <td>0.0</td>\n",
       "      <td>0.0</td>\n",
       "      <td>0.0</td>\n",
       "      <td>0.0</td>\n",
       "      <td>0.0</td>\n",
       "      <td>0.0</td>\n",
       "      <td>0.0</td>\n",
       "      <td>...</td>\n",
       "      <td>1.0</td>\n",
       "      <td>1.0</td>\n",
       "      <td>1.0</td>\n",
       "      <td>0.0</td>\n",
       "      <td>1.0</td>\n",
       "      <td>1.0</td>\n",
       "      <td>0.0</td>\n",
       "      <td>0.0</td>\n",
       "      <td>0.0</td>\n",
       "      <td>0.0</td>\n",
       "    </tr>\n",
       "    <tr>\n",
       "      <th>5888</th>\n",
       "      <td>0.0</td>\n",
       "      <td>1.0</td>\n",
       "      <td>1.0</td>\n",
       "      <td>0.0</td>\n",
       "      <td>0.0</td>\n",
       "      <td>0.0</td>\n",
       "      <td>0.0</td>\n",
       "      <td>0.0</td>\n",
       "      <td>0.0</td>\n",
       "      <td>0.0</td>\n",
       "      <td>...</td>\n",
       "      <td>0.0</td>\n",
       "      <td>1.0</td>\n",
       "      <td>1.0</td>\n",
       "      <td>0.0</td>\n",
       "      <td>0.0</td>\n",
       "      <td>1.0</td>\n",
       "      <td>0.0</td>\n",
       "      <td>1.0</td>\n",
       "      <td>0.0</td>\n",
       "      <td>0.0</td>\n",
       "    </tr>\n",
       "    <tr>\n",
       "      <th>3667</th>\n",
       "      <td>0.0</td>\n",
       "      <td>1.0</td>\n",
       "      <td>1.0</td>\n",
       "      <td>0.0</td>\n",
       "      <td>0.0</td>\n",
       "      <td>0.0</td>\n",
       "      <td>0.0</td>\n",
       "      <td>0.0</td>\n",
       "      <td>0.0</td>\n",
       "      <td>0.0</td>\n",
       "      <td>...</td>\n",
       "      <td>0.0</td>\n",
       "      <td>1.0</td>\n",
       "      <td>1.0</td>\n",
       "      <td>0.0</td>\n",
       "      <td>1.0</td>\n",
       "      <td>1.0</td>\n",
       "      <td>0.0</td>\n",
       "      <td>1.0</td>\n",
       "      <td>0.0</td>\n",
       "      <td>1.0</td>\n",
       "    </tr>\n",
       "  </tbody>\n",
       "</table>\n",
       "<p>5 rows × 92 columns</p>\n",
       "</div>"
      ],
      "text/plain": [
       "      gender_Male  Partner_Yes  Dependents_Yes  tenure_1  tenure_2  tenure_3  \\\n",
       "2507          1.0          1.0             0.0       0.0       0.0       0.0   \n",
       "1872          0.0          1.0             1.0       0.0       0.0       0.0   \n",
       "681           0.0          1.0             1.0       0.0       0.0       0.0   \n",
       "5888          0.0          1.0             1.0       0.0       0.0       0.0   \n",
       "3667          0.0          1.0             1.0       0.0       0.0       0.0   \n",
       "\n",
       "      tenure_4  tenure_5  tenure_6  tenure_7  ...  TechSupport_Yes  \\\n",
       "2507       0.0       0.0       0.0       0.0  ...              0.0   \n",
       "1872       0.0       0.0       0.0       0.0  ...              0.0   \n",
       "681        0.0       0.0       0.0       0.0  ...              1.0   \n",
       "5888       0.0       0.0       0.0       0.0  ...              0.0   \n",
       "3667       0.0       0.0       0.0       0.0  ...              0.0   \n",
       "\n",
       "      StreamingTV_Yes  StreamingMovies_Yes  Contract_One year  \\\n",
       "2507              0.0                  0.0                0.0   \n",
       "1872              0.0                  0.0                0.0   \n",
       "681               1.0                  1.0                0.0   \n",
       "5888              1.0                  1.0                0.0   \n",
       "3667              1.0                  1.0                0.0   \n",
       "\n",
       "      Contract_Two year  PaperlessBilling_Yes  \\\n",
       "2507                1.0                   1.0   \n",
       "1872                1.0                   0.0   \n",
       "681                 1.0                   1.0   \n",
       "5888                0.0                   1.0   \n",
       "3667                1.0                   1.0   \n",
       "\n",
       "      PaymentMethod_Credit card (automatic)  PaymentMethod_Electronic check  \\\n",
       "2507                                    0.0                             1.0   \n",
       "1872                                    0.0                             0.0   \n",
       "681                                     0.0                             0.0   \n",
       "5888                                    0.0                             1.0   \n",
       "3667                                    0.0                             1.0   \n",
       "\n",
       "      PaymentMethod_Mailed check  SeniorCitizen  \n",
       "2507                         0.0            0.0  \n",
       "1872                         0.0            0.0  \n",
       "681                          0.0            0.0  \n",
       "5888                         0.0            0.0  \n",
       "3667                         0.0            1.0  \n",
       "\n",
       "[5 rows x 92 columns]"
      ]
     },
     "execution_count": 167,
     "metadata": {},
     "output_type": "execute_result"
    }
   ],
   "source": [
    "X_testf_obj.head()                                                              #Checking X_test_obj."
   ]
  },
  {
   "cell_type": "code",
   "execution_count": 169,
   "id": "34bcfdac",
   "metadata": {
    "ExecuteTime": {
     "end_time": "2023-04-30T12:04:13.681828Z",
     "start_time": "2023-04-30T12:04:13.659924Z"
    }
   },
   "outputs": [
    {
     "data": {
      "text/html": [
       "<div>\n",
       "<style scoped>\n",
       "    .dataframe tbody tr th:only-of-type {\n",
       "        vertical-align: middle;\n",
       "    }\n",
       "\n",
       "    .dataframe tbody tr th {\n",
       "        vertical-align: top;\n",
       "    }\n",
       "\n",
       "    .dataframe thead th {\n",
       "        text-align: right;\n",
       "    }\n",
       "</style>\n",
       "<table border=\"1\" class=\"dataframe\">\n",
       "  <thead>\n",
       "    <tr style=\"text-align: right;\">\n",
       "      <th></th>\n",
       "      <th>MonthlyCharges</th>\n",
       "      <th>TotalCharges</th>\n",
       "    </tr>\n",
       "  </thead>\n",
       "  <tbody>\n",
       "    <tr>\n",
       "      <th>2507</th>\n",
       "      <td>24.50</td>\n",
       "      <td>1816.20</td>\n",
       "    </tr>\n",
       "    <tr>\n",
       "      <th>1872</th>\n",
       "      <td>19.70</td>\n",
       "      <td>804.25</td>\n",
       "    </tr>\n",
       "    <tr>\n",
       "      <th>681</th>\n",
       "      <td>73.80</td>\n",
       "      <td>4616.05</td>\n",
       "    </tr>\n",
       "    <tr>\n",
       "      <th>5888</th>\n",
       "      <td>95.60</td>\n",
       "      <td>4783.50</td>\n",
       "    </tr>\n",
       "    <tr>\n",
       "      <th>3667</th>\n",
       "      <td>96.55</td>\n",
       "      <td>2263.45</td>\n",
       "    </tr>\n",
       "  </tbody>\n",
       "</table>\n",
       "</div>"
      ],
      "text/plain": [
       "      MonthlyCharges  TotalCharges\n",
       "2507           24.50       1816.20\n",
       "1872           19.70        804.25\n",
       "681            73.80       4616.05\n",
       "5888           95.60       4783.50\n",
       "3667           96.55       2263.45"
      ]
     },
     "execution_count": 169,
     "metadata": {},
     "output_type": "execute_result"
    }
   ],
   "source": [
    "X_testf_num.head()                                                              #Checking X_test_num."
   ]
  },
  {
   "cell_type": "code",
   "execution_count": 99,
   "id": "a9868824",
   "metadata": {
    "ExecuteTime": {
     "end_time": "2023-04-30T11:33:33.774210Z",
     "start_time": "2023-04-30T11:33:33.765234Z"
    }
   },
   "outputs": [],
   "source": [
    "#X_test_obj_oe = pd.DataFrame(oe.transform(X_test_obj), index=X_test_obj.index,\\\n",
    "            #columns=oe.get_feature_names(X_test_obj.columns))"
   ]
  },
  {
   "cell_type": "code",
   "execution_count": 170,
   "id": "5c3281bf",
   "metadata": {
    "ExecuteTime": {
     "end_time": "2023-04-30T12:04:27.851278Z",
     "start_time": "2023-04-30T12:04:27.828294Z"
    }
   },
   "outputs": [
    {
     "data": {
      "text/html": [
       "<div>\n",
       "<style scoped>\n",
       "    .dataframe tbody tr th:only-of-type {\n",
       "        vertical-align: middle;\n",
       "    }\n",
       "\n",
       "    .dataframe tbody tr th {\n",
       "        vertical-align: top;\n",
       "    }\n",
       "\n",
       "    .dataframe thead th {\n",
       "        text-align: right;\n",
       "    }\n",
       "</style>\n",
       "<table border=\"1\" class=\"dataframe\">\n",
       "  <thead>\n",
       "    <tr style=\"text-align: right;\">\n",
       "      <th></th>\n",
       "      <th>MonthlyCharges</th>\n",
       "      <th>TotalCharges</th>\n",
       "    </tr>\n",
       "  </thead>\n",
       "  <tbody>\n",
       "    <tr>\n",
       "      <th>2507</th>\n",
       "      <td>-1.349647</td>\n",
       "      <td>-0.210623</td>\n",
       "    </tr>\n",
       "    <tr>\n",
       "      <th>1872</th>\n",
       "      <td>-1.509254</td>\n",
       "      <td>-0.657164</td>\n",
       "    </tr>\n",
       "    <tr>\n",
       "      <th>681</th>\n",
       "      <td>0.289651</td>\n",
       "      <td>1.024861</td>\n",
       "    </tr>\n",
       "    <tr>\n",
       "      <th>5888</th>\n",
       "      <td>1.014533</td>\n",
       "      <td>1.098751</td>\n",
       "    </tr>\n",
       "    <tr>\n",
       "      <th>3667</th>\n",
       "      <td>1.046122</td>\n",
       "      <td>-0.013266</td>\n",
       "    </tr>\n",
       "    <tr>\n",
       "      <th>...</th>\n",
       "      <td>...</td>\n",
       "      <td>...</td>\n",
       "    </tr>\n",
       "    <tr>\n",
       "      <th>3706</th>\n",
       "      <td>0.638792</td>\n",
       "      <td>-0.005257</td>\n",
       "    </tr>\n",
       "    <tr>\n",
       "      <th>657</th>\n",
       "      <td>0.455908</td>\n",
       "      <td>0.575407</td>\n",
       "    </tr>\n",
       "    <tr>\n",
       "      <th>6847</th>\n",
       "      <td>-0.303888</td>\n",
       "      <td>-0.534249</td>\n",
       "    </tr>\n",
       "    <tr>\n",
       "      <th>2416</th>\n",
       "      <td>1.177466</td>\n",
       "      <td>0.167654</td>\n",
       "    </tr>\n",
       "    <tr>\n",
       "      <th>6918</th>\n",
       "      <td>1.285533</td>\n",
       "      <td>0.471070</td>\n",
       "    </tr>\n",
       "  </tbody>\n",
       "</table>\n",
       "<p>1761 rows × 2 columns</p>\n",
       "</div>"
      ],
      "text/plain": [
       "      MonthlyCharges  TotalCharges\n",
       "2507       -1.349647     -0.210623\n",
       "1872       -1.509254     -0.657164\n",
       "681         0.289651      1.024861\n",
       "5888        1.014533      1.098751\n",
       "3667        1.046122     -0.013266\n",
       "...              ...           ...\n",
       "3706        0.638792     -0.005257\n",
       "657         0.455908      0.575407\n",
       "6847       -0.303888     -0.534249\n",
       "2416        1.177466      0.167654\n",
       "6918        1.285533      0.471070\n",
       "\n",
       "[1761 rows x 2 columns]"
      ]
     },
     "execution_count": 170,
     "metadata": {},
     "output_type": "execute_result"
    }
   ],
   "source": [
    "#Performing Standarization on my Numerical Columns.\n",
    "\n",
    "X_testf_num_sc = pd.DataFrame(sc.transform(X_testf_num), index=X_testf_num.index,columns= X_testf_num.columns)\n",
    "X_testf_num_sc"
   ]
  },
  {
   "cell_type": "code",
   "execution_count": 126,
   "id": "168ea6b5",
   "metadata": {
    "ExecuteTime": {
     "end_time": "2023-04-30T11:43:53.684617Z",
     "start_time": "2023-04-30T11:43:53.670655Z"
    }
   },
   "outputs": [],
   "source": [
    "# Combinig my catogorical and Numerical DataFrame to Train my Model.\n",
    "\n",
    "X_testf_processed = X_testf_num_sc.merge(X_testf_obj, left_index=True, right_index=True)"
   ]
  },
  {
   "cell_type": "code",
   "execution_count": 127,
   "id": "5225239a",
   "metadata": {
    "ExecuteTime": {
     "end_time": "2023-04-30T11:43:59.595427Z",
     "start_time": "2023-04-30T11:43:59.566470Z"
    }
   },
   "outputs": [
    {
     "data": {
      "text/html": [
       "<div>\n",
       "<style scoped>\n",
       "    .dataframe tbody tr th:only-of-type {\n",
       "        vertical-align: middle;\n",
       "    }\n",
       "\n",
       "    .dataframe tbody tr th {\n",
       "        vertical-align: top;\n",
       "    }\n",
       "\n",
       "    .dataframe thead th {\n",
       "        text-align: right;\n",
       "    }\n",
       "</style>\n",
       "<table border=\"1\" class=\"dataframe\">\n",
       "  <thead>\n",
       "    <tr style=\"text-align: right;\">\n",
       "      <th></th>\n",
       "      <th>MonthlyCharges</th>\n",
       "      <th>TotalCharges</th>\n",
       "      <th>gender_Male</th>\n",
       "      <th>Partner_Yes</th>\n",
       "      <th>Dependents_Yes</th>\n",
       "      <th>tenure_1</th>\n",
       "      <th>tenure_2</th>\n",
       "      <th>tenure_3</th>\n",
       "      <th>tenure_4</th>\n",
       "      <th>tenure_5</th>\n",
       "      <th>...</th>\n",
       "      <th>TechSupport_Yes</th>\n",
       "      <th>StreamingTV_Yes</th>\n",
       "      <th>StreamingMovies_Yes</th>\n",
       "      <th>Contract_One year</th>\n",
       "      <th>Contract_Two year</th>\n",
       "      <th>PaperlessBilling_Yes</th>\n",
       "      <th>PaymentMethod_Credit card (automatic)</th>\n",
       "      <th>PaymentMethod_Electronic check</th>\n",
       "      <th>PaymentMethod_Mailed check</th>\n",
       "      <th>SeniorCitizen</th>\n",
       "    </tr>\n",
       "  </thead>\n",
       "  <tbody>\n",
       "    <tr>\n",
       "      <th>2507</th>\n",
       "      <td>-1.349647</td>\n",
       "      <td>-0.210623</td>\n",
       "      <td>1.0</td>\n",
       "      <td>1.0</td>\n",
       "      <td>0.0</td>\n",
       "      <td>0.0</td>\n",
       "      <td>0.0</td>\n",
       "      <td>0.0</td>\n",
       "      <td>0.0</td>\n",
       "      <td>0.0</td>\n",
       "      <td>...</td>\n",
       "      <td>0.0</td>\n",
       "      <td>0.0</td>\n",
       "      <td>0.0</td>\n",
       "      <td>0.0</td>\n",
       "      <td>1.0</td>\n",
       "      <td>1.0</td>\n",
       "      <td>0.0</td>\n",
       "      <td>1.0</td>\n",
       "      <td>0.0</td>\n",
       "      <td>0.0</td>\n",
       "    </tr>\n",
       "    <tr>\n",
       "      <th>1872</th>\n",
       "      <td>-1.509254</td>\n",
       "      <td>-0.657164</td>\n",
       "      <td>0.0</td>\n",
       "      <td>1.0</td>\n",
       "      <td>1.0</td>\n",
       "      <td>0.0</td>\n",
       "      <td>0.0</td>\n",
       "      <td>0.0</td>\n",
       "      <td>0.0</td>\n",
       "      <td>0.0</td>\n",
       "      <td>...</td>\n",
       "      <td>0.0</td>\n",
       "      <td>0.0</td>\n",
       "      <td>0.0</td>\n",
       "      <td>0.0</td>\n",
       "      <td>1.0</td>\n",
       "      <td>0.0</td>\n",
       "      <td>0.0</td>\n",
       "      <td>0.0</td>\n",
       "      <td>0.0</td>\n",
       "      <td>0.0</td>\n",
       "    </tr>\n",
       "    <tr>\n",
       "      <th>681</th>\n",
       "      <td>0.289651</td>\n",
       "      <td>1.024861</td>\n",
       "      <td>0.0</td>\n",
       "      <td>1.0</td>\n",
       "      <td>1.0</td>\n",
       "      <td>0.0</td>\n",
       "      <td>0.0</td>\n",
       "      <td>0.0</td>\n",
       "      <td>0.0</td>\n",
       "      <td>0.0</td>\n",
       "      <td>...</td>\n",
       "      <td>1.0</td>\n",
       "      <td>1.0</td>\n",
       "      <td>1.0</td>\n",
       "      <td>0.0</td>\n",
       "      <td>1.0</td>\n",
       "      <td>1.0</td>\n",
       "      <td>0.0</td>\n",
       "      <td>0.0</td>\n",
       "      <td>0.0</td>\n",
       "      <td>0.0</td>\n",
       "    </tr>\n",
       "    <tr>\n",
       "      <th>5888</th>\n",
       "      <td>1.014533</td>\n",
       "      <td>1.098751</td>\n",
       "      <td>0.0</td>\n",
       "      <td>1.0</td>\n",
       "      <td>1.0</td>\n",
       "      <td>0.0</td>\n",
       "      <td>0.0</td>\n",
       "      <td>0.0</td>\n",
       "      <td>0.0</td>\n",
       "      <td>0.0</td>\n",
       "      <td>...</td>\n",
       "      <td>0.0</td>\n",
       "      <td>1.0</td>\n",
       "      <td>1.0</td>\n",
       "      <td>0.0</td>\n",
       "      <td>0.0</td>\n",
       "      <td>1.0</td>\n",
       "      <td>0.0</td>\n",
       "      <td>1.0</td>\n",
       "      <td>0.0</td>\n",
       "      <td>0.0</td>\n",
       "    </tr>\n",
       "    <tr>\n",
       "      <th>3667</th>\n",
       "      <td>1.046122</td>\n",
       "      <td>-0.013266</td>\n",
       "      <td>0.0</td>\n",
       "      <td>1.0</td>\n",
       "      <td>1.0</td>\n",
       "      <td>0.0</td>\n",
       "      <td>0.0</td>\n",
       "      <td>0.0</td>\n",
       "      <td>0.0</td>\n",
       "      <td>0.0</td>\n",
       "      <td>...</td>\n",
       "      <td>0.0</td>\n",
       "      <td>1.0</td>\n",
       "      <td>1.0</td>\n",
       "      <td>0.0</td>\n",
       "      <td>1.0</td>\n",
       "      <td>1.0</td>\n",
       "      <td>0.0</td>\n",
       "      <td>1.0</td>\n",
       "      <td>0.0</td>\n",
       "      <td>1.0</td>\n",
       "    </tr>\n",
       "    <tr>\n",
       "      <th>...</th>\n",
       "      <td>...</td>\n",
       "      <td>...</td>\n",
       "      <td>...</td>\n",
       "      <td>...</td>\n",
       "      <td>...</td>\n",
       "      <td>...</td>\n",
       "      <td>...</td>\n",
       "      <td>...</td>\n",
       "      <td>...</td>\n",
       "      <td>...</td>\n",
       "      <td>...</td>\n",
       "      <td>...</td>\n",
       "      <td>...</td>\n",
       "      <td>...</td>\n",
       "      <td>...</td>\n",
       "      <td>...</td>\n",
       "      <td>...</td>\n",
       "      <td>...</td>\n",
       "      <td>...</td>\n",
       "      <td>...</td>\n",
       "      <td>...</td>\n",
       "    </tr>\n",
       "    <tr>\n",
       "      <th>3706</th>\n",
       "      <td>0.638792</td>\n",
       "      <td>-0.005257</td>\n",
       "      <td>1.0</td>\n",
       "      <td>0.0</td>\n",
       "      <td>0.0</td>\n",
       "      <td>0.0</td>\n",
       "      <td>0.0</td>\n",
       "      <td>0.0</td>\n",
       "      <td>0.0</td>\n",
       "      <td>0.0</td>\n",
       "      <td>...</td>\n",
       "      <td>1.0</td>\n",
       "      <td>0.0</td>\n",
       "      <td>0.0</td>\n",
       "      <td>0.0</td>\n",
       "      <td>0.0</td>\n",
       "      <td>1.0</td>\n",
       "      <td>0.0</td>\n",
       "      <td>0.0</td>\n",
       "      <td>1.0</td>\n",
       "      <td>0.0</td>\n",
       "    </tr>\n",
       "    <tr>\n",
       "      <th>657</th>\n",
       "      <td>0.455908</td>\n",
       "      <td>0.575407</td>\n",
       "      <td>1.0</td>\n",
       "      <td>1.0</td>\n",
       "      <td>0.0</td>\n",
       "      <td>0.0</td>\n",
       "      <td>0.0</td>\n",
       "      <td>0.0</td>\n",
       "      <td>0.0</td>\n",
       "      <td>0.0</td>\n",
       "      <td>...</td>\n",
       "      <td>0.0</td>\n",
       "      <td>1.0</td>\n",
       "      <td>1.0</td>\n",
       "      <td>1.0</td>\n",
       "      <td>0.0</td>\n",
       "      <td>0.0</td>\n",
       "      <td>0.0</td>\n",
       "      <td>0.0</td>\n",
       "      <td>0.0</td>\n",
       "      <td>0.0</td>\n",
       "    </tr>\n",
       "    <tr>\n",
       "      <th>6847</th>\n",
       "      <td>-0.303888</td>\n",
       "      <td>-0.534249</td>\n",
       "      <td>0.0</td>\n",
       "      <td>1.0</td>\n",
       "      <td>1.0</td>\n",
       "      <td>0.0</td>\n",
       "      <td>0.0</td>\n",
       "      <td>0.0</td>\n",
       "      <td>0.0</td>\n",
       "      <td>0.0</td>\n",
       "      <td>...</td>\n",
       "      <td>0.0</td>\n",
       "      <td>1.0</td>\n",
       "      <td>0.0</td>\n",
       "      <td>0.0</td>\n",
       "      <td>0.0</td>\n",
       "      <td>0.0</td>\n",
       "      <td>0.0</td>\n",
       "      <td>0.0</td>\n",
       "      <td>1.0</td>\n",
       "      <td>0.0</td>\n",
       "    </tr>\n",
       "    <tr>\n",
       "      <th>2416</th>\n",
       "      <td>1.177466</td>\n",
       "      <td>0.167654</td>\n",
       "      <td>1.0</td>\n",
       "      <td>0.0</td>\n",
       "      <td>0.0</td>\n",
       "      <td>0.0</td>\n",
       "      <td>0.0</td>\n",
       "      <td>0.0</td>\n",
       "      <td>0.0</td>\n",
       "      <td>0.0</td>\n",
       "      <td>...</td>\n",
       "      <td>0.0</td>\n",
       "      <td>1.0</td>\n",
       "      <td>1.0</td>\n",
       "      <td>1.0</td>\n",
       "      <td>0.0</td>\n",
       "      <td>1.0</td>\n",
       "      <td>0.0</td>\n",
       "      <td>0.0</td>\n",
       "      <td>0.0</td>\n",
       "      <td>0.0</td>\n",
       "    </tr>\n",
       "    <tr>\n",
       "      <th>6918</th>\n",
       "      <td>1.285533</td>\n",
       "      <td>0.471070</td>\n",
       "      <td>0.0</td>\n",
       "      <td>1.0</td>\n",
       "      <td>0.0</td>\n",
       "      <td>0.0</td>\n",
       "      <td>0.0</td>\n",
       "      <td>0.0</td>\n",
       "      <td>0.0</td>\n",
       "      <td>0.0</td>\n",
       "      <td>...</td>\n",
       "      <td>1.0</td>\n",
       "      <td>1.0</td>\n",
       "      <td>1.0</td>\n",
       "      <td>1.0</td>\n",
       "      <td>0.0</td>\n",
       "      <td>1.0</td>\n",
       "      <td>0.0</td>\n",
       "      <td>1.0</td>\n",
       "      <td>0.0</td>\n",
       "      <td>0.0</td>\n",
       "    </tr>\n",
       "  </tbody>\n",
       "</table>\n",
       "<p>1761 rows × 94 columns</p>\n",
       "</div>"
      ],
      "text/plain": [
       "      MonthlyCharges  TotalCharges  gender_Male  Partner_Yes  Dependents_Yes  \\\n",
       "2507       -1.349647     -0.210623          1.0          1.0             0.0   \n",
       "1872       -1.509254     -0.657164          0.0          1.0             1.0   \n",
       "681         0.289651      1.024861          0.0          1.0             1.0   \n",
       "5888        1.014533      1.098751          0.0          1.0             1.0   \n",
       "3667        1.046122     -0.013266          0.0          1.0             1.0   \n",
       "...              ...           ...          ...          ...             ...   \n",
       "3706        0.638792     -0.005257          1.0          0.0             0.0   \n",
       "657         0.455908      0.575407          1.0          1.0             0.0   \n",
       "6847       -0.303888     -0.534249          0.0          1.0             1.0   \n",
       "2416        1.177466      0.167654          1.0          0.0             0.0   \n",
       "6918        1.285533      0.471070          0.0          1.0             0.0   \n",
       "\n",
       "      tenure_1  tenure_2  tenure_3  tenure_4  tenure_5  ...  TechSupport_Yes  \\\n",
       "2507       0.0       0.0       0.0       0.0       0.0  ...              0.0   \n",
       "1872       0.0       0.0       0.0       0.0       0.0  ...              0.0   \n",
       "681        0.0       0.0       0.0       0.0       0.0  ...              1.0   \n",
       "5888       0.0       0.0       0.0       0.0       0.0  ...              0.0   \n",
       "3667       0.0       0.0       0.0       0.0       0.0  ...              0.0   \n",
       "...        ...       ...       ...       ...       ...  ...              ...   \n",
       "3706       0.0       0.0       0.0       0.0       0.0  ...              1.0   \n",
       "657        0.0       0.0       0.0       0.0       0.0  ...              0.0   \n",
       "6847       0.0       0.0       0.0       0.0       0.0  ...              0.0   \n",
       "2416       0.0       0.0       0.0       0.0       0.0  ...              0.0   \n",
       "6918       0.0       0.0       0.0       0.0       0.0  ...              1.0   \n",
       "\n",
       "      StreamingTV_Yes  StreamingMovies_Yes  Contract_One year  \\\n",
       "2507              0.0                  0.0                0.0   \n",
       "1872              0.0                  0.0                0.0   \n",
       "681               1.0                  1.0                0.0   \n",
       "5888              1.0                  1.0                0.0   \n",
       "3667              1.0                  1.0                0.0   \n",
       "...               ...                  ...                ...   \n",
       "3706              0.0                  0.0                0.0   \n",
       "657               1.0                  1.0                1.0   \n",
       "6847              1.0                  0.0                0.0   \n",
       "2416              1.0                  1.0                1.0   \n",
       "6918              1.0                  1.0                1.0   \n",
       "\n",
       "      Contract_Two year  PaperlessBilling_Yes  \\\n",
       "2507                1.0                   1.0   \n",
       "1872                1.0                   0.0   \n",
       "681                 1.0                   1.0   \n",
       "5888                0.0                   1.0   \n",
       "3667                1.0                   1.0   \n",
       "...                 ...                   ...   \n",
       "3706                0.0                   1.0   \n",
       "657                 0.0                   0.0   \n",
       "6847                0.0                   0.0   \n",
       "2416                0.0                   1.0   \n",
       "6918                0.0                   1.0   \n",
       "\n",
       "      PaymentMethod_Credit card (automatic)  PaymentMethod_Electronic check  \\\n",
       "2507                                    0.0                             1.0   \n",
       "1872                                    0.0                             0.0   \n",
       "681                                     0.0                             0.0   \n",
       "5888                                    0.0                             1.0   \n",
       "3667                                    0.0                             1.0   \n",
       "...                                     ...                             ...   \n",
       "3706                                    0.0                             0.0   \n",
       "657                                     0.0                             0.0   \n",
       "6847                                    0.0                             0.0   \n",
       "2416                                    0.0                             0.0   \n",
       "6918                                    0.0                             1.0   \n",
       "\n",
       "      PaymentMethod_Mailed check  SeniorCitizen  \n",
       "2507                         0.0            0.0  \n",
       "1872                         0.0            0.0  \n",
       "681                          0.0            0.0  \n",
       "5888                         0.0            0.0  \n",
       "3667                         0.0            1.0  \n",
       "...                          ...            ...  \n",
       "3706                         1.0            0.0  \n",
       "657                          0.0            0.0  \n",
       "6847                         1.0            0.0  \n",
       "2416                         0.0            0.0  \n",
       "6918                         0.0            0.0  \n",
       "\n",
       "[1761 rows x 94 columns]"
      ]
     },
     "execution_count": 127,
     "metadata": {},
     "output_type": "execute_result"
    }
   ],
   "source": [
    "X_testf_processed"
   ]
  },
  {
   "cell_type": "code",
   "execution_count": 128,
   "id": "3d4adb97",
   "metadata": {
    "ExecuteTime": {
     "end_time": "2023-04-30T11:44:12.915273Z",
     "start_time": "2023-04-30T11:44:12.902309Z"
    }
   },
   "outputs": [
    {
     "data": {
      "text/plain": [
       "(1761, 94)"
      ]
     },
     "execution_count": 128,
     "metadata": {},
     "output_type": "execute_result"
    }
   ],
   "source": [
    "X_testf_processed.shape                                                        # Checking the shape of our testing DF."
   ]
  },
  {
   "cell_type": "markdown",
   "id": "a50b4304",
   "metadata": {},
   "source": [
    "# Training my Model using different Algorithms"
   ]
  },
  {
   "cell_type": "code",
   "execution_count": 129,
   "id": "5ac476f4",
   "metadata": {
    "ExecuteTime": {
     "end_time": "2023-04-30T11:44:26.625419Z",
     "start_time": "2023-04-30T11:44:26.603462Z"
    }
   },
   "outputs": [],
   "source": [
    "# Importing all our required Algorithms.\n",
    "\n",
    "from sklearn.linear_model import LogisticRegression\n",
    "from sklearn.tree import DecisionTreeClassifier\n",
    "from sklearn.ensemble import RandomForestClassifier\n",
    "from sklearn.neighbors import KNeighborsClassifier\n",
    "from sklearn.naive_bayes import GaussianNB\n",
    "from sklearn.svm import SVC\n"
   ]
  },
  {
   "cell_type": "code",
   "execution_count": 130,
   "id": "4f1bbbcb",
   "metadata": {
    "ExecuteTime": {
     "end_time": "2023-04-30T11:44:28.027455Z",
     "start_time": "2023-04-30T11:44:28.013459Z"
    }
   },
   "outputs": [],
   "source": [
    "# Assigning variables to our methods\n",
    "\n",
    "lr = LogisticRegression()\n",
    "dt = DecisionTreeClassifier()\n",
    "rf = RandomForestClassifier()\n",
    "knn = KNeighborsClassifier()\n",
    "gnb = GaussianNB()\n",
    "svc = SVC()"
   ]
  },
  {
   "cell_type": "markdown",
   "id": "0b338ac6",
   "metadata": {},
   "source": [
    "## Training Model using KNN Imputed Values"
   ]
  },
  {
   "cell_type": "code",
   "execution_count": 131,
   "id": "ae1cc33a",
   "metadata": {
    "ExecuteTime": {
     "end_time": "2023-04-30T11:45:21.660642Z",
     "start_time": "2023-04-30T11:45:20.084659Z"
    }
   },
   "outputs": [
    {
     "name": "stderr",
     "output_type": "stream",
     "text": [
      "C:\\Users\\K.V.N\\anaconda3\\lib\\site-packages\\sklearn\\linear_model\\_logistic.py:763: ConvergenceWarning: lbfgs failed to converge (status=1):\n",
      "STOP: TOTAL NO. of ITERATIONS REACHED LIMIT.\n",
      "\n",
      "Increase the number of iterations (max_iter) or scale the data as shown in:\n",
      "    https://scikit-learn.org/stable/modules/preprocessing.html\n",
      "Please also refer to the documentation for alternative solver options:\n",
      "    https://scikit-learn.org/stable/modules/linear_model.html#logistic-regression\n",
      "  n_iter_i = _check_optimize_result(\n"
     ]
    },
    {
     "data": {
      "text/plain": [
       "LogisticRegression()"
      ]
     },
     "execution_count": 131,
     "metadata": {},
     "output_type": "execute_result"
    },
    {
     "data": {
      "text/plain": [
       "DecisionTreeClassifier()"
      ]
     },
     "execution_count": 131,
     "metadata": {},
     "output_type": "execute_result"
    },
    {
     "data": {
      "text/plain": [
       "RandomForestClassifier()"
      ]
     },
     "execution_count": 131,
     "metadata": {},
     "output_type": "execute_result"
    },
    {
     "data": {
      "text/plain": [
       "KNeighborsClassifier()"
      ]
     },
     "execution_count": 131,
     "metadata": {},
     "output_type": "execute_result"
    },
    {
     "data": {
      "text/plain": [
       "GaussianNB()"
      ]
     },
     "execution_count": 131,
     "metadata": {},
     "output_type": "execute_result"
    },
    {
     "data": {
      "text/plain": [
       "SVC()"
      ]
     },
     "execution_count": 131,
     "metadata": {},
     "output_type": "execute_result"
    }
   ],
   "source": [
    "# Training or model using different Algorithm methods\n",
    "\n",
    "lr.fit(X_train_processed, Y_train)\n",
    "dt.fit(X_train_processed, Y_train)\n",
    "rf.fit(X_train_processed, Y_train)\n",
    "knn.fit(X_train_processed, Y_train)\n",
    "gnb.fit(X_train_processed, Y_train)\n",
    "svc.fit(X_train_processed, Y_train)"
   ]
  },
  {
   "cell_type": "markdown",
   "id": "72f84f11",
   "metadata": {},
   "source": [
    "### Predicting our Output"
   ]
  },
  {
   "cell_type": "code",
   "execution_count": 132,
   "id": "e1232681",
   "metadata": {
    "ExecuteTime": {
     "end_time": "2023-04-30T11:47:15.285446Z",
     "start_time": "2023-04-30T11:47:14.491943Z"
    }
   },
   "outputs": [],
   "source": [
    "y_pred_lr = lr.predict(X_test_processed)\n",
    "y_pred_dt = dt.predict(X_test_processed)\n",
    "y_pred_rf = rf.predict(X_test_processed)\n",
    "y_pred_knn = knn.predict(X_test_processed)\n",
    "y_pred_gnb = gnb.predict(X_test_processed)\n",
    "y_pred_svc = svc.predict(X_test_processed)"
   ]
  },
  {
   "cell_type": "code",
   "execution_count": 133,
   "id": "36d28007",
   "metadata": {
    "ExecuteTime": {
     "end_time": "2023-04-30T11:47:16.523404Z",
     "start_time": "2023-04-30T11:47:16.509488Z"
    }
   },
   "outputs": [
    {
     "data": {
      "text/plain": [
       "array(['No', 'No', 'No', ..., 'No', 'No', 'No'], dtype=object)"
      ]
     },
     "execution_count": 133,
     "metadata": {},
     "output_type": "execute_result"
    },
    {
     "data": {
      "text/plain": [
       "array(['No', 'No', 'No', ..., 'No', 'No', 'Yes'], dtype=object)"
      ]
     },
     "execution_count": 133,
     "metadata": {},
     "output_type": "execute_result"
    },
    {
     "data": {
      "text/plain": [
       "array(['No', 'No', 'No', ..., 'No', 'No', 'No'], dtype=object)"
      ]
     },
     "execution_count": 133,
     "metadata": {},
     "output_type": "execute_result"
    },
    {
     "data": {
      "text/plain": [
       "array(['No', 'No', 'No', ..., 'No', 'Yes', 'Yes'], dtype=object)"
      ]
     },
     "execution_count": 133,
     "metadata": {},
     "output_type": "execute_result"
    },
    {
     "data": {
      "text/plain": [
       "array(['No', 'No', 'No', ..., 'Yes', 'Yes', 'No'], dtype='<U3')"
      ]
     },
     "execution_count": 133,
     "metadata": {},
     "output_type": "execute_result"
    },
    {
     "data": {
      "text/plain": [
       "array(['No', 'No', 'No', ..., 'No', 'No', 'No'], dtype=object)"
      ]
     },
     "execution_count": 133,
     "metadata": {},
     "output_type": "execute_result"
    }
   ],
   "source": [
    "y_pred_lr\n",
    "y_pred_dt\n",
    "y_pred_rf\n",
    "y_pred_knn\n",
    "y_pred_gnb\n",
    "y_pred_svc"
   ]
  },
  {
   "cell_type": "markdown",
   "id": "348a7043",
   "metadata": {},
   "source": [
    "## Training Model Using MissForest imputed values"
   ]
  },
  {
   "cell_type": "code",
   "execution_count": 134,
   "id": "61fe3f95",
   "metadata": {
    "ExecuteTime": {
     "end_time": "2023-04-30T11:48:10.912552Z",
     "start_time": "2023-04-30T11:48:09.353463Z"
    }
   },
   "outputs": [
    {
     "name": "stderr",
     "output_type": "stream",
     "text": [
      "C:\\Users\\K.V.N\\anaconda3\\lib\\site-packages\\sklearn\\linear_model\\_logistic.py:763: ConvergenceWarning: lbfgs failed to converge (status=1):\n",
      "STOP: TOTAL NO. of ITERATIONS REACHED LIMIT.\n",
      "\n",
      "Increase the number of iterations (max_iter) or scale the data as shown in:\n",
      "    https://scikit-learn.org/stable/modules/preprocessing.html\n",
      "Please also refer to the documentation for alternative solver options:\n",
      "    https://scikit-learn.org/stable/modules/linear_model.html#logistic-regression\n",
      "  n_iter_i = _check_optimize_result(\n"
     ]
    },
    {
     "data": {
      "text/plain": [
       "LogisticRegression()"
      ]
     },
     "execution_count": 134,
     "metadata": {},
     "output_type": "execute_result"
    },
    {
     "data": {
      "text/plain": [
       "DecisionTreeClassifier()"
      ]
     },
     "execution_count": 134,
     "metadata": {},
     "output_type": "execute_result"
    },
    {
     "data": {
      "text/plain": [
       "RandomForestClassifier()"
      ]
     },
     "execution_count": 134,
     "metadata": {},
     "output_type": "execute_result"
    },
    {
     "data": {
      "text/plain": [
       "KNeighborsClassifier()"
      ]
     },
     "execution_count": 134,
     "metadata": {},
     "output_type": "execute_result"
    },
    {
     "data": {
      "text/plain": [
       "GaussianNB()"
      ]
     },
     "execution_count": 134,
     "metadata": {},
     "output_type": "execute_result"
    },
    {
     "data": {
      "text/plain": [
       "SVC()"
      ]
     },
     "execution_count": 134,
     "metadata": {},
     "output_type": "execute_result"
    }
   ],
   "source": [
    "# Training or model using different Algorithm methods\n",
    "\n",
    "lr.fit(X_trainf_processed, Y_trainf)\n",
    "dt.fit(X_trainf_processed, Y_trainf)\n",
    "rf.fit(X_trainf_processed, Y_trainf)\n",
    "knn.fit(X_trainf_processed, Y_trainf)\n",
    "gnb.fit(X_trainf_processed, Y_trainf)\n",
    "svc.fit(X_trainf_processed, Y_trainf)"
   ]
  },
  {
   "cell_type": "code",
   "execution_count": 135,
   "id": "1e2e648f",
   "metadata": {
    "ExecuteTime": {
     "end_time": "2023-04-30T11:49:24.931298Z",
     "start_time": "2023-04-30T11:49:24.148969Z"
    }
   },
   "outputs": [],
   "source": [
    "y_predf_lr = lr.predict(X_testf_processed)\n",
    "y_predf_dt = dt.predict(X_testf_processed)\n",
    "y_predf_rf = rf.predict(X_testf_processed)\n",
    "y_predf_knn = knn.predict(X_testf_processed)\n",
    "y_predf_gnb = gnb.predict(X_testf_processed)\n",
    "y_predf_svc = svc.predict(X_testf_processed)"
   ]
  },
  {
   "cell_type": "code",
   "execution_count": 136,
   "id": "08ce261b",
   "metadata": {
    "ExecuteTime": {
     "end_time": "2023-04-30T11:49:47.895115Z",
     "start_time": "2023-04-30T11:49:47.886106Z"
    }
   },
   "outputs": [
    {
     "data": {
      "text/plain": [
       "array(['No', 'No', 'No', ..., 'No', 'No', 'No'], dtype=object)"
      ]
     },
     "execution_count": 136,
     "metadata": {},
     "output_type": "execute_result"
    },
    {
     "data": {
      "text/plain": [
       "array(['No', 'No', 'No', ..., 'No', 'No', 'Yes'], dtype=object)"
      ]
     },
     "execution_count": 136,
     "metadata": {},
     "output_type": "execute_result"
    },
    {
     "data": {
      "text/plain": [
       "array(['No', 'No', 'No', ..., 'No', 'No', 'No'], dtype=object)"
      ]
     },
     "execution_count": 136,
     "metadata": {},
     "output_type": "execute_result"
    },
    {
     "data": {
      "text/plain": [
       "array(['No', 'No', 'No', ..., 'No', 'Yes', 'Yes'], dtype=object)"
      ]
     },
     "execution_count": 136,
     "metadata": {},
     "output_type": "execute_result"
    },
    {
     "data": {
      "text/plain": [
       "array(['No', 'No', 'No', ..., 'Yes', 'Yes', 'No'], dtype='<U3')"
      ]
     },
     "execution_count": 136,
     "metadata": {},
     "output_type": "execute_result"
    },
    {
     "data": {
      "text/plain": [
       "array(['No', 'No', 'No', ..., 'No', 'No', 'No'], dtype=object)"
      ]
     },
     "execution_count": 136,
     "metadata": {},
     "output_type": "execute_result"
    }
   ],
   "source": [
    "y_predf_lr\n",
    "y_predf_dt\n",
    "y_predf_rf\n",
    "y_predf_knn\n",
    "y_predf_gnb\n",
    "y_predf_svc"
   ]
  },
  {
   "cell_type": "code",
   "execution_count": null,
   "id": "1bcb55b5",
   "metadata": {},
   "outputs": [],
   "source": []
  },
  {
   "cell_type": "markdown",
   "id": "ccfe3629",
   "metadata": {},
   "source": [
    "# Evaluation Metrics"
   ]
  },
  {
   "cell_type": "code",
   "execution_count": 137,
   "id": "1d543959",
   "metadata": {
    "ExecuteTime": {
     "end_time": "2023-04-30T11:52:19.915857Z",
     "start_time": "2023-04-30T11:52:19.908909Z"
    }
   },
   "outputs": [],
   "source": [
    "from sklearn.metrics import accuracy_score, precision_score, recall_score, f1_score, confusion_matrix"
   ]
  },
  {
   "cell_type": "code",
   "execution_count": 138,
   "id": "5e364502",
   "metadata": {
    "ExecuteTime": {
     "end_time": "2023-04-30T11:52:22.139430Z",
     "start_time": "2023-04-30T11:52:22.125468Z"
    }
   },
   "outputs": [],
   "source": [
    "def metric_cal(real_test, pred_test):\n",
    "    acc = accuracy_score(real_test, pred_test)\n",
    "    precision = precision_score(real_test, pred_test, average='weighted')\n",
    "    recall = recall_score(real_test, pred_test, average='weighted')\n",
    "    cm = pd.crosstab(real_test, pred_test, rownames=['Real'], colnames=['Predicted'])\n",
    "    f1score = f1_score(real_test, pred_test, average='weighted')\n",
    "    return{'Accuracy':acc,\n",
    "            'Precision':precision,\n",
    "            'Recall':recall,\n",
    "            'f1score':f1score,\n",
    "            'Confusion Matrix':cm}\n",
    "    "
   ]
  },
  {
   "cell_type": "markdown",
   "id": "0c471bb3",
   "metadata": {
    "ExecuteTime": {
     "end_time": "2023-04-27T12:02:58.148472Z",
     "start_time": "2023-04-27T12:02:57.968844Z"
    }
   },
   "source": [
    "a = metric_cal(y_pred_lr, Y_test.values.flatten())\n",
    "b = metric_cal(y_pred_dt, Y_test.values.flatten())\n",
    "c = metric_cal(y_pred_rf, Y_test.values.flatten())\n",
    "for i in c:\n",
    "    print(i,c[i])\n",
    "print('The performance of the KNN Algorithm is:')\n",
    "d = metric_cal(y_pred_knn, Y_test.values.flatten())\n",
    "for i in d:\n",
    "    print(i,d[i])\n",
    "print('The performance of the Gaussian Naive Bayes Algorithm is:')\n",
    "e = metric_cal(y_pred_gnb, Y_test.values.flatten())\n",
    "for i in e:\n",
    "    print(i,e[i])\n",
    "print('The performance of the Support Vector Machines Algorithm is:')\n",
    "f = metric_cal(y_pred_svc, Y_test.values.flatten())\n",
    "for i in f:\n",
    "    print(i,f[i])"
   ]
  },
  {
   "cell_type": "markdown",
   "id": "dd085145",
   "metadata": {},
   "source": [
    "## Evaluating Model with KNN imputed Values"
   ]
  },
  {
   "cell_type": "code",
   "execution_count": 139,
   "id": "f8f3b5a1",
   "metadata": {
    "ExecuteTime": {
     "end_time": "2023-04-30T11:55:05.550059Z",
     "start_time": "2023-04-30T11:55:05.388697Z"
    }
   },
   "outputs": [],
   "source": [
    "acc_dict = {'Logistic Regresion' : metric_cal(y_pred_lr, Y_test.values.flatten())['Accuracy'],\n",
    "            'Decision Tree' : metric_cal(y_pred_dt, Y_test.values.flatten())['Accuracy'],\n",
    "            'Random Forest' : metric_cal(y_pred_rf, Y_test.values.flatten())['Accuracy'],\n",
    "            'KNN Algorith' : metric_cal(y_pred_knn, Y_test.values.flatten())['Accuracy'],\n",
    "            'Gaussian NB' : metric_cal(y_pred_gnb, Y_test.values.flatten())['Accuracy'],\n",
    "            'SVM' : metric_cal(y_pred_svc, Y_test.values.flatten())['Accuracy'],\n",
    "           }"
   ]
  },
  {
   "cell_type": "code",
   "execution_count": 140,
   "id": "93ad8294",
   "metadata": {
    "ExecuteTime": {
     "end_time": "2023-04-30T11:55:07.146263Z",
     "start_time": "2023-04-30T11:55:06.988292Z"
    }
   },
   "outputs": [],
   "source": [
    "pre_dict = {'Logistic Regresion' : metric_cal(y_pred_lr, Y_test.values.flatten())['Precision'],\n",
    "            'Decision Tree' : metric_cal(y_pred_dt, Y_test.values.flatten())['Precision'],\n",
    "            'Random Forest' : metric_cal(y_pred_rf, Y_test.values.flatten())['Precision'],\n",
    "            'KNN Algorith' : metric_cal(y_pred_knn, Y_test.values.flatten())['Precision'],\n",
    "            'Gaussian NB' : metric_cal(y_pred_gnb, Y_test.values.flatten())['Precision'],\n",
    "            'SVM' : metric_cal(y_pred_svc, Y_test.values.flatten())['Precision'],\n",
    "           }"
   ]
  },
  {
   "cell_type": "code",
   "execution_count": 141,
   "id": "5f42e933",
   "metadata": {
    "ExecuteTime": {
     "end_time": "2023-04-30T11:55:11.781087Z",
     "start_time": "2023-04-30T11:55:11.613198Z"
    }
   },
   "outputs": [],
   "source": [
    "recal_dict = {'Logistic Regresion' : metric_cal(y_pred_lr, Y_test.values.flatten())['Recall'],\n",
    "            'Decision Tree' : metric_cal(y_pred_dt, Y_test.values.flatten())['Recall'],\n",
    "            'Random Forest' : metric_cal(y_pred_rf, Y_test.values.flatten())['Recall'],\n",
    "            'KNN Algorith' : metric_cal(y_pred_knn, Y_test.values.flatten())['Recall'],\n",
    "            'Gaussian NB' : metric_cal(y_pred_gnb, Y_test.values.flatten())['Recall'],\n",
    "            'SVM' : metric_cal(y_pred_svc, Y_test.values.flatten())['Recall'],\n",
    "           }"
   ]
  },
  {
   "cell_type": "code",
   "execution_count": 142,
   "id": "cdebef95",
   "metadata": {
    "ExecuteTime": {
     "end_time": "2023-04-30T11:55:17.544233Z",
     "start_time": "2023-04-30T11:55:17.380784Z"
    }
   },
   "outputs": [],
   "source": [
    "f1_dict = {'Logistic Regresion' : metric_cal(y_pred_lr, Y_test.values.flatten())['f1score'],\n",
    "            'Decision Tree' : metric_cal(y_pred_dt, Y_test.values.flatten())['f1score'],\n",
    "            'Random Forest' : metric_cal(y_pred_rf, Y_test.values.flatten())['f1score'],\n",
    "            'KNN Algorith' : metric_cal(y_pred_knn, Y_test.values.flatten())['f1score'],\n",
    "            'Gaussian NB' : metric_cal(y_pred_gnb, Y_test.values.flatten())['f1score'],\n",
    "            'SVM' : metric_cal(y_pred_svc, Y_test.values.flatten())['f1score'],\n",
    "           }"
   ]
  },
  {
   "cell_type": "code",
   "execution_count": 144,
   "id": "0b84933d",
   "metadata": {
    "ExecuteTime": {
     "end_time": "2023-04-30T11:56:11.496992Z",
     "start_time": "2023-04-30T11:56:11.476048Z"
    }
   },
   "outputs": [
    {
     "data": {
      "text/html": [
       "<div>\n",
       "<style scoped>\n",
       "    .dataframe tbody tr th:only-of-type {\n",
       "        vertical-align: middle;\n",
       "    }\n",
       "\n",
       "    .dataframe tbody tr th {\n",
       "        vertical-align: top;\n",
       "    }\n",
       "\n",
       "    .dataframe thead th {\n",
       "        text-align: right;\n",
       "    }\n",
       "</style>\n",
       "<table border=\"1\" class=\"dataframe\">\n",
       "  <thead>\n",
       "    <tr style=\"text-align: right;\">\n",
       "      <th></th>\n",
       "      <th>Accuracy</th>\n",
       "      <th>Precision</th>\n",
       "      <th>Recall</th>\n",
       "      <th>F1-Score</th>\n",
       "    </tr>\n",
       "  </thead>\n",
       "  <tbody>\n",
       "    <tr>\n",
       "      <th>Logistic Regresion</th>\n",
       "      <td>0.809199</td>\n",
       "      <td>0.821316</td>\n",
       "      <td>0.809199</td>\n",
       "      <td>0.814232</td>\n",
       "    </tr>\n",
       "    <tr>\n",
       "      <th>Decision Tree</th>\n",
       "      <td>0.755253</td>\n",
       "      <td>0.751607</td>\n",
       "      <td>0.755253</td>\n",
       "      <td>0.753316</td>\n",
       "    </tr>\n",
       "    <tr>\n",
       "      <th>Random Forest</th>\n",
       "      <td>0.804656</td>\n",
       "      <td>0.837805</td>\n",
       "      <td>0.804656</td>\n",
       "      <td>0.816960</td>\n",
       "    </tr>\n",
       "    <tr>\n",
       "      <th>KNN Algorith</th>\n",
       "      <td>0.771721</td>\n",
       "      <td>0.769385</td>\n",
       "      <td>0.771721</td>\n",
       "      <td>0.770500</td>\n",
       "    </tr>\n",
       "    <tr>\n",
       "      <th>Gaussian NB</th>\n",
       "      <td>0.651902</td>\n",
       "      <td>0.704172</td>\n",
       "      <td>0.651902</td>\n",
       "      <td>0.627624</td>\n",
       "    </tr>\n",
       "    <tr>\n",
       "      <th>SVM</th>\n",
       "      <td>0.811471</td>\n",
       "      <td>0.835625</td>\n",
       "      <td>0.811471</td>\n",
       "      <td>0.820641</td>\n",
       "    </tr>\n",
       "  </tbody>\n",
       "</table>\n",
       "</div>"
      ],
      "text/plain": [
       "                    Accuracy  Precision    Recall  F1-Score\n",
       "Logistic Regresion  0.809199   0.821316  0.809199  0.814232\n",
       "Decision Tree       0.755253   0.751607  0.755253  0.753316\n",
       "Random Forest       0.804656   0.837805  0.804656  0.816960\n",
       "KNN Algorith        0.771721   0.769385  0.771721  0.770500\n",
       "Gaussian NB         0.651902   0.704172  0.651902  0.627624\n",
       "SVM                 0.811471   0.835625  0.811471  0.820641"
      ]
     },
     "execution_count": 144,
     "metadata": {},
     "output_type": "execute_result"
    }
   ],
   "source": [
    "op_df_knn =pd.DataFrame.from_dict([acc_dict,pre_dict,recal_dict,f1_dict])\n",
    "op_df_knn=op_df_knn.rename(index={0:'Accuracy',1:'Precision',2:'Recall',3:'F1-Score'})\n",
    "op_df_knn = pd.DataFrame.transpose(op_df_knn)\n",
    "op_df_knn"
   ]
  },
  {
   "cell_type": "markdown",
   "id": "d18a591f",
   "metadata": {
    "ExecuteTime": {
     "end_time": "2023-04-27T10:52:43.343298Z",
     "start_time": "2023-04-27T10:52:43.338310Z"
    }
   },
   "source": [
    "#plt.figure(figsize=(10,3),dpi=100)\n",
    "#plt.bar(Algo, acc,width = 0.4, color = ['r','g','b', 'c','grey','y'])\n",
    "#plt.xlabel('Algorithms', fontsize=16)\n",
    "#plt.ylabel('Accuracy', fontsize=16)\n",
    "#plt.title('Altgorithms vs Accuracy',fontsize=20)\n",
    "#plt.show();    "
   ]
  },
  {
   "cell_type": "code",
   "execution_count": 146,
   "id": "ff3d196e",
   "metadata": {
    "ExecuteTime": {
     "end_time": "2023-04-30T11:56:32.344282Z",
     "start_time": "2023-04-30T11:56:32.213259Z"
    }
   },
   "outputs": [
    {
     "data": {
      "image/png": "[encoded data removed]",
      "text/plain": [
       "<Figure size 432x288 with 1 Axes>"
      ]
     },
     "metadata": {
      "needs_background": "light"
     },
     "output_type": "display_data"
    }
   ],
   "source": [
    "#Algo =list(acc_dict.keys())\n",
    "#acc = list(acc_dict.values())\n",
    "#acc = [i * 100 for i in acc]\n",
    "ax = sns.barplot(x=op_df_knn['Accuracy'],y=op_df_knn.index)\n",
    "for i in ax.containers:\n",
    "    ax.bar_label(i,)\n",
    "plt.show();"
   ]
  },
  {
   "cell_type": "code",
   "execution_count": 141,
   "id": "6aa277c3",
   "metadata": {
    "ExecuteTime": {
     "end_time": "2023-04-28T08:31:40.024121Z",
     "start_time": "2023-04-28T08:31:39.791679Z"
    }
   },
   "outputs": [
    {
     "data": {
      "image/png": "[encoded data removed]",
      "text/plain": [
       "<Figure size 432x288 with 1 Axes>"
      ]
     },
     "metadata": {
      "needs_background": "light"
     },
     "output_type": "display_data"
    }
   ],
   "source": [
    "ax = sns.barplot(x=op_df['Precision'],y=op_df.index)\n",
    "for i in ax.containers:\n",
    "    ax.bar_label(i,)\n",
    "plt.show();"
   ]
  },
  {
   "cell_type": "code",
   "execution_count": 142,
   "id": "8b358209",
   "metadata": {
    "ExecuteTime": {
     "end_time": "2023-04-28T08:31:53.937415Z",
     "start_time": "2023-04-28T08:31:53.708205Z"
    }
   },
   "outputs": [
    {
     "data": {
      "image/png": "[encoded data removed]",
      "text/plain": [
       "<Figure size 432x288 with 1 Axes>"
      ]
     },
     "metadata": {
      "needs_background": "light"
     },
     "output_type": "display_data"
    }
   ],
   "source": [
    "ax = sns.barplot(x=op_df['Recall'],y=op_df.index)\n",
    "for i in ax.containers:\n",
    "    ax.bar_label(i,)\n",
    "plt.show();"
   ]
  },
  {
   "cell_type": "code",
   "execution_count": 143,
   "id": "b4670610",
   "metadata": {
    "ExecuteTime": {
     "end_time": "2023-04-28T08:32:10.767363Z",
     "start_time": "2023-04-28T08:32:10.514746Z"
    }
   },
   "outputs": [
    {
     "data": {
      "image/png": "[encoded data removed]",
      "text/plain": [
       "<Figure size 432x288 with 1 Axes>"
      ]
     },
     "metadata": {
      "needs_background": "light"
     },
     "output_type": "display_data"
    }
   ],
   "source": [
    "ax = sns.barplot(x=op_df['F1-Score'],y=op_df.index)\n",
    "for i in ax.containers:\n",
    "    ax.bar_label(i,)\n",
    "plt.show();"
   ]
  },
  {
   "cell_type": "markdown",
   "id": "74e7e2a2",
   "metadata": {},
   "source": [
    "## Evaluating Model with MissForest Imputed Values"
   ]
  },
  {
   "cell_type": "code",
   "execution_count": 148,
   "id": "ec1adff6",
   "metadata": {
    "ExecuteTime": {
     "end_time": "2023-04-30T12:01:13.904695Z",
     "start_time": "2023-04-30T12:01:13.740136Z"
    }
   },
   "outputs": [
    {
     "data": {
      "text/plain": [
       "{'Logistic Regresion': 0.8091993185689949,\n",
       " 'Decision Tree': 0.7546848381601363,\n",
       " 'Random Forest': 0.8012492901760363,\n",
       " 'KNN Algorith': 0.7717206132879046,\n",
       " 'Gaussian NB': 0.6519023282226007,\n",
       " 'SVM': 0.8114707552526973}"
      ]
     },
     "execution_count": 148,
     "metadata": {},
     "output_type": "execute_result"
    },
    {
     "data": {
      "text/plain": [
       "{'Logistic Regresion': 0.8091993185689949,\n",
       " 'Decision Tree': 0.7552526973310619,\n",
       " 'Random Forest': 0.80465644520159,\n",
       " 'KNN Algorith': 0.7717206132879046,\n",
       " 'Gaussian NB': 0.6519023282226007,\n",
       " 'SVM': 0.8114707552526973}"
      ]
     },
     "execution_count": 148,
     "metadata": {},
     "output_type": "execute_result"
    }
   ],
   "source": [
    "acc_dictf = {'Logistic Regresion' : metric_cal(y_predf_lr, Y_testf.values.flatten())['Accuracy'],\n",
    "            'Decision Tree' : metric_cal(y_predf_dt, Y_testf.values.flatten())['Accuracy'],\n",
    "            'Random Forest' : metric_cal(y_predf_rf, Y_testf.values.flatten())['Accuracy'],\n",
    "            'KNN Algorith' : metric_cal(y_predf_knn, Y_testf.values.flatten())['Accuracy'],\n",
    "            'Gaussian NB' : metric_cal(y_predf_gnb, Y_testf.values.flatten())['Accuracy'],\n",
    "            'SVM' : metric_cal(y_predf_svc, Y_testf.values.flatten())['Accuracy'],\n",
    "           }\n",
    "acc_dictf\n",
    "acc_dict"
   ]
  },
  {
   "cell_type": "code",
   "execution_count": 140,
   "id": "1a6f091b",
   "metadata": {
    "ExecuteTime": {
     "end_time": "2023-04-30T11:55:07.146263Z",
     "start_time": "2023-04-30T11:55:06.988292Z"
    }
   },
   "outputs": [],
   "source": [
    "pre_dict = {'Logistic Regresion' : metric_cal(y_pred_lr, Y_test.values.flatten())['Precision'],\n",
    "            'Decision Tree' : metric_cal(y_pred_dt, Y_test.values.flatten())['Precision'],\n",
    "            'Random Forest' : metric_cal(y_pred_rf, Y_test.values.flatten())['Precision'],\n",
    "            'KNN Algorith' : metric_cal(y_pred_knn, Y_test.values.flatten())['Precision'],\n",
    "            'Gaussian NB' : metric_cal(y_pred_gnb, Y_test.values.flatten())['Precision'],\n",
    "            'SVM' : metric_cal(y_pred_svc, Y_test.values.flatten())['Precision'],\n",
    "           }"
   ]
  },
  {
   "cell_type": "code",
   "execution_count": 141,
   "id": "cb8ab1d2",
   "metadata": {
    "ExecuteTime": {
     "end_time": "2023-04-30T11:55:11.781087Z",
     "start_time": "2023-04-30T11:55:11.613198Z"
    }
   },
   "outputs": [],
   "source": [
    "recal_dict = {'Logistic Regresion' : metric_cal(y_pred_lr, Y_test.values.flatten())['Recall'],\n",
    "            'Decision Tree' : metric_cal(y_pred_dt, Y_test.values.flatten())['Recall'],\n",
    "            'Random Forest' : metric_cal(y_pred_rf, Y_test.values.flatten())['Recall'],\n",
    "            'KNN Algorith' : metric_cal(y_pred_knn, Y_test.values.flatten())['Recall'],\n",
    "            'Gaussian NB' : metric_cal(y_pred_gnb, Y_test.values.flatten())['Recall'],\n",
    "            'SVM' : metric_cal(y_pred_svc, Y_test.values.flatten())['Recall'],\n",
    "           }"
   ]
  },
  {
   "cell_type": "code",
   "execution_count": 142,
   "id": "1acec549",
   "metadata": {
    "ExecuteTime": {
     "end_time": "2023-04-30T11:55:17.544233Z",
     "start_time": "2023-04-30T11:55:17.380784Z"
    }
   },
   "outputs": [],
   "source": [
    "f1_dict = {'Logistic Regresion' : metric_cal(y_pred_lr, Y_test.values.flatten())['f1score'],\n",
    "            'Decision Tree' : metric_cal(y_pred_dt, Y_test.values.flatten())['f1score'],\n",
    "            'Random Forest' : metric_cal(y_pred_rf, Y_test.values.flatten())['f1score'],\n",
    "            'KNN Algorith' : metric_cal(y_pred_knn, Y_test.values.flatten())['f1score'],\n",
    "            'Gaussian NB' : metric_cal(y_pred_gnb, Y_test.values.flatten())['f1score'],\n",
    "            'SVM' : metric_cal(y_pred_svc, Y_test.values.flatten())['f1score'],\n",
    "           }"
   ]
  },
  {
   "cell_type": "code",
   "execution_count": 144,
   "id": "69323e29",
   "metadata": {
    "ExecuteTime": {
     "end_time": "2023-04-30T11:56:11.496992Z",
     "start_time": "2023-04-30T11:56:11.476048Z"
    }
   },
   "outputs": [
    {
     "data": {
      "text/html": [
       "<div>\n",
       "<style scoped>\n",
       "    .dataframe tbody tr th:only-of-type {\n",
       "        vertical-align: middle;\n",
       "    }\n",
       "\n",
       "    .dataframe tbody tr th {\n",
       "        vertical-align: top;\n",
       "    }\n",
       "\n",
       "    .dataframe thead th {\n",
       "        text-align: right;\n",
       "    }\n",
       "</style>\n",
       "<table border=\"1\" class=\"dataframe\">\n",
       "  <thead>\n",
       "    <tr style=\"text-align: right;\">\n",
       "      <th></th>\n",
       "      <th>Accuracy</th>\n",
       "      <th>Precision</th>\n",
       "      <th>Recall</th>\n",
       "      <th>F1-Score</th>\n",
       "    </tr>\n",
       "  </thead>\n",
       "  <tbody>\n",
       "    <tr>\n",
       "      <th>Logistic Regresion</th>\n",
       "      <td>0.809199</td>\n",
       "      <td>0.821316</td>\n",
       "      <td>0.809199</td>\n",
       "      <td>0.814232</td>\n",
       "    </tr>\n",
       "    <tr>\n",
       "      <th>Decision Tree</th>\n",
       "      <td>0.755253</td>\n",
       "      <td>0.751607</td>\n",
       "      <td>0.755253</td>\n",
       "      <td>0.753316</td>\n",
       "    </tr>\n",
       "    <tr>\n",
       "      <th>Random Forest</th>\n",
       "      <td>0.804656</td>\n",
       "      <td>0.837805</td>\n",
       "      <td>0.804656</td>\n",
       "      <td>0.816960</td>\n",
       "    </tr>\n",
       "    <tr>\n",
       "      <th>KNN Algorith</th>\n",
       "      <td>0.771721</td>\n",
       "      <td>0.769385</td>\n",
       "      <td>0.771721</td>\n",
       "      <td>0.770500</td>\n",
       "    </tr>\n",
       "    <tr>\n",
       "      <th>Gaussian NB</th>\n",
       "      <td>0.651902</td>\n",
       "      <td>0.704172</td>\n",
       "      <td>0.651902</td>\n",
       "      <td>0.627624</td>\n",
       "    </tr>\n",
       "    <tr>\n",
       "      <th>SVM</th>\n",
       "      <td>0.811471</td>\n",
       "      <td>0.835625</td>\n",
       "      <td>0.811471</td>\n",
       "      <td>0.820641</td>\n",
       "    </tr>\n",
       "  </tbody>\n",
       "</table>\n",
       "</div>"
      ],
      "text/plain": [
       "                    Accuracy  Precision    Recall  F1-Score\n",
       "Logistic Regresion  0.809199   0.821316  0.809199  0.814232\n",
       "Decision Tree       0.755253   0.751607  0.755253  0.753316\n",
       "Random Forest       0.804656   0.837805  0.804656  0.816960\n",
       "KNN Algorith        0.771721   0.769385  0.771721  0.770500\n",
       "Gaussian NB         0.651902   0.704172  0.651902  0.627624\n",
       "SVM                 0.811471   0.835625  0.811471  0.820641"
      ]
     },
     "execution_count": 144,
     "metadata": {},
     "output_type": "execute_result"
    }
   ],
   "source": [
    "op_df_knn =pd.DataFrame.from_dict([acc_dict,pre_dict,recal_dict,f1_dict])\n",
    "op_df_knn=op_df_knn.rename(index={0:'Accuracy',1:'Precision',2:'Recall',3:'F1-Score'})\n",
    "op_df_knn = pd.DataFrame.transpose(op_df_knn)\n",
    "op_df_knn"
   ]
  },
  {
   "cell_type": "markdown",
   "id": "e6a9aaa7",
   "metadata": {
    "ExecuteTime": {
     "end_time": "2023-04-27T10:52:43.343298Z",
     "start_time": "2023-04-27T10:52:43.338310Z"
    }
   },
   "source": [
    "#plt.figure(figsize=(10,3),dpi=100)\n",
    "#plt.bar(Algo, acc,width = 0.4, color = ['r','g','b', 'c','grey','y'])\n",
    "#plt.xlabel('Algorithms', fontsize=16)\n",
    "#plt.ylabel('Accuracy', fontsize=16)\n",
    "#plt.title('Altgorithms vs Accuracy',fontsize=20)\n",
    "#plt.show();    "
   ]
  },
  {
   "cell_type": "code",
   "execution_count": 146,
   "id": "1aed7fd4",
   "metadata": {
    "ExecuteTime": {
     "end_time": "2023-04-30T11:56:32.344282Z",
     "start_time": "2023-04-30T11:56:32.213259Z"
    }
   },
   "outputs": [
    {
     "data": {
      "image/png": "[encoded data removed]",
      "text/plain": [
       "<Figure size 432x288 with 1 Axes>"
      ]
     },
     "metadata": {
      "needs_background": "light"
     },
     "output_type": "display_data"
    }
   ],
   "source": [
    "#Algo =list(acc_dict.keys())\n",
    "#acc = list(acc_dict.values())\n",
    "#acc = [i * 100 for i in acc]\n",
    "ax = sns.barplot(x=op_df_knn['Accuracy'],y=op_df_knn.index)\n",
    "for i in ax.containers:\n",
    "    ax.bar_label(i,)\n",
    "plt.show();"
   ]
  },
  {
   "cell_type": "code",
   "execution_count": 141,
   "id": "db392c5f",
   "metadata": {
    "ExecuteTime": {
     "end_time": "2023-04-28T08:31:40.024121Z",
     "start_time": "2023-04-28T08:31:39.791679Z"
    }
   },
   "outputs": [
    {
     "data": {
      "image/png": "[encoded data removed]",
      "text/plain": [
       "<Figure size 432x288 with 1 Axes>"
      ]
     },
     "metadata": {
      "needs_background": "light"
     },
     "output_type": "display_data"
    }
   ],
   "source": [
    "ax = sns.barplot(x=op_df['Precision'],y=op_df.index)\n",
    "for i in ax.containers:\n",
    "    ax.bar_label(i,)\n",
    "plt.show();"
   ]
  },
  {
   "cell_type": "code",
   "execution_count": 142,
   "id": "0acad00b",
   "metadata": {
    "ExecuteTime": {
     "end_time": "2023-04-28T08:31:53.937415Z",
     "start_time": "2023-04-28T08:31:53.708205Z"
    }
   },
   "outputs": [
    {
     "data": {
      "image/png": "[encoded data removed]",
      "text/plain": [
       "<Figure size 432x288 with 1 Axes>"
      ]
     },
     "metadata": {
      "needs_background": "light"
     },
     "output_type": "display_data"
    }
   ],
   "source": [
    "ax = sns.barplot(x=op_df['Recall'],y=op_df.index)\n",
    "for i in ax.containers:\n",
    "    ax.bar_label(i,)\n",
    "plt.show();"
   ]
  },
  {
   "cell_type": "code",
   "execution_count": 143,
   "id": "6dd67b88",
   "metadata": {
    "ExecuteTime": {
     "end_time": "2023-04-28T08:32:10.767363Z",
     "start_time": "2023-04-28T08:32:10.514746Z"
    }
   },
   "outputs": [
    {
     "data": {
      "image/png": "[encoded data removed]",
      "text/plain": [
       "<Figure size 432x288 with 1 Axes>"
      ]
     },
     "metadata": {
      "needs_background": "light"
     },
     "output_type": "display_data"
    }
   ],
   "source": [
    "ax = sns.barplot(x=op_df['F1-Score'],y=op_df.index)\n",
    "for i in ax.containers:\n",
    "    ax.bar_label(i,)\n",
    "plt.show();"
   ]
  },
  {
   "cell_type": "code",
   "execution_count": null,
   "id": "bb706535",
   "metadata": {},
   "outputs": [],
   "source": []
  },
  {
   "cell_type": "code",
   "execution_count": null,
   "id": "ef090412",
   "metadata": {},
   "outputs": [],
   "source": []
  },
  {
   "cell_type": "code",
   "execution_count": null,
   "id": "ae090ecb",
   "metadata": {},
   "outputs": [],
   "source": []
  },
  {
   "cell_type": "code",
   "execution_count": null,
   "id": "e7ad23ca",
   "metadata": {},
   "outputs": [],
   "source": []
  },
  {
   "cell_type": "markdown",
   "id": "daa6fa51",
   "metadata": {},
   "source": [
    "# Conclusion\n"
   ]
  },
  {
   "cell_type": "markdown",
   "id": "91be0598",
   "metadata": {},
   "source": []
  },
  {
   "cell_type": "code",
   "execution_count": 91,
   "id": "436ed658",
   "metadata": {
    "ExecuteTime": {
     "end_time": "2023-04-27T04:08:07.331048Z",
     "start_time": "2023-04-27T04:08:07.313917Z"
    }
   },
   "outputs": [],
   "source": [
    "Sample_df = pd.DataFrame(columns=['gender', 'SeniorCitizen', 'Partner', 'Dependents','tenure',\n",
    "       'PhoneService', 'MultipleLines', 'InternetService', 'OnlineSecurity',\n",
    "       'OnlineBackup', 'DeviceProtection', 'TechSupport', 'StreamingTV',\n",
    "       'StreamingMovies', 'Contract', 'PaperlessBilling', 'PaymentMethod'])"
   ]
  },
  {
   "cell_type": "code",
   "execution_count": 92,
   "id": "a6582c1d",
   "metadata": {
    "ExecuteTime": {
     "end_time": "2023-04-27T04:08:08.553437Z",
     "start_time": "2023-04-27T04:08:08.545459Z"
    }
   },
   "outputs": [
    {
     "data": {
      "text/plain": [
       "array(['Yes', 'No', 'No', ..., 'Yes', 'No', 'No'], dtype=object)"
      ]
     },
     "execution_count": 92,
     "metadata": {},
     "output_type": "execute_result"
    }
   ],
   "source": [
    "y_pred_lr"
   ]
  },
  {
   "cell_type": "code",
   "execution_count": 93,
   "id": "baf16613",
   "metadata": {
    "ExecuteTime": {
     "end_time": "2023-04-27T04:08:09.385286Z",
     "start_time": "2023-04-27T04:08:09.365342Z"
    }
   },
   "outputs": [
    {
     "data": {
      "text/html": [
       "<div>\n",
       "<style scoped>\n",
       "    .dataframe tbody tr th:only-of-type {\n",
       "        vertical-align: middle;\n",
       "    }\n",
       "\n",
       "    .dataframe tbody tr th {\n",
       "        vertical-align: top;\n",
       "    }\n",
       "\n",
       "    .dataframe thead th {\n",
       "        text-align: right;\n",
       "    }\n",
       "</style>\n",
       "<table border=\"1\" class=\"dataframe\">\n",
       "  <thead>\n",
       "    <tr style=\"text-align: right;\">\n",
       "      <th></th>\n",
       "      <th>gender</th>\n",
       "      <th>SeniorCitizen</th>\n",
       "      <th>Partner</th>\n",
       "      <th>Dependents</th>\n",
       "      <th>tenure</th>\n",
       "      <th>PhoneService</th>\n",
       "      <th>MultipleLines</th>\n",
       "      <th>InternetService</th>\n",
       "      <th>OnlineSecurity</th>\n",
       "      <th>OnlineBackup</th>\n",
       "      <th>DeviceProtection</th>\n",
       "      <th>TechSupport</th>\n",
       "      <th>StreamingTV</th>\n",
       "      <th>StreamingMovies</th>\n",
       "      <th>Contract</th>\n",
       "      <th>PaperlessBilling</th>\n",
       "      <th>PaymentMethod</th>\n",
       "    </tr>\n",
       "  </thead>\n",
       "  <tbody>\n",
       "  </tbody>\n",
       "</table>\n",
       "</div>"
      ],
      "text/plain": [
       "Empty DataFrame\n",
       "Columns: [gender, SeniorCitizen, Partner, Dependents, tenure, PhoneService, MultipleLines, InternetService, OnlineSecurity, OnlineBackup, DeviceProtection, TechSupport, StreamingTV, StreamingMovies, Contract, PaperlessBilling, PaymentMethod]\n",
       "Index: []"
      ]
     },
     "execution_count": 93,
     "metadata": {},
     "output_type": "execute_result"
    }
   ],
   "source": [
    "Sample_df"
   ]
  },
  {
   "cell_type": "code",
   "execution_count": null,
   "id": "282b7a7a",
   "metadata": {},
   "outputs": [],
   "source": []
  }
 ],
 "metadata": {
  "kernelspec": {
   "display_name": "Python 3 (ipykernel)",
   "language": "python",
   "name": "python3"
  },
  "language_info": {
   "codemirror_mode": {
    "name": "ipython",
    "version": 3
   },
   "file_extension": ".py",
   "mimetype": "text/x-python",
   "name": "python",
   "nbconvert_exporter": "python",
   "pygments_lexer": "ipython3",
   "version": "3.12.4"
  },
  "toc": {
   "base_numbering": 1,
   "nav_menu": {},
   "number_sections": true,
   "sideBar": true,
   "skip_h1_title": false,
   "title_cell": "Table of Contents",
   "title_sidebar": "Contents",
   "toc_cell": false,
   "toc_position": {},
   "toc_section_display": true,
   "toc_window_display": false
  },
  "varInspector": {
   "cols": {
    "lenName": 16,
    "lenType": 16,
    "lenVar": 40
   },
   "kernels_config": {
    "python": {
     "delete_cmd_postfix": "",
     "delete_cmd_prefix": "del ",
     "library": "var_list.py",
     "varRefreshCmd": "print(var_dic_list())"
    },
    "r": {
     "delete_cmd_postfix": ") ",
     "delete_cmd_prefix": "rm(",
     "library": "var_list.r",
     "varRefreshCmd": "cat(var_dic_list()) "
    }
   },
   "types_to_exclude": [
    "module",
    "function",
    "builtin_function_or_method",
    "instance",
    "_Feature"
   ],
   "window_display": false
  }
 },
 "nbformat": 4,
 "nbformat_minor": 5
}
